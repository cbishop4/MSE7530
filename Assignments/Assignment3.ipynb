{
  "nbformat": 4,
  "nbformat_minor": 0,
  "metadata": {
    "colab": {
      "provenance": [],
      "authorship_tag": "ABX9TyPOa1HYJpFNpCEl1eF5e2gd",
      "include_colab_link": true
    },
    "kernelspec": {
      "name": "python3",
      "display_name": "Python 3"
    },
    "language_info": {
      "name": "python"
    }
  },
  "cells": [
    {
      "cell_type": "markdown",
      "metadata": {
        "id": "view-in-github",
        "colab_type": "text"
      },
      "source": [
        "<a href=\"https://colab.research.google.com/github/cbishop4/MSE7530/blob/main/Assignments/Assignment3.ipynb\" target=\"_parent\"><img src=\"https://colab.research.google.com/assets/colab-badge.svg\" alt=\"Open In Colab\"/></a>"
      ]
    },
    {
      "cell_type": "markdown",
      "source": [
        "# Assignment 3\n",
        "Instructions: Please work through this notebook. Anything in red requires an answer in a code and/or text cell, as indicated. Please leave all of the text I have written; I have arranged the notebook so that I can easily navigate to your answers and skip my own explanations."
      ],
      "metadata": {
        "id": "lKILIqdC3UL9"
      }
    },
    {
      "cell_type": "markdown",
      "source": [
        "<font size=5> General structure of Assignment  \n",
        "<font size=3> This assignment is split into roughly three parts, structured as below.  \n",
        "<font size=4><u> Peak finding and Smoothing</u>  \n",
        "<font size=3>In this section, you will experiment with how different parameters fed into find_peaks and the Savitzky-Golay filter impact the physical meaning of your data. This experimentation is non-exhaustive; it might be helpful to keep the code and test it for your own experimental data down the road. You will also be asked to look at the documentation and explain the difference in algorithms for peak finding.  \n",
        "<font size=4><u> X-ray Scattering Instrumentation </u>  \n",
        "<font size=3> Here, you will do some self-guided testing of sources of peak broadening and experimental geometries that are used for different substances. These will transition into the non-crystalline X-ray scattering that we will cover next week.  \n",
        "<font size=4><u> Automatic Peak Finding </u>  \n",
        "<font size=3> You will put together some of your peak finding routines (focusing on peak positions only) with a set of published data.\n"
      ],
      "metadata": {
        "id": "UxTEFPir3W4E"
      }
    },
    {
      "cell_type": "markdown",
      "source": [
        "## Imports and GitHub Access"
      ],
      "metadata": {
        "id": "xEplUF0x5PGd"
      }
    },
    {
      "cell_type": "code",
      "source": [
        "# the standard cell\n",
        "import matplotlib.pyplot as plt\n",
        "import numpy as np\n",
        "import pandas as pd\n",
        "import os"
      ],
      "metadata": {
        "id": "xdHa6Gcw5Rty"
      },
      "execution_count": null,
      "outputs": []
    },
    {
      "cell_type": "code",
      "source": [
        "!git clone https://github.com/cbishop4/MSE7530.git"
      ],
      "metadata": {
        "id": "UWwLxFIw5S9j"
      },
      "execution_count": null,
      "outputs": []
    },
    {
      "cell_type": "code",
      "source": [
        "from scipy import signal"
      ],
      "metadata": {
        "id": "8LiPx7Qj5jvE"
      },
      "execution_count": null,
      "outputs": []
    },
    {
      "cell_type": "code",
      "source": [],
      "metadata": {
        "id": "TB1XUgzz5k7D"
      },
      "execution_count": null,
      "outputs": []
    },
    {
      "cell_type": "markdown",
      "source": [
        "## <font color='blue'>New Python Concept - Input cells\n",
        "To make the class less reliant on programming, I'm trying to adopt some tools to make this easier. The first of these is \"input cells\". When you run these, a box will pop up and you can enter the value. Try the example below:"
      ],
      "metadata": {
        "id": "qo-V936FXF-8"
      }
    },
    {
      "cell_type": "code",
      "source": [
        "a = int(input('Enter a value to multiply by 3: '))\n",
        "result = a*3\n",
        "print(result)"
      ],
      "metadata": {
        "id": "b6gJJKCcXXcN"
      },
      "execution_count": null,
      "outputs": []
    },
    {
      "cell_type": "markdown",
      "source": [
        "When you run the cell, it will pause the execution and wait for you to put in a value in a box that pops up in the output area. Type the value in the box and hit \"enter\", and the cell will continue running. Note that above I have int(input()); this means that the input needs to be an integer. Alternatively, if I specify the type as \"float\", it will accept either an integer or a decimal number (and treat it as a decimal)"
      ],
      "metadata": {
        "id": "LkakBJQ-X-0z"
      }
    },
    {
      "cell_type": "code",
      "source": [
        "a = float(input('Enter a value to multiply by 3: '))\n",
        "result = a*3\n",
        "print(result)"
      ],
      "metadata": {
        "id": "VwuoVZnZntAI"
      },
      "execution_count": null,
      "outputs": []
    },
    {
      "cell_type": "markdown",
      "source": [
        "This can be used for anything; this way, rather than having to insert code directly into a line, you can enter it and have it automatically populate. **You must turn in your assignment with all of your outputs recorded for this to work, because if I hit \"run\", I would have to put in the same inputs you did.**"
      ],
      "metadata": {
        "id": "5Z7QYtzioHJZ"
      }
    },
    {
      "cell_type": "markdown",
      "source": [
        "## Peak Finding and Smoothing"
      ],
      "metadata": {
        "id": "U0Pk2vdh5IxF"
      }
    },
    {
      "cell_type": "markdown",
      "source": [
        "### <font color='blue'>Additional find_peaks arguments:\n",
        "<font size=4> Many Python functions/modules have many arguments which are default specified. As an example, here is what the documentation for \"find_peaks\" has:\n",
        "\n",
        "```\n",
        "find_peaks(x, height=None, threshold=None, distance=None, prominence=None,\n",
        "width=None, wlen=None, rel_height=0.5, plateau_size=None)\n",
        "```\n",
        "<font size=4>The function find_peaks has 9 arguments. However, only one argument **needs** to be passed, which is the array on which to find peaks. The rest of the arguments all have **default values** which are set in the definition of the function with = signs. If nothing is entered for these, the code will run whatever the default is. (Note that arguments are often called parameters interchangeably)"
      ],
      "metadata": {
        "id": "w69mtdhGLumD"
      }
    },
    {
      "cell_type": "markdown",
      "source": [
        "For the remainder of these exercises, we will use smoother experimental data where these will make more sense."
      ],
      "metadata": {
        "id": "kaeo2uubsi-Y"
      }
    },
    {
      "cell_type": "code",
      "source": [
        "# The data we worked with Monday/you're using in your assignment (not background subtracted)\n",
        "file_PS = '/content/MSE7530/sampledata/Polystyrene.csv'\n",
        "file_bg = '/content/MSE7530/sampledata/BackgroundSpectrum.csv'\n",
        "PS_loaded = pd.read_csv(file_PS,header=0)\n",
        "bg_loaded = pd.read_csv(file_bg,header=0)"
      ],
      "metadata": {
        "id": "tQtMKuLxs4SA"
      },
      "execution_count": null,
      "outputs": []
    },
    {
      "cell_type": "code",
      "source": [
        "finalspec = -np.log10(PS_loaded['Intensity']/bg_loaded['Intensity'])\n",
        "wns = PS_loaded['Wavenumber']\n",
        "plt.plot(wns,finalspec)\n",
        "plt.xlabel('Wavenumber $(cm^{-1})$')\n",
        "plt.ylabel('Absorbance')\n",
        "plt.xlim(np.max(wns),np.min(wns)) # switching wavenumber display to standard convention\n"
      ],
      "metadata": {
        "id": "L3st1kjMs4SB"
      },
      "execution_count": null,
      "outputs": []
    },
    {
      "cell_type": "markdown",
      "source": [
        "We now have something more reasonable to find peaks on, where things will make a difference."
      ],
      "metadata": {
        "id": "9fElPblau0ed"
      }
    },
    {
      "cell_type": "code",
      "source": [
        "plt.plot(wns,finalspec,label='data')\n",
        "peak_tuple = signal.find_peaks(finalspec)\n",
        "plt.plot(wns[peak_tuple[0]], finalspec[peak_tuple[0]], 'x',label='Peaks')\n",
        "plt.legend()\n",
        "plt.xlabel('Index')\n",
        "plt.ylabel('Intensity')"
      ],
      "metadata": {
        "id": "mBppVMQTu54I"
      },
      "execution_count": null,
      "outputs": []
    },
    {
      "cell_type": "markdown",
      "source": [
        "#### <font color='blue'>\"Distance\" parameter  \n",
        "<font color='red'>1. Play around with the below distance parameters until you settle on three that seem to show meaningful difference in their behavior. Credit on this portion will be given for the output graphs with your 3 input distance parameters. All you have to do is put 3 different parameters in the boxes, so **you must have the output showing when you submit the assignment.**"
      ],
      "metadata": {
        "id": "XBpzDlG6vbmJ"
      }
    },
    {
      "cell_type": "code",
      "source": [
        "plt.plot(wns,finalspec,color='k')\n",
        "d = int(input('Distance 1 to test: '))\n",
        "peak_locs = signal.find_peaks(finalspec,distance=d)\n",
        "plt.plot(wns[peak_locs[0]], finalspec[peak_locs[0]], 'x',label=d,markersize=9,markeredgewidth=3,color='cyan')\n",
        "d = int(input('Distance 2 to test: '))\n",
        "peak_locs = signal.find_peaks(finalspec,distance=d)\n",
        "plt.plot(wns[peak_locs[0]], finalspec[peak_locs[0]], 'x',label=d,markersize=7,markeredgewidth=2.5,color='orange')\n",
        "d = int(input('Distance 3 to test: '))\n",
        "peak_locs = signal.find_peaks(finalspec,distance=d)\n",
        "plt.plot(wns[peak_locs[0]], finalspec[peak_locs[0]], 'x',label=d,markersize=5,markeredgewidth=1.5,color='lime')\n",
        "plt.legend(title='Distance Parameter')\n",
        "plt.xlim(np.max(wns),np.min(wns))"
      ],
      "metadata": {
        "id": "ZgVgINn6s4SB"
      },
      "execution_count": null,
      "outputs": []
    },
    {
      "cell_type": "markdown",
      "source": [
        "<font color='red'> 2. Is the distance parameter a good parameter to change to filter for meaningful peaks in this system? Why or why not? You may find it helpful to refer to the documentation to learn how this algorithm works in plain terms."
      ],
      "metadata": {
        "id": "CP8FGmRCwU56"
      }
    },
    {
      "cell_type": "markdown",
      "source": [
        "<font color='red'> **Your answer here**"
      ],
      "metadata": {
        "id": "E7EbCJbywqJm"
      }
    },
    {
      "cell_type": "markdown",
      "source": [
        "#### <font color='blue'>Threshold Parameter\n",
        "<font color='red'>3. Play around with the below threshold parameters until you settle on three that seem to show meaningful difference in their behavior. Credit on this portion will be given for the output graph with your 3 input distance parameters. All you have to do is put 3 different parameters in the boxes, so **you must have the output showing when you submit the assignment.**"
      ],
      "metadata": {
        "id": "FvxzZofmq2OH"
      }
    },
    {
      "cell_type": "code",
      "source": [
        "plt.plot(wns,finalspec,color='k')\n",
        "t = float(input('Threshold 1 to test: '))\n",
        "peak_locs = signal.find_peaks(finalspec,threshold=t)\n",
        "plt.plot(wns[peak_locs[0]], finalspec[peak_locs[0]], 'x',label=t,markersize=9,markeredgewidth=3,color='cyan')\n",
        "t = float(input('Threshold 2 to test: '))\n",
        "peak_locs = signal.find_peaks(finalspec,threshold=t)\n",
        "plt.plot(wns[peak_locs[0]], finalspec[peak_locs[0]], 'x',label=t,markersize=7,markeredgewidth=2.5,color='orange')\n",
        "t = float(input('Threshold 3 to test: '))\n",
        "peak_locs = signal.find_peaks(finalspec,threshold=t)\n",
        "plt.plot(wns[peak_locs[0]], finalspec[peak_locs[0]], 'x',label=t,markersize=5,markeredgewidth=1.5,color='lime')\n",
        "plt.legend(title='Threshold Parameter')\n",
        "plt.xlim(np.max(wns),np.min(wns))"
      ],
      "metadata": {
        "id": "PCvzvZk6q7x6"
      },
      "execution_count": null,
      "outputs": []
    },
    {
      "cell_type": "markdown",
      "source": [
        "#### <font color='blue'>Prominence Parameter\n",
        "<font color='red'>4. Play around with the below prominence parameters until you settle on three that seem to show meaningful difference in their behavior. Credit on this portion will be given for the output graph with your 3 input distance parameters. All you have to do is put 3 different parameters in the boxes, so **you must have the output showing when you submit the assignment.**"
      ],
      "metadata": {
        "id": "qnfu1DwLyQGp"
      }
    },
    {
      "cell_type": "code",
      "source": [
        "plt.plot(wns,finalspec,color='k')\n",
        "p = float(input('Prominence 1 to test: '))\n",
        "peak_locs = signal.find_peaks(finalspec,prominence=p)\n",
        "plt.plot(wns[peak_locs[0]], finalspec[peak_locs[0]], 'x',label=p,markersize=9,markeredgewidth=3,color='cyan')\n",
        "p = float(input('Prominence 2 to test: '))\n",
        "peak_locs = signal.find_peaks(finalspec,prominence=p)\n",
        "plt.plot(wns[peak_locs[0]], finalspec[peak_locs[0]], 'x',label=p,markersize=7,markeredgewidth=2.5,color='orange')\n",
        "p = float(input('Prominence 3 to test: '))\n",
        "peak_locs = signal.find_peaks(finalspec,prominence=p)\n",
        "plt.plot(wns[peak_locs[0]], finalspec[peak_locs[0]], 'x',label=p,markersize=5,markeredgewidth=1.5,color='lime')\n",
        "plt.legend(title='Prominence Parameter')\n",
        "plt.xlim(np.max(wns),np.min(wns))"
      ],
      "metadata": {
        "id": "22Kt6HhYyQGq"
      },
      "execution_count": null,
      "outputs": []
    },
    {
      "cell_type": "markdown",
      "source": [
        "#### <font color='blue'>Width Parameter\n",
        "<font color='red'>5. Play around with the below Width parameters until you settle on three that seem to show meaningful difference in their behavior. Credit on this portion will be given for the output graph with your 3 input distance parameters. All you have to do is put 3 different parameters in the boxes, so **you must have the output showing when you submit the assignment.**"
      ],
      "metadata": {
        "id": "GYqa0V1e0IVX"
      }
    },
    {
      "cell_type": "code",
      "source": [
        "plt.plot(wns,finalspec,color='k')\n",
        "w = float(input('Width 1 to test: '))\n",
        "peak_locs = signal.find_peaks(finalspec,width=w)\n",
        "plt.plot(wns[peak_locs[0]], finalspec[peak_locs[0]], 'x',label=w,markersize=9,markeredgewidth=3,color='cyan')\n",
        "w = float(input('Width 2 to test: '))\n",
        "peak_locs = signal.find_peaks(finalspec,width=w)\n",
        "plt.plot(wns[peak_locs[0]], finalspec[peak_locs[0]], 'x',label=w,markersize=7,markeredgewidth=2.5,color='orange')\n",
        "w = float(input('Width 3 to test: '))\n",
        "peak_locs = signal.find_peaks(finalspec,width=w)\n",
        "plt.plot(wns[peak_locs[0]], finalspec[peak_locs[0]], 'x',label=w,markersize=5,markeredgewidth=1.5,color='lime')\n",
        "plt.legend(title='Width Parameter')\n",
        "plt.xlim(np.max(wns),np.min(wns))"
      ],
      "metadata": {
        "id": "TjIUZxrF0IVc"
      },
      "execution_count": null,
      "outputs": []
    },
    {
      "cell_type": "markdown",
      "source": [
        "### <font color='red'> Putting it together - finding the right combination\n",
        "<font color='red'>6. Experiment with different combinations of parameters for find_peaks. Which ones seem to be the most useful? Which are not useful for this data set, and why? When you're all done, do you think you've done a sufficient job fitting the dataset, or would you want to look for another tool? Expected components of this are the correct graph below, with a text answer in the red bolded cell where it currently says \"Your answer here\""
      ],
      "metadata": {
        "id": "UdgW4FNe1AKO"
      }
    },
    {
      "cell_type": "markdown",
      "source": [
        "Here I have not used the input cells because they're difficult to implement with the flexibility I want you to have for this exercise. Enter the variable you want on each line; if you do not want to use a variable, type None (which should show up blue)."
      ],
      "metadata": {
        "id": "2gtp_KRs1uZU"
      }
    },
    {
      "cell_type": "code",
      "source": [
        "plt.plot(wns,finalspec,color='k')\n",
        "w = None # edit this\n",
        "p = None # edit this\n",
        "h = None # edit this\n",
        "t = None # edit this\n",
        "peak_locs = signal.find_peaks(finalspec,width=w,prominence=p,height=h,threshold=t)\n",
        "plt.plot(wns[peak_locs[0]], finalspec[peak_locs[0]], 'x',markersize=9,markeredgewidth=3,color='cyan')\n",
        "plt.xlabel('Wavenumber $(cm^{-1})$')\n",
        "plt.ylabel('Absorbance')\n",
        "plt.xlim(np.max(wns),np.min(wns))\n",
        "plt.title(f'Width = {w}, Prominence = {p}, Height = {h}, Threshold = {t}')"
      ],
      "metadata": {
        "id": "ll5OSox31f5M"
      },
      "execution_count": null,
      "outputs": []
    },
    {
      "cell_type": "markdown",
      "source": [
        "<font color='red'> **Your answer here**"
      ],
      "metadata": {
        "id": "6BT18WlxcLgE"
      }
    },
    {
      "cell_type": "markdown",
      "source": [
        "<font color='red'>7. Think about if you were to use find_peaks to automatically match new spectra to literature values. What difficulties might you encounter?"
      ],
      "metadata": {
        "id": "eGaVm8iO2YAY"
      }
    },
    {
      "cell_type": "markdown",
      "source": [
        "<font color='red'> **Your answer here**"
      ],
      "metadata": {
        "id": "lQAHJ-ZCcMrb"
      }
    },
    {
      "cell_type": "markdown",
      "source": [
        "### Pre-processing: Smoothing\n",
        "<font size=4>One issue with find_peaks is that it only looks quite locally for maxima. One approach to addressing this is to smooth the data. We will work here with a Savitzky-Golay Filter"
      ],
      "metadata": {
        "id": "vofZESX7ucHm"
      }
    },
    {
      "cell_type": "code",
      "source": [
        "np.random.seed(42)  # for reproducibility\n",
        "x = np.linspace(0, 10, 1000)\n",
        "array1D = (np.sin(x * 3) + 0.5 * np.sin(x * 5) + 0.2 * np.random.randn(len(x))) * 10\n",
        "extra_zoom = array1D[230:300] # takes only the first 30 points of the array\n",
        "plt.plot(extra_zoom,'-o')\n",
        "plt.xlabel('index')\n",
        "plt.ylabel('value')\n",
        "plt.title('Subset of Randomly Generated Data we will work with')\n",
        "plt.show()"
      ],
      "metadata": {
        "id": "Cc5xpiCc5muk"
      },
      "execution_count": null,
      "outputs": []
    },
    {
      "cell_type": "code",
      "source": [
        "# changing window length\n",
        "sg_smoothed1 = signal.savgol_filter(extra_zoom,window_length=5,polyorder=3)\n",
        "sg_smoothed2 = signal.savgol_filter(extra_zoom,window_length=15,polyorder=3)\n",
        "sg_smoothed3 = signal.savgol_filter(extra_zoom,window_length=25,polyorder=3)\n",
        "\n",
        "fig, ax = plt.subplots()\n",
        "\n",
        "\n",
        "ax.plot(extra_zoom,'-o',label='data')\n",
        "index_vals = np.linspace(0,len(sg_smoothed1),len(sg_smoothed1))\n",
        "ax.plot(index_vals,sg_smoothed1,'-o',label='5')\n",
        "ax.plot(index_vals,sg_smoothed2,'-o',label='15')\n",
        "ax.plot(index_vals,sg_smoothed3,'-o',label='25',color='cyan')\n",
        "\n",
        "\n",
        "ax.set_title('Savitzky-Golay, Polyorder=3')\n",
        "ax.legend(title='Window Length')\n",
        "ax.set_xlabel('index')\n",
        "ax.set_ylabel('value')"
      ],
      "metadata": {
        "id": "Uy8ZLRRAahjs"
      },
      "execution_count": null,
      "outputs": []
    },
    {
      "cell_type": "markdown",
      "source": [
        "<font color='red'>\n",
        "8. Your turn: experiment with polynomial order. I have put in input cells; you will first be prompted to choose a constant polynomial order for the first three curves/left graph, and then 3 separate window lengths. Please choose 3 window lengths that show meaningful variation.  \n",
        "For the second three curves/right graph, you will do the opposite; first choose one window length to keep constant through the 3, and then use the input cells to choose different polynomial orders.  \n",
        "You will be graded on the two graphs you produce."
      ],
      "metadata": {
        "id": "SKczlxcqKw8p"
      }
    },
    {
      "cell_type": "code",
      "source": [
        "porder = int(input('Constant Polynomial Order for Set 1 : '))\n",
        "wl1 = int(input('Window Length 1 for Set 1 : '))\n",
        "wl2 = int(input('Window Length 2 for Set 1 : '))\n",
        "wl3 = int(input('Window Length 3 for Set 1 : '))\n",
        "sg_smoothed1 = signal.savgol_filter(array1D,window_length=wl1,polyorder=porder)\n",
        "sg_smoothed2 = signal.savgol_filter(array1D,window_length=wl2,polyorder=porder)\n",
        "sg_smoothed3 = signal.savgol_filter(array1D,window_length=wl3,polyorder=porder)\n",
        "\n",
        "fig, ax = plt.subplots(1,2,figsize=(20,8))\n",
        "ax[0].plot(array1D,label='data')\n",
        "index_vals = np.linspace(0,len(sg_smoothed1),len(sg_smoothed1))\n",
        "ax[0].plot(index_vals,sg_smoothed1,'-o',markersize=2,label='5')\n",
        "ax[0].plot(index_vals,sg_smoothed2,'-o',markersize=2,label='15')\n",
        "ax[0].plot(index_vals,sg_smoothed3,'-o',markersize=2,label='25',color='cyan')\n",
        "\n",
        "wl_const = int(input('Constant Window Length for Set 1 : '))\n",
        "p1 = int(input('Polynomial Order 1 for Set 2 : '))\n",
        "p2 = int(input('Polynomial Order 2 for Set 2 : '))\n",
        "p3 = int(input('Polynomial Order 3 for Set 2 : '))\n",
        "sg_smoothed1 = signal.savgol_filter(array1D,window_length=wl_const,polyorder=p1)\n",
        "sg_smoothed2 = signal.savgol_filter(array1D,window_length=wl_const,polyorder=p2)\n",
        "sg_smoothed3 = signal.savgol_filter(array1D,window_length=wl_const,polyorder=p3)\n",
        "\n",
        "ax[1].plot(array1D,label='data')\n",
        "index_vals = np.linspace(0,len(sg_smoothed1),len(sg_smoothed1))\n",
        "ax[1].plot(index_vals,sg_smoothed1,'-o',markersize=2,label='1')\n",
        "ax[1].plot(index_vals,sg_smoothed2,'-o',markersize=2,label='2')\n",
        "ax[1].plot(index_vals,sg_smoothed3,'-o',markersize=2,label='3',color='cyan')\n",
        "\n",
        "\n",
        "\n",
        "ax[0].set_title(f'Changing WL, Polyorder {porder}')\n",
        "ax[1].set_title('Changing Polyorder, WL 15')\n",
        "ax[0].legend()\n",
        "ax[0].legend(title='Window Length')\n",
        "ax[1].legend(title='Poly Order')\n",
        "for a in ax:\n",
        "  a.set_xlabel('index')\n",
        "  a.set_ylabel('value')"
      ],
      "metadata": {
        "id": "b7b9TnWgi_mu"
      },
      "execution_count": null,
      "outputs": []
    },
    {
      "cell_type": "markdown",
      "source": [
        "<font color='red'> **Questions about changing the window length**  \n",
        "9. Did you identify an optimal window length? What makes it seem like an optimal window length?  \n",
        "10. At what sections of the data does window length seem to make the most difference? Are there any features in the data in which the results would change dramatically with changing window length if you were trying to find peaks?"
      ],
      "metadata": {
        "id": "ivLI69vDCnZT"
      }
    },
    {
      "cell_type": "markdown",
      "source": [
        "<font color='red'> **Your answer here**"
      ],
      "metadata": {
        "id": "_W1e3ELhclCT"
      }
    },
    {
      "cell_type": "markdown",
      "source": [
        "<font color='red'>**Question about changing the Polynomial Order**\n",
        "\n",
        "<font color='red'> <font size=3>\n",
        "11. Does polynomial order seem to make much difference? Think about the shape of different polynomials (in the lecture slides from Monday 9/22); can you explain why or why not?  "
      ],
      "metadata": {
        "id": "BY23eds9DIsx"
      }
    },
    {
      "cell_type": "markdown",
      "source": [
        "<font color='red'> **Your answer here**"
      ],
      "metadata": {
        "id": "8HKObkNzcmCq"
      }
    },
    {
      "cell_type": "markdown",
      "source": [
        "## X-ray Scattering Instrumentation\n",
        "In class, we learned about the fundamental principles of X-ray scattering. In practice, there are many aspects of the geometry that we did not go over in detail. In this section, you will think about **instrumental requirements to measure what you want to**."
      ],
      "metadata": {
        "id": "8KMbdFX0LBIj"
      }
    },
    {
      "cell_type": "markdown",
      "source": [
        "<font size=4><font color='blue'> The following questions (#12 through 16, except 14) all require calculations. You may do these either by hand or in this Jupyter Notebook, with no difference in credit. If you do them by hand, please insert a .png/.jpg in each cell, along with any text explanation required to answer the question. Question 14 requires you to write a user-defined function in Python."
      ],
      "metadata": {
        "id": "TJi-FRjLcx1O"
      }
    },
    {
      "cell_type": "markdown",
      "source": [
        "### Instrumental and Experimental Broadening"
      ],
      "metadata": {
        "id": "cvihRxaLLRZj"
      }
    },
    {
      "cell_type": "markdown",
      "source": [
        "In class we briefly discussed the Scherrer equation for peak broadening,  \n",
        "<font size=5> $ \\tau = \\frac{K \\lambda}{\\beta cos \\theta} $  \n",
        "<font size=3> Where $\\tau$ is the mean size of nanocrystallites. For the following questions, assume that the X-ray wavelength is $1.54 Å$.  "
      ],
      "metadata": {
        "id": "lHWqjd4tPuxF"
      }
    },
    {
      "cell_type": "markdown",
      "source": [
        "<font color='red'>12. $\\beta$, the FWHM of the peak, must be corrected for instrumental broadening before being used. Instrumental broadening is caused by spread in X-ray wavelength (bandwidth). Assume that the bandwidth of your source is 2 eV. What is the broadening in q caused by this bandwidth?"
      ],
      "metadata": {
        "id": "Z9JxRX-6QvGa"
      }
    },
    {
      "cell_type": "markdown",
      "source": [
        "<font color='red'> **Your answer here**"
      ],
      "metadata": {
        "id": "YXX_0uCwR6yc"
      }
    },
    {
      "cell_type": "code",
      "source": [
        "# CODE HERE if you are solving this question by Python"
      ],
      "metadata": {
        "id": "EEgVKro9R9EV"
      },
      "execution_count": null,
      "outputs": []
    },
    {
      "cell_type": "markdown",
      "source": [
        "<font color='red'>13. Assume that the resolution of your measurement is $2\\theta = 0.2°$, and that you have a perfectly monochromatic beam. For a peak at $2\\theta = 10 °$, how large must the nanocrystals be for the calculation to become meaningless?"
      ],
      "metadata": {
        "id": "r9NQcn54RTGS"
      }
    },
    {
      "cell_type": "markdown",
      "source": [
        "<font color='red'><font color='red'> **Your answer here**"
      ],
      "metadata": {
        "id": "SjfvjCRmSEAF"
      }
    },
    {
      "cell_type": "code",
      "source": [
        "# CODE HERE if you are solving this question by Python"
      ],
      "metadata": {
        "id": "qbsKZduySEAF"
      },
      "execution_count": null,
      "outputs": []
    },
    {
      "cell_type": "markdown",
      "source": [
        "### Experimental Geometries & Resolution"
      ],
      "metadata": {
        "id": "pLjly-TMMSDD"
      }
    },
    {
      "cell_type": "markdown",
      "source": [
        "![Xray Geometry.jpg](data:image/jpeg;base64,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)"
      ],
      "metadata": {
        "id": "I15eljvXMhyq"
      }
    },
    {
      "cell_type": "markdown",
      "source": [
        "The above image defines the experimental geometry of an experiment, where $H$ is the height/width of a square 2D detector, $D$ is the sample-to-detector distance, $2\\theta$ is the scattering angle, and $Q$ is the wavevector transfer."
      ],
      "metadata": {
        "id": "JunPeFlNMldy"
      }
    },
    {
      "cell_type": "markdown",
      "source": [
        "<font color='red'> 14. Using the equation from class, write a user-defined function to convert $2\\theta$ to $Q$."
      ],
      "metadata": {
        "id": "wxPRaAewM5ZO"
      }
    },
    {
      "cell_type": "code",
      "source": [
        "# YOUR CODE HERE\n",
        "# def fname(args):\n",
        "#   function body\n",
        "#   return Q"
      ],
      "metadata": {
        "id": "2a5NWO6ONDcu"
      },
      "execution_count": null,
      "outputs": []
    },
    {
      "cell_type": "markdown",
      "source": [
        "Q values correspond to real-space distances in the sample by the equation  \n",
        "<font size=5>$d = \\frac{2\\pi}{Q}$  \n",
        "<font color='red'><font size=3> 15. Given a detector with $H = 10.0 ~cm$, what is the minimum sample-to-detector distance $D$ needed to probe features of size $50 nm$ with an X-ray energy of $10 keV$? You may compute this by hand and insert a .jpg/.png of your work here, or solve with Python and show your work in the code cell below."
      ],
      "metadata": {
        "id": "tCzdG8XlNRga"
      }
    },
    {
      "cell_type": "markdown",
      "source": [
        "<font color='red'><font color='red'> **Your answer here**"
      ],
      "metadata": {
        "id": "QqhJGmQRdSOU"
      }
    },
    {
      "cell_type": "code",
      "source": [
        "# CODE HERE if you are solving this question by Python"
      ],
      "metadata": {
        "id": "4R3BA7ysdSOU"
      },
      "execution_count": null,
      "outputs": []
    },
    {
      "cell_type": "markdown",
      "source": [
        "Detectors are CCD arrays of pixels that register when they receive photons.    \n",
        "  <font color='red'> 16. For a sample-to-detector distance $D$ of $10 cm$, what is the minimum square pixel size needed to resolve scattering with $2\\theta=0.2 ° $ resolution? Assume an X-ray wavelength of $1.54 ~Å $ (the most common wavelength in lab sources)."
      ],
      "metadata": {
        "id": "c5VaTrdwN9Td"
      }
    },
    {
      "cell_type": "markdown",
      "source": [
        "<font color='red'><font color='red'> **Your answer here**"
      ],
      "metadata": {
        "id": "nF0dqMn3dZgl"
      }
    },
    {
      "cell_type": "code",
      "source": [
        "# CODE HERE if you are solving this question by Python"
      ],
      "metadata": {
        "id": "vY_4-gOldZgl"
      },
      "execution_count": null,
      "outputs": []
    },
    {
      "cell_type": "markdown",
      "source": [
        "## A Block Co-polymer system  \n",
        "Data for this exercise was extracted using WebPlotDigitizer (https://automeris.io/) from Figure 3 of M.J. Rymaruk et. al., *Ang. Chem. Int. Ed.* 60, 23, 12955-12963 (2021). The paper can be found here:\n",
        "https://onlinelibrary.wiley.com/doi/full/10.1002/anie.202101851  "
      ],
      "metadata": {
        "id": "E99NLNjk6uqz"
      }
    },
    {
      "cell_type": "markdown",
      "source": [
        "<font size=4> First we will load the data into a dictionary of Pandas dataframes. I will do this for you. Note that the MSE7530 repository must be cloned for this to work; this was done at the beginning of the notebook. You are not expected to know this code (yet), but I will comment it with what I'm doing in case you're interested."
      ],
      "metadata": {
        "id": "uXfT5AI9Twqs"
      }
    },
    {
      "cell_type": "code",
      "source": [
        "import glob as glob # this is a module that lets you sort through files\n",
        "flist = []; dfkeys = []\n",
        "for f in glob.glob('/content/MSE7530/sampledata/HW3/*.csv'): # looks through every file\n",
        "# in that folder with a \"wildcard\" operator *: it will hit each file that contains the rest of\n",
        "# the file structure, with any text within the * section\n",
        "  if f[-17] == '/': # the filenames have different numbers of digits for the temperatures,\n",
        "  # so this checks if it's a 2-digit or a 3-digit temperature\n",
        "    dfkeys.append(f[-16:-8]) # two-digit temperatures\n",
        "  else:\n",
        "    dfkeys.append(f[-17:-8]) # three-digit temperatures\n",
        "  flist.append(f) # adds the file to a list of files\n"
      ],
      "metadata": {
        "id": "EMfCJVlZUfDP"
      },
      "execution_count": null,
      "outputs": []
    },
    {
      "cell_type": "markdown",
      "source": [
        "Putting all keys in a dictionary all_curves, initialized with {}, by inserting key-value pairs. Then, showing each curve on a single plot."
      ],
      "metadata": {
        "id": "24tpeo00a__p"
      }
    },
    {
      "cell_type": "code",
      "source": [
        "all_curves = {}\n",
        "fig, ax = plt.subplots()\n",
        "for i in range(len(flist)):\n",
        "  all_curves[dfkeys[i]] = pd.read_csv(flist[i],names=['logq','logI'])\n",
        "  ax.plot(all_curves[dfkeys[i]]['logq'],all_curves[dfkeys[i]]['logI'],label=dfkeys[i])\n",
        "ax.legend()\n",
        "ax.set_xlabel('$log_{10}(q)$')\n",
        "ax.set_ylabel('$log_{10}(I)$')"
      ],
      "metadata": {
        "id": "v5kX0IlvT00x"
      },
      "execution_count": null,
      "outputs": []
    },
    {
      "cell_type": "markdown",
      "source": [
        "Splitting the plot into heating and cooling curves."
      ],
      "metadata": {
        "id": "ZsMZYr-lbD8d"
      }
    },
    {
      "cell_type": "code",
      "source": [
        "all_curves = {}\n",
        "fig, ax = plt.subplots(1,2,figsize=(10,4))\n",
        "for i in range(len(flist)):\n",
        "  all_curves[dfkeys[i]] = pd.read_csv(flist[i],names=['logq','logI'])\n",
        "  if 'cool' in dfkeys[i]:\n",
        "    ax[1].plot(all_curves[dfkeys[i]]['logq'],all_curves[dfkeys[i]]['logI'],label=dfkeys[i])\n",
        "  else:\n",
        "    ax[0].plot(all_curves[dfkeys[i]]['logq'],all_curves[dfkeys[i]]['logI'],label=dfkeys[i])\n",
        "ax[0].legend(); ax[1].legend()\n",
        "for a in ax:\n",
        "  a.set_xlabel('$log_{10}(q)$')\n",
        "  a.set_ylabel('$log_{10}(I)$')\n",
        "\n",
        "ax[0].annotate(\"\",xy=(-1.8,8),xytext=(-1.8,0),arrowprops=dict(arrowstyle=\"->\"))\n",
        "ax[1].annotate(\"\",xy=(-1.8,11),xytext=(-1.8,1),arrowprops=dict(arrowstyle=\"->\"))\n",
        "ax[0].set_title('Heating Curves')\n",
        "ax[1].set_title('Cooling Curves')"
      ],
      "metadata": {
        "id": "BkGG9KtWWkhb"
      },
      "execution_count": null,
      "outputs": []
    },
    {
      "cell_type": "markdown",
      "source": [
        "<font color='red'> 17. Using the same strategies as in lecture and in your above peak-finding, identify and annotate the peaks on each graph. You can use as much or as little smoothing and peak parameter adjustments as possible. You should visually verify that the peaks seem reasonable; you **may** use different parameters for each curve, and you **may** put each one on a different graph (to avoid needing to mess around with too much plotting code).  \n",
        "Full credit on this part will be given for one, two, or seven graphs (depending how you want to split it) with peaks annotated with x's as with the code from lecture."
      ],
      "metadata": {
        "id": "fFDiojapXy0d"
      }
    },
    {
      "cell_type": "markdown",
      "source": [
        "<font size=6> **IMPORTANT**: For this part, you may collaborate with one or two classmates (for groups of up to 3 total). If you collaborate with classmate(s) on this one, please indicate their names in this section. You may have identical code to these classmates without it being academic dishonesty; if your code is identical to anyone else's, it will be considered academic dishonesty. You may still discuss the methods with other groups, however."
      ],
      "metadata": {
        "id": "4xBSTqpXZ_Xa"
      }
    },
    {
      "cell_type": "code",
      "source": [
        "# YOUR CODE HERE"
      ],
      "metadata": {
        "id": "55iCJOF0Z3H6"
      },
      "execution_count": null,
      "outputs": []
    },
    {
      "cell_type": "code",
      "source": [
        "# YOUR CODE HERE"
      ],
      "metadata": {
        "id": "Q9cNSFlyZ4dS"
      },
      "execution_count": null,
      "outputs": []
    },
    {
      "cell_type": "code",
      "source": [
        "# YOUR CODE HERE"
      ],
      "metadata": {
        "id": "aMVIw9P_Z3au"
      },
      "execution_count": null,
      "outputs": []
    },
    {
      "cell_type": "markdown",
      "source": [
        "<font color='blue'> **Some syntax tips**:  \n",
        "</font> You can pull an individual curve out of the all_curves dictionary with the following code:\n",
        "\n",
        "\n",
        "```\n",
        "df_singlecurve = all_curves['130C_heat']\n",
        "```\n",
        "'130C_heat' is a **key** to the dictionary which allows you to pull out a single data set. To see all of the keys for the all_curves dictionary, you can enter\n",
        "\n",
        "\n",
        "```\n",
        "all_curves.keys()\n",
        "```\n",
        "At the end of the cell and it will print out all the keys for each curve; there are 7 total.\n",
        "\n",
        "\n"
      ],
      "metadata": {
        "id": "jKY2o4exYM4o"
      }
    },
    {
      "cell_type": "markdown",
      "source": [
        "<font color='red'> 18. Were you able to use the same peak finding and smoothing parameters for every curve, or not? By manually inspecting the data, comment on why this is."
      ],
      "metadata": {
        "id": "a5HKIWqxWRZN"
      }
    },
    {
      "cell_type": "markdown",
      "source": [
        "<font color='red'><font color='red'> **Your answer here**"
      ],
      "metadata": {
        "id": "yS0lta6vdgWi"
      }
    },
    {
      "cell_type": "markdown",
      "source": [
        "#### <font color='red'>**7530 only: Physical Interpretation**\n",
        "<font color='red'>19. Read the paper from which this data was collected. Four (or three, depending on perspective) phases appear throughout the heating and cooling of this system. How could you use find_peaks and the SG smoothing to reliably **identify the phase, avoiding the need to manually inspect each pattern?** Some ideas of aspects you could use:\n",
        "1. Peak width\n",
        "2. Peak location\n",
        "3. Peak prominence\n",
        "4. Certain combinations of peak features\n",
        "\n",
        "<font color='red'>Full credit will be given for a plain-text typed explanation; however, you may choose to include graphs and as much code as you like if it enriches your explanation. You can also include .pngs/.jpgs of handwritten images if it helps your explanation."
      ],
      "metadata": {
        "id": "egDGC2qYJcEA"
      }
    },
    {
      "cell_type": "code",
      "source": [],
      "metadata": {
        "id": "djRJJP2D6w3f"
      },
      "execution_count": null,
      "outputs": []
    }
  ]
}