{
  "nbformat": 4,
  "nbformat_minor": 0,
  "metadata": {
    "colab": {
      "provenance": [],
      "mount_file_id": "1YQPPmbq0ugZPjch2JZoC6sdrxSoeWbuQ",
      "authorship_tag": "ABX9TyOLicdGmH9lVpPq0YeZUiV9",
      "include_colab_link": true
    },
    "kernelspec": {
      "name": "python3",
      "display_name": "Python 3"
    },
    "language_info": {
      "name": "python"
    }
  },
  "cells": [
    {
      "cell_type": "markdown",
      "metadata": {
        "id": "view-in-github",
        "colab_type": "text"
      },
      "source": [
        "<a href=\"https://colab.research.google.com/github/cbishop4/MSE7530/blob/main/Assignments/Assignment4_Preview_20250930.ipynb\" target=\"_parent\"><img src=\"https://colab.research.google.com/assets/colab-badge.svg\" alt=\"Open In Colab\"/></a>"
      ]
    },
    {
      "cell_type": "markdown",
      "source": [
        "<font size=6>Assignment 4 - MSE7530, Fall 2025"
      ],
      "metadata": {
        "id": "3k_G6SQ-NvrB"
      }
    },
    {
      "cell_type": "markdown",
      "source": [
        "<font size=4>The physical focus of this assignment will be X-ray scattering from non-crystalline materials. The Python focus will be the SciPy.special module, linear fitting, and optimization with SciPy."
      ],
      "metadata": {
        "id": "9tNMZG8PN04-"
      }
    },
    {
      "cell_type": "code",
      "execution_count": null,
      "metadata": {
        "id": "JedYoUHo0F22"
      },
      "outputs": [],
      "source": [
        "import numpy as np\n",
        "import matplotlib.pyplot as plt\n",
        "from matplotlib.pyplot import cm"
      ]
    },
    {
      "cell_type": "markdown",
      "source": [
        "<font size=4><font color='blue'> Likely questions for the homework:  \n",
        "1. Change the polydispersity of the system and fit the Guinier regime. How does the particle radius fit from the Guinier regime compare to the average particle size? Does it correspond to the mean particle radius, or is it biased towards one side of the data?  \n",
        "2. How does the Porod exponent change, if at all, with the polydispersity?\n",
        "3. Guinier for proteins & surface area/volume  - real data from https://www.sasbdb.org/browse-molecular-type/protein/\n",
        "4. There is a beamline that separates particles by molecular weight before doing SAXS (https://bl1231.als.lbl.gov/publications-2025/). There will be a question about why this is necessary and what advantages it gives during analysis.\n",
        "5. Starting guesses for optimization; how it affects the answer (this section is unfinished as of the preview)\n",
        "6. Reading about CREASE (https://crease-ga.readthedocs.io/en/latest/), and answering a few questions  \n",
        "There will also be an extra credit question related to the Bessel function that is already highlighted in red. I cannot figure it out, so if you can figure it out, that would be great but not necessary."
      ],
      "metadata": {
        "id": "19HxHrOx5f_1"
      }
    },
    {
      "cell_type": "markdown",
      "source": [
        "# Python Primers\n",
        "<font size=4> These concepts will be used in the X-ray scattering material. While most of the code is written for you, it is important to understand how these functions work."
      ],
      "metadata": {
        "id": "0hWPViZJPCBt"
      }
    },
    {
      "cell_type": "markdown",
      "source": [
        "## Scipy.special (and Scipy.constants)"
      ],
      "metadata": {
        "id": "RZK8FJEIPSwf"
      }
    },
    {
      "cell_type": "markdown",
      "source": [
        "### scipy.special"
      ],
      "metadata": {
        "id": "jyhWo-RUPwdd"
      }
    },
    {
      "cell_type": "markdown",
      "source": [
        "SciPy has many scientific equations pre-loaded to make our lives easier. Take, for example, equation 4.23 in Als-Nielsen & McMorrow for scattering from a sphere of radius r."
      ],
      "metadata": {
        "id": "LI0od2575oQz"
      }
    },
    {
      "cell_type": "markdown",
      "source": [
        "<font size=4>$\\mathcal{F}(Q) = \\frac{1}{V_{p}}\\int_0^R\\int_0^{2\\pi}\\int_0^\\pi e^{iQrcos~\\theta}r^{2}sin~\\theta d\\theta d\\phi dr$  \n",
        "\n",
        "\n",
        "<font size=4>$ = \\frac{1}{V_{p}}\\int_0^R 4\\pi \\frac{sin(Qr)}{Qr}r^2dr$  \n",
        "\n",
        "\n",
        "<font size=5>$ = 3[\\frac{sin(QR) - QRcos(QR)}{Q^{3}R^{3}}] \\equiv \\frac{3J_{1}(QR)}{QR}$"
      ],
      "metadata": {
        "id": "nTfb_poL7eZA"
      }
    },
    {
      "cell_type": "markdown",
      "source": [
        "<font size=4>Where $J_{1}(x)$ is the Bessel function of the first kind. Bessel functions are solutions to Bessel's ordinary differential equation.  They are often used when solving problems in cylindrical and spherical systems. Therefore, they show up often in scientific computing and SciPy has them built in. First,\n",
        "\n",
        "\n",
        "```\n",
        "from scipy import special\n",
        "```\n",
        "\n"
      ],
      "metadata": {
        "id": "uhIq_scg9e75"
      }
    },
    {
      "cell_type": "code",
      "source": [
        "from scipy import special"
      ],
      "metadata": {
        "id": "9d3cZUnh5Bj9"
      },
      "execution_count": null,
      "outputs": []
    },
    {
      "cell_type": "markdown",
      "source": [
        "Then, we can use the special scipy functions as we do later, when we calculate form factor scattering."
      ],
      "metadata": {
        "id": "S74sYjDRTw7c"
      }
    },
    {
      "cell_type": "markdown",
      "source": [
        "### scipy.constants\n",
        "While we are not going to use it in this notebook, it's worth mentioning that scipy has a module for scientific constants (https://docs.scipy.org/doc/scipy/reference/constants.html). Here we import it:"
      ],
      "metadata": {
        "id": "Hudsp1cTPyu8"
      }
    },
    {
      "cell_type": "code",
      "source": [
        "from scipy import constants as spc"
      ],
      "metadata": {
        "id": "_l2tTfdUQN_c"
      },
      "execution_count": null,
      "outputs": []
    },
    {
      "cell_type": "markdown",
      "source": [
        "It has many constants, from common scientific quantities (e.g., Planck's constant) to conversion factors. Here are a couple examples. Of course you never have to use these, because you can insert numbers manually, but it could be helpful in the future."
      ],
      "metadata": {
        "id": "g5-LkuQgQcZ8"
      }
    },
    {
      "cell_type": "code",
      "source": [
        "print(f'scipy.constants has Plancks constant: {spc.h}')\n",
        "print(f'it also has this conversion from eV to Joules: {spc.eV}')"
      ],
      "metadata": {
        "id": "WWnbKcjXQrSw"
      },
      "execution_count": null,
      "outputs": []
    },
    {
      "cell_type": "markdown",
      "source": [
        "## <font color='blue'>Numpy.random\n",
        "The numpy.random module can be used to"
      ],
      "metadata": {
        "id": "Ulw3cVioPVlM"
      }
    },
    {
      "cell_type": "markdown",
      "source": [
        "## Scipy.optimize & Scipy.stats\n",
        "<font size=4>The optimize module of SciPy is one of the most useful ones you will use. It allows fitting data to any user-defined for built-in function. This ranges from least-squares optimization to Global optimization. We will also use the specific linear regression function in scipy.stats. The three functions are:\n",
        "\n",
        "```\n",
        "from scipy import stats\n",
        "from scipy import optimize\n",
        "\n",
        "# then what we will use\n",
        "\n",
        "stats.linregress(x, y)\n",
        "optimize.curve_fit(func, x, y)\n",
        "optimize.differential_evolution(func, bounds)\n",
        "```\n",
        "\n",
        "\n"
      ],
      "metadata": {
        "id": "Zd2WW9WQPdB5"
      }
    },
    {
      "cell_type": "markdown",
      "source": [
        "<font size=4>See the documentation for each:  \n",
        "The first two should be possible to follow. Both have worked examples; try the examples and become familiar with the principles, even if it's just copy-pasting the example cells.  \n",
        "https://docs.scipy.org/doc/scipy/reference/generated/scipy.stats.linregress.html\n",
        "https://docs.scipy.org/doc/scipy/reference/generated/scipy.optimize.curve_fit.html\n",
        "\n",
        "<font size=4>\"Differential Evolution\" can be more of a black box for now. Briefly read the documentation, and skim the wikipedia page.  \n",
        "https://docs.scipy.org/doc/scipy/reference/generated/scipy.optimize.differential_evolution.html\n",
        "https://en.wikipedia.org/wiki/Differential_evolution\n"
      ],
      "metadata": {
        "id": "uWEk6o59eaai"
      }
    },
    {
      "cell_type": "markdown",
      "source": [
        "# Form factor Scattering"
      ],
      "metadata": {
        "id": "oEVpHIFsOnPa"
      }
    },
    {
      "cell_type": "markdown",
      "source": [
        "## Plotting scattering from analytical particle morphologies\n",
        "<font size=4>As described in the textbook, there are only* 3 particle shapes that it is possible to analytically describe form factor scattering: spheres, discs, and rods. Below are the 3 equations entered as user-defined functions, using the Bessel and sine integral functions from the scipy.special module."
      ],
      "metadata": {
        "id": "CA4cRsoWOxDE"
      }
    },
    {
      "cell_type": "markdown",
      "source": [
        "<font size=4>For a sphere:  \n",
        "$\\mathcal{F}(Q) = \\frac{1}{V_{p}}\\int_0^R\\int_0^{2\\pi}\\int_0^\\pi e^{iQrcos~\\theta}r^{2}sin~\\theta d\\theta d\\phi dr$  \n",
        "\n",
        "\n",
        "<font size=4>$ = \\frac{1}{V_{p}}\\int_0^R 4\\pi \\frac{sin(Qr)}{Qr}r^2dr$  \n",
        "\n",
        "\n",
        "<font size=5>$ = 3[\\frac{sin(QR) - QRcos(QR)}{Q^{3}R^{3}}] \\equiv \\frac{3J_{1}(QR)}{QR}$"
      ],
      "metadata": {
        "id": "gRYPxV3XT73a"
      }
    },
    {
      "cell_type": "markdown",
      "source": [
        "<font size=4> For some reason I am having trouble with the SciPy Bessel function. It does not match what is plotted in the book. Therefore, for the scattering from a sphere, I have just copied the explicit formula in 4.23 rather than using the Bessel. This does cause some doubt for discs and rods; however, for now let's not worry too much about this.  \n",
        "<font size=4><font color='red'> **Extra credit**: Find what's wrong with the Bessel function representation commented out here. Maybe try looking in the book at equation 4.23 and working it out by hand. If appropriate, change the disc and rod equations to be consistent with your understanding of the Bessel."
      ],
      "metadata": {
        "id": "yzqkofQfmf6q"
      }
    },
    {
      "cell_type": "code",
      "source": [
        "# def FQ2_sphere(radius, q): # scipy Bessel function is not reproducing correct result; what's happening?\n",
        "#   return (3*special.jv(1,q*radius) / (q*radius))**2\n",
        "def FQ2_sphere(radius, q):\n",
        "  return (3*((np.sin(q*radius)- q*radius*np.cos(q*radius)))/(q**3 * radius**3))**2\n",
        "def FQ2_disc(radius, q):\n",
        "  return 2 * (1 - (special.jv(1,2*q*radius)/(q*radius)) ) / (q**2 * radius**2)\n",
        "def FQ2_rod(length, q):\n",
        "  term1 = (2*special.sici(q*length)[0]) / (q * length)\n",
        "  term2 = (4 * (np.sin(q*length/2))**2) / (q**2 * length**2)\n",
        "  return term1 - term2 # I just broke this into two terms to avoid a huge return line"
      ],
      "metadata": {
        "id": "XUD7sqUWUCNu"
      },
      "execution_count": null,
      "outputs": []
    },
    {
      "cell_type": "markdown",
      "source": [
        "First, let's use these to make a similar graph to Figure 4.14 in the textbook."
      ],
      "metadata": {
        "id": "be0zPPE_Uzyx"
      }
    },
    {
      "cell_type": "code",
      "source": [
        "dimension = 100.\n",
        "qrange = np.linspace(0.0001, 0.2,1000)\n",
        "fig, ax = plt.subplots()\n",
        "\n",
        "ax.plot(qrange, FQ2_sphere(dimension,qrange),label='Sphere')\n",
        "ax.plot(qrange, FQ2_disc(dimension,qrange),label='Disc')\n",
        "ax.plot(qrange, FQ2_rod(dimension,qrange),label='Rod')\n",
        "ax.legend()\n",
        "ax.set_xlabel('Q ($A^{-1}$)')\n",
        "ax.set_ylabel('$|F(Q)|^{2}$')\n",
        "ax.set_title('Form factor scattering from different shapes')"
      ],
      "metadata": {
        "id": "90YjJAzwUCKx"
      },
      "execution_count": null,
      "outputs": []
    },
    {
      "cell_type": "markdown",
      "source": [
        "Note that the above is a bit different than what's in the book; below we use the table to convert the x-axis to $QR_{g}$ like the figure in the book"
      ],
      "metadata": {
        "id": "bpTPqRLwVyzr"
      }
    },
    {
      "cell_type": "code",
      "source": [
        "dimension = 100.\n",
        "qrange = np.linspace(0.0001, .8,1000) # make the q-range a bit longer\n",
        "QRg_sph = qrange*dimension*(3/5)**.5 # note the 3 different formulas for Rg in the table\n",
        "QRg_disc = qrange*dimension*(0.5)**0.5\n",
        "QRg_rod = qrange*dimension*(1/12)**0.5\n",
        "fig, ax = plt.subplots()\n",
        "ax.plot(QRg_sph, FQ2_sphere(dimension,qrange),label='Sphere')\n",
        "ax.plot(QRg_disc, FQ2_disc(dimension,qrange),label='Disc')\n",
        "ax.plot(QRg_rod, FQ2_rod(dimension,qrange),label='Rod')\n",
        "ax.legend()\n",
        "ax.set_xlabel('Q$R_{g}$')\n",
        "ax.set_ylabel('$|F(Q)|^{2}$')\n",
        "ax.set_xlim(0,10); ax.set_ylim(0,1.1)"
      ],
      "metadata": {
        "id": "cXxcboCpV7SU"
      },
      "execution_count": null,
      "outputs": []
    },
    {
      "cell_type": "markdown",
      "source": [
        "## Effect of radius on the form factor for different shapes"
      ],
      "metadata": {
        "id": "FJzv_sb5XIkd"
      }
    },
    {
      "cell_type": "code",
      "source": [
        "\n",
        "fig, ax = plt.subplots(1,3,figsize=(15,5))\n",
        "qrange = np.linspace(0.0001, .5,1000)\n",
        "radii = [50., 100., 150., 200.]\n",
        "pcol = iter(cm.viridis(np.linspace(0.,.9,len(radii))))\n",
        "for r in radii:\n",
        "  cc = next(pcol)\n",
        "  ax[0].plot(qrange, FQ2_sphere(r,qrange),label=r,color=cc,linewidth=2)\n",
        "  ax[1].plot(qrange, FQ2_disc(r,qrange),label=r,color=cc,linewidth=2)\n",
        "  ax[2].plot(qrange, FQ2_rod(r,qrange),label=r,color=cc,linewidth=2)\n",
        "\n",
        "for a in ax:\n",
        "  a.semilogy()\n",
        "  a.legend(title='Dimension (A)')\n",
        "  a.set_xlabel('Q ($A^{-1}$)')\n",
        "  a.set_ylabel('$|F(Q)|^{2}$')\n",
        "ax[0].set_title('Sphere (radius)'); ax[1].set_title('Disc (radius)'); ax[2].set_title('Rod (length)')"
      ],
      "metadata": {
        "id": "afq_Y0SHXMyW"
      },
      "execution_count": null,
      "outputs": []
    },
    {
      "cell_type": "markdown",
      "source": [
        "A possible question later: for which types of scattering could you fit polydispersity? Is it possible to do so for discs or rods? What answer shows up for polydispersity in the Guinier analysis - is it the mean? Weighted average? Median?"
      ],
      "metadata": {
        "id": "R6yomnfoZdVf"
      }
    },
    {
      "cell_type": "markdown",
      "source": [
        "## Guinier & Porod Analysis"
      ],
      "metadata": {
        "id": "w3BpMtHyO-QG"
      }
    },
    {
      "cell_type": "markdown",
      "source": [
        "<font size=4> As seen from the above, it is pretty easy to manually inspect the form factor scattering for a sphere and extract the radius by hand. However, it is much harder for discs and rods. Let's pull out the Rgs by Guinier analysis and compare to the dimensions we made the curves with. To do this we will need to:  \n",
        "1. Change the axes to be appropriate for Guinier analysis  \n",
        "2. Identify the proper range in which the Guinier approximation holds\n",
        "3. Linearly fit the data and find the slope; compare with the known Rg"
      ],
      "metadata": {
        "id": "pEndiPTAoMLN"
      }
    },
    {
      "cell_type": "markdown",
      "source": [
        "### Guinier analysis"
      ],
      "metadata": {
        "id": "m1Pg_ZX2o7xj"
      }
    },
    {
      "cell_type": "markdown",
      "source": [
        "#### Example 1: Sphere with dimension 100.0 Angstroms"
      ],
      "metadata": {
        "id": "VjMD6Drao_9o"
      }
    },
    {
      "cell_type": "markdown",
      "source": [
        "Step 1: Calculate \"experimental\" scattering and transform axes"
      ],
      "metadata": {
        "id": "T19dcyh4qtqH"
      }
    },
    {
      "cell_type": "code",
      "source": [
        "# calculate the scattering for the sphere with R = 100.0 Angstroms.\n",
        "# we will call this the \"experimental scattering\"\n",
        "fig, ax = plt.subplots(1,3,figsize=(15,5))\n",
        "qrange = np.linspace(0.0001, .5,1000)\n",
        "r = 100.0\n",
        "experimental_FQ2 = FQ2_sphere(r,qrange)\n",
        "ax[0].plot(qrange, experimental_FQ2,label=r)\n",
        "ax[0].set_xlabel('Q ($A^{-1}$)'); ax[0].set_ylabel('$|F(Q)|^{2}$')\n",
        "# to do Guinier analysis, we need to plot on an ln I vs Q^2 plot\n",
        "q2 = qrange**2\n",
        "lnI = np.log(experimental_FQ2) # note that \"np.log\" is the natural log, while np.log10 is the base 10 log\n",
        "for a in [ax[1],ax[2]]:\n",
        "  a.plot(q2,lnI,label=r)\n",
        "  a.set_xlabel('$Q^{2}~(A^{-2})$'); ax[1].set_ylabel('ln($|F(Q)|^{2}$)')\n",
        "\n",
        "ax[2].set_xlim(0, 0.005)\n",
        "ax[0].set_title('Linear plot'); ax[1].set_title('Transformed axes for Guinier analysis')\n",
        "ax[2].set_title('Zoom-in of plot 2')\n",
        "\n"
      ],
      "metadata": {
        "id": "St8mAy9xpD-4"
      },
      "execution_count": null,
      "outputs": []
    },
    {
      "cell_type": "markdown",
      "source": [
        "Step 2. Identify Guinier range. By visual inspection, it seems clear that by $Q^{2} = 0.002 A^{-2}$, we are well-past a linear regime. What $QR$ does this correspond to? Let's also identify a \"safely\" linear regime, which we'll say ends at 0.001."
      ],
      "metadata": {
        "id": "7NE16TE8qqZ0"
      }
    },
    {
      "cell_type": "code",
      "source": [
        "print(f' Linear approximation ends around {0.001 * r} to {0.002 * r}QR')"
      ],
      "metadata": {
        "id": "oCJS2iltrAby"
      },
      "execution_count": null,
      "outputs": []
    },
    {
      "cell_type": "markdown",
      "source": [
        "Since no explicit value of QR is given in the textbook, this is a decent number for us to see. Keep it in mind for the future and see if it always holds (I'm not sure)."
      ],
      "metadata": {
        "id": "Hbq0FZq_raMZ"
      }
    },
    {
      "cell_type": "markdown",
      "source": [
        "Step 3. Linear Fit.  \n",
        "Here we will use the scipy.stats linear regression function. There are several different ways you can do linear fits in Python, but this one is good because it gives statistics."
      ],
      "metadata": {
        "id": "Q2ToKRvkrhZR"
      }
    },
    {
      "cell_type": "code",
      "source": [
        "# import the stats module where linregress is\n",
        "from scipy import stats"
      ],
      "metadata": {
        "id": "OdSkv3ytzi5Q"
      },
      "execution_count": null,
      "outputs": []
    },
    {
      "cell_type": "code",
      "source": [
        "# first we need to cut our range to the purely linear regime\n",
        "linear_indices = np.where(q2 < 0.001)\n",
        "linear_q2 = q2[linear_indices]\n",
        "linear_lnI = lnI[linear_indices]\n",
        "plt.plot(linear_q2,linear_lnI,'o')"
      ],
      "metadata": {
        "id": "euyPvNejpD7_"
      },
      "execution_count": null,
      "outputs": []
    },
    {
      "cell_type": "markdown",
      "source": [
        "We can see that this is not exactly linear the whole way through; maybe we want to use a smaller range. Exactly how small you cut it, in reality, depends on your data density."
      ],
      "metadata": {
        "id": "xBDidjGDzOG9"
      }
    },
    {
      "cell_type": "code",
      "source": [
        "lin_result = stats.linregress(linear_q2,linear_lnI)\n",
        "lin_result"
      ],
      "metadata": {
        "id": "fzqpDpLqpD5o"
      },
      "execution_count": null,
      "outputs": []
    },
    {
      "cell_type": "markdown",
      "source": [
        "Now we convert to R using the relationship that for a **sphere** the slope of the $ln I$ vs. $Q^{2}$ plot is equal to $-\\frac{R^{2}}{5}$"
      ],
      "metadata": {
        "id": "tpm9PPuuz55r"
      }
    },
    {
      "cell_type": "code",
      "source": [
        "slope = lin_result[0]\n",
        "R = np.sqrt(-5 * slope)\n",
        "R"
      ],
      "metadata": {
        "id": "lBKC2Bb4z-zS"
      },
      "execution_count": null,
      "outputs": []
    },
    {
      "cell_type": "markdown",
      "source": [
        "We got out a value for R that is 107.8 Angstroms, which is roughly the radius that we used to generate the data. Perhaps the disagreement is due to the non-linearity we saw as we got near 0.001; let's try cutting it at 0.0002"
      ],
      "metadata": {
        "id": "B-EmS17N06Qq"
      }
    },
    {
      "cell_type": "markdown",
      "source": [
        "Note that the slope is equal to **R**, not **Rg**. To convert the slope to Rg (in the case of an idealized particle) use the formulae provided in table 4.2."
      ],
      "metadata": {
        "id": "mYQU4yCR1XrA"
      }
    },
    {
      "cell_type": "code",
      "source": [
        "linear_indices = np.where(q2 < 0.0002)\n",
        "linear_q2 = q2[linear_indices]\n",
        "linear_lnI = lnI[linear_indices]\n",
        "plt.plot(linear_q2,linear_lnI,'o')\n",
        "lin_result = stats.linregress(linear_q2,linear_lnI)\n",
        "lin_result\n",
        "slope = lin_result[0]\n",
        "R = np.sqrt(-5 * slope)\n",
        "print(R)"
      ],
      "metadata": {
        "id": "qBRU0RPy1qgo"
      },
      "execution_count": null,
      "outputs": []
    },
    {
      "cell_type": "markdown",
      "source": [
        "Now R is equal to 101 Angstroms, which is pretty close to our particle radius. Here I will make an equation to automatically return the slope so we can see the effect of cutting that regime."
      ],
      "metadata": {
        "id": "jFpyMcjh11f7"
      }
    },
    {
      "cell_type": "code",
      "source": [
        "def find_slope_sphere(qmax, q_square, ln_I):\n",
        "  linear_indices = np.where(q_square < qmax)\n",
        "  linear_q2 = q_square[linear_indices]\n",
        "  linear_lnI = ln_I[linear_indices]\n",
        "  lin_result = stats.linregress(linear_q2,linear_lnI)\n",
        "  slope = lin_result[0]\n",
        "  rval = lin_result[2]\n",
        "  R = np.sqrt(-5 * slope)\n",
        "  return R, rval # this way we also get an estimate of how linear the fit is\n",
        "\n",
        "\n"
      ],
      "metadata": {
        "id": "d2jI6aK02Zv_"
      },
      "execution_count": null,
      "outputs": []
    },
    {
      "cell_type": "code",
      "source": [
        "qmaxes = np.linspace(0.00001, 0.002,100)\n",
        "calc_rad = []\n",
        "Rvals = []\n",
        "for qmax in qmaxes:\n",
        "  R, rval = find_slope_sphere(qmax, q2, lnI)\n",
        "  calc_rad.append(R)\n",
        "  Rvals.append(rval)\n",
        "fig, ax = plt.subplots(2,1,figsize=(5,8))\n",
        "ax[0].axhline(100.,color='k')\n",
        "ax[0].plot(qmaxes, calc_rad,'o')\n",
        "ax[1].plot(qmaxes, Rvals,'o')\n",
        "ax[1].set_xlabel('Maximum $q^{2}$ value fit')\n",
        "ax[0].set_ylabel('Particle Radius from Fit')\n",
        "ax[1].set_ylabel('$R^{2}$ value for fit')\n",
        "for a in ax:\n",
        "  a.set_xticks([0.0001,0.001,0.002])\n",
        "ax[0].text(0.0015,102,'Actual R')\n"
      ],
      "metadata": {
        "id": "ihiWAWW_3g3V"
      },
      "execution_count": null,
      "outputs": []
    },
    {
      "cell_type": "markdown",
      "source": [
        "<font size=4>As we can see, the smallest q-region we can fit (with sufficient signal-to-noise, in the case of experimental data) will give us the most accurate value for R."
      ],
      "metadata": {
        "id": "C4v2DyQt4vsj"
      }
    },
    {
      "cell_type": "markdown",
      "source": [
        "## Polydispersity\n",
        "<font size=4> In the textbook, the function for calculating polydispersity is given by  \n",
        "$I(Q) = \\Delta \\rho^{2} \\int_{0}^{\\infty} D(R)V_{p}(R)^{2}|\\mathcal{F}(Q,R)|^{2} ~ dR $"
      ],
      "metadata": {
        "id": "jDvUbitqXYCa"
      }
    },
    {
      "cell_type": "markdown",
      "source": [
        "<font size=4> We can calculate this by summing multiple form factors. Take that for a sphere:"
      ],
      "metadata": {
        "id": "NkoozvJoX7ID"
      }
    },
    {
      "cell_type": "code",
      "source": [
        "mono100 = FQ2_sphere(100.,qrange)\n",
        "plt.plot(qrange,mono100,label='100 A monodisperse',color='grey')\n",
        "mono200 = FQ2_sphere(200.,qrange)\n",
        "plt.plot(qrange,mono200,label='200 A monodisperse',color='black')\n",
        "bidisperse = (mono100 + mono200)/2\n",
        "plt.plot(qrange,bidisperse,label='Bidisperse',color='lime',linewidth=2)\n",
        "plt.legend()\n",
        "plt.semilogy()"
      ],
      "metadata": {
        "id": "feQ79qyZX581"
      },
      "execution_count": null,
      "outputs": []
    },
    {
      "cell_type": "markdown",
      "source": [
        "<font size=4> With increasing polydispersity, we very quickly smear out the scattering. Let's do this for 8 particle sizes:"
      ],
      "metadata": {
        "id": "C9aE4fidYv6a"
      }
    },
    {
      "cell_type": "code",
      "source": [
        "fig, ax = plt.subplots(1,2,figsize=(10,4))\n",
        "particle_sizes = np.linspace(50.,100.,8)\n",
        "scatter = np.zeros(len(qrange))\n",
        "for p in particle_sizes:\n",
        "  scatter += FQ2_sphere(p, qrange)\n",
        "# now the same number of particle sizes, but a larger dispersity\n",
        "scatter2 = np.zeros(len(qrange))\n",
        "particle_sizes2 = np.linspace(50.,800.,8)\n",
        "for p in particle_sizes2:\n",
        "  scatter2 += FQ2_sphere(p, qrange)\n",
        "\n",
        "ax[0].plot(qrange,scatter)\n",
        "ax[1].plot(qrange,scatter2)\n",
        "for a in ax:\n",
        "  a.semilogy()\n",
        "ax[0].set_title('8 particle sizes, 50-100 nm')\n",
        "ax[1].set_title('8 particle sizes, 50-800 nm')\n"
      ],
      "metadata": {
        "id": "FBoUHvttYPmV"
      },
      "execution_count": null,
      "outputs": []
    },
    {
      "cell_type": "markdown",
      "source": [
        "### Pulling more realistic distributions (+ Python skills)  \n",
        "<font size=4> To make a more realistic solution, we will pull particle sizes from a normal distribution. To do this, we will use the NumPy random module. (https://numpy.org/doc/2.1/reference/random/generated/numpy.random.normal.html)"
      ],
      "metadata": {
        "id": "EtF7L10EqFe4"
      }
    },
    {
      "cell_type": "markdown",
      "source": [
        "<font size=4>A Gaussian is defined by the equation for the probability distribution $p(x)$:  \n",
        "<font size=4>$p(x) = \\frac{1}{\\sqrt{2\\pi \\sigma ^{2}}} e^{- \\frac{(x - \\mu)^{2}}{2 \\sigma ^{2}}} $"
      ],
      "metadata": {
        "id": "RFQEwIHqf0HO"
      }
    },
    {
      "cell_type": "markdown",
      "source": [
        "<font size=4>We can use the np.random.normal function to choose a specified number of random numbers pulled with that probability. If we pull a sufficient number of samples, it should look like a Gaussian. Below we pull 3 different distributions with the same mean ($\\mu$ above, given by the parameter \"loc\" in the code) and standard deviation ($\\sigma$ above, given by \"scale\"), but with increasing numbers of samples (in code, \"size\") to see the effect of sampling on the generated distribution. After generating each, we plot a histogram of the values."
      ],
      "metadata": {
        "id": "cJy-fHxzgjh1"
      }
    },
    {
      "cell_type": "code",
      "source": [
        "fig, ax = plt.subplots(1,4,figsize=(16,4))\n",
        "distro1 = np.random.normal(loc=0, scale=10, size=50)\n",
        "distro2 = np.random.normal(loc=0, scale=10, size=100)\n",
        "distro3 = np.random.normal(loc=0, scale=10, size=1000)\n",
        "distro4 = np.random.normal(loc=0, scale=10, size=10000)\n",
        "ax[0].hist(distro1,bins=20)\n",
        "ax[1].hist(distro2,bins=20)\n",
        "ax[2].hist(distro3,bins=20)\n",
        "ax[3].hist(distro4,bins=20)\n",
        "ax[0].set_title('50 samples')\n",
        "ax[1].set_title('100 samples')\n",
        "ax[2].set_title('1000 samples')\n",
        "ax[3].set_title('10,000 samples')"
      ],
      "metadata": {
        "id": "dOzF-G21Z69j"
      },
      "execution_count": null,
      "outputs": []
    },
    {
      "cell_type": "markdown",
      "source": [
        "Note that if you run the cell above, the results change. To make the results from a single notebook/script reproducible, we can use a \"random seed\". This sets the random generator to a specified state so that every time you run the notebook, it will generate random numbers reproducibly. **You should always do this when you use a random function**.\n",
        "\n",
        "\n",
        "```\n",
        "np.random.seed(seed=30)\n",
        "```\n",
        "\n"
      ],
      "metadata": {
        "id": "EnX3p2yNhqAp"
      }
    },
    {
      "cell_type": "code",
      "source": [
        "np.random.seed(seed=30)\n",
        "fig, ax = plt.subplots(1,4,figsize=(16,4))\n",
        "distro1 = np.random.normal(loc=0, scale=10, size=50)\n",
        "distro2 = np.random.normal(loc=0, scale=10, size=100)\n",
        "distro3 = np.random.normal(loc=0, scale=10, size=1000)\n",
        "distro4 = np.random.normal(loc=0, scale=10, size=10000)\n",
        "ax[0].hist(distro1,bins=20)\n",
        "ax[1].hist(distro2,bins=20)\n",
        "ax[2].hist(distro3,bins=20)\n",
        "ax[3].hist(distro4,bins=20)\n",
        "ax[0].set_title('50 samples')\n",
        "ax[1].set_title('100 samples')\n",
        "ax[2].set_title('1000 samples')\n",
        "ax[3].set_title('10,000 samples')"
      ],
      "metadata": {
        "id": "mPjP-06_h8Wt"
      },
      "execution_count": null,
      "outputs": []
    },
    {
      "cell_type": "markdown",
      "source": [
        "Now, it will make the same distributions every time so you can exactly reproduce results from everyone's notebooks"
      ],
      "metadata": {
        "id": "GyH2fJUPiCy_"
      }
    },
    {
      "cell_type": "markdown",
      "source": [
        "<font size=4> Applying the distribution to polydispersity.  \n",
        "Different processes (for example, polymerizations) can lead to different distributions of particle sizes in solution. Different distributions can lead to nearly identical scattering, so you will often need complementary characterization."
      ],
      "metadata": {
        "id": "q03WYlVEiOlb"
      }
    },
    {
      "cell_type": "markdown",
      "source": [
        "<font size=6><font color='blue'> Note for the assignment preview: something is going wrong with the below code, which should be relatively easy for me to figure out, but will be changed in the actual assignment."
      ],
      "metadata": {
        "id": "jA2yJ-TN5Kev"
      }
    },
    {
      "cell_type": "code",
      "source": [
        "fig, ax = plt.subplots()\n",
        "dispersities = np.asarray([0., .05, .1, .2])\n",
        "\n",
        "radius = 100.\n",
        "for d in dispersities:\n",
        "  np.random.seed(seed=30)\n",
        "  particle_sizes = distro4 = np.random.normal(loc=radius, scale=radius*d, size=1000)\n",
        "  scatter = np.zeros(len(qrange))\n",
        "  for p in particle_sizes:\n",
        "    scatter += FQ2_sphere(p, qrange)\n",
        "  ax.plot(qrange,scatter, label=f'{d*100}%')\n",
        "\n",
        "\n",
        "ax.plot(qrange,scatter)\n",
        "ax.semilogy()\n",
        "ax.legend(title='Polydispersity (%)')\n",
        "ax.set_xlabel('Q ($A^{-1}$)')\n",
        "ax.set_ylabel('$|F(Q)|^{2}$')\n"
      ],
      "metadata": {
        "id": "9XxTBXBKilNo"
      },
      "execution_count": null,
      "outputs": []
    },
    {
      "cell_type": "code",
      "source": [
        "fig, ax = plt.subplots()\n",
        "dispersities = np.asarray([0., .05, .1, .2])\n",
        "radius1 = 100.\n",
        "radius2 = 150.\n",
        "for d in dispersities:\n",
        "  np.random.seed(seed=50)\n",
        "  particle_sizes1 = np.random.normal(loc=radius1, scale=radius1*d, size=1000)\n",
        "  particle_sizes2 = np.random.normal(loc=radius2, scale=radius1*d, size=1000)\n",
        "  all_particles = np.append(particle_sizes1,particle_sizes2)\n",
        "  scatter = np.zeros(len(qrange))\n",
        "  for p in all_particles:\n",
        "    scatter += FQ2_sphere(p, qrange)\n",
        "  ax.plot(qrange,scatter, label=f'{d*100}%')\n",
        "\n",
        "\n",
        "ax.plot(qrange,scatter)\n",
        "ax.semilogy()\n",
        "ax.legend(title='Polydispersity (%)')\n",
        "ax.set_title('Bi-modal system')"
      ],
      "metadata": {
        "id": "6qOPjyxQyvDQ"
      },
      "execution_count": null,
      "outputs": []
    },
    {
      "cell_type": "markdown",
      "source": [
        "## Optimization Routines - Form Factor Scattering"
      ],
      "metadata": {
        "id": "F1J_r3-4zoQ8"
      }
    },
    {
      "cell_type": "markdown",
      "source": [
        "First example: Using scipy optimize to find polydispersity for a known radius"
      ],
      "metadata": {
        "id": "_3byq8LVNXFb"
      }
    },
    {
      "cell_type": "code",
      "source": [
        "# prepare the \"known\" scattering\n",
        "fig, ax = plt.subplots()\n",
        "dispersity=0.07\n",
        "radius = 100.\n",
        "particle_sizes = np.random.normal(loc=radius, scale=radius*dispersity, size=1000)\n",
        "obj_scatter = np.zeros(len(qrange))\n",
        "for p in particle_sizes:\n",
        "    obj_scatter += FQ2_sphere(p, qrange)\n",
        "ax.plot(qrange,obj_scatter,label='Objective function (7%)')\n",
        "\n",
        "\n",
        "ax.semilogy()\n",
        "ax.legend()"
      ],
      "metadata": {
        "id": "0k5vfwRVNiEu"
      },
      "execution_count": null,
      "outputs": []
    },
    {
      "cell_type": "markdown",
      "source": [
        "Next, scipy optimize differential evolution"
      ],
      "metadata": {
        "id": "deta2X8QOcum"
      }
    },
    {
      "cell_type": "code",
      "source": [
        "def gen_scatter(radius, dispersity, qvals, rseed=42, ndist=1000):\n",
        "  particle_sizes = np.random.normal(loc=radius, scale=radius*dispersity, size=1000)\n",
        "  scatter = np.zeros(len(qvals))\n",
        "  for p in particle_sizes:\n",
        "      scatter += FQ2_sphere(p, qvals)\n",
        "  MSE = np.mean((scatter - obj_scatter)**2)\n",
        "  plt.plot(qrange,obj_scatter,label='Objective function (7%)')\n",
        "  plt.plot(qrange,scatter,label='Generated function')\n",
        "  plt.legend()\n",
        "  plt.semilogy()\n",
        "  return MSE\n"
      ],
      "metadata": {
        "id": "7WIXbDvkN_OT"
      },
      "execution_count": null,
      "outputs": []
    },
    {
      "cell_type": "code",
      "source": [
        "def gen_scatter2(dispersity):\n",
        "  particle_sizes = np.random.normal(loc=100., scale=100.*dispersity, size=1000)\n",
        "  qrange = np.linspace(0.0001, 0.2,1000)\n",
        "  scatter = np.zeros(len(qrange))\n",
        "  for p in particle_sizes:\n",
        "      scatter += FQ2_sphere(p, qrange)\n",
        "  MSE = np.mean((scatter - obj_scatter)**2)\n",
        "  plt.plot(qrange,obj_scatter,label='Objective function (7%)')\n",
        "  plt.plot(qrange,scatter,label='Generated function')\n",
        "  #plt.legend()\n",
        "  plt.semilogy()\n",
        "  print(dispersity,MSE)\n",
        "  return MSE"
      ],
      "metadata": {
        "id": "Qql5RFv3RG7I"
      },
      "execution_count": null,
      "outputs": []
    },
    {
      "cell_type": "code",
      "source": [
        "from scipy import optimize"
      ],
      "metadata": {
        "id": "fEh89_dePEEA"
      },
      "execution_count": null,
      "outputs": []
    },
    {
      "cell_type": "markdown",
      "source": [
        "## Using Scipy Differential Evolution to solve for polydispersity  \n",
        "<font size=5><font color='blue'> TO-DO for Camille: figure out the callback function to report this out. Note to students for preview: I may just have you not manipulate the code here because it is a relatively involved topic. You may just run the code and answer some questions. i.e., this code will be cleaned to be more legible."
      ],
      "metadata": {
        "id": "Jztut3IK7q-c"
      }
    },
    {
      "cell_type": "code",
      "source": [
        "new_obj = np.log10(obj_scatter)"
      ],
      "metadata": {
        "id": "N0iuioMM7tfn"
      },
      "execution_count": null,
      "outputs": []
    },
    {
      "cell_type": "code",
      "source": [
        "def gen_logscatter(dispersity):\n",
        "  np.random.seed(seed=42)\n",
        "  particle_sizes = np.random.normal(loc=100., scale=100.*dispersity, size=1000)\n",
        "  qrange = np.linspace(0.0001, 0.2,1000)\n",
        "  scatter = np.zeros(len(qrange))\n",
        "  for p in particle_sizes:\n",
        "      scatter += FQ2_sphere(p, qrange)\n",
        "  MSE = np.mean((np.log10(scatter) - new_obj)**2)\n",
        "  plt.plot(qrange,new_obj,label='Objective function (7%)')\n",
        "  plt.plot(qrange,np.log10(scatter),label='Generated function')\n",
        "  #plt.legend()\n",
        "  #plt.semilogy()\n",
        "  print(dispersity,MSE)\n",
        "  return MSE"
      ],
      "metadata": {
        "id": "I6xxetSn7yYF"
      },
      "execution_count": null,
      "outputs": []
    },
    {
      "cell_type": "code",
      "source": [
        "pd_min, pd_max = 0.05, 0.1\n",
        "result = optimize.differential_evolution(gen_logscatter,bounds=[(pd_min,pd_max)])"
      ],
      "metadata": {
        "id": "OYdDNkOD8EEk"
      },
      "execution_count": null,
      "outputs": []
    },
    {
      "cell_type": "code",
      "source": [
        "result"
      ],
      "metadata": {
        "id": "MMgsIDuD8Jvy"
      },
      "execution_count": null,
      "outputs": []
    },
    {
      "cell_type": "code",
      "source": [],
      "metadata": {
        "id": "HfBGIdjIDQgB"
      },
      "execution_count": null,
      "outputs": []
    },
    {
      "cell_type": "markdown",
      "source": [
        "## Back to X-ray basic concepts"
      ],
      "metadata": {
        "id": "_Y4Hy6jXF7uk"
      }
    },
    {
      "cell_type": "markdown",
      "source": [
        "### Guinier Analysis of Proteins\n",
        "https://www.sasbdb.org/browse-molecular-type/protein/"
      ],
      "metadata": {
        "id": "sYVuzPUvF-et"
      }
    },
    {
      "cell_type": "code",
      "source": [
        "import pandas as pd\n",
        "ABC_data = pd.read_csv('/content/drive/MyDrive/Teaching Files/MatChar_F2025/Examples/SASDW27.dat', sep=' ',header=3) # this data will be deposited in Github\n",
        "ABC_data = ABC_data.rename(columns={ABC_data.columns[1]: 'q', ABC_data.columns[3]: 'I', ABC_data.columns[5]: 'myst' })"
      ],
      "metadata": {
        "id": "mXHH7AJVF9rL"
      },
      "execution_count": null,
      "outputs": []
    },
    {
      "cell_type": "code",
      "source": [
        "ABC_data"
      ],
      "metadata": {
        "id": "zIVWCwI4HPrv"
      },
      "execution_count": null,
      "outputs": []
    },
    {
      "cell_type": "code",
      "source": [
        "plt.plot(ABC_data['q'],ABC_data['I'])\n",
        "plt.semilogy()"
      ],
      "metadata": {
        "id": "JnJtfxzQHULk"
      },
      "execution_count": null,
      "outputs": []
    },
    {
      "cell_type": "markdown",
      "source": [
        "You will then fit the Guinier region, calculate Rg, and compare to the results on the site."
      ],
      "metadata": {
        "id": "F0egH2Be8-A9"
      }
    },
    {
      "cell_type": "markdown",
      "source": [
        "The website gives the porod volume for this protein as 735 nm3. Working backwards, what does this mean the density contrast between the solvent and the protein is?"
      ],
      "metadata": {
        "id": "qhCEel5ZMFfZ"
      }
    },
    {
      "cell_type": "code",
      "source": [],
      "metadata": {
        "id": "T1rcqxtZNQGA"
      },
      "execution_count": null,
      "outputs": []
    }
  ]
}