{
  "nbformat": 4,
  "nbformat_minor": 0,
  "metadata": {
    "colab": {
      "provenance": [],
      "authorship_tag": "ABX9TyORHPnROMRYShYblpECm2QW",
      "include_colab_link": true
    },
    "kernelspec": {
      "name": "python3",
      "display_name": "Python 3"
    },
    "language_info": {
      "name": "python"
    }
  },
  "cells": [
    {
      "cell_type": "markdown",
      "metadata": {
        "id": "view-in-github",
        "colab_type": "text"
      },
      "source": [
        "<a href=\"https://colab.research.google.com/github/cbishop4/MSE7530/blob/main/Assignments/Assignment5.ipynb\" target=\"_parent\"><img src=\"https://colab.research.google.com/assets/colab-badge.svg\" alt=\"Open In Colab\"/></a>"
      ]
    },
    {
      "cell_type": "markdown",
      "source": [
        "# Assignment 5 - Image Processing\n",
        "MSE 7530, Fall 2025"
      ],
      "metadata": {
        "id": "28ugOmnjguxx"
      }
    },
    {
      "cell_type": "markdown",
      "source": [
        "This assignment is meant to be somewhat of a break from the last assignments which were quite quantitative. In this assignment, you will pick your favorite scientific image in which you want to count particles, find borders, find domain sizes, or otherwise quantify. You may use any source; if you are stuck, you may want to start with the resources posted in the Canvas Modules."
      ],
      "metadata": {
        "id": "gCKGFA6lgzqo"
      }
    },
    {
      "cell_type": "markdown",
      "source": [
        "Your single assignment is first to pick an image (or time series of images) and **state an image-processing goal**: for example, to determine the distance that a crystal grew in a specific amount of time, or to count the number of bacteria colonies in a petri dish. Then, load this image into a NumPy array (code provided in class notebook) and perform your choice of operations to bring you closer to solving the problem. **You do not need to solve the problem**: if you do solve the problem, show how you did it and explain how this would speed up analysis; comment on whether it would be easy to automate or if you would need human intervention. If you are not able to meet your goal, state what makes the image difficult to process. Skim the assigned reading and see if there are any tools that look like they might help, and state them."
      ],
      "metadata": {
        "id": "yvKs3aszhBLT"
      }
    },
    {
      "cell_type": "markdown",
      "source": [
        "I encourage you to spend as much effort on this assignment as you want; if you regularly analyze images in your research, this is a great opportunity to think about automating your own workflow and getting my help/advice for free."
      ],
      "metadata": {
        "id": "9Hn8GRZ0h2E-"
      }
    },
    {
      "cell_type": "code",
      "execution_count": null,
      "metadata": {
        "id": "zZLWm5Mngrb9"
      },
      "outputs": [],
      "source": []
    }
  ]
}