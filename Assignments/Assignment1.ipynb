{
  "nbformat": 4,
  "nbformat_minor": 0,
  "metadata": {
    "colab": {
      "provenance": [],
      "collapsed_sections": [
        "btw9DhA-7vzF",
        "Wax9Hz0x_JTE",
        "1ruV_OI895f-",
        "000Fyvj1_Ph7",
        "0B8zHVP4_hJ3"
      ],
      "authorship_tag": "ABX9TyPvAE1hvQ8QBmmaNjKYueDG",
      "include_colab_link": true
    },
    "kernelspec": {
      "name": "python3",
      "display_name": "Python 3"
    },
    "language_info": {
      "name": "python"
    }
  },
  "cells": [
    {
      "cell_type": "markdown",
      "metadata": {
        "id": "view-in-github",
        "colab_type": "text"
      },
      "source": [
        "<a href=\"https://colab.research.google.com/github/cbishop4/MSE7530/blob/main/Assignment1.ipynb\" target=\"_parent\"><img src=\"https://colab.research.google.com/assets/colab-badge.svg\" alt=\"Open In Colab\"/></a>"
      ]
    },
    {
      "cell_type": "markdown",
      "source": [
        "# Assignment 1"
      ],
      "metadata": {
        "id": "aLQ5YNKt5eTB"
      }
    },
    {
      "cell_type": "markdown",
      "source": [
        "Instructions: Please work through this notebook. Anything in <font color='red'> red </font> requires an answer in a code and/or text cell, as indicated. Please leave all of the text I have written; I have arranged the notebook so that I can easily navigate to your answers and skip my own explanations."
      ],
      "metadata": {
        "id": "iEggcmeAD6h9"
      }
    },
    {
      "cell_type": "markdown",
      "source": [
        "## Part 1 : Accessing a Database & Plotting Results"
      ],
      "metadata": {
        "id": "v-ENb4aV5kCQ"
      }
    },
    {
      "cell_type": "markdown",
      "source": [
        "### Python Practice : for loops\n",
        "https://www.w3schools.com/python/python_for_loops.asp  \n",
        "We will talk more about loops in detail, but for now, we will learn by doing. A for loop will do just that: for every \"thing\" in a list/string/etc., the code will do something.\n"
      ],
      "metadata": {
        "id": "btw9DhA-7vzF"
      }
    },
    {
      "cell_type": "markdown",
      "source": [
        "#### Explanations"
      ],
      "metadata": {
        "id": "Wax9Hz0x_JTE"
      }
    },
    {
      "cell_type": "code",
      "execution_count": null,
      "metadata": {
        "id": "Vg5Rxoa35Z8K"
      },
      "outputs": [],
      "source": [
        "for x in [1., 6., 7.]:\n",
        "  print(x*3)"
      ]
    },
    {
      "cell_type": "markdown",
      "source": [
        "This can be done for many different data types. For example, we can have a list full of strings instead and do the same thing."
      ],
      "metadata": {
        "id": "fP1UJzHH8N2M"
      }
    },
    {
      "cell_type": "code",
      "source": [
        "for l in ['OFET', 'OLED', 'OMIEC']:\n",
        "  print(l)\n",
        "print('Alternatively,')\n",
        "for w in 'OFET':\n",
        "  print(w)"
      ],
      "metadata": {
        "id": "zgh0dntF8UdY"
      },
      "execution_count": null,
      "outputs": []
    },
    {
      "cell_type": "markdown",
      "source": [
        "Something useful that we can use (not quite related) are \"f-strings\". These provide a convenient way to insert strings, integers, or floats, etc. into existing strings. This can be helpful to add a little more context. Take our previous example,"
      ],
      "metadata": {
        "id": "mvrJDJdB8fh1"
      }
    },
    {
      "cell_type": "code",
      "source": [
        "for x in [1., 6., 7.]:\n",
        "  multiplier = 3\n",
        "  print(f'The value of x ({x}) multiplied by {multiplier} is {x*3}')"
      ],
      "metadata": {
        "id": "I5GTs3ms8y4I"
      },
      "execution_count": null,
      "outputs": []
    },
    {
      "cell_type": "markdown",
      "source": [
        "We can use that to make complete strings, as well. For example, (HINT), if we have a dictionary (again, more on these later) which uses strings to access values"
      ],
      "metadata": {
        "id": "iNguG9ey9Fhz"
      }
    },
    {
      "cell_type": "code",
      "source": [
        "mw_dict = {'benzene' :78.11 , 'toluene' : 92.141 , 'propane' : 44.097} # makes a bunch of key/value pairs, which we can reference\n",
        "desired = 'benzene'\n",
        "print(f'The molecular weight of {desired} is {mw_dict[desired]}')"
      ],
      "metadata": {
        "id": "q1B1Q_kO9O6H"
      },
      "execution_count": null,
      "outputs": []
    },
    {
      "cell_type": "code",
      "source": [
        "key_list = mw_dict.keys()\n",
        "print(key_list)"
      ],
      "metadata": {
        "id": "HyuRb5ur96Xp"
      },
      "execution_count": null,
      "outputs": []
    },
    {
      "cell_type": "code",
      "source": [
        "for k in key_list:\n",
        "  print(f'The molecular weight of {k} is {mw_dict[k]}')"
      ],
      "metadata": {
        "id": "MqZq3fEg98t2"
      },
      "execution_count": null,
      "outputs": []
    },
    {
      "cell_type": "markdown",
      "source": [
        "#### <font color = 'red'> Practice: write a for loop that:</font>  \n",
        "Converts the following values of energy in eV to J and prints them out. The conversion factor between the two energy units is $1 eV = 1.602 \\times 10^{-19} J$."
      ],
      "metadata": {
        "id": "1ruV_OI895f-"
      }
    },
    {
      "cell_type": "code",
      "source": [
        "energies = [100., 1230., 2000., 3600.]\n",
        "# fill the rest of this cell with your code to perform the above task"
      ],
      "metadata": {
        "id": "XPpi8J8b-zB0"
      },
      "execution_count": null,
      "outputs": []
    },
    {
      "cell_type": "markdown",
      "source": [
        "### NIST WebBook"
      ],
      "metadata": {
        "id": "000Fyvj1_Ph7"
      }
    },
    {
      "cell_type": "markdown",
      "source": [
        "#### Similarly to what we did in class: <font color = 'red'> Compare the IR and UV-vis spectra for 3 different series of molecules by loading the data, plotting on a common axis (or axes) that facilitates comparison, and qualitatively explaining any trends you see with each series."
      ],
      "metadata": {
        "id": "8SKRlZP2_23S"
      }
    },
    {
      "cell_type": "markdown",
      "source": [
        "##### <font color = 'red'> Series 1: ethane, ethylene, ethyne (acetylene) </font>"
      ],
      "metadata": {
        "id": "2_SKhzKlAmkt"
      }
    },
    {
      "cell_type": "code",
      "source": [
        "# Use this code (and add as many extra code cells as you want in this section) to do the above task."
      ],
      "metadata": {
        "id": "9kZfL0w7AnA-"
      },
      "execution_count": null,
      "outputs": []
    },
    {
      "cell_type": "markdown",
      "source": [
        "<font color = 'red'> Use this text box to describe any trends you see along the series. A few sentences is fine."
      ],
      "metadata": {
        "id": "KVm1syl4Blv1"
      }
    },
    {
      "cell_type": "markdown",
      "source": [
        "##### <font color = 'red'> Series 2: methane, ethane, propane, butane, pentane </font>"
      ],
      "metadata": {
        "id": "ufwGv5jZAnUd"
      }
    },
    {
      "cell_type": "code",
      "source": [
        "# Use this code (and add as many extra code cells as you want in this section) to do the above task."
      ],
      "metadata": {
        "id": "Tk5zccosAnyt"
      },
      "execution_count": null,
      "outputs": []
    },
    {
      "cell_type": "markdown",
      "source": [
        "<font color = 'red'> Use this text box to describe any trends you see along the series. A few sentences is fine."
      ],
      "metadata": {
        "id": "qwwC0QhQBb00"
      }
    },
    {
      "cell_type": "markdown",
      "source": [
        "##### <font color = 'red'> Series 3: cyclopropane, cyclobutane, cyclopentane, cyclohexane, benzene </font>"
      ],
      "metadata": {
        "id": "dnQ5z3GqBMfN"
      }
    },
    {
      "cell_type": "code",
      "source": [
        "# Use this code (and add as many extra code cells as you want in this section) to do the above task."
      ],
      "metadata": {
        "id": "3kd4_wRGAof5"
      },
      "execution_count": null,
      "outputs": []
    },
    {
      "cell_type": "markdown",
      "source": [
        "<font color = 'red'> Use this text box to describe any trends you see along the series. A few sentences is fine."
      ],
      "metadata": {
        "id": "gqZqkIBjBnN0"
      }
    },
    {
      "cell_type": "markdown",
      "source": [
        "### Polymer Sorting for Recycling\n",
        "You can find data for this exercise at https://github.com/usnistgov/nir_corr_po . The accompanying publication (which is cool) can be found at https://doi.org/10.1021/acs.macromol.3c02290 . It is not necessary to read, but it may provide some context for your qualitative answers.  \n",
        "The following two exercises ask you to comment on the reproducibility of the measurements. Since we have not gone over any quantification principles in class yet, these may be purely qualitative for full credit."
      ],
      "metadata": {
        "id": "0B8zHVP4_hJ3"
      }
    },
    {
      "cell_type": "markdown",
      "source": [
        "##### <font color='red'> Assess the reproducibility of the measurement. </font>\n",
        "Pick a single polymer (same code (e.g. H0002)) and plot the 6 NIR spectra collected on a single axis. Comment on the qualitative reproducibility of the measurement."
      ],
      "metadata": {
        "id": "bqnER55kCFmT"
      }
    },
    {
      "cell_type": "code",
      "source": [
        "# code here; insert as many cells as you need"
      ],
      "metadata": {
        "id": "ZRVZ-Ah3CpGH"
      },
      "execution_count": null,
      "outputs": []
    },
    {
      "cell_type": "markdown",
      "source": [
        "<font color = red> Qualitative answer in this text box."
      ],
      "metadata": {
        "id": "lcaejH9rCqZy"
      }
    },
    {
      "cell_type": "markdown",
      "source": [
        "##### <font color='red'> Assess the uniformity of a single polymer's NIR spectrum between different suppliers. </font>\n",
        "Plot the data from each type of LDPE on the same axis - sample codes S0081, S0024, N1476, N1473, and H0002. Comment on the qualitative agreement between spectra and if it would be easy to use these to identify LDPE in a mixed recycling stream."
      ],
      "metadata": {
        "id": "PkVBIXxkCsxy"
      }
    },
    {
      "cell_type": "code",
      "source": [
        "# code here; insert as many cells as you need"
      ],
      "metadata": {
        "id": "c9iQBo8JDrqp"
      },
      "execution_count": null,
      "outputs": []
    },
    {
      "cell_type": "markdown",
      "source": [
        "<font color = 'red'> Qualitative answer in this box."
      ],
      "metadata": {
        "id": "K0IsXgEwDmrx"
      }
    },
    {
      "cell_type": "markdown",
      "source": [
        "## Part 2: Reflecting on FAIR Data principles.\n",
        "No code!"
      ],
      "metadata": {
        "id": "zhxsIhcZ5iGk"
      }
    },
    {
      "cell_type": "markdown",
      "source": [
        "## Part 3: Case study - an OFET database\n",
        "No code!"
      ],
      "metadata": {
        "id": "AGRquKSv5hpc"
      }
    }
  ]
}
