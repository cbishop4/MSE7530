{
  "nbformat": 4,
  "nbformat_minor": 0,
  "metadata": {
    "colab": {
      "provenance": [],
      "authorship_tag": "ABX9TyORrN+4gCos+cIYxPdNRPti",
      "include_colab_link": true
    },
    "kernelspec": {
      "name": "python3",
      "display_name": "Python 3"
    },
    "language_info": {
      "name": "python"
    }
  },
  "cells": [
    {
      "cell_type": "markdown",
      "metadata": {
        "id": "view-in-github",
        "colab_type": "text"
      },
      "source": [
        "<a href=\"https://colab.research.google.com/github/cbishop4/MSE7530/blob/main/ClassNotebooks/ImageProc_Lecture.ipynb\" target=\"_parent\"><img src=\"https://colab.research.google.com/assets/colab-badge.svg\" alt=\"Open In Colab\"/></a>"
      ]
    },
    {
      "cell_type": "code",
      "execution_count": null,
      "metadata": {
        "id": "OT03GNjPLSej"
      },
      "outputs": [],
      "source": [
        "import numpy as np\n",
        "import matplotlib.pyplot as plt"
      ]
    },
    {
      "cell_type": "code",
      "source": [
        "! git clone https://github.com/cbishop4/MSE7530"
      ],
      "metadata": {
        "id": "bAynKG-6MJuR"
      },
      "execution_count": null,
      "outputs": []
    },
    {
      "cell_type": "code",
      "source": [
        "ht_file = '/content/MSE7530/sampledata/glass_adj.png'\n",
        "phz_file = '/content/MSE7530/sampledata/glass_phase.png'"
      ],
      "metadata": {
        "id": "M7RVXTUGMMwA"
      },
      "execution_count": null,
      "outputs": []
    },
    {
      "cell_type": "markdown",
      "source": [
        "## Specific Image-Processing Packages we will use today"
      ],
      "metadata": {
        "id": "tOh5N4FuMWqQ"
      }
    },
    {
      "cell_type": "code",
      "source": [
        "import skimage as ski\n",
        "import scipy.ndimage as ndi"
      ],
      "metadata": {
        "id": "ODU9X-56MUHz"
      },
      "execution_count": null,
      "outputs": []
    },
    {
      "cell_type": "markdown",
      "source": [
        "Use skimage to load my file"
      ],
      "metadata": {
        "id": "b3FPA-t6NLr1"
      }
    },
    {
      "cell_type": "code",
      "source": [
        "height = ski.io.imread(ht_file)\n",
        "phase = ski.io.imread(phz_file)"
      ],
      "metadata": {
        "id": "MdX9O7UwMdoS"
      },
      "execution_count": null,
      "outputs": []
    },
    {
      "cell_type": "code",
      "source": [
        "fig, ax = plt.subplots(1, 2, figsize=(12, 6))\n",
        "ax[0].imshow(height, cmap='gray')\n",
        "ax[1].imshow(phase, cmap='gray')\n",
        "ax[0].set_title('AFM Height')\n",
        "ax[1].set_title('AFM Phase')"
      ],
      "metadata": {
        "id": "t60jA4ZnMluA"
      },
      "execution_count": null,
      "outputs": []
    },
    {
      "cell_type": "markdown",
      "source": [
        "Optional: Load your image of choice from your drive"
      ],
      "metadata": {
        "id": "nTdcVYopNQIz"
      }
    },
    {
      "cell_type": "code",
      "source": [
        "my_image = ski.io.imread(# insert your filename from drive here)"
      ],
      "metadata": {
        "id": "_Wo7ETtcMutg"
      },
      "execution_count": null,
      "outputs": []
    },
    {
      "cell_type": "markdown",
      "source": [
        "So that you can better see details, we will also make smaller sections of the images"
      ],
      "metadata": {
        "id": "LuF7cK2TNkiP"
      }
    },
    {
      "cell_type": "code",
      "source": [
        "ht_cut = height[100:200, 100:200]\n",
        "phz_cut = phase[100:200, 100:200]\n",
        "fig, ax = plt.subplots(1, 2, figsize=(12, 6))\n",
        "cb = ax[0].imshow(ht_cut, cmap='gray')\n",
        "plt.colorbar(cb,ax=ax[0])\n",
        "cb = ax[1].imshow(phz_cut, cmap='gray')\n",
        "plt.colorbar(cb,ax=ax[1])\n",
        "ax[0].set_title('AFM Height')\n",
        "ax[1].set_title('AFM Phase')"
      ],
      "metadata": {
        "id": "gpEXIbhkNu1f"
      },
      "execution_count": null,
      "outputs": []
    },
    {
      "cell_type": "markdown",
      "source": [
        "Note that the above images go from values of 0 to 255"
      ],
      "metadata": {
        "id": "ULb6Z9KiOLgn"
      }
    },
    {
      "cell_type": "markdown",
      "source": [
        "### Image math example: multiplication and division"
      ],
      "metadata": {
        "id": "t9bjOIVZOmFD"
      }
    },
    {
      "cell_type": "markdown",
      "source": [
        "These images were stored and loaded in 8-bit color scale, which brings them from 0 to 255 based on how light the pixel is. Let's use image math to restore the two images to their original values."
      ],
      "metadata": {
        "id": "JXwYDM-JO1TW"
      }
    },
    {
      "cell_type": "markdown",
      "source": [
        "#### Height  \n",
        "Assume the maximum height of the height image above is 15 nm, and the minimum height is -13 nm. Transform the axes; we will work this out on the board together."
      ],
      "metadata": {
        "id": "-UMODWd4PPt9"
      }
    },
    {
      "cell_type": "markdown",
      "source": [
        "Step 1. Determine the spread in real heights we need to get back to."
      ],
      "metadata": {
        "id": "kuob8w01P0e1"
      }
    },
    {
      "cell_type": "code",
      "source": [],
      "metadata": {
        "id": "d-3Vr1gFP3L-"
      },
      "execution_count": null,
      "outputs": []
    },
    {
      "cell_type": "markdown",
      "source": [
        "Step 2. Determine the maximum and minimum pixel values in the image (the range)"
      ],
      "metadata": {
        "id": "V1BPqc9LP4St"
      }
    },
    {
      "cell_type": "code",
      "source": [],
      "metadata": {
        "id": "h3HjhJtmP_G_"
      },
      "execution_count": null,
      "outputs": []
    },
    {
      "cell_type": "markdown",
      "source": [
        "Step 3. Find the conversion factor from pixel to nm."
      ],
      "metadata": {
        "id": "OZn-bYd5P_r1"
      }
    },
    {
      "cell_type": "code",
      "source": [],
      "metadata": {
        "id": "kDjzlzDUbOpp"
      },
      "execution_count": null,
      "outputs": []
    },
    {
      "cell_type": "markdown",
      "source": [
        "Step 4. Convert the pixel values to nm."
      ],
      "metadata": {
        "id": "Oz1yVajoQuk9"
      }
    },
    {
      "cell_type": "code",
      "source": [],
      "metadata": {
        "id": "M9jewbkvQtBt"
      },
      "execution_count": null,
      "outputs": []
    },
    {
      "cell_type": "markdown",
      "source": [
        "Subtract a \"pedestal\" to restore the range from -13 to 15."
      ],
      "metadata": {
        "id": "WHGWSwmjQE6m"
      }
    },
    {
      "cell_type": "markdown",
      "source": [
        "In the above, we used multiplication, addition, and subtraction to convert something from pixel values to real scale."
      ],
      "metadata": {
        "id": "iP1jGXstRNHN"
      }
    },
    {
      "cell_type": "code",
      "source": [],
      "metadata": {
        "id": "vdR-IGVxRhvj"
      },
      "execution_count": null,
      "outputs": []
    },
    {
      "cell_type": "code",
      "source": [],
      "metadata": {
        "id": "ZSUKIkA4RjEc"
      },
      "execution_count": null,
      "outputs": []
    },
    {
      "cell_type": "markdown",
      "source": [
        "## Thresholding & Binary Images  \n",
        "We will use simple thresholds to divide up the images and see if we can get individual domains."
      ],
      "metadata": {
        "id": "NHZLmlnzRkQg"
      }
    },
    {
      "cell_type": "code",
      "source": [
        "threshed_ht = ht_cut > 100\n",
        "threshed_phz = phz_cut > 100"
      ],
      "metadata": {
        "id": "Jrh5-oyKQI8t"
      },
      "execution_count": null,
      "outputs": []
    },
    {
      "cell_type": "code",
      "source": [
        "fig, ax = plt.subplots(2,2,figsize=(10,8))\n",
        "# first plot the original images for reference\n",
        "cb = ax[0,0].imshow(ht_cut, cmap='gray')\n",
        "plt.colorbar(cb,ax=ax[0,0])\n",
        "cb = ax[0,1].imshow(phz_cut, cmap='gray')\n",
        "plt.colorbar(cb,ax=ax[0,1])\n",
        "# now plot the thresholded images\n",
        "cb = ax[1,0].imshow(threshed_ht,cmap='gray')\n",
        "plt.colorbar(cb,ax=ax[1,0])\n",
        "cb = ax[1,1].imshow(threshed_phz,cmap='gray')\n",
        "plt.colorbar(cb,ax=ax[1,1])"
      ],
      "metadata": {
        "id": "XAE0dQadR8sE"
      },
      "execution_count": null,
      "outputs": []
    },
    {
      "cell_type": "markdown",
      "source": [
        "Try adjusting the Threshold and see what makes the \"best\" result. Why do you think it's the best result? Can we get anything useful? If not, what image features are messing it up?"
      ],
      "metadata": {
        "id": "-sdNTfy0R1MI"
      }
    },
    {
      "cell_type": "code",
      "source": [
        "threshed_ht = ht_cut > 0\n",
        "threshed_phz = phz_cut > 0\n",
        "\n",
        "fig, ax = plt.subplots(2,2,figsize=(10,8))\n",
        "# first plot the original images for reference\n",
        "cb = ax[0,0].imshow(ht_cut, cmap='gray')\n",
        "plt.colorbar(cb,ax=ax[0,0])\n",
        "cb = ax[0,1].imshow(phz_cut, cmap='gray')\n",
        "plt.colorbar(cb,ax=ax[0,1])\n",
        "# now plot the thresholded images\n",
        "cb = ax[1,0].imshow(threshed_ht,cmap='gray')\n",
        "plt.colorbar(cb,ax=ax[1,0])\n",
        "cb = ax[1,1].imshow(threshed_phz,cmap='gray')\n",
        "plt.colorbar(cb,ax=ax[1,1])"
      ],
      "metadata": {
        "id": "yXFbCZSHSmO_"
      },
      "execution_count": null,
      "outputs": []
    },
    {
      "cell_type": "markdown",
      "source": [
        "## Masking  \n",
        "Let's start answering the question: do height and phase correspond in any way? Start with a binary thresholded image from above and multiply against the opposite full image."
      ],
      "metadata": {
        "id": "oE0RdePWTP9h"
      }
    },
    {
      "cell_type": "code",
      "source": [
        "threshed_ht = ht_cut > 140\n",
        "threshed_phz = phz_cut > 180\n",
        "\n",
        "fig, ax = plt.subplots(2,2,figsize=(10,8))\n",
        "# first plot the original images for reference\n",
        "cb = ax[0,0].imshow(ht_cut, cmap='gray')\n",
        "plt.colorbar(cb,ax=ax[0,0])\n",
        "cb = ax[0,1].imshow(phz_cut, cmap='gray')\n",
        "plt.colorbar(cb,ax=ax[0,1])\n",
        "# now plot the thresholded images\n",
        "cb = ax[1,0].imshow(threshed_ht,cmap='gray')\n",
        "plt.colorbar(cb,ax=ax[1,0])\n",
        "cb = ax[1,1].imshow(threshed_phz,cmap='gray')\n",
        "plt.colorbar(cb,ax=ax[1,1])"
      ],
      "metadata": {
        "id": "5T_QMAqITm9y"
      },
      "execution_count": null,
      "outputs": []
    },
    {
      "cell_type": "code",
      "source": [
        "# use the phase mask on the height image\n",
        "masked_ht = ht_cut * threshed_phz\n",
        "# use the height mask on the phase\n",
        "masked_phz = phz_cut * threshed_ht\n",
        "fig, ax = plt.subplots(1,2,figsize=(10,4))\n",
        "cb = ax[0].imshow(masked_ht, cmap='gray')\n",
        "plt.colorbar(cb,ax=ax[0])\n",
        "cb = ax[1].imshow(masked_phz, cmap='gray')\n",
        "plt.colorbar(cb,ax=ax[1])"
      ],
      "metadata": {
        "id": "oN_JaqtRV6WB"
      },
      "execution_count": null,
      "outputs": []
    },
    {
      "cell_type": "markdown",
      "source": [
        "Our results aren't great yet, since we don't have great filters."
      ],
      "metadata": {
        "id": "NFDamIVBWIp4"
      }
    },
    {
      "cell_type": "markdown",
      "source": [
        "## Calculating gradients"
      ],
      "metadata": {
        "id": "RD7Ec1r2WZ11"
      }
    },
    {
      "cell_type": "markdown",
      "source": [
        "We will be using the Numpy gradient (np.gradient) function for this."
      ],
      "metadata": {
        "id": "XW0qFXd8WemH"
      }
    },
    {
      "cell_type": "code",
      "source": [
        "fig, ax = plt.subplots(1,3,figsize=(15,4))\n",
        "cb = ax[0].imshow(phz_cut)\n",
        "plt.colorbar(cb,ax=ax[0])\n",
        "cb = ax[1].imshow(np.gradient(phz_cut)[0])\n",
        "plt.colorbar(cb,ax=ax[1])\n",
        "cb = ax[2].imshow(np.gradient(phz_cut)[1])\n",
        "plt.colorbar(cb,ax=ax[2])\n",
        "ax[0].set_title('Original')\n",
        "ax[1].set_title('X Gradient')\n",
        "ax[2].set_title('Y Gradient')"
      ],
      "metadata": {
        "id": "1iOUErswWoL0"
      },
      "execution_count": null,
      "outputs": []
    },
    {
      "cell_type": "code",
      "source": [
        "plt.plot(np.gradient(phz_cut)[0][:,50])\n",
        "plt.plot(np.gradient(phz_cut)[0][50])"
      ],
      "metadata": {
        "id": "wtceVBMZX-Uk"
      },
      "execution_count": null,
      "outputs": []
    },
    {
      "cell_type": "code",
      "source": [
        "plt.plot(np.gradient(phz_cut)[1][:,50])\n",
        "plt.plot(np.gradient(phz_cut)[1][50])"
      ],
      "metadata": {
        "id": "N-JDaOI8X-Uk"
      },
      "execution_count": null,
      "outputs": []
    },
    {
      "cell_type": "code",
      "source": [
        "fig, ax = plt.subplots(1,3,figsize=(15,4))\n",
        "cb = ax[0].imshow(ht_cut)\n",
        "plt.colorbar(cb,ax=ax[0])\n",
        "cb = ax[1].imshow(np.gradient(ht_cut)[0])\n",
        "plt.colorbar(cb,ax=ax[1])\n",
        "cb = ax[2].imshow(np.gradient(ht_cut)[1])\n",
        "plt.colorbar(cb,ax=ax[2])\n",
        "ax[1].axvline(50,color='r')\n",
        "ax[1].axhline(50,color='r')\n",
        "ax[2].axvline(50,color='r')\n",
        "ax[2].axhline(50,color='r')\n",
        "ax[0].set_title('Original')\n",
        "ax[1].set_title('X Gradient')\n",
        "ax[2].set_title('Y Gradient')"
      ],
      "metadata": {
        "id": "UtXwf9n6WvuD"
      },
      "execution_count": null,
      "outputs": []
    },
    {
      "cell_type": "code",
      "source": [
        "plt.plot(np.gradient(ht_cut)[0][:,50])\n",
        "plt.plot(np.gradient(ht_cut)[0][50])"
      ],
      "metadata": {
        "id": "OfmMNpedXEGY"
      },
      "execution_count": null,
      "outputs": []
    },
    {
      "cell_type": "code",
      "source": [
        "plt.plot(np.gradient(ht_cut)[1][:,50])\n",
        "plt.plot(np.gradient(ht_cut)[1][50])"
      ],
      "metadata": {
        "id": "iGFfgcAIXmYQ"
      },
      "execution_count": null,
      "outputs": []
    },
    {
      "cell_type": "markdown",
      "source": [
        "### Combining magnitude of the gradient components"
      ],
      "metadata": {
        "id": "4Z4f-yF1ZB66"
      }
    },
    {
      "cell_type": "code",
      "source": [
        "fig, ax = plt.subplots(1,2,figsize=(10,4))\n",
        "cb = ax[0].imshow(ht_cut)\n",
        "plt.colorbar(cb,ax=ax[0])\n",
        "gx = np.gradient(ht_cut)[0]\n",
        "gy = np.gradient(ht_cut)[1]\n",
        "mag = np.sqrt(gx**2 + gy**2)\n",
        "cb = ax[1].imshow(mag)\n",
        "plt.colorbar(cb,ax=ax[1])\n",
        "ax[0].set_title('Original')\n",
        "ax[1].set_title('Magnitude')\n"
      ],
      "metadata": {
        "id": "VDQF6DjMZFCe"
      },
      "execution_count": null,
      "outputs": []
    },
    {
      "cell_type": "code",
      "source": [
        "fig, ax = plt.subplots(1,2,figsize=(10,4))\n",
        "cb = ax[0].imshow(phz_cut)\n",
        "plt.colorbar(cb,ax=ax[0])\n",
        "gx = np.gradient(phz_cut)[0]\n",
        "gy = np.gradient(phz_cut)[1]\n",
        "mag = np.sqrt(gx**2 + gy**2)\n",
        "cb = ax[1].imshow(mag)\n",
        "plt.colorbar(cb,ax=ax[1])\n",
        "ax[0].set_title('Original')\n",
        "ax[1].set_title('Magnitude')\n"
      ],
      "metadata": {
        "id": "UsPoDGwxZtDZ"
      },
      "execution_count": null,
      "outputs": []
    },
    {
      "cell_type": "code",
      "source": [],
      "metadata": {
        "id": "QAZ-8459ZE2y"
      },
      "execution_count": null,
      "outputs": []
    },
    {
      "cell_type": "markdown",
      "source": [
        "## Smoothing"
      ],
      "metadata": {
        "id": "g5P1thPoYPIF"
      }
    },
    {
      "cell_type": "code",
      "source": [
        "fig, ax = plt.subplots(1,3,figsize=(15,4))\n",
        "smooth = ndi.gaussian_filter(phz_cut,sigma=1)\n",
        "cb = ax[0].imshow(smooth)\n",
        "plt.colorbar(cb,ax=ax[0])\n",
        "cb = ax[1].imshow(np.gradient(smooth)[0])\n",
        "plt.colorbar(cb,ax=ax[1])\n",
        "cb = ax[2].imshow(np.gradient(smooth)[1])\n",
        "plt.colorbar(cb,ax=ax[2])\n",
        "ax[0].set_title('Original')\n",
        "ax[1].set_title('X Gradient')\n",
        "ax[2].set_title('Y Gradient')"
      ],
      "metadata": {
        "id": "DesULAbtYpwf"
      },
      "execution_count": null,
      "outputs": []
    },
    {
      "cell_type": "code",
      "source": [
        "fig, ax = plt.subplots(1,3,figsize=(15,4))\n",
        "smooth = ndi.gaussian_filter(ht_cut,sigma=1)\n",
        "cb = ax[0].imshow(smooth)\n",
        "plt.colorbar(cb,ax=ax[0])\n",
        "cb = ax[1].imshow(np.gradient(smooth)[0])\n",
        "plt.colorbar(cb,ax=ax[1])\n",
        "cb = ax[2].imshow(np.gradient(smooth)[1])\n",
        "plt.colorbar(cb,ax=ax[2])\n",
        "ax[0].set_title('Original')\n",
        "ax[1].set_title('X Gradient')\n",
        "ax[2].set_title('Y Gradient')"
      ],
      "metadata": {
        "id": "K5Yw2-9eZI8J"
      },
      "execution_count": null,
      "outputs": []
    },
    {
      "cell_type": "code",
      "source": [
        "fig, ax = plt.subplots(1,2,figsize=(10,4))\n",
        "smooth = ndi.gaussian_filter(phz_cut,sigma=1)\n",
        "cb = ax[0].imshow(smooth)\n",
        "plt.colorbar(cb,ax=ax[0])\n",
        "gx = np.gradient(smooth)[0]\n",
        "gy = np.gradient(smooth)[1]\n",
        "mag = np.sqrt(gx**2 + gy**2)\n",
        "cb = ax[1].imshow(mag)\n",
        "plt.colorbar(cb,ax=ax[1])\n",
        "ax[0].set_title('Original')\n",
        "ax[1].set_title('Magnitude')"
      ],
      "metadata": {
        "id": "NM7St_arZ6aC"
      },
      "execution_count": null,
      "outputs": []
    },
    {
      "cell_type": "markdown",
      "source": [
        "## Threshold this then ROI mask"
      ],
      "metadata": {
        "id": "GoTGGgwdaRxp"
      }
    },
    {
      "cell_type": "code",
      "source": [
        "newborder_thresh = mag > 25\n",
        "plt.imshow(newborder_thresh)"
      ],
      "metadata": {
        "id": "CX0lSfPWaWIR"
      },
      "execution_count": null,
      "outputs": []
    },
    {
      "cell_type": "code",
      "source": [
        "plt.imshow(phz_cut*(1-newborder_thresh))"
      ],
      "metadata": {
        "id": "GaFbxK0vaqIj"
      },
      "execution_count": null,
      "outputs": []
    },
    {
      "cell_type": "markdown",
      "source": [
        "## Flattening an Image using smoothing"
      ],
      "metadata": {
        "id": "l8ZhjClgT1V2"
      }
    },
    {
      "cell_type": "markdown",
      "source": [
        "One thing you can do to flatten an image is subtract its overall height fluctuations. Take our full AFM height image:"
      ],
      "metadata": {
        "id": "lK71FammUNd3"
      }
    },
    {
      "cell_type": "code",
      "source": [
        "plt.imshow(height, cmap='gray')"
      ],
      "metadata": {
        "id": "bKaIJDRyT3sc"
      },
      "execution_count": null,
      "outputs": []
    },
    {
      "cell_type": "markdown",
      "source": [
        "Now let's use a Gaussian filter to smooth out all of the local fluctuations. You may have to experiment with this a bit."
      ],
      "metadata": {
        "id": "e-4kO_b5UVyp"
      }
    },
    {
      "cell_type": "code",
      "source": [
        "fig, ax = plt.subplots(1, 3, figsize=(15, 4))\n",
        "cb = ax[0].imshow(height, cmap='gray')\n",
        "# smooth it out\n",
        "smooth_height = ndi.gaussian_filter(height,sigma=1)\n",
        "cb = ax[1].imshow(smooth_height, cmap='gray')\n",
        "subtracted = height - smooth_height\n",
        "cb = ax[2].imshow(subtracted, cmap='gray')\n"
      ],
      "metadata": {
        "id": "elXlcDj7UT9r"
      },
      "execution_count": null,
      "outputs": []
    },
    {
      "cell_type": "code",
      "source": [
        "fig, ax = plt.subplots(1, 2, figsize=(10,4))\n",
        "cb = ax[0].imshow(height[:50,:50], cmap='gray')\n",
        "plt.colorbar(cb,ax=ax[0])\n",
        "cb = ax[1].imshow(smooth_height[:50,:50], cmap='gray')\n",
        "plt.colorbar(cb,ax=ax[1])\n",
        "ax[1].imshow(subtracted[:50,:50], cmap='gray')"
      ],
      "metadata": {
        "id": "GKSA_e0uUmUr"
      },
      "execution_count": null,
      "outputs": []
    },
    {
      "cell_type": "code",
      "source": [
        "fig, ax = plt.subplots(1, 3, figsize=(15, 4))\n",
        "cb = ax[0].imshow(height, cmap='gray')\n",
        "# smooth it out\n",
        "smooth_height = ndi.gaussian_filter(height,sigma=5)\n",
        "cb = ax[1].imshow(smooth_height, cmap='gray')\n",
        "subtracted = height - smooth_height\n",
        "cb = ax[2].imshow(subtracted, cmap='gray')"
      ],
      "metadata": {
        "id": "h4E3Muq7VCUa"
      },
      "execution_count": null,
      "outputs": []
    },
    {
      "cell_type": "code",
      "source": [
        "fig, ax = plt.subplots(1, 2, figsize=(10,4))\n",
        "cb = ax[0].imshow(height[:50,:50], cmap='gray')\n",
        "plt.colorbar(cb,ax=ax[0])\n",
        "cb = ax[1].imshow(smooth_height[:50,:50], cmap='gray')\n",
        "plt.colorbar(cb,ax=ax[1])\n",
        "ax[1].imshow(subtracted[:50,:50], cmap='gray')"
      ],
      "metadata": {
        "id": "xu9dB59-VaB5"
      },
      "execution_count": null,
      "outputs": []
    },
    {
      "cell_type": "code",
      "source": [],
      "metadata": {
        "id": "wj55SzMnVm6Z"
      },
      "execution_count": null,
      "outputs": []
    }
  ]
}