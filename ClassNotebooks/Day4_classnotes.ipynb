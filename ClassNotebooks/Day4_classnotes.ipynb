{
  "nbformat": 4,
  "nbformat_minor": 0,
  "metadata": {
    "colab": {
      "provenance": [],
      "authorship_tag": "ABX9TyNztwymOPMhaWqUptfY2XMo",
      "include_colab_link": true
    },
    "kernelspec": {
      "name": "python3",
      "display_name": "Python 3"
    },
    "language_info": {
      "name": "python"
    }
  },
  "cells": [
    {
      "cell_type": "markdown",
      "metadata": {
        "id": "view-in-github",
        "colab_type": "text"
      },
      "source": [
        "<a href=\"https://colab.research.google.com/github/cbishop4/MSE7530/blob/main/ClassNotebooks/Day4_classnotes.ipynb\" target=\"_parent\"><img src=\"https://colab.research.google.com/assets/colab-badge.svg\" alt=\"Open In Colab\"/></a>"
      ]
    },
    {
      "cell_type": "markdown",
      "source": [
        "# Lecture 4: Fourier-Transform Infrared Spectroscopy\n",
        "MSE 7530, Fall 2025, Wayne State University  \n",
        "Wednesday, September 10th, 2025  \n",
        "Prof. Camille Bishop  "
      ],
      "metadata": {
        "id": "yuFNy7GVyQBM"
      }
    },
    {
      "cell_type": "markdown",
      "source": [
        "## Part 0.5: Quick refresher and necessary import cells\n",
        "Every notebook will generally start with all the necessary import cells in one place; here I will import all packages that we used at once."
      ],
      "metadata": {
        "id": "09m7qD5ST6TX"
      }
    },
    {
      "cell_type": "code",
      "execution_count": 1,
      "metadata": {
        "id": "MPagbos_RLUn"
      },
      "outputs": [],
      "source": [
        "# the standard cell\n",
        "import matplotlib.pyplot as plt\n",
        "import numpy as np\n",
        "import pandas as pd\n",
        "import os"
      ]
    },
    {
      "cell_type": "markdown",
      "source": [
        "Setting up file access to the class GH Repo and your personal Google Drive"
      ],
      "metadata": {
        "id": "mz_I9gjCUlR9"
      }
    },
    {
      "cell_type": "code",
      "source": [
        "!git clone https://github.com/cbishop4/MSE7530.git\n",
        "from google.colab import drive\n",
        "drive.mount('/content/drive')"
      ],
      "metadata": {
        "id": "s9K5YJ8HUfNR",
        "outputId": "ba4af2af-8903-4a33-c9e5-075e2394582c",
        "colab": {
          "base_uri": "https://localhost:8080/"
        }
      },
      "execution_count": 2,
      "outputs": [
        {
          "output_type": "stream",
          "name": "stdout",
          "text": [
            "Cloning into 'MSE7530'...\n",
            "remote: Enumerating objects: 143, done.\u001b[K\n",
            "remote: Counting objects: 100% (143/143), done.\u001b[K\n",
            "remote: Compressing objects: 100% (129/129), done.\u001b[K\n",
            "remote: Total 143 (delta 55), reused 0 (delta 0), pack-reused 0 (from 0)\u001b[K\n",
            "Receiving objects: 100% (143/143), 6.85 MiB | 9.26 MiB/s, done.\n",
            "Resolving deltas: 100% (55/55), done.\n",
            "Mounted at /content/drive\n"
          ]
        }
      ]
    },
    {
      "cell_type": "code",
      "source": [],
      "metadata": {
        "id": "nW4kLfe2xkvp"
      },
      "execution_count": null,
      "outputs": []
    },
    {
      "cell_type": "markdown",
      "source": [
        "## Python Skill 1: User-defined Functions"
      ],
      "metadata": {
        "id": "3vohxrNFn2XX"
      }
    },
    {
      "cell_type": "markdown",
      "source": [
        "You can make a user-defined function to solve any equation. It can have as many inputs and as many outputs as you want. Here is a simple equation to find the volume of a sphere, given its radius:"
      ],
      "metadata": {
        "id": "vI8KotQjn7R7"
      }
    },
    {
      "cell_type": "code",
      "source": [
        "def sphere_volume(radius):\n",
        "  vol = (4/3)*np.pi*radius**3\n",
        "  return vol"
      ],
      "metadata": {
        "id": "9dgTt3WCoEE4"
      },
      "execution_count": 3,
      "outputs": []
    },
    {
      "cell_type": "markdown",
      "source": [
        "We can then call the function using its name"
      ],
      "metadata": {
        "id": "BLxlo0BroUHB"
      }
    },
    {
      "cell_type": "code",
      "source": [
        "Vsph_2 = sphere_volume(2)\n",
        "print(f'The volume of the sphere with radius of 2 is {Vsph_2}')"
      ],
      "metadata": {
        "id": "bihlMk2woYTE",
        "outputId": "290915f8-9a82-4c0b-c07f-33f854d0d036",
        "colab": {
          "base_uri": "https://localhost:8080/"
        }
      },
      "execution_count": 4,
      "outputs": [
        {
          "output_type": "stream",
          "name": "stdout",
          "text": [
            "The volume of the sphere with radius of 2 is 33.510321638291124\n"
          ]
        }
      ]
    },
    {
      "cell_type": "markdown",
      "source": [
        "<font color='red'>  Write a function to calculate the wavelength of a photon of a given energy, and use it to answer the question: A typical synchrotron X-ray scattering experiment uses X-rays with energy = 10 keV. What is the X-ray wavelength in nm?"
      ],
      "metadata": {
        "id": "5uqiPs4htaJR"
      }
    },
    {
      "cell_type": "markdown",
      "source": [
        "Scientific reminders:  \n",
        "$E = h\\nu$  \n",
        "$\\nu = \\frac{c}{\\lambda}$  \n",
        "$h = 6.626 \\times 10^{-34} J \\cdotp s$  \n",
        "$c = 3.0 \\times 10^{8} m/s$  \n",
        "$1 eV = 1.602 \\times 10^{-19} J$"
      ],
      "metadata": {
        "id": "wR4ZG4IItpQL"
      }
    },
    {
      "cell_type": "code",
      "source": [
        "# your code here\n",
        "def wavelength_photon(energy_eV):\n",
        "  h = 6.626 * 10**-34\n",
        "  c = 3.0 * 10**8\n",
        "  wavelength = h * c / (energy_eV * 1.602 * 10**-19)\n",
        "  wavelength = wavelength * 10**9\n",
        "  return wavelength\n"
      ],
      "metadata": {
        "id": "zpL3_SQPplCZ"
      },
      "execution_count": 5,
      "outputs": []
    },
    {
      "cell_type": "code",
      "source": [
        "wavelength_photon(10000.)"
      ],
      "metadata": {
        "id": "L-EOY0827Pi6",
        "outputId": "53009790-67dd-4c97-af55-2cc28ee7a4c9",
        "colab": {
          "base_uri": "https://localhost:8080/"
        }
      },
      "execution_count": 7,
      "outputs": [
        {
          "output_type": "execute_result",
          "data": {
            "text/plain": [
              "0.12408239700374532"
            ]
          },
          "metadata": {},
          "execution_count": 7
        }
      ]
    },
    {
      "cell_type": "markdown",
      "source": [
        "We can also use a function to calculate a range of volumes at once. For example, let's take a range of sphere radii. We use the\n",
        "\n",
        "\n",
        "```\n",
        "np.linspace(start, stop, numvalues)\n",
        "```\n",
        "function to generate a numpy array of evenly spaced numbers quickly. For future reference, there is also a\n",
        "```\n",
        "np.logspace()\n",
        "```\n",
        "function, which generates a numpy array of values that are evenly spaced on a log scale.\n"
      ],
      "metadata": {
        "id": "4VpX20BBpvHd"
      }
    },
    {
      "cell_type": "code",
      "source": [
        "radii = np.linspace(1,10,10) # generates an array from 1 to 10 with 10 values\n",
        "print(radii)"
      ],
      "metadata": {
        "id": "zF1JM5wYpkrQ",
        "outputId": "e485425c-3a41-4a26-efb4-c6e853f45e42",
        "colab": {
          "base_uri": "https://localhost:8080/"
        }
      },
      "execution_count": 8,
      "outputs": [
        {
          "output_type": "stream",
          "name": "stdout",
          "text": [
            "[ 1.  2.  3.  4.  5.  6.  7.  8.  9. 10.]\n"
          ]
        }
      ]
    },
    {
      "cell_type": "code",
      "source": [
        "volumes = sphere_volume(radii)\n",
        "plt.plot(radii,volumes,'o')\n",
        "plt.xlabel('Radius (nm)')\n",
        "plt.ylabel('Volume ($nm^{3}$)')"
      ],
      "metadata": {
        "id": "sBdmpV8QLLwC",
        "outputId": "65230eae-f218-4063-cb84-ff901206ad44",
        "colab": {
          "base_uri": "https://localhost:8080/",
          "height": 467
        }
      },
      "execution_count": 9,
      "outputs": [
        {
          "output_type": "execute_result",
          "data": {
            "text/plain": [
              "Text(0, 0.5, 'Volume ($nm^{3}$)')"
            ]
          },
          "metadata": {},
          "execution_count": 9
        },
        {
          "output_type": "display_data",
          "data": {
            "text/plain": [
              "<Figure size 640x480 with 1 Axes>"
            ],
            "image/png": "[encoded data removed]"
          },
          "metadata": {}
        }
      ]
    },
    {
      "cell_type": "markdown",
      "source": [
        "<font color='red'>Now, do the same for a range of X-ray energies from 100 eV to 10 keV. What do you notice about the plot? Is there a better way to scale it?"
      ],
      "metadata": {
        "id": "GEQ7NgRQn7Fx"
      }
    },
    {
      "cell_type": "code",
      "source": [
        "# your code here\n",
        "energies = np.linspace(100,10000,1000) # generates a numpy array of evenly spaced numbers\n",
        "wavelengths = wavelength_photon(energies) # calculates the wavelength corresponding to\n",
        "# each energy; outputs a numpy array, since a numpy array was input\n",
        "plt.plot(energies,wavelengths,'-o') # plot\n",
        "plt.xlabel('Energy (eV)')\n",
        "plt.ylabel('Wavelength (nm)')"
      ],
      "metadata": {
        "id": "6MMV6mhrXNCE",
        "outputId": "a7924482-e071-4be8-ff06-3ab80aaa52ea",
        "colab": {
          "base_uri": "https://localhost:8080/",
          "height": 467
        }
      },
      "execution_count": 12,
      "outputs": [
        {
          "output_type": "execute_result",
          "data": {
            "text/plain": [
              "Text(0, 0.5, 'Wavelength (nm)')"
            ]
          },
          "metadata": {},
          "execution_count": 12
        },
        {
          "output_type": "display_data",
          "data": {
            "text/plain": [
              "<Figure size 640x480 with 1 Axes>"
            ],
            "image/png": "[encoded data removed]"
          },
          "metadata": {}
        }
      ]
    },
    {
      "cell_type": "markdown",
      "source": [
        "#### <font color='blue'>The most important concepts from above:\n",
        "1) A user-defined function can be used to automatically calculate quantities, avoiding large repeated blocks of code  \n",
        "2) An array of values can be passed to a function to output an array of corresponding return values, enabling quick plotting of trends"
      ],
      "metadata": {
        "id": "J0Mz_WSmn61G"
      }
    },
    {
      "cell_type": "markdown",
      "source": [
        "## Part 2: Fourier Transform Infrared Spectroscopy"
      ],
      "metadata": {
        "id": "m_9yFLTjcay5"
      }
    },
    {
      "cell_type": "markdown",
      "source": [
        "Return to the class powerpoint/board for theoretical background."
      ],
      "metadata": {
        "id": "20_QmTxZNPfa"
      }
    },
    {
      "cell_type": "markdown",
      "source": [
        "##  Exercise 1: Calculating \"toy\" interferograms\n",
        "<font color='red'><font size=5> Calculate the intensity I as a function of $\\delta$ (retardation, or difference in path length) for light with $\\lambda$ = $2 \\mu m$. Take the value $I_{0}$ to be arbitrarily equal to 1. </font></font>  \n",
        "Note that the cosine function is part of numpy and <font color='blue'> takes inputs and outputs in radians.</font> There are a couple functions you can use to convert between the two. (You may or may not have to do this in this particular case; check if the cosine term is in radians or degrees)\n",
        "\n",
        "```\n",
        "np.cos(x) # input and output in radians\n",
        "np.rad2deg(x) # converts an angle x in radians to degrees\n",
        "np.radians(x) # converts an angle x in degrees to radians\n",
        "np.pi # no arguments or parentheses for this; it is just a constant\n",
        "```\n",
        "Alternatively to using the function, you can just use the conversion where $\\pi~ radians = 180°$.\n"
      ],
      "metadata": {
        "id": "iL6r5UQlpKiz"
      }
    },
    {
      "cell_type": "markdown",
      "source": [
        "Guide to the correct steps:  \n",
        "1) Write a user-defined function that converts $\\delta$ and $\\lambda$ to Intensity.  \n",
        "2) Define an evenly spaced numpy array of values of $\\delta$ (I recommend values from -20 to 20 $\\mu m$.    \n",
        "3) Use your function to calculate the range of intensities expected.\n",
        "4) Plot your intensities on the y-axis vs. $\\delta$ on the x-axis."
      ],
      "metadata": {
        "id": "OXMTJHweWDh2"
      }
    },
    {
      "cell_type": "code",
      "source": [
        "# your code here (add extra cells if necessary)"
      ],
      "metadata": {
        "id": "FjRGsay9WxfQ"
      },
      "execution_count": null,
      "outputs": []
    },
    {
      "cell_type": "markdown",
      "source": [
        "<font color='red'> Does this look like the interferogram in the example slides? Why or why not?"
      ],
      "metadata": {
        "id": "6339MgWzTH2I"
      }
    },
    {
      "cell_type": "markdown",
      "source": [
        "The above interferogram was generated from a single wavelength. If you had a monochromatic source, this is what your interferogram would look like. This corresponds to  \n",
        "<font size=6>$I(\\delta) = \\frac{I_{0}}{2}[1 + cos(\\frac{2\\pi \\delta}{\\lambda})]  $  </font>  \n",
        "Our case does still satisfy the formula for a total interferogram at multiple wavelengths,  \n",
        "<font size=6>$I_{T}(\\delta) = \\sum_{k=1}^{K}{\\frac{I_{k,0}}{2}[1 + cos(\\frac{2\\pi \\delta}{\\lambda_{k}})]} $,  </font>  \n",
        "We just simply only have one k (value for wavelength). Next, we will have multiple k's, so the summation will actually be over many terms."
      ],
      "metadata": {
        "id": "jjnjFNBRqJ3G"
      }
    },
    {
      "cell_type": "markdown",
      "source": [
        "### <font color='blue'> Guided: Making the interferogram for many wavelengths (I have written this code because it requires a few new concepts at once)"
      ],
      "metadata": {
        "id": "ABzq4zBUTSts"
      }
    },
    {
      "cell_type": "code",
      "source": [
        "deltas = np.linspace(-100,100, 1001)\n",
        "wl_spectrum = np.linspace(2.5,25,500)\n",
        "interferogram = np.zeros(len(deltas))\n",
        "for wl in wl_spectrum:\n",
        "  interferogram += I_delta(deltas,wl)"
      ],
      "metadata": {
        "id": "GQONgO1sTYRG"
      },
      "execution_count": null,
      "outputs": []
    },
    {
      "cell_type": "code",
      "source": [
        "plt.plot(deltas,interferogram)\n",
        "plt.xlabel('Retardation $\\delta$ ($\\mu$m)')\n",
        "plt.ylabel('Intensity')"
      ],
      "metadata": {
        "id": "_x_PR8Xqk3Ts"
      },
      "execution_count": null,
      "outputs": []
    },
    {
      "cell_type": "markdown",
      "source": [
        "<font color='red'> Does this look like the interferogram in the example slides? Why or why not?"
      ],
      "metadata": {
        "id": "d-i1QntpT-8e"
      }
    },
    {
      "cell_type": "code",
      "source": [
        "deltas = np.linspace(-100,100, 1001)\n",
        "wl_spectrum = np.linspace(2.5,25,500)\n",
        "interferogram = np.zeros(len(deltas))\n",
        "for wl in wl_spectrum:\n",
        "  interferogram += I_delta(deltas,wl)"
      ],
      "metadata": {
        "id": "yTTvkd59qZW0"
      },
      "execution_count": null,
      "outputs": []
    },
    {
      "cell_type": "code",
      "source": [
        "plt.plot(deltas,interferogram)\n",
        "plt.xlabel('Retardation $\\delta$ ($\\mu$m)')\n",
        "plt.ylabel('Intensity')"
      ],
      "metadata": {
        "id": "2mz8jB_FqZW0"
      },
      "execution_count": null,
      "outputs": []
    },
    {
      "cell_type": "markdown",
      "source": [
        "The uniformity of the above interferogram is due to the condition that $I_{0}$ is equal to 1 for every wavelength. Now, we will generate a totally random array of $I_0$ values using the np.random() function."
      ],
      "metadata": {
        "id": "ahqfDBaSqZW1"
      }
    },
    {
      "cell_type": "code",
      "source": [
        "I_0s = np.random.rand(len(wl_spectrum)) # generates a numpy array of random intensities between 0 and 1\n",
        "I_0s"
      ],
      "metadata": {
        "collapsed": true,
        "id": "CEVur_h8qZW1"
      },
      "execution_count": null,
      "outputs": []
    },
    {
      "cell_type": "code",
      "source": [
        "deltas = np.linspace(-100,100, 1001)\n",
        "wl_spectrum = np.linspace(2.5,25,500)\n",
        "interferogram = np.zeros(len(deltas))\n",
        "i = 0\n",
        "for wl in wl_spectrum:\n",
        "  interferogram += I_delta(deltas,wl,I_0=I_0s[i])\n",
        "  i += 1"
      ],
      "metadata": {
        "id": "1mSGEgNFqZW1"
      },
      "execution_count": null,
      "outputs": []
    },
    {
      "cell_type": "code",
      "source": [
        "plt.plot(deltas,interferogram)\n",
        "plt.xlabel('Retardation $\\delta$ ($\\mu$m)')\n",
        "plt.ylabel('Intensity')"
      ],
      "metadata": {
        "id": "CCMd1ZdjqZW1"
      },
      "execution_count": null,
      "outputs": []
    },
    {
      "cell_type": "markdown",
      "source": [
        "### Importance of $I_{0}$ values\n",
        "In the previous exercise, we used $I_{0} = 1$ for every wavelength of IR radiation. However, as we know, the interactions with IR light (which are what we want to measure in the first place) change these. That is why the interferogram generated above looks much more uniform than the real one in the lecture slides.  \n",
        "In the following exercise, we will use variable $I_{0}$ values, including real experimental ones, and consider a few other practical considerations needed, including *apodization* and *background subtraction*."
      ],
      "metadata": {
        "id": "kTNqrfqapkAy"
      }
    },
    {
      "cell_type": "markdown",
      "source": [
        "## Exercise 2 : Building more realistic FTIR spectra\n",
        "In this activity, we will begin with similar exercises as above, and progress to more realistic/complete spectra.  \n",
        "Adapted from B. Shepherd & M.K. Bellamy, *J. Chem. Ed.* 89, 5, (2012)."
      ],
      "metadata": {
        "id": "6aNzu1Q4lSn8"
      }
    },
    {
      "cell_type": "markdown",
      "source": [
        "#### Defining instrumental parameters and the sampling interval"
      ],
      "metadata": {
        "id": "VeSs1hAT9k3j"
      }
    },
    {
      "cell_type": "markdown",
      "source": [
        "The \"experimental details\" of the spectrometer we will \"use\" (which would be determined by the instrument you are using) are:  \n",
        "Resolution: $16 ~cm^{-1}$   \n",
        "Wavenumber range of spectrometer: $3200~ cm^{-1}$ to $470~ cm^{-1}$  \n",
        "We will collect 989 data points in our interferogram.  \n",
        "We calculate our sampling interval, h, based on the wavelength of the calibration laser"
      ],
      "metadata": {
        "id": "-eomGmbp8Edo"
      }
    },
    {
      "cell_type": "code",
      "source": [
        "lambda_HeNe = 632.8 #nm\n",
        "h_cm = lambda_HeNe * 10**-7 #nm to cm\n",
        "h_cm # this is the sampling interval"
      ],
      "metadata": {
        "id": "5fYw-oyJrE_f"
      },
      "execution_count": null,
      "outputs": []
    },
    {
      "cell_type": "markdown",
      "source": [
        "We collect a data point every $6.328 \\times 10^{-5}$ cm."
      ],
      "metadata": {
        "id": "0utWYpIz9Tb7"
      }
    },
    {
      "cell_type": "markdown",
      "source": [
        "Using the principle of Fourier transforms, the intensity as a function of retardation over a series of wavelengths (where $\\bar{\\nu}_{N}$ is the wavenumber equivalent to $\\frac{1}{\\lambda}$):  \n",
        "$I(δ_{total}) = B_{1}cos(2π\\bar{\\nu}_{1}\\delta) + B_{2}cos(2π\\bar{\\nu}_{2}\\delta) + ... + B_{N}cos(2π\\bar{\\nu}_{N}\\delta)$ <font color='grey'>(Equation 1)"
      ],
      "metadata": {
        "id": "2UNISk44t-hR"
      }
    },
    {
      "cell_type": "markdown",
      "source": [
        "#### Starting with a single wavenumber: $1500 cm^{-1}$.  \n",
        "The Intensity, which we will refer to as B, for this wavenumber is $0.8$, for the sake of example. Note that we are beginning this by *creating* an interferogram; 0.8 is not an experimental measurement yet. Once we go backward, revisit this section and make sure you understand the physical meaning. IMO, it makes more sense later.  \n",
        "With the single wavelength, Equation 1 reduces to:  \n",
        "$I(\\delta) = 0.8 * cos(2\\pi * 1500 * \\delta)$"
      ],
      "metadata": {
        "id": "H6K-cslrvHQs"
      }
    },
    {
      "cell_type": "markdown",
      "source": [
        "#### <font color='blue'> Apodization  \n",
        "This is a very important concept to deal with real data.  \n",
        "A true Fourier transform requires data collection from $\\delta = -\\infty ~to + \\infty$, but this is not possible on a real instrument. Additionally, for a real instrument, the signal will decay as the mirror moves further from the beamsplitter. **Apodization is a mathematical process that makes an interferogram recorded at finite retardation diminish in a way that mimics an interferogram recorded to infinite retardation.**  \n",
        "The Apodization Function is given by:  \n",
        "$A(\\delta) = \\frac{1}{2}[1 + cos (\\frac{\\pi\\delta}{\\Delta_{maximum}})]$  <font color='grey'> (Equation 2)</font>  \n",
        "Where $\\Delta_{maximum}$ is the total retardation needed to collect a spectrum at a given resolution, and is equal to $\\frac{1}{resolution}*k_{max}$ (remember that $k_{max} = n_{points} - 1$)\n",
        "\n"
      ],
      "metadata": {
        "id": "L8S2Oti_9fxS"
      }
    },
    {
      "cell_type": "markdown",
      "source": [
        "<font size=6> The Apodized Function is given by $I(\\delta)A(\\delta)$"
      ],
      "metadata": {
        "id": "VPCrUo5FxPni"
      }
    },
    {
      "cell_type": "markdown",
      "source": [
        "#### <font color='red'> Your turn: calculate $I(\\delta), A(\\delta), and~ I(\\delta)A(\\delta)$ for the single-wavelength case.\n",
        "First, let's discuss: what shape will the data have?"
      ],
      "metadata": {
        "id": "ZJxhx_LHxezZ"
      }
    },
    {
      "cell_type": "markdown",
      "source": [
        "First cell: Specify all constants and arrays you will need. Note that $\\delta = kh$, where $k$ is equal to the number of data points, and $h$ is the sampling interval. The first value of $k$ is $0$."
      ],
      "metadata": {
        "id": "iWiTaPr5yVCF"
      }
    },
    {
      "cell_type": "code",
      "source": [
        "# your code here\n",
        "h_cm =\n",
        "ks =\n",
        "deltas =\n",
        "B_1 =\n",
        "wavenumber =\n",
        "Delta_max ="
      ],
      "metadata": {
        "id": "dW8mA85GyTv8"
      },
      "execution_count": null,
      "outputs": []
    },
    {
      "cell_type": "markdown",
      "source": [
        "Second cell: Calculate $A(\\delta)$ and $I(\\delta)$ and save them as variables (these variables will be numpy arrays)."
      ],
      "metadata": {
        "id": "R5RmK-DHyZm9"
      }
    },
    {
      "cell_type": "code",
      "source": [
        "# your code here\n"
      ],
      "metadata": {
        "id": "ha34jvnu9S47"
      },
      "execution_count": null,
      "outputs": []
    },
    {
      "cell_type": "markdown",
      "source": [
        "Third cell: Calculate $A(\\delta)I(\\delta)$ and save as a variable (again a numpy array)"
      ],
      "metadata": {
        "id": "_0n-raRIzxDv"
      }
    },
    {
      "cell_type": "code",
      "source": [
        "# your code here\n"
      ],
      "metadata": {
        "id": "Yj1luU-czvBj"
      },
      "execution_count": null,
      "outputs": []
    },
    {
      "cell_type": "markdown",
      "source": [
        "Fourth cell: Plot the 3 quantities so you can see what you were working with"
      ],
      "metadata": {
        "id": "Ao5AGtau0C0X"
      }
    },
    {
      "cell_type": "code",
      "source": [
        "fig, ax = plt.subplots(1,3,figsize=(12,4))\n",
        "for a in ax:\n",
        "  a.set_xlabel('Retardation $\\\\delta$ (cm)')\n",
        "ax[0].set_ylabel('I ($\\\\delta$)'); ax[1].set_ylabel('A($\\\\delta$)'); ax[2].set_ylabel('A($\\\\delta$)I($\\\\delta$)')\n",
        "ax[0].set_title('Un-apodized intensity'); ax[1].set_title('Apodization Function'); ax[2].set_title('Apodized intensity')\n",
        "\n",
        "# your code here"
      ],
      "metadata": {
        "id": "QFXhm_8q0Bfm"
      },
      "execution_count": null,
      "outputs": []
    },
    {
      "cell_type": "markdown",
      "source": [
        "You can see that the intensity functions have a lot of detail that we can't see because of scaling, so let's look at a smaller portion for our own education."
      ],
      "metadata": {
        "id": "GesoK1R70wYC"
      }
    },
    {
      "cell_type": "code",
      "source": [
        "fig, ax = plt.subplots(1,3,figsize=(12,4))\n",
        "for a in ax:\n",
        "  a.set_xlabel('Retardation $\\\\delta$ (cm)')\n",
        "  a.set_xlim(0,.02)\n",
        "ax[0].set_ylabel('I ($\\\\delta$)'); ax[1].set_ylabel('A($\\\\delta$)'); ax[2].set_ylabel('A($\\\\delta$)I($\\\\delta$)')\n",
        "ax[0].set_title('Un-apodized intensity'); ax[1].set_title('Apodization Function'); ax[2].set_title('Apodized intensity')\n",
        "\n",
        "# your code here"
      ],
      "metadata": {
        "id": "BUT4m-O92WvQ"
      },
      "execution_count": null,
      "outputs": []
    },
    {
      "cell_type": "markdown",
      "source": [
        "## Next time:\n",
        "We will  \n",
        "1. Calculate interferograms for increasing numbers of wavelengths,  \n",
        "2. turn them into FTIR spectra,  \n",
        "3. Turn an experimental FTIR spectrum back to its interferogram,\n",
        "4. Turn an experimental interferogram back into an IR spectrum.  \n",
        "It is possible that one or more of these exercises may be left to homework, depending on how classes go."
      ],
      "metadata": {
        "id": "IlBBNJjQ3C-D"
      }
    },
    {
      "cell_type": "code",
      "source": [],
      "metadata": {
        "id": "gf8wgTsy06HC"
      },
      "execution_count": null,
      "outputs": []
    }
  ]
}