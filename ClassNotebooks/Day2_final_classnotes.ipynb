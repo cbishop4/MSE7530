{
  "nbformat": 4,
  "nbformat_minor": 0,
  "metadata": {
    "colab": {
      "provenance": [],
      "collapsed_sections": [
        "oJennwWOG2_4",
        "bLTL44meKhqG",
        "b-MpsoxeNOvn",
        "ufOgNC5ZWkaN",
        "CcfLuHEd8yzD",
        "PvTGghHoaEGv"
      ],
      "mount_file_id": "https://github.com/cbishop4/MSE7530/blob/main/Day2_final.ipynb",
      "authorship_tag": "ABX9TyO1V+yArANcw/XFbBAz9sFt",
      "include_colab_link": true
    },
    "kernelspec": {
      "name": "python3",
      "display_name": "Python 3"
    },
    "language_info": {
      "name": "python"
    }
  },
  "cells": [
    {
      "cell_type": "markdown",
      "metadata": {
        "id": "view-in-github",
        "colab_type": "text"
      },
      "source": [
        "<a href=\"https://colab.research.google.com/github/cbishop4/MSE7530/blob/main/Day2_final_inclassadditions.ipynb\" target=\"_parent\"><img src=\"https://colab.research.google.com/assets/colab-badge.svg\" alt=\"Open In Colab\"/></a>"
      ]
    },
    {
      "cell_type": "markdown",
      "source": [
        "# Lecture 2: Getting Started in Colab, Github, and Python"
      ],
      "metadata": {
        "id": "V6Lic-4YGTbJ"
      }
    },
    {
      "cell_type": "markdown",
      "source": [
        "The first thing we need to do is set up an environment where we can all use common files. I will primarily write notebooks so that you are directly using the public Github repository. However, later on, you may decide to keep files on your Google Drive and use them from there."
      ],
      "metadata": {
        "id": "TwnN-SATGoH2"
      }
    },
    {
      "cell_type": "markdown",
      "source": [
        "## Example 1 : Getting Around and Getting Started"
      ],
      "metadata": {
        "id": "mtqpNL9tNJdo"
      }
    },
    {
      "cell_type": "markdown",
      "source": [
        "Making a note to self"
      ],
      "metadata": {
        "id": "YPbWxSeE3GNK"
      }
    },
    {
      "cell_type": "markdown",
      "source": [
        "### Method 1: Pulling Files from the Class Github Repo"
      ],
      "metadata": {
        "id": "oJennwWOG2_4"
      }
    },
    {
      "cell_type": "code",
      "source": [
        "!git clone https://github.com/cbishop4/MSE7530.git # this will clone everything from my public GH into your files"
      ],
      "metadata": {
        "id": "i9ahsn2ZG2PT",
        "colab": {
          "base_uri": "https://localhost:8080/"
        },
        "outputId": "ab285111-03c6-46cc-a123-7bf22fb47c23"
      },
      "execution_count": 48,
      "outputs": [
        {
          "output_type": "stream",
          "name": "stdout",
          "text": [
            "Cloning into 'MSE7530'...\n",
            "remote: Enumerating objects: 91, done.\u001b[K\n",
            "remote: Counting objects: 100% (91/91), done.\u001b[K\n",
            "remote: Compressing objects: 100% (81/81), done.\u001b[K\n",
            "remote: Total 91 (delta 31), reused 0 (delta 0), pack-reused 0 (from 0)\u001b[K\n",
            "Receiving objects: 100% (91/91), 6.03 MiB | 9.47 MiB/s, done.\n",
            "Resolving deltas: 100% (31/31), done.\n"
          ]
        }
      ]
    },
    {
      "cell_type": "markdown",
      "source": [
        "This will make files available. After you run this, the files will become available in the sidebar, like in this image![7530_1.png](data:image/png;base64,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)"
      ],
      "metadata": {
        "id": "eIXBTit_Hbzg"
      }
    },
    {
      "cell_type": "markdown",
      "source": [
        "If you ever need to reload the GH Repo for some reason (like if I'm changing it while the class is working on a homework assignment), run the following cell:"
      ],
      "metadata": {
        "id": "2zsfOGZWHQ0I"
      }
    },
    {
      "cell_type": "code",
      "source": [
        "!rm -rf /content/MSE7530/"
      ],
      "metadata": {
        "id": "QoL2wubnHQFS"
      },
      "execution_count": 49,
      "outputs": []
    },
    {
      "cell_type": "markdown",
      "source": [
        "And then re-run the git clone."
      ],
      "metadata": {
        "id": "fXAsIn7tIPUe"
      }
    },
    {
      "cell_type": "code",
      "source": [
        "!git clone https://github.com/cbishop4/MSE7530.git"
      ],
      "metadata": {
        "id": "-OyhGebhE10R",
        "colab": {
          "base_uri": "https://localhost:8080/"
        },
        "outputId": "68608c4e-dc08-4287-a70e-3e2e54be5ee5"
      },
      "execution_count": 50,
      "outputs": [
        {
          "output_type": "stream",
          "name": "stdout",
          "text": [
            "Cloning into 'MSE7530'...\n",
            "remote: Enumerating objects: 91, done.\u001b[K\n",
            "remote: Counting objects: 100% (91/91), done.\u001b[K\n",
            "remote: Compressing objects: 100% (81/81), done.\u001b[K\n",
            "remote: Total 91 (delta 31), reused 0 (delta 0), pack-reused 0 (from 0)\u001b[K\n",
            "Receiving objects: 100% (91/91), 6.03 MiB | 9.56 MiB/s, done.\n",
            "Resolving deltas: 100% (31/31), done.\n"
          ]
        }
      ]
    },
    {
      "cell_type": "markdown",
      "source": [
        "### Method 2: Mounting your Google Drive\n",
        "This will be helpful when you are working with your own data in various projects throughout this class. Simply run the following cell. It will prompt you to confirm that you want to connect to your Google account, and may require you to log in."
      ],
      "metadata": {
        "id": "bLTL44meKhqG"
      }
    },
    {
      "cell_type": "code",
      "source": [
        "from google.colab import drive\n",
        "drive.mount('/content/drive')"
      ],
      "metadata": {
        "id": "MQcD-5xsKr7q",
        "colab": {
          "base_uri": "https://localhost:8080/"
        },
        "outputId": "291a247f-0e9c-495b-a6ed-afaff0d2dc5a"
      },
      "execution_count": 51,
      "outputs": [
        {
          "output_type": "stream",
          "name": "stdout",
          "text": [
            "Drive already mounted at /content/drive; to attempt to forcibly remount, call drive.mount(\"/content/drive\", force_remount=True).\n"
          ]
        }
      ]
    },
    {
      "cell_type": "markdown",
      "source": [
        "To grab files and content to work with, hover over a file, click on the 3 dots that appear to the right, and hit \"copy path\". Paste this into a code cell to work with the file."
      ],
      "metadata": {
        "id": "jzb_c4oKK-A2"
      }
    },
    {
      "cell_type": "code",
      "source": [
        "'/content/drive/MyDrive/7530_Docs/181119_PeakFitting.ipynb' # example from Camille's personal drive\n",
        "'/content/MSE7530/sampledata/Dynamic_1_D10_enthalpy_2kmin.csv'"
      ],
      "metadata": {
        "id": "_gm2gyn_LHVw"
      },
      "execution_count": null,
      "outputs": []
    },
    {
      "cell_type": "markdown",
      "source": [],
      "metadata": {
        "id": "iAZfczjm5q8E"
      }
    },
    {
      "cell_type": "code",
      "source": [
        "fname = '/content/MSE7530/sampledata/Dynamic_1_D10_enthalpy_2kmin.csv'\n",
        "np.loadtxt(fname)"
      ],
      "metadata": {
        "colab": {
          "base_uri": "https://localhost:8080/",
          "height": 225
        },
        "id": "VZPe1v6A5rUv",
        "outputId": "236e5654-fe93-4246-b816-c56e85201f77"
      },
      "execution_count": 52,
      "outputs": [
        {
          "output_type": "error",
          "ename": "UnicodeDecodeError",
          "evalue": "'utf-8' codec can't decode byte 0x91 in position 1934: invalid start byte",
          "traceback": [
            "\u001b[0;31m---------------------------------------------------------------------------\u001b[0m",
            "\u001b[0;31mUnicodeDecodeError\u001b[0m                        Traceback (most recent call last)",
            "\u001b[0;32m/tmp/ipython-input-1043855525.py\u001b[0m in \u001b[0;36m<cell line: 0>\u001b[0;34m()\u001b[0m\n\u001b[1;32m      1\u001b[0m \u001b[0mfname\u001b[0m \u001b[0;34m=\u001b[0m \u001b[0;34m'/content/MSE7530/sampledata/Dynamic_1_D10_enthalpy_2kmin.csv'\u001b[0m\u001b[0;34m\u001b[0m\u001b[0;34m\u001b[0m\u001b[0m\n\u001b[0;32m----> 2\u001b[0;31m \u001b[0mnp\u001b[0m\u001b[0;34m.\u001b[0m\u001b[0mloadtxt\u001b[0m\u001b[0;34m(\u001b[0m\u001b[0mfname\u001b[0m\u001b[0;34m)\u001b[0m\u001b[0;34m\u001b[0m\u001b[0;34m\u001b[0m\u001b[0m\n\u001b[0m",
            "\u001b[0;32m/usr/local/lib/python3.12/dist-packages/numpy/lib/_npyio_impl.py\u001b[0m in \u001b[0;36mloadtxt\u001b[0;34m(fname, dtype, comments, delimiter, converters, skiprows, usecols, unpack, ndmin, encoding, max_rows, quotechar, like)\u001b[0m\n\u001b[1;32m   1379\u001b[0m         \u001b[0mdelimiter\u001b[0m \u001b[0;34m=\u001b[0m \u001b[0mdelimiter\u001b[0m\u001b[0;34m.\u001b[0m\u001b[0mdecode\u001b[0m\u001b[0;34m(\u001b[0m\u001b[0;34m'latin1'\u001b[0m\u001b[0;34m)\u001b[0m\u001b[0;34m\u001b[0m\u001b[0;34m\u001b[0m\u001b[0m\n\u001b[1;32m   1380\u001b[0m \u001b[0;34m\u001b[0m\u001b[0m\n\u001b[0;32m-> 1381\u001b[0;31m     arr = _read(fname, dtype=dtype, comment=comment, delimiter=delimiter,\n\u001b[0m\u001b[1;32m   1382\u001b[0m                 \u001b[0mconverters\u001b[0m\u001b[0;34m=\u001b[0m\u001b[0mconverters\u001b[0m\u001b[0;34m,\u001b[0m \u001b[0mskiplines\u001b[0m\u001b[0;34m=\u001b[0m\u001b[0mskiprows\u001b[0m\u001b[0;34m,\u001b[0m \u001b[0musecols\u001b[0m\u001b[0;34m=\u001b[0m\u001b[0musecols\u001b[0m\u001b[0;34m,\u001b[0m\u001b[0;34m\u001b[0m\u001b[0;34m\u001b[0m\u001b[0m\n\u001b[1;32m   1383\u001b[0m                 \u001b[0munpack\u001b[0m\u001b[0;34m=\u001b[0m\u001b[0munpack\u001b[0m\u001b[0;34m,\u001b[0m \u001b[0mndmin\u001b[0m\u001b[0;34m=\u001b[0m\u001b[0mndmin\u001b[0m\u001b[0;34m,\u001b[0m \u001b[0mencoding\u001b[0m\u001b[0;34m=\u001b[0m\u001b[0mencoding\u001b[0m\u001b[0;34m,\u001b[0m\u001b[0;34m\u001b[0m\u001b[0;34m\u001b[0m\u001b[0m\n",
            "\u001b[0;32m/usr/local/lib/python3.12/dist-packages/numpy/lib/_npyio_impl.py\u001b[0m in \u001b[0;36m_read\u001b[0;34m(fname, delimiter, comment, quote, imaginary_unit, usecols, skiplines, max_rows, converters, ndmin, unpack, dtype, encoding)\u001b[0m\n\u001b[1;32m   1019\u001b[0m \u001b[0;34m\u001b[0m\u001b[0m\n\u001b[1;32m   1020\u001b[0m         \u001b[0;32mif\u001b[0m \u001b[0mread_dtype_via_object_chunks\u001b[0m \u001b[0;32mis\u001b[0m \u001b[0;32mNone\u001b[0m\u001b[0;34m:\u001b[0m\u001b[0;34m\u001b[0m\u001b[0;34m\u001b[0m\u001b[0m\n\u001b[0;32m-> 1021\u001b[0;31m             arr = _load_from_filelike(\n\u001b[0m\u001b[1;32m   1022\u001b[0m                 \u001b[0mdata\u001b[0m\u001b[0;34m,\u001b[0m \u001b[0mdelimiter\u001b[0m\u001b[0;34m=\u001b[0m\u001b[0mdelimiter\u001b[0m\u001b[0;34m,\u001b[0m \u001b[0mcomment\u001b[0m\u001b[0;34m=\u001b[0m\u001b[0mcomment\u001b[0m\u001b[0;34m,\u001b[0m \u001b[0mquote\u001b[0m\u001b[0;34m=\u001b[0m\u001b[0mquote\u001b[0m\u001b[0;34m,\u001b[0m\u001b[0;34m\u001b[0m\u001b[0;34m\u001b[0m\u001b[0m\n\u001b[1;32m   1023\u001b[0m                 \u001b[0mimaginary_unit\u001b[0m\u001b[0;34m=\u001b[0m\u001b[0mimaginary_unit\u001b[0m\u001b[0;34m,\u001b[0m\u001b[0;34m\u001b[0m\u001b[0;34m\u001b[0m\u001b[0m\n",
            "\u001b[0;32m/usr/lib/python3.12/codecs.py\u001b[0m in \u001b[0;36mdecode\u001b[0;34m(self, input, final)\u001b[0m\n",
            "\u001b[0;31mUnicodeDecodeError\u001b[0m: 'utf-8' codec can't decode byte 0x91 in position 1934: invalid start byte"
          ]
        }
      ]
    },
    {
      "cell_type": "code",
      "source": [
        "'/content/drive/MyDrive/Papers/Blue_patel.csv'"
      ],
      "metadata": {
        "id": "bV3Q51ki58Jy"
      },
      "execution_count": null,
      "outputs": []
    },
    {
      "cell_type": "markdown",
      "source": [
        "### This is the end of the first example for today. Please return your attention to the powerpoint."
      ],
      "metadata": {
        "id": "c5zQdR6TNC8K"
      }
    },
    {
      "cell_type": "markdown",
      "source": [
        "## Example 2 : Encouraged Use of Gemini\n",
        "Goal: Less time teaching Python syntax, more time learning science"
      ],
      "metadata": {
        "id": "b-MpsoxeNOvn"
      }
    },
    {
      "cell_type": "markdown",
      "source": [
        "Let's start with a simple example, in which we can use our Python notebook to do some simple math."
      ],
      "metadata": {
        "id": "hno0dLgf7BUo"
      }
    },
    {
      "cell_type": "code",
      "source": [
        "8 * 5"
      ],
      "metadata": {
        "colab": {
          "base_uri": "https://localhost:8080/"
        },
        "id": "cNysupeO9L5s",
        "outputId": "e4818d26-b0dd-4d6f-ef66-f221581a3c8e"
      },
      "execution_count": 53,
      "outputs": [
        {
          "output_type": "execute_result",
          "data": {
            "text/plain": [
              "40"
            ]
          },
          "metadata": {},
          "execution_count": 53
        }
      ]
    },
    {
      "cell_type": "code",
      "source": [
        "7 + 8"
      ],
      "metadata": {
        "id": "vuWwAFJmjJKM",
        "colab": {
          "base_uri": "https://localhost:8080/"
        },
        "outputId": "9a1127eb-06d9-4ac7-faee-f7686f6e7462"
      },
      "execution_count": 55,
      "outputs": [
        {
          "output_type": "execute_result",
          "data": {
            "text/plain": [
              "15"
            ]
          },
          "metadata": {},
          "execution_count": 55
        }
      ]
    },
    {
      "cell_type": "markdown",
      "source": [
        "Above we did some simple arithmetic. Now, let's introduce an error to see how we can use Gemini's error explainer. After running this cell, hit \"explain error\"."
      ],
      "metadata": {
        "id": "IQaxeyzr7uUJ"
      }
    },
    {
      "cell_type": "code",
      "source": [
        "7 + 8i"
      ],
      "metadata": {
        "id": "9IQdHnzE7_HZ",
        "colab": {
          "base_uri": "https://localhost:8080/",
          "height": 110
        },
        "outputId": "c4b499ff-eb72-465e-9604-5fc0913a4b5d"
      },
      "execution_count": 56,
      "outputs": [
        {
          "output_type": "error",
          "ename": "SyntaxError",
          "evalue": "invalid decimal literal (ipython-input-1246074968.py, line 1)",
          "traceback": [
            "\u001b[0;36m  File \u001b[0;32m\"/tmp/ipython-input-1246074968.py\"\u001b[0;36m, line \u001b[0;32m1\u001b[0m\n\u001b[0;31m    7 + 8i\u001b[0m\n\u001b[0m        ^\u001b[0m\n\u001b[0;31mSyntaxError\u001b[0m\u001b[0;31m:\u001b[0m invalid decimal literal\n"
          ]
        }
      ]
    },
    {
      "cell_type": "markdown",
      "source": [
        "What happened here? Now try this one."
      ],
      "metadata": {
        "id": "LhlHeIl28P5-"
      }
    },
    {
      "cell_type": "code",
      "source": [
        "7 + int('8')"
      ],
      "metadata": {
        "id": "silgObw77s7y",
        "colab": {
          "base_uri": "https://localhost:8080/"
        },
        "outputId": "6bbc2560-4a9c-47c8-a34d-a56f780911ce"
      },
      "execution_count": 60,
      "outputs": [
        {
          "output_type": "execute_result",
          "data": {
            "text/plain": [
              "15"
            ]
          },
          "metadata": {},
          "execution_count": 60
        }
      ]
    },
    {
      "cell_type": "code",
      "source": [
        "7 + 8"
      ],
      "metadata": {
        "id": "LyoKxREL-h7K"
      },
      "execution_count": null,
      "outputs": []
    },
    {
      "cell_type": "markdown",
      "source": [
        "### Lesson:\n",
        "The error explainer is powerful, but is not always right. Always check the plain language Gemini gives in the error explainer and see if it is answering the problem you mean to solve"
      ],
      "metadata": {
        "id": "uCSMc-dD8fw5"
      }
    },
    {
      "cell_type": "markdown",
      "source": [
        "## Basic Python Skill 1 : Plotting Data"
      ],
      "metadata": {
        "id": "ufOgNC5ZWkaN"
      }
    },
    {
      "cell_type": "markdown",
      "source": [
        "The best way to make sure you're working with the right thing in Python is to plot your data. The most basic and widely used library to do this is Matplotlib. We start by importing the package (note: this is one of the 2 - 5 lines on the basic import cell that starts almost every Python notebook or script)"
      ],
      "metadata": {
        "id": "5yzOreIsWsOu"
      }
    },
    {
      "cell_type": "code",
      "source": [
        "import matplotlib.pyplot as plt\n",
        "import numpy as polo"
      ],
      "metadata": {
        "id": "NwOPDo9vWslK"
      },
      "execution_count": 70,
      "outputs": []
    },
    {
      "cell_type": "markdown",
      "source": [
        "We will start with a dataset of random noise that I generated using AI. (Prompt: \"Generate a dataset of random but gradually increasing noise, with time as the independent variable and intensity as the dependent variable\". The resulting code is shown below)"
      ],
      "metadata": {
        "id": "GWApwFOkXQPt"
      }
    },
    {
      "cell_type": "code",
      "source": [
        "time = np.linspace(0, 10, 100)  # Time from 0 to 10\n",
        "intensity = time * 2 + np.random.normal(0, 1, 100)  # Gradually increasing intensity with random noise"
      ],
      "metadata": {
        "id": "4CNNhiVyWs80"
      },
      "execution_count": 65,
      "outputs": []
    },
    {
      "cell_type": "markdown",
      "source": [
        "There are two slightly different ways to plot in Matplotlib, and they have annoyingly different syntaxes. I will show you the first way here, which we will generally not use:"
      ],
      "metadata": {
        "id": "0RAyjLAUXwMt"
      }
    },
    {
      "cell_type": "code",
      "source": [
        "plt.plot(time, intensity)"
      ],
      "metadata": {
        "id": "PnSAJSPKWsxs",
        "colab": {
          "base_uri": "https://localhost:8080/",
          "height": 448
        },
        "outputId": "3a9a5c65-57fe-4f84-84b6-4d9bdc168a58"
      },
      "execution_count": 66,
      "outputs": [
        {
          "output_type": "execute_result",
          "data": {
            "text/plain": [
              "[<matplotlib.lines.Line2D at 0x781699904bf0>]"
            ]
          },
          "metadata": {},
          "execution_count": 66
        },
        {
          "output_type": "display_data",
          "data": {
            "text/plain": [
              "<Figure size 640x480 with 1 Axes>"
            ],
            "image/png": "[encoded data removed]"
          },
          "metadata": {}
        }
      ]
    },
    {
      "cell_type": "markdown",
      "source": [
        "However, a way to make more customizable plots is through the \"subplots\" module. This allows you to put multiple graphs in the same object, and lets you define figure and axes objects that can be modified later. Here, what we are technically doing is using a plot() **method** on an axes **object** which we defined when we called the initial plt.subplots().\n",
        "Documentation: https://matplotlib.org/stable/api/_as_gen/matplotlib.pyplot.subplots.html\n",
        "https://matplotlib.org/stable/api/_as_gen/matplotlib.axes.Axes.plot.html"
      ],
      "metadata": {
        "id": "qdgHsOyHYHHT"
      }
    },
    {
      "cell_type": "code",
      "source": [
        "fig, ax = plt.subplots()"
      ],
      "metadata": {
        "id": "JQ4hFnhuX9V_",
        "colab": {
          "base_uri": "https://localhost:8080/",
          "height": 435
        },
        "outputId": "840e90d1-2929-46b7-ff01-d19bb334920b"
      },
      "execution_count": 67,
      "outputs": [
        {
          "output_type": "display_data",
          "data": {
            "text/plain": [
              "<Figure size 640x480 with 1 Axes>"
            ],
            "image/png": "[encoded data removed]"
          },
          "metadata": {}
        }
      ]
    },
    {
      "cell_type": "code",
      "source": [
        "fig, ax = plt.subplots()\n",
        "ax.plot(time, intensity)"
      ],
      "metadata": {
        "id": "0mositqGYVr-",
        "colab": {
          "base_uri": "https://localhost:8080/",
          "height": 448
        },
        "outputId": "eca72cf6-86ae-4d3d-a94b-c01e31b37eb8"
      },
      "execution_count": 68,
      "outputs": [
        {
          "output_type": "execute_result",
          "data": {
            "text/plain": [
              "[<matplotlib.lines.Line2D at 0x7816996d5e50>]"
            ]
          },
          "metadata": {},
          "execution_count": 68
        },
        {
          "output_type": "display_data",
          "data": {
            "text/plain": [
              "<Figure size 640x480 with 1 Axes>"
            ],
            "image/png": "[encoded data removed]"
          },
          "metadata": {}
        }
      ]
    },
    {
      "cell_type": "code",
      "source": [
        "# now, let's dress this up a bit so we have a presentable graph\n",
        "fig, ax = plt.subplots()\n",
        "ax.plot(time, intensity,'-o',markersize=2, )\n",
        "ax.set_xlabel('Time (s)')\n",
        "ax.set_ylabel('Intensity')\n",
        "ax.set_title('Random Noise Over Time')"
      ],
      "metadata": {
        "id": "wk-zArxPYV2H",
        "colab": {
          "base_uri": "https://localhost:8080/",
          "height": 490
        },
        "outputId": "1d34e86b-6767-4ae1-a899-e1902b23ba9e"
      },
      "execution_count": 69,
      "outputs": [
        {
          "output_type": "execute_result",
          "data": {
            "text/plain": [
              "Text(0.5, 1.0, 'Random Noise Over Time')"
            ]
          },
          "metadata": {},
          "execution_count": 69
        },
        {
          "output_type": "display_data",
          "data": {
            "text/plain": [
              "<Figure size 640x480 with 1 Axes>"
            ],
            "image/png": "[encoded data removed]"
          },
          "metadata": {}
        }
      ]
    },
    {
      "cell_type": "markdown",
      "source": [
        "At its most basic, that is how you make a plot. For now, I will not have requirements about font sizes, colors, etc. The only requirements for right now are that axes are labeled. **However**, in later units of the class we will cover how to make graphs accessible and clear.\n",
        "To learn how to change other aspects of your graph, you can look at documentation. You can also hit shift+tab while typing out a function, and it will give you information about the arguments you can include."
      ],
      "metadata": {
        "id": "Dj71MWmDY2Zj"
      }
    },
    {
      "cell_type": "markdown",
      "source": [
        "#### <font color='green'>**I would like you to have a basic idea of how to plot data. However, the syntax can get annoying, and a nicely made plot can have near 40 lines of code specifying every detail. If you want to use built-in plotting routines within Colab notebooks, unless prohibited by a specific problem, you may.**</font>"
      ],
      "metadata": {
        "id": "K0W30yC3a1c3"
      }
    },
    {
      "cell_type": "markdown",
      "source": [
        "## Example 3 : Querying the NIST Webbook\n",
        "In this example we'll have you start writing some code. Anywhere <font color='red'>where the font is red, you need to write your own code in the next box</font>"
      ],
      "metadata": {
        "id": "CcfLuHEd8yzD"
      }
    },
    {
      "cell_type": "markdown",
      "source": [
        "### Part 1 : Prepare our data access\n",
        "NIST, (the National Institute of Standards and Technology), publishes standard reference data and makes standard reference materials. They maintain the NIST Chemistry WebBook at https://webbook.nist.gov/chemistry/. It can be searched within the webpage. However, we will use an automated system, nistchempy, to **query** the database. https://pypi.org/project/nistchempy/ . Currently, NistChemPy enables the extraction of basic compound properties as well as IR, THz, MS, and UV-Vis spectra and gas chromatography data (which is only a subset of all the information available on the webpage)"
      ],
      "metadata": {
        "id": "HYo68gc89b0t"
      }
    },
    {
      "cell_type": "code",
      "source": [
        "! pip install nistchempy"
      ],
      "metadata": {
        "id": "haeeHfu5-H8J",
        "colab": {
          "base_uri": "https://localhost:8080/"
        },
        "outputId": "413aa5c4-5bbe-4c1a-eeaf-b91ced2b7f82"
      },
      "execution_count": 72,
      "outputs": [
        {
          "output_type": "stream",
          "name": "stdout",
          "text": [
            "Requirement already satisfied: nistchempy in /usr/local/lib/python3.12/dist-packages (1.0.5)\n",
            "Requirement already satisfied: requests in /usr/local/lib/python3.12/dist-packages (from nistchempy) (2.32.4)\n",
            "Requirement already satisfied: pandas in /usr/local/lib/python3.12/dist-packages (from nistchempy) (2.2.2)\n",
            "Requirement already satisfied: bs4 in /usr/local/lib/python3.12/dist-packages (from nistchempy) (0.0.2)\n",
            "Requirement already satisfied: beautifulsoup4 in /usr/local/lib/python3.12/dist-packages (from bs4->nistchempy) (4.13.5)\n",
            "Requirement already satisfied: numpy>=1.26.0 in /usr/local/lib/python3.12/dist-packages (from pandas->nistchempy) (2.0.2)\n",
            "Requirement already satisfied: python-dateutil>=2.8.2 in /usr/local/lib/python3.12/dist-packages (from pandas->nistchempy) (2.9.0.post0)\n",
            "Requirement already satisfied: pytz>=2020.1 in /usr/local/lib/python3.12/dist-packages (from pandas->nistchempy) (2025.2)\n",
            "Requirement already satisfied: tzdata>=2022.7 in /usr/local/lib/python3.12/dist-packages (from pandas->nistchempy) (2025.2)\n",
            "Requirement already satisfied: charset_normalizer<4,>=2 in /usr/local/lib/python3.12/dist-packages (from requests->nistchempy) (3.4.3)\n",
            "Requirement already satisfied: idna<4,>=2.5 in /usr/local/lib/python3.12/dist-packages (from requests->nistchempy) (3.10)\n",
            "Requirement already satisfied: urllib3<3,>=1.21.1 in /usr/local/lib/python3.12/dist-packages (from requests->nistchempy) (2.5.0)\n",
            "Requirement already satisfied: certifi>=2017.4.17 in /usr/local/lib/python3.12/dist-packages (from requests->nistchempy) (2025.8.3)\n",
            "Requirement already satisfied: six>=1.5 in /usr/local/lib/python3.12/dist-packages (from python-dateutil>=2.8.2->pandas->nistchempy) (1.17.0)\n",
            "Requirement already satisfied: soupsieve>1.2 in /usr/local/lib/python3.12/dist-packages (from beautifulsoup4->bs4->nistchempy) (2.7)\n",
            "Requirement already satisfied: typing-extensions>=4.0.0 in /usr/local/lib/python3.12/dist-packages (from beautifulsoup4->bs4->nistchempy) (4.15.0)\n"
          ]
        }
      ]
    },
    {
      "cell_type": "code",
      "source": [
        "import nistchempy as nist\n",
        "import numpy as np\n",
        "import matplotlib.pyplot as plt"
      ],
      "metadata": {
        "id": "o4IX0fnp-eqR"
      },
      "execution_count": 73,
      "outputs": []
    },
    {
      "cell_type": "markdown",
      "source": [],
      "metadata": {
        "id": "6gHgtrVbteH0"
      }
    },
    {
      "cell_type": "markdown",
      "source": [
        "#### Inspecting the package\n",
        "We can start by typing in nist. and pausing. This will show a list of all the modules and functions included in the package. The three ways to find out exactly what all of these do are 1. Read the documentation (which is just okay for this package), 2. Download the source code and read through the different modules (thorough, but time-consuming), or 3. Play around"
      ],
      "metadata": {
        "id": "4sx8W0c_vk6T"
      }
    },
    {
      "cell_type": "code",
      "source": [
        "nist."
      ],
      "metadata": {
        "id": "ZGvST09Nvtqo"
      },
      "execution_count": null,
      "outputs": []
    },
    {
      "cell_type": "code",
      "source": [
        "nist.print_search_parameters"
      ],
      "metadata": {
        "id": "KGc4lO5EwKou",
        "colab": {
          "base_uri": "https://localhost:8080/",
          "height": 121
        },
        "outputId": "a057184a-88f6-47c9-8026-fd32e9be24ef"
      },
      "execution_count": 74,
      "outputs": [
        {
          "output_type": "execute_result",
          "data": {
            "text/plain": [
              "<function nistchempy.search.print_search_parameters() -> None>"
            ],
            "text/html": [
              "<div style=\"max-width:800px; border: 1px solid var(--colab-border-color);\"><style>\n",
              "      pre.function-repr-contents {\n",
              "        overflow-x: auto;\n",
              "        padding: 8px 12px;\n",
              "        max-height: 500px;\n",
              "      }\n",
              "\n",
              "      pre.function-repr-contents.function-repr-contents-collapsed {\n",
              "        cursor: pointer;\n",
              "        max-height: 100px;\n",
              "      }\n",
              "    </style>\n",
              "    <pre style=\"white-space: initial; background:\n",
              "         var(--colab-secondary-surface-color); padding: 8px 12px;\n",
              "         border-bottom: 1px solid var(--colab-border-color);\"><b>nistchempy.search.print_search_parameters</b><br/>def print_search_parameters() -&gt; None</pre><pre class=\"function-repr-contents function-repr-contents-collapsed\" style=\"\"><a class=\"filepath\" style=\"display:none\" href=\"#\">/usr/local/lib/python3.12/dist-packages/nistchempy/search.py</a>Prints available search parameters</pre>\n",
              "      <script>\n",
              "      if (google.colab.kernel.accessAllowed && google.colab.files && google.colab.files.view) {\n",
              "        for (const element of document.querySelectorAll('.filepath')) {\n",
              "          element.style.display = 'block'\n",
              "          element.onclick = (event) => {\n",
              "            event.preventDefault();\n",
              "            event.stopPropagation();\n",
              "            google.colab.files.view(element.textContent, 46);\n",
              "          };\n",
              "        }\n",
              "      }\n",
              "      for (const element of document.querySelectorAll('.function-repr-contents')) {\n",
              "        element.onclick = (event) => {\n",
              "          event.preventDefault();\n",
              "          event.stopPropagation();\n",
              "          element.classList.toggle('function-repr-contents-collapsed');\n",
              "        };\n",
              "      }\n",
              "      </script>\n",
              "      </div>"
            ]
          },
          "metadata": {},
          "execution_count": 74
        }
      ]
    },
    {
      "cell_type": "code",
      "source": [
        "nist.print_search_parameters()"
      ],
      "metadata": {
        "id": "jP7H4_YzwQfv",
        "colab": {
          "base_uri": "https://localhost:8080/"
        },
        "outputId": "4b178207-b6c7-455a-847e-d8e285cd8d75"
      },
      "execution_count": 75,
      "outputs": [
        {
          "output_type": "stream",
          "name": "stdout",
          "text": [
            "use_SI         :   Units for thermodynamic data, \"SI\" if True and \"calories\" if False\n",
            "match_isotopes :   Exactly match the specified isotopes (formula search only)\n",
            "allow_other    :   Allow elements not specified in formula (formula search only)\n",
            "allow_extra    :   Allow more atoms of elements in formula than specified (formula search only)\n",
            "no_ion         :   Exclude ions from the search (formula search only)\n",
            "cTG            :   Gas phase thermochemistry data\n",
            "cTC            :   Condensed phase thermochemistry data\n",
            "cTP            :   Phase change data\n",
            "cTR            :   Reaction thermochemistry data\n",
            "cIE            :   Gas phase ion energetics data\n",
            "cIC            :   Ion clustering data\n",
            "cIR            :   IR Spectrum\n",
            "cTZ            :   THz IR spectrum\n",
            "cMS            :   Mass spectrum (electron ionization)\n",
            "cUV            :   UV/Visible spectrum\n",
            "cGC            :   Gas Chromatography\n",
            "cES            :   Vibrational and/or electronic energy levels\n",
            "cDI            :   Constants of diatomic molecules\n",
            "cSO            :   Henry's Law data\n"
          ]
        }
      ]
    },
    {
      "cell_type": "code",
      "source": [
        "nist.get_all_data"
      ],
      "metadata": {
        "id": "X9mTU7hiwSnF",
        "colab": {
          "base_uri": "https://localhost:8080/",
          "height": 173
        },
        "outputId": "ebd10b02-c7d0-477a-b10d-ca7d740d1abd"
      },
      "execution_count": 76,
      "outputs": [
        {
          "output_type": "execute_result",
          "data": {
            "text/plain": [
              "<function nistchempy.compound_list.get_all_data() -> pandas.core.frame.DataFrame>"
            ],
            "text/html": [
              "<div style=\"max-width:800px; border: 1px solid var(--colab-border-color);\"><style>\n",
              "      pre.function-repr-contents {\n",
              "        overflow-x: auto;\n",
              "        padding: 8px 12px;\n",
              "        max-height: 500px;\n",
              "      }\n",
              "\n",
              "      pre.function-repr-contents.function-repr-contents-collapsed {\n",
              "        cursor: pointer;\n",
              "        max-height: 100px;\n",
              "      }\n",
              "    </style>\n",
              "    <pre style=\"white-space: initial; background:\n",
              "         var(--colab-secondary-surface-color); padding: 8px 12px;\n",
              "         border-bottom: 1px solid var(--colab-border-color);\"><b>nistchempy.compound_list.get_all_data</b><br/>def get_all_data() -&gt; _pd.core.frame.DataFrame</pre><pre class=\"function-repr-contents function-repr-contents-collapsed\" style=\"\"><a class=\"filepath\" style=\"display:none\" href=\"#\">/usr/local/lib/python3.12/dist-packages/nistchempy/compound_list.py</a>Returns pandas dataframe containing info on all NIST Chem WebBook compounds\n",
              "\n",
              "Returns:\n",
              "    _pd.core.frame.DataFrame: dataframe containing pre-extracted compound info</pre>\n",
              "      <script>\n",
              "      if (google.colab.kernel.accessAllowed && google.colab.files && google.colab.files.view) {\n",
              "        for (const element of document.querySelectorAll('.filepath')) {\n",
              "          element.style.display = 'block'\n",
              "          element.onclick = (event) => {\n",
              "            event.preventDefault();\n",
              "            event.stopPropagation();\n",
              "            google.colab.files.view(element.textContent, 17);\n",
              "          };\n",
              "        }\n",
              "      }\n",
              "      for (const element of document.querySelectorAll('.function-repr-contents')) {\n",
              "        element.onclick = (event) => {\n",
              "          event.preventDefault();\n",
              "          event.stopPropagation();\n",
              "          element.classList.toggle('function-repr-contents-collapsed');\n",
              "        };\n",
              "      }\n",
              "      </script>\n",
              "      </div>"
            ]
          },
          "metadata": {},
          "execution_count": 76
        }
      ]
    },
    {
      "cell_type": "code",
      "source": [
        "nist.get_all_data()"
      ],
      "metadata": {
        "id": "MAAqKO1zwWme",
        "colab": {
          "base_uri": "https://localhost:8080/",
          "height": 790
        },
        "outputId": "e24e9638-bfab-4925-82ef-06529b83699f"
      },
      "execution_count": 77,
      "outputs": [
        {
          "output_type": "execute_result",
          "data": {
            "text/plain": [
              "              ID                                               name  \\\n",
              "0           B100                                   iron oxide anion   \n",
              "1          B1000                                     AsF3..Cl anion   \n",
              "2       B1000000                                              AgH2-   \n",
              "3       B1000001                                            HAg(H2)   \n",
              "4       B1000002                                              AgNO+   \n",
              "...          ...                                                ...   \n",
              "144790    U99777  Methyl 3-hydroxycholest-5-en-26-oate, TMS deri...   \n",
              "144791    U99830  2-Methyl-3-oxovaleric acid, O,O'-bis(trimethyl...   \n",
              "144792    U99942  3-Hydroxy-3-(4'-hydroxy-3'-methoxyphenyl)propi...   \n",
              "144793    U99947  2-Propylpentanoic acid, 2,3,4,6-tetra(trimethy...   \n",
              "144794         x                                       Y5O2 radical   \n",
              "\n",
              "                                                 synonyms      formula  \\\n",
              "0                                                     NaN         FeO-   \n",
              "1                                                     NaN      AsClF3-   \n",
              "2                                                     NaN        AgH2-   \n",
              "3                                                     NaN         AgH3   \n",
              "4                                                     NaN        AgNO+   \n",
              "...                                                   ...          ...   \n",
              "144790  Methyl (25RS)-3β-hydroxy-5-cholesten-26-oate, ...   C31H54O3Si   \n",
              "144791  3-Oxopentanoic acid, 2-methyl, TMS\\n2-Methyl-3...  C12H26O3Si2   \n",
              "144792  Vanillylhydracrylic acid, tri-TMS\\nVanillylhyd...  C19H36O5Si3   \n",
              "144793                    Valproic acid, glucuronide, TMS  C26H58O7Si4   \n",
              "144794                                                NaN         O2Y5   \n",
              "\n",
              "        mol_weight                                              inchi  \\\n",
              "0          71.8450                                                NaN   \n",
              "1         167.3700                                                NaN   \n",
              "2         109.8846                                                NaN   \n",
              "3         110.8920                                                NaN   \n",
              "4         137.8738                                                NaN   \n",
              "...            ...                                                ...   \n",
              "144790    502.8442  InChI=1S/C31H54O3Si/c1-21(10-9-11-22(2)29(32)3...   \n",
              "144791    274.5040  InChI=1S/C12H26O3Si2/c1-9-11(14-16(3,4)5)10(2)...   \n",
              "144792    428.7426  InChI=1S/C19H36O5Si3/c1-21-18-13-15(11-12-16(1...   \n",
              "144793    595.0765  InChI=1S/C26H58O7Si4/c1-15-17-20(18-16-2)25(27...   \n",
              "144794    476.5281                                                NaN   \n",
              "\n",
              "                          inchi_key cas_rn  \\\n",
              "0                               NaN    NaN   \n",
              "1                               NaN    NaN   \n",
              "2                               NaN    NaN   \n",
              "3                               NaN    NaN   \n",
              "4                               NaN    NaN   \n",
              "...                             ...    ...   \n",
              "144790  DNXGNXYNSBCWGX-QBUYVTDMSA-N    NaN   \n",
              "144791  LXAIQDVPXKOIGO-KHPPLWFESA-N    NaN   \n",
              "144792  QCMUGKOFXVYNCF-UHFFFAOYSA-N    NaN   \n",
              "144793  OVXMRISJDUWFKB-UHFFFAOYSA-N    NaN   \n",
              "144794                          NaN    NaN   \n",
              "\n",
              "                                                    mol2D mol3D  ...  \\\n",
              "0                                                     NaN   NaN  ...   \n",
              "1                                                     NaN   NaN  ...   \n",
              "2                                                     NaN   NaN  ...   \n",
              "3                                                     NaN   NaN  ...   \n",
              "4                                                     NaN   NaN  ...   \n",
              "...                                                   ...   ...  ...   \n",
              "144790  https://webbook.nist.gov/cgi/cbook.cgi?Str2Fil...   NaN  ...   \n",
              "144791  https://webbook.nist.gov/cgi/cbook.cgi?Str2Fil...   NaN  ...   \n",
              "144792  https://webbook.nist.gov/cgi/cbook.cgi?Str2Fil...   NaN  ...   \n",
              "144793  https://webbook.nist.gov/cgi/cbook.cgi?Str2Fil...   NaN  ...   \n",
              "144794                                                NaN   NaN  ...   \n",
              "\n",
              "       NIST Atomic Spectra Database - Ground states and ionization energies (on physics web site)  \\\n",
              "0                                                     NaN                                           \n",
              "1                                                     NaN                                           \n",
              "2                                                     NaN                                           \n",
              "3                                                     NaN                                           \n",
              "4                                                     NaN                                           \n",
              "...                                                   ...                                           \n",
              "144790                                                NaN                                           \n",
              "144791                                                NaN                                           \n",
              "144792                                                NaN                                           \n",
              "144793                                                NaN                                           \n",
              "144794                                                NaN                                           \n",
              "\n",
              "       NIST Atomic Spectra Database - Levels Holdings (on physics web site)  \\\n",
              "0                                                     NaN                     \n",
              "1                                                     NaN                     \n",
              "2                                                     NaN                     \n",
              "3                                                     NaN                     \n",
              "4                                                     NaN                     \n",
              "...                                                   ...                     \n",
              "144790                                                NaN                     \n",
              "144791                                                NaN                     \n",
              "144792                                                NaN                     \n",
              "144793                                                NaN                     \n",
              "144794                                                NaN                     \n",
              "\n",
              "       NIST Atomic Spectra Database - Lines Holdings (on physics web site)  \\\n",
              "0                                                     NaN                    \n",
              "1                                                     NaN                    \n",
              "2                                                     NaN                    \n",
              "3                                                     NaN                    \n",
              "4                                                     NaN                    \n",
              "...                                                   ...                    \n",
              "144790                                                NaN                    \n",
              "144791                                                NaN                    \n",
              "144792                                                NaN                    \n",
              "144793                                                NaN                    \n",
              "144794                                                NaN                    \n",
              "\n",
              "       NIST Polycyclic Aromatic Hydrocarbon Structure Index  \\\n",
              "0                                                     NaN     \n",
              "1                                                     NaN     \n",
              "2                                                     NaN     \n",
              "3                                                     NaN     \n",
              "4                                                     NaN     \n",
              "...                                                   ...     \n",
              "144790                                                NaN     \n",
              "144791                                                NaN     \n",
              "144792                                                NaN     \n",
              "144793                                                NaN     \n",
              "144794                                                NaN     \n",
              "\n",
              "       Reference simulation Reference simulation:  SPC/E Water  \\\n",
              "0                       NaN                                NaN   \n",
              "1                       NaN                                NaN   \n",
              "2                       NaN                                NaN   \n",
              "3                       NaN                                NaN   \n",
              "4                       NaN                                NaN   \n",
              "...                     ...                                ...   \n",
              "144790                  NaN                                NaN   \n",
              "144791                  NaN                                NaN   \n",
              "144792                  NaN                                NaN   \n",
              "144793                  NaN                                NaN   \n",
              "144794                  NaN                                NaN   \n",
              "\n",
              "       Reference simulation:  TraPPE Carbon Dioxide  \\\n",
              "0                                               NaN   \n",
              "1                                               NaN   \n",
              "2                                               NaN   \n",
              "3                                               NaN   \n",
              "4                                               NaN   \n",
              "...                                             ...   \n",
              "144790                                          NaN   \n",
              "144791                                          NaN   \n",
              "144792                                          NaN   \n",
              "144793                                          NaN   \n",
              "144794                                          NaN   \n",
              "\n",
              "       X-ray Photoelectron Spectroscopy Database, version 5.0  \\\n",
              "0                                                     NaN       \n",
              "1                                                     NaN       \n",
              "2                                                     NaN       \n",
              "3                                                     NaN       \n",
              "4                                                     NaN       \n",
              "...                                                   ...       \n",
              "144790                                                NaN       \n",
              "144791                                                NaN       \n",
              "144792                                                NaN       \n",
              "144793                                                NaN       \n",
              "144794                                                NaN       \n",
              "\n",
              "       NIST / TRC Web Thermo Tables, \"lite\" edition (thermophysical and thermochemical data)  \\\n",
              "0                                                     NaN                                      \n",
              "1                                                     NaN                                      \n",
              "2                                                     NaN                                      \n",
              "3                                                     NaN                                      \n",
              "4                                                     NaN                                      \n",
              "...                                                   ...                                      \n",
              "144790                                                NaN                                      \n",
              "144791                                                NaN                                      \n",
              "144792                                                NaN                                      \n",
              "144793                                                NaN                                      \n",
              "144794                                                NaN                                      \n",
              "\n",
              "       NIST / TRC Web Thermo Tables, professional edition (thermophysical and thermochemical data)  \n",
              "0                                                     NaN                                           \n",
              "1                                                     NaN                                           \n",
              "2                                                     NaN                                           \n",
              "3                                                     NaN                                           \n",
              "4                                                     NaN                                           \n",
              "...                                                   ...                                           \n",
              "144790                                                NaN                                           \n",
              "144791                                                NaN                                           \n",
              "144792                                                NaN                                           \n",
              "144793                                                NaN                                           \n",
              "144794                                                NaN                                           \n",
              "\n",
              "[144795 rows x 38 columns]"
            ],
            "text/html": [
              "\n",
              "  <div id=\"df-ad239c93-ee1e-45a1-ac9e-819ab99d1f45\" class=\"colab-df-container\">\n",
              "    <div>\n",
              "<style scoped>\n",
              "    .dataframe tbody tr th:only-of-type {\n",
              "        vertical-align: middle;\n",
              "    }\n",
              "\n",
              "    .dataframe tbody tr th {\n",
              "        vertical-align: top;\n",
              "    }\n",
              "\n",
              "    .dataframe thead th {\n",
              "        text-align: right;\n",
              "    }\n",
              "</style>\n",
              "<table border=\"1\" class=\"dataframe\">\n",
              "  <thead>\n",
              "    <tr style=\"text-align: right;\">\n",
              "      <th></th>\n",
              "      <th>ID</th>\n",
              "      <th>name</th>\n",
              "      <th>synonyms</th>\n",
              "      <th>formula</th>\n",
              "      <th>mol_weight</th>\n",
              "      <th>inchi</th>\n",
              "      <th>inchi_key</th>\n",
              "      <th>cas_rn</th>\n",
              "      <th>mol2D</th>\n",
              "      <th>mol3D</th>\n",
              "      <th>...</th>\n",
              "      <th>NIST Atomic Spectra Database - Ground states and ionization energies (on physics web site)</th>\n",
              "      <th>NIST Atomic Spectra Database - Levels Holdings (on physics web site)</th>\n",
              "      <th>NIST Atomic Spectra Database - Lines Holdings (on physics web site)</th>\n",
              "      <th>NIST Polycyclic Aromatic Hydrocarbon Structure Index</th>\n",
              "      <th>Reference simulation</th>\n",
              "      <th>Reference simulation:  SPC/E Water</th>\n",
              "      <th>Reference simulation:  TraPPE Carbon Dioxide</th>\n",
              "      <th>X-ray Photoelectron Spectroscopy Database, version 5.0</th>\n",
              "      <th>NIST / TRC Web Thermo Tables, \"lite\" edition (thermophysical and thermochemical data)</th>\n",
              "      <th>NIST / TRC Web Thermo Tables, professional edition (thermophysical and thermochemical data)</th>\n",
              "    </tr>\n",
              "  </thead>\n",
              "  <tbody>\n",
              "    <tr>\n",
              "      <th>0</th>\n",
              "      <td>B100</td>\n",
              "      <td>iron oxide anion</td>\n",
              "      <td>NaN</td>\n",
              "      <td>FeO-</td>\n",
              "      <td>71.8450</td>\n",
              "      <td>NaN</td>\n",
              "      <td>NaN</td>\n",
              "      <td>NaN</td>\n",
              "      <td>NaN</td>\n",
              "      <td>NaN</td>\n",
              "      <td>...</td>\n",
              "      <td>NaN</td>\n",
              "      <td>NaN</td>\n",
              "      <td>NaN</td>\n",
              "      <td>NaN</td>\n",
              "      <td>NaN</td>\n",
              "      <td>NaN</td>\n",
              "      <td>NaN</td>\n",
              "      <td>NaN</td>\n",
              "      <td>NaN</td>\n",
              "      <td>NaN</td>\n",
              "    </tr>\n",
              "    <tr>\n",
              "      <th>1</th>\n",
              "      <td>B1000</td>\n",
              "      <td>AsF3..Cl anion</td>\n",
              "      <td>NaN</td>\n",
              "      <td>AsClF3-</td>\n",
              "      <td>167.3700</td>\n",
              "      <td>NaN</td>\n",
              "      <td>NaN</td>\n",
              "      <td>NaN</td>\n",
              "      <td>NaN</td>\n",
              "      <td>NaN</td>\n",
              "      <td>...</td>\n",
              "      <td>NaN</td>\n",
              "      <td>NaN</td>\n",
              "      <td>NaN</td>\n",
              "      <td>NaN</td>\n",
              "      <td>NaN</td>\n",
              "      <td>NaN</td>\n",
              "      <td>NaN</td>\n",
              "      <td>NaN</td>\n",
              "      <td>NaN</td>\n",
              "      <td>NaN</td>\n",
              "    </tr>\n",
              "    <tr>\n",
              "      <th>2</th>\n",
              "      <td>B1000000</td>\n",
              "      <td>AgH2-</td>\n",
              "      <td>NaN</td>\n",
              "      <td>AgH2-</td>\n",
              "      <td>109.8846</td>\n",
              "      <td>NaN</td>\n",
              "      <td>NaN</td>\n",
              "      <td>NaN</td>\n",
              "      <td>NaN</td>\n",
              "      <td>NaN</td>\n",
              "      <td>...</td>\n",
              "      <td>NaN</td>\n",
              "      <td>NaN</td>\n",
              "      <td>NaN</td>\n",
              "      <td>NaN</td>\n",
              "      <td>NaN</td>\n",
              "      <td>NaN</td>\n",
              "      <td>NaN</td>\n",
              "      <td>NaN</td>\n",
              "      <td>NaN</td>\n",
              "      <td>NaN</td>\n",
              "    </tr>\n",
              "    <tr>\n",
              "      <th>3</th>\n",
              "      <td>B1000001</td>\n",
              "      <td>HAg(H2)</td>\n",
              "      <td>NaN</td>\n",
              "      <td>AgH3</td>\n",
              "      <td>110.8920</td>\n",
              "      <td>NaN</td>\n",
              "      <td>NaN</td>\n",
              "      <td>NaN</td>\n",
              "      <td>NaN</td>\n",
              "      <td>NaN</td>\n",
              "      <td>...</td>\n",
              "      <td>NaN</td>\n",
              "      <td>NaN</td>\n",
              "      <td>NaN</td>\n",
              "      <td>NaN</td>\n",
              "      <td>NaN</td>\n",
              "      <td>NaN</td>\n",
              "      <td>NaN</td>\n",
              "      <td>NaN</td>\n",
              "      <td>NaN</td>\n",
              "      <td>NaN</td>\n",
              "    </tr>\n",
              "    <tr>\n",
              "      <th>4</th>\n",
              "      <td>B1000002</td>\n",
              "      <td>AgNO+</td>\n",
              "      <td>NaN</td>\n",
              "      <td>AgNO+</td>\n",
              "      <td>137.8738</td>\n",
              "      <td>NaN</td>\n",
              "      <td>NaN</td>\n",
              "      <td>NaN</td>\n",
              "      <td>NaN</td>\n",
              "      <td>NaN</td>\n",
              "      <td>...</td>\n",
              "      <td>NaN</td>\n",
              "      <td>NaN</td>\n",
              "      <td>NaN</td>\n",
              "      <td>NaN</td>\n",
              "      <td>NaN</td>\n",
              "      <td>NaN</td>\n",
              "      <td>NaN</td>\n",
              "      <td>NaN</td>\n",
              "      <td>NaN</td>\n",
              "      <td>NaN</td>\n",
              "    </tr>\n",
              "    <tr>\n",
              "      <th>...</th>\n",
              "      <td>...</td>\n",
              "      <td>...</td>\n",
              "      <td>...</td>\n",
              "      <td>...</td>\n",
              "      <td>...</td>\n",
              "      <td>...</td>\n",
              "      <td>...</td>\n",
              "      <td>...</td>\n",
              "      <td>...</td>\n",
              "      <td>...</td>\n",
              "      <td>...</td>\n",
              "      <td>...</td>\n",
              "      <td>...</td>\n",
              "      <td>...</td>\n",
              "      <td>...</td>\n",
              "      <td>...</td>\n",
              "      <td>...</td>\n",
              "      <td>...</td>\n",
              "      <td>...</td>\n",
              "      <td>...</td>\n",
              "      <td>...</td>\n",
              "    </tr>\n",
              "    <tr>\n",
              "      <th>144790</th>\n",
              "      <td>U99777</td>\n",
              "      <td>Methyl 3-hydroxycholest-5-en-26-oate, TMS deri...</td>\n",
              "      <td>Methyl (25RS)-3β-hydroxy-5-cholesten-26-oate, ...</td>\n",
              "      <td>C31H54O3Si</td>\n",
              "      <td>502.8442</td>\n",
              "      <td>InChI=1S/C31H54O3Si/c1-21(10-9-11-22(2)29(32)3...</td>\n",
              "      <td>DNXGNXYNSBCWGX-QBUYVTDMSA-N</td>\n",
              "      <td>NaN</td>\n",
              "      <td>https://webbook.nist.gov/cgi/cbook.cgi?Str2Fil...</td>\n",
              "      <td>NaN</td>\n",
              "      <td>...</td>\n",
              "      <td>NaN</td>\n",
              "      <td>NaN</td>\n",
              "      <td>NaN</td>\n",
              "      <td>NaN</td>\n",
              "      <td>NaN</td>\n",
              "      <td>NaN</td>\n",
              "      <td>NaN</td>\n",
              "      <td>NaN</td>\n",
              "      <td>NaN</td>\n",
              "      <td>NaN</td>\n",
              "    </tr>\n",
              "    <tr>\n",
              "      <th>144791</th>\n",
              "      <td>U99830</td>\n",
              "      <td>2-Methyl-3-oxovaleric acid, O,O'-bis(trimethyl...</td>\n",
              "      <td>3-Oxopentanoic acid, 2-methyl, TMS\\n2-Methyl-3...</td>\n",
              "      <td>C12H26O3Si2</td>\n",
              "      <td>274.5040</td>\n",
              "      <td>InChI=1S/C12H26O3Si2/c1-9-11(14-16(3,4)5)10(2)...</td>\n",
              "      <td>LXAIQDVPXKOIGO-KHPPLWFESA-N</td>\n",
              "      <td>NaN</td>\n",
              "      <td>https://webbook.nist.gov/cgi/cbook.cgi?Str2Fil...</td>\n",
              "      <td>NaN</td>\n",
              "      <td>...</td>\n",
              "      <td>NaN</td>\n",
              "      <td>NaN</td>\n",
              "      <td>NaN</td>\n",
              "      <td>NaN</td>\n",
              "      <td>NaN</td>\n",
              "      <td>NaN</td>\n",
              "      <td>NaN</td>\n",
              "      <td>NaN</td>\n",
              "      <td>NaN</td>\n",
              "      <td>NaN</td>\n",
              "    </tr>\n",
              "    <tr>\n",
              "      <th>144792</th>\n",
              "      <td>U99942</td>\n",
              "      <td>3-Hydroxy-3-(4'-hydroxy-3'-methoxyphenyl)propi...</td>\n",
              "      <td>Vanillylhydracrylic acid, tri-TMS\\nVanillylhyd...</td>\n",
              "      <td>C19H36O5Si3</td>\n",
              "      <td>428.7426</td>\n",
              "      <td>InChI=1S/C19H36O5Si3/c1-21-18-13-15(11-12-16(1...</td>\n",
              "      <td>QCMUGKOFXVYNCF-UHFFFAOYSA-N</td>\n",
              "      <td>NaN</td>\n",
              "      <td>https://webbook.nist.gov/cgi/cbook.cgi?Str2Fil...</td>\n",
              "      <td>NaN</td>\n",
              "      <td>...</td>\n",
              "      <td>NaN</td>\n",
              "      <td>NaN</td>\n",
              "      <td>NaN</td>\n",
              "      <td>NaN</td>\n",
              "      <td>NaN</td>\n",
              "      <td>NaN</td>\n",
              "      <td>NaN</td>\n",
              "      <td>NaN</td>\n",
              "      <td>NaN</td>\n",
              "      <td>NaN</td>\n",
              "    </tr>\n",
              "    <tr>\n",
              "      <th>144793</th>\n",
              "      <td>U99947</td>\n",
              "      <td>2-Propylpentanoic acid, 2,3,4,6-tetra(trimethy...</td>\n",
              "      <td>Valproic acid, glucuronide, TMS</td>\n",
              "      <td>C26H58O7Si4</td>\n",
              "      <td>595.0765</td>\n",
              "      <td>InChI=1S/C26H58O7Si4/c1-15-17-20(18-16-2)25(27...</td>\n",
              "      <td>OVXMRISJDUWFKB-UHFFFAOYSA-N</td>\n",
              "      <td>NaN</td>\n",
              "      <td>https://webbook.nist.gov/cgi/cbook.cgi?Str2Fil...</td>\n",
              "      <td>NaN</td>\n",
              "      <td>...</td>\n",
              "      <td>NaN</td>\n",
              "      <td>NaN</td>\n",
              "      <td>NaN</td>\n",
              "      <td>NaN</td>\n",
              "      <td>NaN</td>\n",
              "      <td>NaN</td>\n",
              "      <td>NaN</td>\n",
              "      <td>NaN</td>\n",
              "      <td>NaN</td>\n",
              "      <td>NaN</td>\n",
              "    </tr>\n",
              "    <tr>\n",
              "      <th>144794</th>\n",
              "      <td>x</td>\n",
              "      <td>Y5O2 radical</td>\n",
              "      <td>NaN</td>\n",
              "      <td>O2Y5</td>\n",
              "      <td>476.5281</td>\n",
              "      <td>NaN</td>\n",
              "      <td>NaN</td>\n",
              "      <td>NaN</td>\n",
              "      <td>NaN</td>\n",
              "      <td>NaN</td>\n",
              "      <td>...</td>\n",
              "      <td>NaN</td>\n",
              "      <td>NaN</td>\n",
              "      <td>NaN</td>\n",
              "      <td>NaN</td>\n",
              "      <td>NaN</td>\n",
              "      <td>NaN</td>\n",
              "      <td>NaN</td>\n",
              "      <td>NaN</td>\n",
              "      <td>NaN</td>\n",
              "      <td>NaN</td>\n",
              "    </tr>\n",
              "  </tbody>\n",
              "</table>\n",
              "<p>144795 rows × 38 columns</p>\n",
              "</div>\n",
              "    <div class=\"colab-df-buttons\">\n",
              "\n",
              "  <div class=\"colab-df-container\">\n",
              "    <button class=\"colab-df-convert\" onclick=\"convertToInteractive('df-ad239c93-ee1e-45a1-ac9e-819ab99d1f45')\"\n",
              "            title=\"Convert this dataframe to an interactive table.\"\n",
              "            style=\"display:none;\">\n",
              "\n",
              "  <svg xmlns=\"http://www.w3.org/2000/svg\" height=\"24px\" viewBox=\"0 -960 960 960\">\n",
              "    <path d=\"M120-120v-720h720v720H120Zm60-500h600v-160H180v160Zm220 220h160v-160H400v160Zm0 220h160v-160H400v160ZM180-400h160v-160H180v160Zm440 0h160v-160H620v160ZM180-180h160v-160H180v160Zm440 0h160v-160H620v160Z\"/>\n",
              "  </svg>\n",
              "    </button>\n",
              "\n",
              "  <style>\n",
              "    .colab-df-container {\n",
              "      display:flex;\n",
              "      gap: 12px;\n",
              "    }\n",
              "\n",
              "    .colab-df-convert {\n",
              "      background-color: #E8F0FE;\n",
              "      border: none;\n",
              "      border-radius: 50%;\n",
              "      cursor: pointer;\n",
              "      display: none;\n",
              "      fill: #1967D2;\n",
              "      height: 32px;\n",
              "      padding: 0 0 0 0;\n",
              "      width: 32px;\n",
              "    }\n",
              "\n",
              "    .colab-df-convert:hover {\n",
              "      background-color: #E2EBFA;\n",
              "      box-shadow: 0px 1px 2px rgba(60, 64, 67, 0.3), 0px 1px 3px 1px rgba(60, 64, 67, 0.15);\n",
              "      fill: #174EA6;\n",
              "    }\n",
              "\n",
              "    .colab-df-buttons div {\n",
              "      margin-bottom: 4px;\n",
              "    }\n",
              "\n",
              "    [theme=dark] .colab-df-convert {\n",
              "      background-color: #3B4455;\n",
              "      fill: #D2E3FC;\n",
              "    }\n",
              "\n",
              "    [theme=dark] .colab-df-convert:hover {\n",
              "      background-color: #434B5C;\n",
              "      box-shadow: 0px 1px 3px 1px rgba(0, 0, 0, 0.15);\n",
              "      filter: drop-shadow(0px 1px 2px rgba(0, 0, 0, 0.3));\n",
              "      fill: #FFFFFF;\n",
              "    }\n",
              "  </style>\n",
              "\n",
              "    <script>\n",
              "      const buttonEl =\n",
              "        document.querySelector('#df-ad239c93-ee1e-45a1-ac9e-819ab99d1f45 button.colab-df-convert');\n",
              "      buttonEl.style.display =\n",
              "        google.colab.kernel.accessAllowed ? 'block' : 'none';\n",
              "\n",
              "      async function convertToInteractive(key) {\n",
              "        const element = document.querySelector('#df-ad239c93-ee1e-45a1-ac9e-819ab99d1f45');\n",
              "        const dataTable =\n",
              "          await google.colab.kernel.invokeFunction('convertToInteractive',\n",
              "                                                    [key], {});\n",
              "        if (!dataTable) return;\n",
              "\n",
              "        const docLinkHtml = 'Like what you see? Visit the ' +\n",
              "          '<a target=\"_blank\" href=https://colab.research.google.com/notebooks/data_table.ipynb>data table notebook</a>'\n",
              "          + ' to learn more about interactive tables.';\n",
              "        element.innerHTML = '';\n",
              "        dataTable['output_type'] = 'display_data';\n",
              "        await google.colab.output.renderOutput(dataTable, element);\n",
              "        const docLink = document.createElement('div');\n",
              "        docLink.innerHTML = docLinkHtml;\n",
              "        element.appendChild(docLink);\n",
              "      }\n",
              "    </script>\n",
              "  </div>\n",
              "\n",
              "\n",
              "    <div id=\"df-a349a0b3-e258-4d25-980f-7a335691ae70\">\n",
              "      <button class=\"colab-df-quickchart\" onclick=\"quickchart('df-a349a0b3-e258-4d25-980f-7a335691ae70')\"\n",
              "                title=\"Suggest charts\"\n",
              "                style=\"display:none;\">\n",
              "\n",
              "<svg xmlns=\"http://www.w3.org/2000/svg\" height=\"24px\"viewBox=\"0 0 24 24\"\n",
              "     width=\"24px\">\n",
              "    <g>\n",
              "        <path d=\"M19 3H5c-1.1 0-2 .9-2 2v14c0 1.1.9 2 2 2h14c1.1 0 2-.9 2-2V5c0-1.1-.9-2-2-2zM9 17H7v-7h2v7zm4 0h-2V7h2v10zm4 0h-2v-4h2v4z\"/>\n",
              "    </g>\n",
              "</svg>\n",
              "      </button>\n",
              "\n",
              "<style>\n",
              "  .colab-df-quickchart {\n",
              "      --bg-color: #E8F0FE;\n",
              "      --fill-color: #1967D2;\n",
              "      --hover-bg-color: #E2EBFA;\n",
              "      --hover-fill-color: #174EA6;\n",
              "      --disabled-fill-color: #AAA;\n",
              "      --disabled-bg-color: #DDD;\n",
              "  }\n",
              "\n",
              "  [theme=dark] .colab-df-quickchart {\n",
              "      --bg-color: #3B4455;\n",
              "      --fill-color: #D2E3FC;\n",
              "      --hover-bg-color: #434B5C;\n",
              "      --hover-fill-color: #FFFFFF;\n",
              "      --disabled-bg-color: #3B4455;\n",
              "      --disabled-fill-color: #666;\n",
              "  }\n",
              "\n",
              "  .colab-df-quickchart {\n",
              "    background-color: var(--bg-color);\n",
              "    border: none;\n",
              "    border-radius: 50%;\n",
              "    cursor: pointer;\n",
              "    display: none;\n",
              "    fill: var(--fill-color);\n",
              "    height: 32px;\n",
              "    padding: 0;\n",
              "    width: 32px;\n",
              "  }\n",
              "\n",
              "  .colab-df-quickchart:hover {\n",
              "    background-color: var(--hover-bg-color);\n",
              "    box-shadow: 0 1px 2px rgba(60, 64, 67, 0.3), 0 1px 3px 1px rgba(60, 64, 67, 0.15);\n",
              "    fill: var(--button-hover-fill-color);\n",
              "  }\n",
              "\n",
              "  .colab-df-quickchart-complete:disabled,\n",
              "  .colab-df-quickchart-complete:disabled:hover {\n",
              "    background-color: var(--disabled-bg-color);\n",
              "    fill: var(--disabled-fill-color);\n",
              "    box-shadow: none;\n",
              "  }\n",
              "\n",
              "  .colab-df-spinner {\n",
              "    border: 2px solid var(--fill-color);\n",
              "    border-color: transparent;\n",
              "    border-bottom-color: var(--fill-color);\n",
              "    animation:\n",
              "      spin 1s steps(1) infinite;\n",
              "  }\n",
              "\n",
              "  @keyframes spin {\n",
              "    0% {\n",
              "      border-color: transparent;\n",
              "      border-bottom-color: var(--fill-color);\n",
              "      border-left-color: var(--fill-color);\n",
              "    }\n",
              "    20% {\n",
              "      border-color: transparent;\n",
              "      border-left-color: var(--fill-color);\n",
              "      border-top-color: var(--fill-color);\n",
              "    }\n",
              "    30% {\n",
              "      border-color: transparent;\n",
              "      border-left-color: var(--fill-color);\n",
              "      border-top-color: var(--fill-color);\n",
              "      border-right-color: var(--fill-color);\n",
              "    }\n",
              "    40% {\n",
              "      border-color: transparent;\n",
              "      border-right-color: var(--fill-color);\n",
              "      border-top-color: var(--fill-color);\n",
              "    }\n",
              "    60% {\n",
              "      border-color: transparent;\n",
              "      border-right-color: var(--fill-color);\n",
              "    }\n",
              "    80% {\n",
              "      border-color: transparent;\n",
              "      border-right-color: var(--fill-color);\n",
              "      border-bottom-color: var(--fill-color);\n",
              "    }\n",
              "    90% {\n",
              "      border-color: transparent;\n",
              "      border-bottom-color: var(--fill-color);\n",
              "    }\n",
              "  }\n",
              "</style>\n",
              "\n",
              "      <script>\n",
              "        async function quickchart(key) {\n",
              "          const quickchartButtonEl =\n",
              "            document.querySelector('#' + key + ' button');\n",
              "          quickchartButtonEl.disabled = true;  // To prevent multiple clicks.\n",
              "          quickchartButtonEl.classList.add('colab-df-spinner');\n",
              "          try {\n",
              "            const charts = await google.colab.kernel.invokeFunction(\n",
              "                'suggestCharts', [key], {});\n",
              "          } catch (error) {\n",
              "            console.error('Error during call to suggestCharts:', error);\n",
              "          }\n",
              "          quickchartButtonEl.classList.remove('colab-df-spinner');\n",
              "          quickchartButtonEl.classList.add('colab-df-quickchart-complete');\n",
              "        }\n",
              "        (() => {\n",
              "          let quickchartButtonEl =\n",
              "            document.querySelector('#df-a349a0b3-e258-4d25-980f-7a335691ae70 button');\n",
              "          quickchartButtonEl.style.display =\n",
              "            google.colab.kernel.accessAllowed ? 'block' : 'none';\n",
              "        })();\n",
              "      </script>\n",
              "    </div>\n",
              "\n",
              "    </div>\n",
              "  </div>\n"
            ],
            "application/vnd.google.colaboratory.intrinsic+json": {
              "type": "dataframe"
            }
          },
          "metadata": {},
          "execution_count": 77
        }
      ]
    },
    {
      "cell_type": "code",
      "source": [
        "nist.run_search"
      ],
      "metadata": {
        "id": "QRKJEvrQwh45",
        "colab": {
          "base_uri": "https://localhost:8080/",
          "height": 273
        },
        "outputId": "85138a7b-707e-4028-db4c-618a8386a968"
      },
      "execution_count": 78,
      "outputs": [
        {
          "output_type": "execute_result",
          "data": {
            "text/plain": [
              "<function nistchempy.search.run_search(identifier: str, search_type: str, search_parameters: Optional[nistchempy.search.NistSearchParameters] = None, request_config: Optional[nistchempy.requests.RequestConfig] = None, use_SI: bool = True, match_isotopes: bool = False, allow_other: bool = False, allow_extra: bool = False, no_ion: bool = False, cTG: bool = False, cTC: bool = False, cTP: bool = False, cTR: bool = False, cIE: bool = False, cIC: bool = False, cIR: bool = False, cTZ: bool = False, cMS: bool = False, cUV: bool = False, cGC: bool = False, cES: bool = False, cDI: bool = False, cSO: bool = False) -> nistchempy.search.NistSearch>"
            ],
            "text/html": [
              "<div style=\"max-width:800px; border: 1px solid var(--colab-border-color);\"><style>\n",
              "      pre.function-repr-contents {\n",
              "        overflow-x: auto;\n",
              "        padding: 8px 12px;\n",
              "        max-height: 500px;\n",
              "      }\n",
              "\n",
              "      pre.function-repr-contents.function-repr-contents-collapsed {\n",
              "        cursor: pointer;\n",
              "        max-height: 100px;\n",
              "      }\n",
              "    </style>\n",
              "    <pre style=\"white-space: initial; background:\n",
              "         var(--colab-secondary-surface-color); padding: 8px 12px;\n",
              "         border-bottom: 1px solid var(--colab-border-color);\"><b>nistchempy.search.run_search</b><br/>def run_search(identifier: str, search_type: str, search_parameters: _tp.Optional[NistSearchParameters]=None, request_config: _tp.Optional[_ncpr.RequestConfig]=None, use_SI: bool=True, match_isotopes: bool=False, allow_other: bool=False, allow_extra: bool=False, no_ion: bool=False, cTG: bool=False, cTC: bool=False, cTP: bool=False, cTR: bool=False, cIE: bool=False, cIC: bool=False, cIR: bool=False, cTZ: bool=False, cMS: bool=False, cUV: bool=False, cGC: bool=False, cES: bool=False, cDI: bool=False, cSO: bool=False) -&gt; NistSearch</pre><pre class=\"function-repr-contents function-repr-contents-collapsed\" style=\"\"><a class=\"filepath\" style=\"display:none\" href=\"#\">/usr/local/lib/python3.12/dist-packages/nistchempy/search.py</a>Searches compounds in NIST Chemistry WebBook\n",
              "\n",
              "Arguments:\n",
              "    identifier (str): NIST compound ID / formula / name / inchi / CAS RN\n",
              "    search_type (str): identifier type, available options are:\n",
              "        - &#x27;formula&#x27;\n",
              "        - &#x27;name&#x27;\n",
              "        - &#x27;inchi&#x27;\n",
              "        - &#x27;cas&#x27;\n",
              "        - &#x27;id&#x27;\n",
              "    search_parameters (_tp.Optional[NistSearchParameters]): search parameters; if provided, the following search parameter arguments are ignored\n",
              "    request_config (_tp.Optional[_ncpr.RequestConfig]): additional requests.get parameters\n",
              "    use_SI (bool): if True, returns results in SI units. otherwise calories are used\n",
              "    match_isotopes (bool): if True, exactly matches the specified isotopes (formula search only)\n",
              "    allow_other (bool): if True, allows elements not specified in formula (formula search only)\n",
              "    allow_extra (bool): if True, allows more atoms of elements in formula than specified (formula search only)\n",
              "    no_ion (bool): if True, excludes ions from the search (formula search only)\n",
              "    cTG (bool): if True, returns entries containing gas-phase thermodynamic data\n",
              "    cTC (bool): if True, returns entries containing condensed-phase thermodynamic data\n",
              "    cTP (bool): if True, returns entries containing phase-change thermodynamic data\n",
              "    cTR (bool): if True, returns entries containing reaction thermodynamic data\n",
              "    cIE (bool): if True, returns entries containing ion energetics thermodynamic data\n",
              "    cIC (bool): if True, returns entries containing ion cluster thermodynamic data\n",
              "    cIR (bool): if True, returns entries containing IR data\n",
              "    cTZ (bool): if True, returns entries containing THz IR data\n",
              "    cMS (bool): if True, returns entries containing MS data\n",
              "    cUV (bool): if True, returns entries containing UV/Vis data\n",
              "    cGC (bool): if True, returns entries containing gas chromatography data\n",
              "    cES (bool): if True, returns entries containing vibrational and electronic energy levels\n",
              "    cDI (bool): if True, returns entries containing constants of diatomic molecules\n",
              "    cSO (bool): if True, returns entries containing info on Henry&#x27;s law\n",
              "\n",
              "Returns:\n",
              "    NistSearch: search object containing info on found compounds</pre>\n",
              "      <script>\n",
              "      if (google.colab.kernel.accessAllowed && google.colab.files && google.colab.files.view) {\n",
              "        for (const element of document.querySelectorAll('.filepath')) {\n",
              "          element.style.display = 'block'\n",
              "          element.onclick = (event) => {\n",
              "            event.preventDefault();\n",
              "            event.stopPropagation();\n",
              "            google.colab.files.view(element.textContent, 236);\n",
              "          };\n",
              "        }\n",
              "      }\n",
              "      for (const element of document.querySelectorAll('.function-repr-contents')) {\n",
              "        element.onclick = (event) => {\n",
              "          event.preventDefault();\n",
              "          event.stopPropagation();\n",
              "          element.classList.toggle('function-repr-contents-collapsed');\n",
              "        };\n",
              "      }\n",
              "      </script>\n",
              "      </div>"
            ]
          },
          "metadata": {},
          "execution_count": 78
        }
      ]
    },
    {
      "cell_type": "markdown",
      "source": [
        "### Part 2: Initial search: A single molecule, hexane, using what we see *above*"
      ],
      "metadata": {
        "id": "9wtKLuhluUx2"
      }
    },
    {
      "cell_type": "code",
      "source": [
        "search_results = nist.run_search(identifier = 'hexane', search_type = 'name')\n",
        "search_results"
      ],
      "metadata": {
        "id": "v2B0ep-c-e1U",
        "colab": {
          "base_uri": "https://localhost:8080/"
        },
        "outputId": "c262b6ec-8063-4e54-9752-2654f242641c"
      },
      "execution_count": 79,
      "outputs": [
        {
          "output_type": "execute_result",
          "data": {
            "text/plain": [
              "NistSearch(success=True, num_compounds=1, lost=False)"
            ]
          },
          "metadata": {},
          "execution_count": 79
        }
      ]
    },
    {
      "cell_type": "code",
      "source": [
        "s_wild = nist.run_search(identifier = 'hexane*', search_type = 'name')\n",
        "s_wild"
      ],
      "metadata": {
        "id": "12dpU7pQw9EJ",
        "colab": {
          "base_uri": "https://localhost:8080/"
        },
        "outputId": "9301b0c3-943d-4fcc-9789-6bff096051fd"
      },
      "execution_count": 85,
      "outputs": [
        {
          "output_type": "execute_result",
          "data": {
            "text/plain": [
              "NistSearch(success=True, num_compounds=332, lost=False)"
            ]
          },
          "metadata": {},
          "execution_count": 85
        }
      ]
    },
    {
      "cell_type": "markdown",
      "source": [
        "We can learn more about what our search contains by looking at its directory"
      ],
      "metadata": {
        "id": "Ryyq952UuQHb"
      }
    },
    {
      "cell_type": "code",
      "source": [
        "dir(search_results)"
      ],
      "metadata": {
        "id": "31UjnBAO-e7Q",
        "colab": {
          "base_uri": "https://localhost:8080/"
        },
        "outputId": "c4681057-6dd6-4a9d-95b3-9f357db5894c"
      },
      "execution_count": 81,
      "outputs": [
        {
          "output_type": "execute_result",
          "data": {
            "text/plain": [
              "['__annotations__',\n",
              " '__class__',\n",
              " '__dataclass_fields__',\n",
              " '__dataclass_params__',\n",
              " '__delattr__',\n",
              " '__dict__',\n",
              " '__dir__',\n",
              " '__doc__',\n",
              " '__eq__',\n",
              " '__format__',\n",
              " '__ge__',\n",
              " '__getattribute__',\n",
              " '__getstate__',\n",
              " '__gt__',\n",
              " '__hash__',\n",
              " '__init__',\n",
              " '__init_subclass__',\n",
              " '__le__',\n",
              " '__lt__',\n",
              " '__match_args__',\n",
              " '__module__',\n",
              " '__ne__',\n",
              " '__new__',\n",
              " '__post_init__',\n",
              " '__reduce__',\n",
              " '__reduce_ex__',\n",
              " '__repr__',\n",
              " '__setattr__',\n",
              " '__sizeof__',\n",
              " '__str__',\n",
              " '__subclasshook__',\n",
              " '__weakref__',\n",
              " '_nist_response',\n",
              " '_request_config',\n",
              " '_save_response_page',\n",
              " 'compound_ids',\n",
              " 'compounds',\n",
              " 'load_found_compounds',\n",
              " 'lost',\n",
              " 'num_compounds',\n",
              " 'search_parameters',\n",
              " 'success']"
            ]
          },
          "metadata": {},
          "execution_count": 81
        }
      ]
    },
    {
      "cell_type": "markdown",
      "source": [
        "Generally, anything that starts with underscores (__) are not going to be very useful. Therefore, this leaves us with a few things that could be useful."
      ],
      "metadata": {
        "id": "YWIc0KPzu2Nr"
      }
    },
    {
      "cell_type": "code",
      "source": [
        "search_results.compound_ids"
      ],
      "metadata": {
        "id": "6vDUF7Bp-8w8",
        "colab": {
          "base_uri": "https://localhost:8080/"
        },
        "outputId": "463458d0-6c48-4d0b-e9fe-d76d82b13d23"
      },
      "execution_count": 84,
      "outputs": [
        {
          "output_type": "execute_result",
          "data": {
            "text/plain": [
              "['C110543']"
            ]
          },
          "metadata": {},
          "execution_count": 84
        }
      ]
    },
    {
      "cell_type": "code",
      "source": [
        "s_wild.compound_ids"
      ],
      "metadata": {
        "id": "4dP_PLbsEKBd",
        "outputId": "020ac853-8006-452a-f60f-fb586606f329",
        "colab": {
          "base_uri": "https://localhost:8080/"
        }
      },
      "execution_count": 86,
      "outputs": [
        {
          "output_type": "execute_result",
          "data": {
            "text/plain": [
              "['C591764',\n",
              " 'C589344',\n",
              " 'C110543',\n",
              " 'C592132',\n",
              " 'C584941',\n",
              " 'C589435',\n",
              " 'C583482',\n",
              " 'C590738',\n",
              " 'C563166',\n",
              " 'C3522949',\n",
              " 'C619998',\n",
              " 'C1077163',\n",
              " 'C1069530',\n",
              " 'C16747265',\n",
              " 'C544105',\n",
              " 'C628739',\n",
              " 'C16747254',\n",
              " 'C627930',\n",
              " 'C4292755',\n",
              " 'C111319',\n",
              " 'C16747301',\n",
              " 'C921471',\n",
              " 'C16747287',\n",
              " 'C111251',\n",
              " 'C629118',\n",
              " 'C16747312',\n",
              " 'C124049',\n",
              " 'C110134',\n",
              " 'C141286',\n",
              " 'C646140',\n",
              " 'C4437518',\n",
              " 'C3658933',\n",
              " 'C355420',\n",
              " 'C3848246',\n",
              " 'C3074757',\n",
              " 'C18105312',\n",
              " 'C3074768',\n",
              " 'C4747073',\n",
              " 'C16789461',\n",
              " 'C1071814',\n",
              " 'C141048',\n",
              " 'C112583',\n",
              " 'C103231',\n",
              " 'C638459',\n",
              " 'C6294311',\n",
              " 'C19398777',\n",
              " 'C105997',\n",
              " 'C3074779',\n",
              " 'C5171846',\n",
              " 'C106194',\n",
              " 'C3002242',\n",
              " 'C97176',\n",
              " 'C19424341',\n",
              " 'C55520939',\n",
              " 'C13475815',\n",
              " 'C849990',\n",
              " 'C638288',\n",
              " 'C6938949',\n",
              " 'C592905',\n",
              " 'C2346818',\n",
              " 'C111693',\n",
              " 'C629038',\n",
              " 'C20291605',\n",
              " 'C3377864',\n",
              " 'C3377875',\n",
              " 'C52896998',\n",
              " 'C2162927',\n",
              " 'C52897093',\n",
              " 'C16747425',\n",
              " 'C4404459',\n",
              " 'C2935446',\n",
              " 'C52897128',\n",
              " 'C52897082',\n",
              " 'C59789',\n",
              " 'C52897151',\n",
              " 'C51750653',\n",
              " 'C52897106',\n",
              " 'C52897117',\n",
              " 'C1191431',\n",
              " 'C3404679',\n",
              " 'C1087496',\n",
              " 'C123795',\n",
              " 'C4468660',\n",
              " 'C52897060',\n",
              " 'C5171868',\n",
              " 'C26570730',\n",
              " 'C6031023',\n",
              " 'C4468422',\n",
              " 'C822060',\n",
              " 'C104255949',\n",
              " 'U71969',\n",
              " 'C105975',\n",
              " 'C1633905',\n",
              " 'C7309446',\n",
              " 'C52897048',\n",
              " 'C2432771',\n",
              " 'C24768432',\n",
              " 'C62016131',\n",
              " 'C52897015',\n",
              " 'C52897059',\n",
              " 'C52897037',\n",
              " 'C20291912',\n",
              " 'C7220260',\n",
              " 'C6124909',\n",
              " 'C373148',\n",
              " 'C17302022',\n",
              " 'C3404806',\n",
              " 'C73105007',\n",
              " 'C109444',\n",
              " 'C1610237',\n",
              " 'C54305907',\n",
              " 'C52897004',\n",
              " 'C1330865',\n",
              " 'C42131895',\n",
              " 'C1599479',\n",
              " 'C94291506',\n",
              " 'C2163000',\n",
              " 'C62850219',\n",
              " 'C4398656',\n",
              " 'C624204',\n",
              " 'R116082',\n",
              " 'C6124910',\n",
              " 'C54576135',\n",
              " 'C27178161',\n",
              " 'C54484730',\n",
              " 'C72931294',\n",
              " 'C110338',\n",
              " 'C18589270',\n",
              " 'C31294914',\n",
              " 'C1436346',\n",
              " 'C56273337',\n",
              " 'C2998041',\n",
              " 'U221665',\n",
              " 'C66434502',\n",
              " 'C50635353',\n",
              " 'C56375883',\n",
              " 'C5756434',\n",
              " 'R116042',\n",
              " 'C110292',\n",
              " 'C106694',\n",
              " 'C25103871',\n",
              " 'C84162',\n",
              " 'C151326',\n",
              " 'C55125229',\n",
              " 'C2819412',\n",
              " 'C68201718',\n",
              " 'R402338',\n",
              " 'C629094',\n",
              " 'R211840',\n",
              " 'R211855',\n",
              " 'C17597954',\n",
              " 'C19117192',\n",
              " 'C14532242',\n",
              " 'R116077',\n",
              " 'R116097',\n",
              " 'C133267251',\n",
              " 'C627918',\n",
              " 'C355373',\n",
              " 'C21666386',\n",
              " 'C4074902',\n",
              " 'C2451845',\n",
              " 'C24774581',\n",
              " 'C19780940',\n",
              " 'C4430357',\n",
              " 'C5789311',\n",
              " 'C3089552',\n",
              " 'C372543',\n",
              " 'C33703081',\n",
              " 'C14697484',\n",
              " 'C4430391',\n",
              " 'C626868',\n",
              " 'C18908662',\n",
              " 'R106624',\n",
              " 'C10604703',\n",
              " 'C58443860',\n",
              " 'C3184358',\n",
              " 'C355431',\n",
              " 'R629182',\n",
              " 'R629177',\n",
              " 'R121787',\n",
              " 'R629162',\n",
              " 'C626700',\n",
              " 'C1071938',\n",
              " 'R121792',\n",
              " 'R511734',\n",
              " 'C5363644',\n",
              " 'R295497',\n",
              " 'R294632',\n",
              " 'R294612',\n",
              " 'R294647',\n",
              " 'R294627',\n",
              " 'R294598',\n",
              " 'R294607',\n",
              " 'C6222226',\n",
              " 'C111502',\n",
              " 'R12006',\n",
              " 'R12010',\n",
              " 'C54815122',\n",
              " 'C28183097',\n",
              " 'C61868722',\n",
              " 'C55191189',\n",
              " 'R32428',\n",
              " 'C102885132',\n",
              " 'C623825',\n",
              " 'R136615',\n",
              " 'C6294173',\n",
              " 'C928405',\n",
              " 'C2432748',\n",
              " 'C13007415',\n",
              " 'C922178',\n",
              " 'C38447222',\n",
              " 'C55258156',\n",
              " 'C297730939',\n",
              " 'C628944',\n",
              " 'C68191037',\n",
              " 'C74630914',\n",
              " 'C3548854',\n",
              " 'C62199762',\n",
              " 'C62199773',\n",
              " 'C62199784',\n",
              " 'C62199820',\n",
              " 'C62199831',\n",
              " 'C62199842',\n",
              " 'C62199853',\n",
              " 'C62199864',\n",
              " 'C53783894',\n",
              " 'C54658014',\n",
              " 'C61868631',\n",
              " 'C61868642',\n",
              " 'C61868653',\n",
              " 'C61868664',\n",
              " 'C106003',\n",
              " 'C96069760',\n",
              " 'C57732066',\n",
              " 'C10412983',\n",
              " 'C52919172',\n",
              " 'C62184989',\n",
              " 'C62184990',\n",
              " 'C62185006',\n",
              " 'C62185017',\n",
              " 'C62185028',\n",
              " 'C62185039',\n",
              " 'C62185040',\n",
              " 'C62185051',\n",
              " 'C62185062',\n",
              " 'C62185073',\n",
              " 'C62185084',\n",
              " 'C62185095',\n",
              " 'C62185108',\n",
              " 'C35444441',\n",
              " 'T999908508',\n",
              " 'T999908519',\n",
              " 'T999989898',\n",
              " 'C17961103',\n",
              " 'C14255448',\n",
              " 'C62184898',\n",
              " 'C66567122',\n",
              " 'C6939726',\n",
              " 'C62184901',\n",
              " 'C62184912',\n",
              " 'C62184923',\n",
              " 'C62184934',\n",
              " 'C62184945',\n",
              " 'C62184956',\n",
              " 'C62184967',\n",
              " 'C62184978',\n",
              " 'C62199886',\n",
              " 'C62199897',\n",
              " 'C61868733',\n",
              " 'C61868744',\n",
              " 'C61868755',\n",
              " 'C61868766',\n",
              " 'C61868777',\n",
              " 'C61868788',\n",
              " 'C61868799',\n",
              " 'C61868802',\n",
              " 'C61868813',\n",
              " 'C61868824',\n",
              " 'C61868835',\n",
              " 'C61868846',\n",
              " 'T999908371',\n",
              " 'C5586709',\n",
              " 'C62185119',\n",
              " 'C62185120',\n",
              " 'C62185131',\n",
              " 'C101654302',\n",
              " 'C50902799',\n",
              " 'C5457443',\n",
              " 'C100859798',\n",
              " 'T999904324',\n",
              " 'C24768647',\n",
              " 'C61868857',\n",
              " 'C61868879',\n",
              " 'C61868891',\n",
              " 'C66368965',\n",
              " 'C52949334',\n",
              " 'C61868675',\n",
              " 'C61868686',\n",
              " 'C61868697',\n",
              " 'C61868700',\n",
              " 'C61868711',\n",
              " 'C141311',\n",
              " 'C29342447',\n",
              " 'C41761119',\n",
              " 'C89045001',\n",
              " 'C43197780',\n",
              " 'C34683733',\n",
              " 'C33240561',\n",
              " 'C20746514',\n",
              " 'C62199875',\n",
              " 'C16967047',\n",
              " 'C141184',\n",
              " 'C3006824',\n",
              " 'C58133269',\n",
              " 'C4513626',\n",
              " 'C13179981',\n",
              " 'C141173',\n",
              " 'C53685782',\n",
              " 'C25246724',\n",
              " 'C7286400',\n",
              " 'C2525624',\n",
              " 'C24938372',\n",
              " 'C32357838',\n",
              " 'C112655342',\n",
              " 'C108634',\n",
              " 'C918229',\n",
              " 'C4454186',\n",
              " 'B5000626',\n",
              " 'C6621596',\n",
              " 'C371915',\n",
              " 'C358689',\n",
              " 'C55258167']"
            ]
          },
          "metadata": {},
          "execution_count": 86
        }
      ]
    },
    {
      "cell_type": "code",
      "source": [
        "search_results.compounds"
      ],
      "metadata": {
        "id": "8IOGMU34vJXC",
        "colab": {
          "base_uri": "https://localhost:8080/"
        },
        "outputId": "6c708e3d-d9b1-4adc-c538-8967a3c05c1b"
      },
      "execution_count": 83,
      "outputs": [
        {
          "output_type": "execute_result",
          "data": {
            "text/plain": [
              "[NistCompound(ID=C110543)]"
            ]
          },
          "metadata": {},
          "execution_count": 83
        }
      ]
    },
    {
      "cell_type": "markdown",
      "source": [
        "Despite there only being one compound, the program still thinks of this as a list, so if we want to index the first compound, we need to index it"
      ],
      "metadata": {
        "id": "5KVxHcGBxVhj"
      }
    },
    {
      "cell_type": "code",
      "source": [
        "X = search_results.compounds[0]\n",
        "X"
      ],
      "metadata": {
        "id": "MRWZQrME-87g",
        "colab": {
          "base_uri": "https://localhost:8080/"
        },
        "outputId": "257308cc-2ec1-482f-d856-28fed83a06f6"
      },
      "execution_count": 87,
      "outputs": [
        {
          "output_type": "execute_result",
          "data": {
            "text/plain": [
              "NistCompound(ID=C110543)"
            ]
          },
          "metadata": {},
          "execution_count": 87
        }
      ]
    },
    {
      "cell_type": "markdown",
      "source": [
        "We can then use a built-in method to get the IR spectra for our compound."
      ],
      "metadata": {
        "id": "huo-g653xsBe"
      }
    },
    {
      "cell_type": "code",
      "source": [
        "X.get_ir_spectra()\n",
        "X.ir_specs"
      ],
      "metadata": {
        "id": "RibrGkou-8-a",
        "colab": {
          "base_uri": "https://localhost:8080/"
        },
        "outputId": "38bc0ea9-8b75-446d-cee1-fef386fa7ea4"
      },
      "execution_count": 88,
      "outputs": [
        {
          "output_type": "execute_result",
          "data": {
            "text/plain": [
              "[Spectrum(C110543, IR spectrum #0),\n",
              " Spectrum(C110543, IR spectrum #1),\n",
              " Spectrum(C110543, IR spectrum #2)]"
            ]
          },
          "metadata": {},
          "execution_count": 88
        }
      ]
    },
    {
      "cell_type": "code",
      "source": [
        "X.ir_specs[0].jdx_text"
      ],
      "metadata": {
        "id": "2Frp8kcGx5Nm",
        "colab": {
          "base_uri": "https://localhost:8080/",
          "height": 145
        },
        "outputId": "28a1f6ea-2081-4f69-b5a6-91639a5e634e"
      },
      "execution_count": 89,
      "outputs": [
        {
          "output_type": "execute_result",
          "data": {
            "text/plain": [
              "'##TITLE=Hexane\\n##JCAMP-DX=4.24\\n##DATA TYPE=INFRARED SPECTRUM\\n##ORIGIN=Sadtler Research Labs Under US-EPA Contract\\n##OWNER=NIST Standard Reference Data Program\\nCollection (C) 2018 copyright by the U.S. Secretary of Commerce\\non behalf of the United States of America. All rights reserved.\\n##CAS REGISTRY NO=110-54-3\\n##MOLFORM=C 6 H 14\\n##$NIST SOURCE=MSDC-IR\\n##STATE=gas\\n##XUNITS=1/CM\\n##YUNITS=ABSORBANCE\\n##XFACTOR=1.0\\n##YFACTOR=0.000082358\\n##DELTAX=4.0\\n##FIRSTX=450.0\\n##LASTX=3966.0\\n##FIRSTY=0.001565\\n##MAXX=3966\\n##MINX=450\\n##MAXY=0.82358\\n##MINY=0\\n##NPOINTS=880\\n##XYDATA=(X++(Y..Y))\\n450.0 19 46 34 39 52 38 16 43 44 36\\n490.0 46 44 84 28 9 44 85 48 20 32\\n530.0 63 32 25 30 75 30 48 41 92 59\\n570.0 71 32 56 15 36 40 80 34 28 40\\n610.0 56 20 33 38 57 25 40 41 57 26\\n650.0 41 37 60 34 27 68 66 32 50 60\\n690.0 85 59 86 99 132 135 172 190 215 200\\n730.0 198 192 180 138 129 132 135 120 122 127\\n770.0 127 103 97 90 89 79 58 97 86 68\\n810.0 72 77 72 61 65 72 83 62 63 67\\n850.0 61 52 68 93 103 80 102 136 124 130\\n890.0 137 149 125 120 117 127 99 85 74 82\\n930.0 57 51 44 56 39 42 40 62 46 46\\n970.0 52 62 50 56 54 74 54 55 61 81\\n1010.0 71 76 80 99 87 94 97 116 103 101\\n1050.0 101 114 100 104 98 98 71 61 55 53\\n1090.0 36 40 41 47 34 42 47 58 50 60\\n1130.0 80 86 74 74 71 65 46 46 46 39\\n1170.0 28 36 39 35 24 30 39 43 34 49\\n1210.0 62 62 60 65 79 75 65 71 87 83\\n1250.0 76 83 93 87 73 74 91 93 107 120\\n1290.0 149 142 153 151 165 146 140 133 152 152\\n1330.0 166 187 227 234 232 239 253 224 234 257\\n1370.0 338 414 494 529 554 568 513 391 315 247\\n1410.0 213 186 186 185 210 254 337 420 545 684\\n1450.0 855 997 1126 1215 1257 1182 1080 942 811 639\\n1490.0 498 387 307 230 182 143 127 99 92 87\\n1530.0 86 76 75 75 70 59 62 60 52 45\\n1570.0 42 52 50 38 42 49 49 37 43 49\\n1610.0 49 39 40 42 42 38 36 43 42 35\\n1650.0 31 41 36 30 30 43 36 29 29 42\\n1690.0 29 36 23 35 23 24 17 28 20 25\\n1730.0 19 34 18 16 15 23 15 16 11 23\\n1770.0 17 19 17 28 17 17 19 20 15 15\\n1810.0 9 22 7 14 11 17 14 9 8 20\\n1850.0 9 13 14 19 13 14 13 20 11 7\\n1890.0 14 17 9 7 9 18 8 8 12 20\\n1930.0 11 6 10 17 8 6 13 12 6 6\\n1970.0 12 13 5 6 12 12 12 7 14 16\\n2010.0 12 11 23 24 23 17 30 30 22 15\\n2050.0 23 23 19 10 17 17 17 3 15 15\\n2090.0 14 6 16 6 11 6 16 10 11 9\\n2130.0 22 15 15 11 17 15 16 10 22 17\\n2170.0 15 15 26 22 20 15 28 20 20 18\\n2210.0 25 17 15 15 19 15 14 9 15 14\\n2250.0 8 14 24 18 7 15 26 22 13 17\\n2290.0 28 19 14 19 24 24 16 23 23 23\\n2330.0 12 23 32 28 19 37 46 49 20 30\\n2370.0 37 35 15 31 34 35 18 25 25 24\\n2410.0 12 18 24 24 6 18 13 15 5 16\\n2450.0 12 18 0 12 11 10 5 15 8 13\\n2490.0 5 16 12 13 13 18 18 18 12 20\\n2530.0 24 19 12 19 20 19 13 30 26 31\\n2570.0 32 45 49 49 50 62 66 62 58 74\\n2610.0 69 70 70 76 75 70 69 82 89 75\\n2650.0 80 87 94 91 96 104 119 113 119 126\\n2690.0 130 108 109 103 112 93 102 112 125 125\\n2730.0 144 163 187 186 194 200 198 169 177 169\\n2770.0 182 169 186 206 230 238 263 281 319 313\\n2810.0 352 382 432 465 550 648 797 979 1252 1591\\n2850.0 2037 2505 3049 3555 4059 4346 4802 5227 5189 4810\\n2890.0 4719 4538 4205 4074 4420 5076 5920 6733 7765 8780\\n2930.0 9539 9653 9957 10000 9496 9000 8921 9215 9521 9835\\n2970.0 9430 9249 8007 6241 4475 3147 2224 1600 1193 936\\n3010.0 739 615 538 507 457 430 408 399 371 337\\n3050.0 315 304 266 252 230 240 210 195 187 193\\n3090.0 174 173 163 178 153 152 141 158 132 124\\n3130.0 127 141 104 113 110 119 105 111 99 111\\n3170.0 98 99 87 107 87 91 93 100 86 74\\n3210.0 70 76 58 52 51 50 36 43 38 43\\n3250.0 23 25 33 34 24 23 23 29 16 19\\n3290.0 37 40 27 24 34 29 19 17 30 24\\n3330.0 17 18 32 35 19 16 36 23 23 18\\n3370.0 38 30 26 19 31 32 17 19 44 28\\n3410.0 18 23 37 18 15 13 38 19 22 7\\n3450.0 30 19 12 8 30 16 19 10 34 23\\n3490.0 15 4 30 22 20 9 29 18 6 10\\n3530.0 25 24 5 5 30 10 14 13 23 19\\n3570.0 22 12 26 23 28 14 25 27 13 26\\n3610.0 27 24 25 19 33 27 23 25 42 29\\n3650.0 24 29 34 36 30 34 32 32 20 27\\n3690.0 34 29 20 34 33 29 14 30 38 28\\n3730.0 27 33 33 25 13 35 40 33 32 38\\n3770.0 33 38 34 42 45 43 32 37 42 43\\n3810.0 36 40 44 38 37 50 44 40 24 34\\n3850.0 33 39 27 40 43 42 31 41 48 45\\n3890.0 42 51 45 53 45 54 51 46 40 46\\n3930.0 44 41 39 34 45 41 41 44 47 47\\n##END=\\n'"
            ],
            "application/vnd.google.colaboratory.intrinsic+json": {
              "type": "string"
            }
          },
          "metadata": {},
          "execution_count": 89
        }
      ]
    },
    {
      "cell_type": "markdown",
      "source": [
        "Spectra in this format are saved as jdx_text files, which is a standardized way to share spectra. There may be a better way to do this, but in order to interpret this, we need a package called \"jdcamp\" that works with these files"
      ],
      "metadata": {
        "id": "qAbeyR9PyJ02"
      }
    },
    {
      "cell_type": "markdown",
      "source": [
        "### Part 3 : Getting jdcamp to interpret the jdx files"
      ],
      "metadata": {
        "id": "s3nFCGw_yU8y"
      }
    },
    {
      "cell_type": "code",
      "source": [
        "! pip install jcamp\n",
        "import jcamp as jc"
      ],
      "metadata": {
        "id": "3YKyk93px5RQ",
        "colab": {
          "base_uri": "https://localhost:8080/"
        },
        "outputId": "c097bb2c-1c06-4527-8045-aa912bbf5707"
      },
      "execution_count": 90,
      "outputs": [
        {
          "output_type": "stream",
          "name": "stdout",
          "text": [
            "Requirement already satisfied: jcamp in /usr/local/lib/python3.12/dist-packages (1.2.2)\n",
            "Requirement already satisfied: numpy in /usr/local/lib/python3.12/dist-packages (from jcamp) (2.0.2)\n",
            "Requirement already satisfied: datetime in /usr/local/lib/python3.12/dist-packages (from jcamp) (5.5)\n",
            "Requirement already satisfied: zope.interface in /usr/local/lib/python3.12/dist-packages (from datetime->jcamp) (7.2)\n",
            "Requirement already satisfied: pytz in /usr/local/lib/python3.12/dist-packages (from datetime->jcamp) (2025.2)\n",
            "Requirement already satisfied: setuptools in /usr/local/lib/python3.12/dist-packages (from zope.interface->datetime->jcamp) (75.2.0)\n"
          ]
        }
      ]
    },
    {
      "cell_type": "markdown",
      "source": [
        "We're going to set up a directory for you to store your spectra. Here we will save them and read them."
      ],
      "metadata": {
        "id": "bPH0D-SFyhm4"
      }
    },
    {
      "cell_type": "code",
      "source": [
        "import os\n",
        "\n",
        "# Create a directory to save the spectra\n",
        "output_dir = 'nist_spectra'\n",
        "os.makedirs(output_dir, exist_ok=True)\n",
        "\n",
        "# Save the mass spectra to the directory\n",
        "X.save_ir_spectra(output_dir)"
      ],
      "metadata": {
        "id": "ld_Fi2ejBW0Q"
      },
      "execution_count": 91,
      "outputs": []
    },
    {
      "cell_type": "markdown",
      "source": [
        "If you check your files on the left, you'll see a directory called \"nist_spectra\" that now holds the 3 IR spectra. Note that it saves them by the NIST compound reference code. Let's now use the jcamp function to read these out. To get the proper file path, click on the 3 dots next to the file and \"Copy Path\""
      ],
      "metadata": {
        "id": "ShYlttsKyyse"
      }
    },
    {
      "cell_type": "code",
      "source": [
        "spec1 = jc.jcamp_readfile('/content/nist_spectra/C110543_IR_0.jdx')\n",
        "spec2 = jc.jcamp_readfile('/content/nist_spectra/C110543_IR_1.jdx')\n",
        "spec3 = jc.jcamp_readfile('/content/nist_spectra/C110543_IR_2.jdx')"
      ],
      "metadata": {
        "id": "eG42h7hZCIw8"
      },
      "execution_count": 92,
      "outputs": []
    },
    {
      "cell_type": "markdown",
      "source": [
        "### Part 4: Plotting and Examining Data"
      ],
      "metadata": {
        "id": "5c0PzZA021Iz"
      }
    },
    {
      "cell_type": "markdown",
      "source": [
        "Let's look at a spectrum."
      ],
      "metadata": {
        "id": "7D_nEmauzQeF"
      }
    },
    {
      "cell_type": "code",
      "source": [
        "spec1"
      ],
      "metadata": {
        "id": "L9CESYGWzg86",
        "colab": {
          "base_uri": "https://localhost:8080/"
        },
        "collapsed": true,
        "outputId": "445caaf4-7c39-4cc4-b067-5c28d7d259ab"
      },
      "execution_count": 93,
      "outputs": [
        {
          "output_type": "execute_result",
          "data": {
            "text/plain": [
              "{'title': 'Hexane',\n",
              " 'jcamp-dx': 4.24,\n",
              " 'data type': 'INFRARED SPECTRUM',\n",
              " 'origin': 'Sadtler Research Labs Under US-EPA Contract',\n",
              " 'owner': 'NIST Standard Reference Data Program\\nCollection (C) 2018 copyright by the U.S. Secretary of Commerce\\non behalf of the United States of America. All rights reserved.',\n",
              " 'cas registry no': '110-54-3',\n",
              " 'molform': 'C 6 H 14',\n",
              " '$nist source': 'MSDC-IR',\n",
              " 'state': 'gas',\n",
              " 'xunits': '1/CM',\n",
              " 'yunits': 'ABSORBANCE',\n",
              " 'xfactor': 1.0,\n",
              " 'yfactor': 8.2358e-05,\n",
              " 'deltax': 4.0,\n",
              " 'firstx': 450.0,\n",
              " 'lastx': 3966.0,\n",
              " 'firsty': 0.001565,\n",
              " 'maxx': 3966,\n",
              " 'minx': 450,\n",
              " 'maxy': 0.82358,\n",
              " 'miny': 0,\n",
              " 'npoints': 880,\n",
              " 'xydata': '(X++(Y..Y))',\n",
              " 'end': '',\n",
              " 'x': array([ 450.,  454.,  458.,  462.,  466.,  470.,  474.,  478.,  482.,\n",
              "         486.,  490.,  494.,  498.,  502.,  506.,  510.,  514.,  518.,\n",
              "         522.,  526.,  530.,  534.,  538.,  542.,  546.,  550.,  554.,\n",
              "         558.,  562.,  566.,  570.,  574.,  578.,  582.,  586.,  590.,\n",
              "         594.,  598.,  602.,  606.,  610.,  614.,  618.,  622.,  626.,\n",
              "         630.,  634.,  638.,  642.,  646.,  650.,  654.,  658.,  662.,\n",
              "         666.,  670.,  674.,  678.,  682.,  686.,  690.,  694.,  698.,\n",
              "         702.,  706.,  710.,  714.,  718.,  722.,  726.,  730.,  734.,\n",
              "         738.,  742.,  746.,  750.,  754.,  758.,  762.,  766.,  770.,\n",
              "         774.,  778.,  782.,  786.,  790.,  794.,  798.,  802.,  806.,\n",
              "         810.,  814.,  818.,  822.,  826.,  830.,  834.,  838.,  842.,\n",
              "         846.,  850.,  854.,  858.,  862.,  866.,  870.,  874.,  878.,\n",
              "         882.,  886.,  890.,  894.,  898.,  902.,  906.,  910.,  914.,\n",
              "         918.,  922.,  926.,  930.,  934.,  938.,  942.,  946.,  950.,\n",
              "         954.,  958.,  962.,  966.,  970.,  974.,  978.,  982.,  986.,\n",
              "         990.,  994.,  998., 1002., 1006., 1010., 1014., 1018., 1022.,\n",
              "        1026., 1030., 1034., 1038., 1042., 1046., 1050., 1054., 1058.,\n",
              "        1062., 1066., 1070., 1074., 1078., 1082., 1086., 1090., 1094.,\n",
              "        1098., 1102., 1106., 1110., 1114., 1118., 1122., 1126., 1130.,\n",
              "        1134., 1138., 1142., 1146., 1150., 1154., 1158., 1162., 1166.,\n",
              "        1170., 1174., 1178., 1182., 1186., 1190., 1194., 1198., 1202.,\n",
              "        1206., 1210., 1214., 1218., 1222., 1226., 1230., 1234., 1238.,\n",
              "        1242., 1246., 1250., 1254., 1258., 1262., 1266., 1270., 1274.,\n",
              "        1278., 1282., 1286., 1290., 1294., 1298., 1302., 1306., 1310.,\n",
              "        1314., 1318., 1322., 1326., 1330., 1334., 1338., 1342., 1346.,\n",
              "        1350., 1354., 1358., 1362., 1366., 1370., 1374., 1378., 1382.,\n",
              "        1386., 1390., 1394., 1398., 1402., 1406., 1410., 1414., 1418.,\n",
              "        1422., 1426., 1430., 1434., 1438., 1442., 1446., 1450., 1454.,\n",
              "        1458., 1462., 1466., 1470., 1474., 1478., 1482., 1486., 1490.,\n",
              "        1494., 1498., 1502., 1506., 1510., 1514., 1518., 1522., 1526.,\n",
              "        1530., 1534., 1538., 1542., 1546., 1550., 1554., 1558., 1562.,\n",
              "        1566., 1570., 1574., 1578., 1582., 1586., 1590., 1594., 1598.,\n",
              "        1602., 1606., 1610., 1614., 1618., 1622., 1626., 1630., 1634.,\n",
              "        1638., 1642., 1646., 1650., 1654., 1658., 1662., 1666., 1670.,\n",
              "        1674., 1678., 1682., 1686., 1690., 1694., 1698., 1702., 1706.,\n",
              "        1710., 1714., 1718., 1722., 1726., 1730., 1734., 1738., 1742.,\n",
              "        1746., 1750., 1754., 1758., 1762., 1766., 1770., 1774., 1778.,\n",
              "        1782., 1786., 1790., 1794., 1798., 1802., 1806., 1810., 1814.,\n",
              "        1818., 1822., 1826., 1830., 1834., 1838., 1842., 1846., 1850.,\n",
              "        1854., 1858., 1862., 1866., 1870., 1874., 1878., 1882., 1886.,\n",
              "        1890., 1894., 1898., 1902., 1906., 1910., 1914., 1918., 1922.,\n",
              "        1926., 1930., 1934., 1938., 1942., 1946., 1950., 1954., 1958.,\n",
              "        1962., 1966., 1970., 1974., 1978., 1982., 1986., 1990., 1994.,\n",
              "        1998., 2002., 2006., 2010., 2014., 2018., 2022., 2026., 2030.,\n",
              "        2034., 2038., 2042., 2046., 2050., 2054., 2058., 2062., 2066.,\n",
              "        2070., 2074., 2078., 2082., 2086., 2090., 2094., 2098., 2102.,\n",
              "        2106., 2110., 2114., 2118., 2122., 2126., 2130., 2134., 2138.,\n",
              "        2142., 2146., 2150., 2154., 2158., 2162., 2166., 2170., 2174.,\n",
              "        2178., 2182., 2186., 2190., 2194., 2198., 2202., 2206., 2210.,\n",
              "        2214., 2218., 2222., 2226., 2230., 2234., 2238., 2242., 2246.,\n",
              "        2250., 2254., 2258., 2262., 2266., 2270., 2274., 2278., 2282.,\n",
              "        2286., 2290., 2294., 2298., 2302., 2306., 2310., 2314., 2318.,\n",
              "        2322., 2326., 2330., 2334., 2338., 2342., 2346., 2350., 2354.,\n",
              "        2358., 2362., 2366., 2370., 2374., 2378., 2382., 2386., 2390.,\n",
              "        2394., 2398., 2402., 2406., 2410., 2414., 2418., 2422., 2426.,\n",
              "        2430., 2434., 2438., 2442., 2446., 2450., 2454., 2458., 2462.,\n",
              "        2466., 2470., 2474., 2478., 2482., 2486., 2490., 2494., 2498.,\n",
              "        2502., 2506., 2510., 2514., 2518., 2522., 2526., 2530., 2534.,\n",
              "        2538., 2542., 2546., 2550., 2554., 2558., 2562., 2566., 2570.,\n",
              "        2574., 2578., 2582., 2586., 2590., 2594., 2598., 2602., 2606.,\n",
              "        2610., 2614., 2618., 2622., 2626., 2630., 2634., 2638., 2642.,\n",
              "        2646., 2650., 2654., 2658., 2662., 2666., 2670., 2674., 2678.,\n",
              "        2682., 2686., 2690., 2694., 2698., 2702., 2706., 2710., 2714.,\n",
              "        2718., 2722., 2726., 2730., 2734., 2738., 2742., 2746., 2750.,\n",
              "        2754., 2758., 2762., 2766., 2770., 2774., 2778., 2782., 2786.,\n",
              "        2790., 2794., 2798., 2802., 2806., 2810., 2814., 2818., 2822.,\n",
              "        2826., 2830., 2834., 2838., 2842., 2846., 2850., 2854., 2858.,\n",
              "        2862., 2866., 2870., 2874., 2878., 2882., 2886., 2890., 2894.,\n",
              "        2898., 2902., 2906., 2910., 2914., 2918., 2922., 2926., 2930.,\n",
              "        2934., 2938., 2942., 2946., 2950., 2954., 2958., 2962., 2966.,\n",
              "        2970., 2974., 2978., 2982., 2986., 2990., 2994., 2998., 3002.,\n",
              "        3006., 3010., 3014., 3018., 3022., 3026., 3030., 3034., 3038.,\n",
              "        3042., 3046., 3050., 3054., 3058., 3062., 3066., 3070., 3074.,\n",
              "        3078., 3082., 3086., 3090., 3094., 3098., 3102., 3106., 3110.,\n",
              "        3114., 3118., 3122., 3126., 3130., 3134., 3138., 3142., 3146.,\n",
              "        3150., 3154., 3158., 3162., 3166., 3170., 3174., 3178., 3182.,\n",
              "        3186., 3190., 3194., 3198., 3202., 3206., 3210., 3214., 3218.,\n",
              "        3222., 3226., 3230., 3234., 3238., 3242., 3246., 3250., 3254.,\n",
              "        3258., 3262., 3266., 3270., 3274., 3278., 3282., 3286., 3290.,\n",
              "        3294., 3298., 3302., 3306., 3310., 3314., 3318., 3322., 3326.,\n",
              "        3330., 3334., 3338., 3342., 3346., 3350., 3354., 3358., 3362.,\n",
              "        3366., 3370., 3374., 3378., 3382., 3386., 3390., 3394., 3398.,\n",
              "        3402., 3406., 3410., 3414., 3418., 3422., 3426., 3430., 3434.,\n",
              "        3438., 3442., 3446., 3450., 3454., 3458., 3462., 3466., 3470.,\n",
              "        3474., 3478., 3482., 3486., 3490., 3494., 3498., 3502., 3506.,\n",
              "        3510., 3514., 3518., 3522., 3526., 3530., 3534., 3538., 3542.,\n",
              "        3546., 3550., 3554., 3558., 3562., 3566., 3570., 3574., 3578.,\n",
              "        3582., 3586., 3590., 3594., 3598., 3602., 3606., 3610., 3614.,\n",
              "        3618., 3622., 3626., 3630., 3634., 3638., 3642., 3646., 3650.,\n",
              "        3654., 3658., 3662., 3666., 3670., 3674., 3678., 3682., 3686.,\n",
              "        3690., 3694., 3698., 3702., 3706., 3710., 3714., 3718., 3722.,\n",
              "        3726., 3730., 3734., 3738., 3742., 3746., 3750., 3754., 3758.,\n",
              "        3762., 3766., 3770., 3774., 3778., 3782., 3786., 3790., 3794.,\n",
              "        3798., 3802., 3806., 3810., 3814., 3818., 3822., 3826., 3830.,\n",
              "        3834., 3838., 3842., 3846., 3850., 3854., 3858., 3862., 3866.,\n",
              "        3870., 3874., 3878., 3882., 3886., 3890., 3894., 3898., 3902.,\n",
              "        3906., 3910., 3914., 3918., 3922., 3926., 3930., 3934., 3938.,\n",
              "        3942., 3946., 3950., 3954., 3958., 3962., 3966.]),\n",
              " 'y': array([1.56480200e-03, 3.78846800e-03, 2.80017200e-03, 3.21196200e-03,\n",
              "        4.28261600e-03, 3.12960400e-03, 1.31772800e-03, 3.54139400e-03,\n",
              "        3.62375200e-03, 2.96488800e-03, 3.78846800e-03, 3.62375200e-03,\n",
              "        6.91807200e-03, 2.30602400e-03, 7.41222000e-04, 3.62375200e-03,\n",
              "        7.00043000e-03, 3.95318400e-03, 1.64716000e-03, 2.63545600e-03,\n",
              "        5.18855400e-03, 2.63545600e-03, 2.05895000e-03, 2.47074000e-03,\n",
              "        6.17685000e-03, 2.47074000e-03, 3.95318400e-03, 3.37667800e-03,\n",
              "        7.57693600e-03, 4.85912200e-03, 5.84741800e-03, 2.63545600e-03,\n",
              "        4.61204800e-03, 1.23537000e-03, 2.96488800e-03, 3.29432000e-03,\n",
              "        6.58864000e-03, 2.80017200e-03, 2.30602400e-03, 3.29432000e-03,\n",
              "        4.61204800e-03, 1.64716000e-03, 2.71781400e-03, 3.12960400e-03,\n",
              "        4.69440600e-03, 2.05895000e-03, 3.29432000e-03, 3.37667800e-03,\n",
              "        4.69440600e-03, 2.14130800e-03, 3.37667800e-03, 3.04724600e-03,\n",
              "        4.94148000e-03, 2.80017200e-03, 2.22366600e-03, 5.60034400e-03,\n",
              "        5.43562800e-03, 2.63545600e-03, 4.11790000e-03, 4.94148000e-03,\n",
              "        7.00043000e-03, 4.85912200e-03, 7.08278800e-03, 8.15344200e-03,\n",
              "        1.08712560e-02, 1.11183300e-02, 1.41655760e-02, 1.56480200e-02,\n",
              "        1.77069700e-02, 1.64716000e-02, 1.63068840e-02, 1.58127360e-02,\n",
              "        1.48244400e-02, 1.13654040e-02, 1.06241820e-02, 1.08712560e-02,\n",
              "        1.11183300e-02, 9.88296000e-03, 1.00476760e-02, 1.04594660e-02,\n",
              "        1.04594660e-02, 8.48287400e-03, 7.98872600e-03, 7.41222000e-03,\n",
              "        7.32986200e-03, 6.50628200e-03, 4.77676400e-03, 7.98872600e-03,\n",
              "        7.08278800e-03, 5.60034400e-03, 5.92977600e-03, 6.34156600e-03,\n",
              "        5.92977600e-03, 5.02383800e-03, 5.35327000e-03, 5.92977600e-03,\n",
              "        6.83571400e-03, 5.10619600e-03, 5.18855400e-03, 5.51798600e-03,\n",
              "        5.02383800e-03, 4.28261600e-03, 5.60034400e-03, 7.65929400e-03,\n",
              "        8.48287400e-03, 6.58864000e-03, 8.40051600e-03, 1.12006880e-02,\n",
              "        1.02123920e-02, 1.07065400e-02, 1.12830460e-02, 1.22713420e-02,\n",
              "        1.02947500e-02, 9.88296000e-03, 9.63588600e-03, 1.04594660e-02,\n",
              "        8.15344200e-03, 7.00043000e-03, 6.09449200e-03, 6.75335600e-03,\n",
              "        4.69440600e-03, 4.20025800e-03, 3.62375200e-03, 4.61204800e-03,\n",
              "        3.21196200e-03, 3.45903600e-03, 3.29432000e-03, 5.10619600e-03,\n",
              "        3.78846800e-03, 3.78846800e-03, 4.28261600e-03, 5.10619600e-03,\n",
              "        4.11790000e-03, 4.61204800e-03, 4.44733200e-03, 6.09449200e-03,\n",
              "        4.44733200e-03, 4.52969000e-03, 5.02383800e-03, 6.67099800e-03,\n",
              "        5.84741800e-03, 6.25920800e-03, 6.58864000e-03, 8.15344200e-03,\n",
              "        7.16514600e-03, 7.74165200e-03, 7.98872600e-03, 9.55352800e-03,\n",
              "        8.48287400e-03, 8.31815800e-03, 8.31815800e-03, 9.38881200e-03,\n",
              "        8.23580000e-03, 8.56523200e-03, 8.07108400e-03, 8.07108400e-03,\n",
              "        5.84741800e-03, 5.02383800e-03, 4.52969000e-03, 4.36497400e-03,\n",
              "        2.96488800e-03, 3.29432000e-03, 3.37667800e-03, 3.87082600e-03,\n",
              "        2.80017200e-03, 3.45903600e-03, 3.87082600e-03, 4.77676400e-03,\n",
              "        4.11790000e-03, 4.94148000e-03, 6.58864000e-03, 7.08278800e-03,\n",
              "        6.09449200e-03, 6.09449200e-03, 5.84741800e-03, 5.35327000e-03,\n",
              "        3.78846800e-03, 3.78846800e-03, 3.78846800e-03, 3.21196200e-03,\n",
              "        2.30602400e-03, 2.96488800e-03, 3.21196200e-03, 2.88253000e-03,\n",
              "        1.97659200e-03, 2.47074000e-03, 3.21196200e-03, 3.54139400e-03,\n",
              "        2.80017200e-03, 4.03554200e-03, 5.10619600e-03, 5.10619600e-03,\n",
              "        4.94148000e-03, 5.35327000e-03, 6.50628200e-03, 6.17685000e-03,\n",
              "        5.35327000e-03, 5.84741800e-03, 7.16514600e-03, 6.83571400e-03,\n",
              "        6.25920800e-03, 6.83571400e-03, 7.65929400e-03, 7.16514600e-03,\n",
              "        6.01213400e-03, 6.09449200e-03, 7.49457800e-03, 7.65929400e-03,\n",
              "        8.81230600e-03, 9.88296000e-03, 1.22713420e-02, 1.16948360e-02,\n",
              "        1.26007740e-02, 1.24360580e-02, 1.35890700e-02, 1.20242680e-02,\n",
              "        1.15301200e-02, 1.09536140e-02, 1.25184160e-02, 1.25184160e-02,\n",
              "        1.36714280e-02, 1.54009460e-02, 1.86952660e-02, 1.92717720e-02,\n",
              "        1.91070560e-02, 1.96835620e-02, 2.08365740e-02, 1.84481920e-02,\n",
              "        1.92717720e-02, 2.11660060e-02, 2.78370040e-02, 3.40962120e-02,\n",
              "        4.06848520e-02, 4.35673820e-02, 4.56263320e-02, 4.67793440e-02,\n",
              "        4.22496540e-02, 3.22019780e-02, 2.59427700e-02, 2.03424260e-02,\n",
              "        1.75422540e-02, 1.53185880e-02, 1.53185880e-02, 1.52362300e-02,\n",
              "        1.72951800e-02, 2.09189320e-02, 2.77546460e-02, 3.45903600e-02,\n",
              "        4.48851100e-02, 5.63328720e-02, 7.04160900e-02, 8.21109260e-02,\n",
              "        9.27351080e-02, 1.00064970e-01, 1.03524006e-01, 9.73471560e-02,\n",
              "        8.89466400e-02, 7.75812360e-02, 6.67923380e-02, 5.26267620e-02,\n",
              "        4.10142840e-02, 3.18725460e-02, 2.52839060e-02, 1.89423400e-02,\n",
              "        1.49891560e-02, 1.17771940e-02, 1.04594660e-02, 8.15344200e-03,\n",
              "        7.57693600e-03, 7.16514600e-03, 7.08278800e-03, 6.25920800e-03,\n",
              "        6.17685000e-03, 6.17685000e-03, 5.76506000e-03, 4.85912200e-03,\n",
              "        5.10619600e-03, 4.94148000e-03, 4.28261600e-03, 3.70611000e-03,\n",
              "        3.45903600e-03, 4.28261600e-03, 4.11790000e-03, 3.12960400e-03,\n",
              "        3.45903600e-03, 4.03554200e-03, 4.03554200e-03, 3.04724600e-03,\n",
              "        3.54139400e-03, 4.03554200e-03, 4.03554200e-03, 3.21196200e-03,\n",
              "        3.29432000e-03, 3.45903600e-03, 3.45903600e-03, 3.12960400e-03,\n",
              "        2.96488800e-03, 3.54139400e-03, 3.45903600e-03, 2.88253000e-03,\n",
              "        2.55309800e-03, 3.37667800e-03, 2.96488800e-03, 2.47074000e-03,\n",
              "        2.47074000e-03, 3.54139400e-03, 2.96488800e-03, 2.38838200e-03,\n",
              "        2.38838200e-03, 3.45903600e-03, 2.38838200e-03, 2.96488800e-03,\n",
              "        1.89423400e-03, 2.88253000e-03, 1.89423400e-03, 1.97659200e-03,\n",
              "        1.40008600e-03, 2.30602400e-03, 1.64716000e-03, 2.05895000e-03,\n",
              "        1.56480200e-03, 2.80017200e-03, 1.48244400e-03, 1.31772800e-03,\n",
              "        1.23537000e-03, 1.89423400e-03, 1.23537000e-03, 1.31772800e-03,\n",
              "        9.05938000e-04, 1.89423400e-03, 1.40008600e-03, 1.56480200e-03,\n",
              "        1.40008600e-03, 2.30602400e-03, 1.40008600e-03, 1.40008600e-03,\n",
              "        1.56480200e-03, 1.64716000e-03, 1.23537000e-03, 1.23537000e-03,\n",
              "        7.41222000e-04, 1.81187600e-03, 5.76506000e-04, 1.15301200e-03,\n",
              "        9.05938000e-04, 1.40008600e-03, 1.15301200e-03, 7.41222000e-04,\n",
              "        6.58864000e-04, 1.64716000e-03, 7.41222000e-04, 1.07065400e-03,\n",
              "        1.15301200e-03, 1.56480200e-03, 1.07065400e-03, 1.15301200e-03,\n",
              "        1.07065400e-03, 1.64716000e-03, 9.05938000e-04, 5.76506000e-04,\n",
              "        1.15301200e-03, 1.40008600e-03, 7.41222000e-04, 5.76506000e-04,\n",
              "        7.41222000e-04, 1.48244400e-03, 6.58864000e-04, 6.58864000e-04,\n",
              "        9.88296000e-04, 1.64716000e-03, 9.05938000e-04, 4.94148000e-04,\n",
              "        8.23580000e-04, 1.40008600e-03, 6.58864000e-04, 4.94148000e-04,\n",
              "        1.07065400e-03, 9.88296000e-04, 4.94148000e-04, 4.94148000e-04,\n",
              "        9.88296000e-04, 1.07065400e-03, 4.11790000e-04, 4.94148000e-04,\n",
              "        9.88296000e-04, 9.88296000e-04, 9.88296000e-04, 5.76506000e-04,\n",
              "        1.15301200e-03, 1.31772800e-03, 9.88296000e-04, 9.05938000e-04,\n",
              "        1.89423400e-03, 1.97659200e-03, 1.89423400e-03, 1.40008600e-03,\n",
              "        2.47074000e-03, 2.47074000e-03, 1.81187600e-03, 1.23537000e-03,\n",
              "        1.89423400e-03, 1.89423400e-03, 1.56480200e-03, 8.23580000e-04,\n",
              "        1.40008600e-03, 1.40008600e-03, 1.40008600e-03, 2.47074000e-04,\n",
              "        1.23537000e-03, 1.23537000e-03, 1.15301200e-03, 4.94148000e-04,\n",
              "        1.31772800e-03, 4.94148000e-04, 9.05938000e-04, 4.94148000e-04,\n",
              "        1.31772800e-03, 8.23580000e-04, 9.05938000e-04, 7.41222000e-04,\n",
              "        1.81187600e-03, 1.23537000e-03, 1.23537000e-03, 9.05938000e-04,\n",
              "        1.40008600e-03, 1.23537000e-03, 1.31772800e-03, 8.23580000e-04,\n",
              "        1.81187600e-03, 1.40008600e-03, 1.23537000e-03, 1.23537000e-03,\n",
              "        2.14130800e-03, 1.81187600e-03, 1.64716000e-03, 1.23537000e-03,\n",
              "        2.30602400e-03, 1.64716000e-03, 1.64716000e-03, 1.48244400e-03,\n",
              "        2.05895000e-03, 1.40008600e-03, 1.23537000e-03, 1.23537000e-03,\n",
              "        1.56480200e-03, 1.23537000e-03, 1.15301200e-03, 7.41222000e-04,\n",
              "        1.23537000e-03, 1.15301200e-03, 6.58864000e-04, 1.15301200e-03,\n",
              "        1.97659200e-03, 1.48244400e-03, 5.76506000e-04, 1.23537000e-03,\n",
              "        2.14130800e-03, 1.81187600e-03, 1.07065400e-03, 1.40008600e-03,\n",
              "        2.30602400e-03, 1.56480200e-03, 1.15301200e-03, 1.56480200e-03,\n",
              "        1.97659200e-03, 1.97659200e-03, 1.31772800e-03, 1.89423400e-03,\n",
              "        1.89423400e-03, 1.89423400e-03, 9.88296000e-04, 1.89423400e-03,\n",
              "        2.63545600e-03, 2.30602400e-03, 1.56480200e-03, 3.04724600e-03,\n",
              "        3.78846800e-03, 4.03554200e-03, 1.64716000e-03, 2.47074000e-03,\n",
              "        3.04724600e-03, 2.88253000e-03, 1.23537000e-03, 2.55309800e-03,\n",
              "        2.80017200e-03, 2.88253000e-03, 1.48244400e-03, 2.05895000e-03,\n",
              "        2.05895000e-03, 1.97659200e-03, 9.88296000e-04, 1.48244400e-03,\n",
              "        1.97659200e-03, 1.97659200e-03, 4.94148000e-04, 1.48244400e-03,\n",
              "        1.07065400e-03, 1.23537000e-03, 4.11790000e-04, 1.31772800e-03,\n",
              "        9.88296000e-04, 1.48244400e-03, 0.00000000e+00, 9.88296000e-04,\n",
              "        9.05938000e-04, 8.23580000e-04, 4.11790000e-04, 1.23537000e-03,\n",
              "        6.58864000e-04, 1.07065400e-03, 4.11790000e-04, 1.31772800e-03,\n",
              "        9.88296000e-04, 1.07065400e-03, 1.07065400e-03, 1.48244400e-03,\n",
              "        1.48244400e-03, 1.48244400e-03, 9.88296000e-04, 1.64716000e-03,\n",
              "        1.97659200e-03, 1.56480200e-03, 9.88296000e-04, 1.56480200e-03,\n",
              "        1.64716000e-03, 1.56480200e-03, 1.07065400e-03, 2.47074000e-03,\n",
              "        2.14130800e-03, 2.55309800e-03, 2.63545600e-03, 3.70611000e-03,\n",
              "        4.03554200e-03, 4.03554200e-03, 4.11790000e-03, 5.10619600e-03,\n",
              "        5.43562800e-03, 5.10619600e-03, 4.77676400e-03, 6.09449200e-03,\n",
              "        5.68270200e-03, 5.76506000e-03, 5.76506000e-03, 6.25920800e-03,\n",
              "        6.17685000e-03, 5.76506000e-03, 5.68270200e-03, 6.75335600e-03,\n",
              "        7.32986200e-03, 6.17685000e-03, 6.58864000e-03, 7.16514600e-03,\n",
              "        7.74165200e-03, 7.49457800e-03, 7.90636800e-03, 8.56523200e-03,\n",
              "        9.80060200e-03, 9.30645400e-03, 9.80060200e-03, 1.03771080e-02,\n",
              "        1.07065400e-02, 8.89466400e-03, 8.97702200e-03, 8.48287400e-03,\n",
              "        9.22409600e-03, 7.65929400e-03, 8.40051600e-03, 9.22409600e-03,\n",
              "        1.02947500e-02, 1.02947500e-02, 1.18595520e-02, 1.34243540e-02,\n",
              "        1.54009460e-02, 1.53185880e-02, 1.59774520e-02, 1.64716000e-02,\n",
              "        1.63068840e-02, 1.39185020e-02, 1.45773660e-02, 1.39185020e-02,\n",
              "        1.49891560e-02, 1.39185020e-02, 1.53185880e-02, 1.69657480e-02,\n",
              "        1.89423400e-02, 1.96012040e-02, 2.16601540e-02, 2.31425980e-02,\n",
              "        2.62722020e-02, 2.57780540e-02, 2.89900160e-02, 3.14607560e-02,\n",
              "        3.55786560e-02, 3.82964700e-02, 4.52969000e-02, 5.33679840e-02,\n",
              "        6.56393260e-02, 8.06284820e-02, 1.03112216e-01, 1.31031578e-01,\n",
              "        1.67763246e-01, 2.06306790e-01, 2.51109542e-01, 2.92782690e-01,\n",
              "        3.34291122e-01, 3.57927868e-01, 3.95483116e-01, 4.30485266e-01,\n",
              "        4.27355662e-01, 3.96141980e-01, 3.88647402e-01, 3.73740604e-01,\n",
              "        3.46315390e-01, 3.35526492e-01, 3.64022360e-01, 4.18049208e-01,\n",
              "        4.87559360e-01, 5.54516414e-01, 6.39509870e-01, 7.23103240e-01,\n",
              "        7.85612962e-01, 7.95001774e-01, 8.20038606e-01, 8.23580000e-01,\n",
              "        7.82071568e-01, 7.41222000e-01, 7.34715718e-01, 7.58928970e-01,\n",
              "        7.84130518e-01, 8.09990930e-01, 7.76635940e-01, 7.61729142e-01,\n",
              "        6.59440506e-01, 5.13996278e-01, 3.68552050e-01, 2.59180626e-01,\n",
              "        1.83164192e-01, 1.31772800e-01, 9.82530940e-02, 7.70870880e-02,\n",
              "        6.08625620e-02, 5.06501700e-02, 4.43086040e-02, 4.17555060e-02,\n",
              "        3.76376060e-02, 3.54139400e-02, 3.36020640e-02, 3.28608420e-02,\n",
              "        3.05548180e-02, 2.77546460e-02, 2.59427700e-02, 2.50368320e-02,\n",
              "        2.19072280e-02, 2.07542160e-02, 1.89423400e-02, 1.97659200e-02,\n",
              "        1.72951800e-02, 1.60598100e-02, 1.54009460e-02, 1.58950940e-02,\n",
              "        1.43302920e-02, 1.42479340e-02, 1.34243540e-02, 1.46597240e-02,\n",
              "        1.26007740e-02, 1.25184160e-02, 1.16124780e-02, 1.30125640e-02,\n",
              "        1.08712560e-02, 1.02123920e-02, 1.04594660e-02, 1.16124780e-02,\n",
              "        8.56523200e-03, 9.30645400e-03, 9.05938000e-03, 9.80060200e-03,\n",
              "        8.64759000e-03, 9.14173800e-03, 8.15344200e-03, 9.14173800e-03,\n",
              "        8.07108400e-03, 8.15344200e-03, 7.16514600e-03, 8.81230600e-03,\n",
              "        7.16514600e-03, 7.49457800e-03, 7.65929400e-03, 8.23580000e-03,\n",
              "        7.08278800e-03, 6.09449200e-03, 5.76506000e-03, 6.25920800e-03,\n",
              "        4.77676400e-03, 4.28261600e-03, 4.20025800e-03, 4.11790000e-03,\n",
              "        2.96488800e-03, 3.54139400e-03, 3.12960400e-03, 3.54139400e-03,\n",
              "        1.89423400e-03, 2.05895000e-03, 2.71781400e-03, 2.80017200e-03,\n",
              "        1.97659200e-03, 1.89423400e-03, 1.89423400e-03, 2.38838200e-03,\n",
              "        1.31772800e-03, 1.56480200e-03, 3.04724600e-03, 3.29432000e-03,\n",
              "        2.22366600e-03, 1.97659200e-03, 2.80017200e-03, 2.38838200e-03,\n",
              "        1.56480200e-03, 1.40008600e-03, 2.47074000e-03, 1.97659200e-03,\n",
              "        1.40008600e-03, 1.48244400e-03, 2.63545600e-03, 2.88253000e-03,\n",
              "        1.56480200e-03, 1.31772800e-03, 2.96488800e-03, 1.89423400e-03,\n",
              "        1.89423400e-03, 1.48244400e-03, 3.12960400e-03, 2.47074000e-03,\n",
              "        2.14130800e-03, 1.56480200e-03, 2.55309800e-03, 2.63545600e-03,\n",
              "        1.40008600e-03, 1.56480200e-03, 3.62375200e-03, 2.30602400e-03,\n",
              "        1.48244400e-03, 1.89423400e-03, 3.04724600e-03, 1.48244400e-03,\n",
              "        1.23537000e-03, 1.07065400e-03, 3.12960400e-03, 1.56480200e-03,\n",
              "        1.81187600e-03, 5.76506000e-04, 2.47074000e-03, 1.56480200e-03,\n",
              "        9.88296000e-04, 6.58864000e-04, 2.47074000e-03, 1.31772800e-03,\n",
              "        1.56480200e-03, 8.23580000e-04, 2.80017200e-03, 1.89423400e-03,\n",
              "        1.23537000e-03, 3.29432000e-04, 2.47074000e-03, 1.81187600e-03,\n",
              "        1.64716000e-03, 7.41222000e-04, 2.38838200e-03, 1.48244400e-03,\n",
              "        4.94148000e-04, 8.23580000e-04, 2.05895000e-03, 1.97659200e-03,\n",
              "        4.11790000e-04, 4.11790000e-04, 2.47074000e-03, 8.23580000e-04,\n",
              "        1.15301200e-03, 1.07065400e-03, 1.89423400e-03, 1.56480200e-03,\n",
              "        1.81187600e-03, 9.88296000e-04, 2.14130800e-03, 1.89423400e-03,\n",
              "        2.30602400e-03, 1.15301200e-03, 2.05895000e-03, 2.22366600e-03,\n",
              "        1.07065400e-03, 2.14130800e-03, 2.22366600e-03, 1.97659200e-03,\n",
              "        2.05895000e-03, 1.56480200e-03, 2.71781400e-03, 2.22366600e-03,\n",
              "        1.89423400e-03, 2.05895000e-03, 3.45903600e-03, 2.38838200e-03,\n",
              "        1.97659200e-03, 2.38838200e-03, 2.80017200e-03, 2.96488800e-03,\n",
              "        2.47074000e-03, 2.80017200e-03, 2.63545600e-03, 2.63545600e-03,\n",
              "        1.64716000e-03, 2.22366600e-03, 2.80017200e-03, 2.38838200e-03,\n",
              "        1.64716000e-03, 2.80017200e-03, 2.71781400e-03, 2.38838200e-03,\n",
              "        1.15301200e-03, 2.47074000e-03, 3.12960400e-03, 2.30602400e-03,\n",
              "        2.22366600e-03, 2.71781400e-03, 2.71781400e-03, 2.05895000e-03,\n",
              "        1.07065400e-03, 2.88253000e-03, 3.29432000e-03, 2.71781400e-03,\n",
              "        2.63545600e-03, 3.12960400e-03, 2.71781400e-03, 3.12960400e-03,\n",
              "        2.80017200e-03, 3.45903600e-03, 3.70611000e-03, 3.54139400e-03,\n",
              "        2.63545600e-03, 3.04724600e-03, 3.45903600e-03, 3.54139400e-03,\n",
              "        2.96488800e-03, 3.29432000e-03, 3.62375200e-03, 3.12960400e-03,\n",
              "        3.04724600e-03, 4.11790000e-03, 3.62375200e-03, 3.29432000e-03,\n",
              "        1.97659200e-03, 2.80017200e-03, 2.71781400e-03, 3.21196200e-03,\n",
              "        2.22366600e-03, 3.29432000e-03, 3.54139400e-03, 3.45903600e-03,\n",
              "        2.55309800e-03, 3.37667800e-03, 3.95318400e-03, 3.70611000e-03,\n",
              "        3.45903600e-03, 4.20025800e-03, 3.70611000e-03, 4.36497400e-03,\n",
              "        3.70611000e-03, 4.44733200e-03, 4.20025800e-03, 3.78846800e-03,\n",
              "        3.29432000e-03, 3.78846800e-03, 3.62375200e-03, 3.37667800e-03,\n",
              "        3.21196200e-03, 2.80017200e-03, 3.70611000e-03, 3.37667800e-03,\n",
              "        3.37667800e-03, 3.62375200e-03, 3.87082600e-03, 3.87082600e-03]),\n",
              " 'filename': '/content/nist_spectra/C110543_IR_0.jdx'}"
            ]
          },
          "metadata": {},
          "execution_count": 93
        }
      ]
    },
    {
      "cell_type": "markdown",
      "source": [
        "Let's plot our 3 spectra."
      ],
      "metadata": {
        "id": "yQAqAaDpzjun"
      }
    },
    {
      "cell_type": "code",
      "source": [
        "fig, ax = plt.subplots()\n",
        "ax.plot(spec1['x'],spec1['y'],'-o',markersize=2.,label='spec1')\n",
        "ax.plot(spec2['x'],spec2['y'],'-o',markersize=2.,label='spec2')\n",
        "ax.plot(spec3['x'],spec3['y'],'-o',markersize=2.,label='spec3')\n",
        "ax.legend()"
      ],
      "metadata": {
        "id": "7IlZmVwqDzr9",
        "colab": {
          "base_uri": "https://localhost:8080/",
          "height": 448
        },
        "outputId": "279564bf-5859-4aed-da2f-f452926795da"
      },
      "execution_count": 115,
      "outputs": [
        {
          "output_type": "execute_result",
          "data": {
            "text/plain": [
              "<matplotlib.legend.Legend at 0x781697482900>"
            ]
          },
          "metadata": {},
          "execution_count": 115
        },
        {
          "output_type": "display_data",
          "data": {
            "text/plain": [
              "<Figure size 640x480 with 1 Axes>"
            ],
            "image/png": "[encoded data removed]"
          },
          "metadata": {}
        }
      ]
    },
    {
      "cell_type": "markdown",
      "source": [
        "We can see that one of these spectra is not like the others. Why? <font color='red'> Use the metadata in each of the spec files to figure it out. </font> (You can add more code boxes if you need)"
      ],
      "metadata": {
        "id": "pQmTdADjzyZL"
      }
    },
    {
      "cell_type": "code",
      "source": [
        "spec1"
      ],
      "metadata": {
        "collapsed": true,
        "id": "_WjWnVKLGkDP",
        "outputId": "5ea27598-1e92-42c0-a6b0-1c93c1574370",
        "colab": {
          "base_uri": "https://localhost:8080/"
        }
      },
      "execution_count": 111,
      "outputs": [
        {
          "output_type": "execute_result",
          "data": {
            "text/plain": [
              "{'title': 'Hexane',\n",
              " 'jcamp-dx': 4.24,\n",
              " 'data type': 'INFRARED SPECTRUM',\n",
              " 'origin': 'Sadtler Research Labs Under US-EPA Contract',\n",
              " 'owner': 'NIST Standard Reference Data Program\\nCollection (C) 2018 copyright by the U.S. Secretary of Commerce\\non behalf of the United States of America. All rights reserved.',\n",
              " 'cas registry no': '110-54-3',\n",
              " 'molform': 'C 6 H 14',\n",
              " '$nist source': 'MSDC-IR',\n",
              " 'state': 'gas',\n",
              " 'xunits': '1/CM',\n",
              " 'yunits': 'ABSORBANCE',\n",
              " 'xfactor': 1.0,\n",
              " 'yfactor': 8.2358e-05,\n",
              " 'deltax': 4.0,\n",
              " 'firstx': 450.0,\n",
              " 'lastx': 3966.0,\n",
              " 'firsty': 0.001565,\n",
              " 'maxx': 3966,\n",
              " 'minx': 450,\n",
              " 'maxy': 0.82358,\n",
              " 'miny': 0,\n",
              " 'npoints': 880,\n",
              " 'xydata': '(X++(Y..Y))',\n",
              " 'end': '',\n",
              " 'x': array([ 450.,  454.,  458.,  462.,  466.,  470.,  474.,  478.,  482.,\n",
              "         486.,  490.,  494.,  498.,  502.,  506.,  510.,  514.,  518.,\n",
              "         522.,  526.,  530.,  534.,  538.,  542.,  546.,  550.,  554.,\n",
              "         558.,  562.,  566.,  570.,  574.,  578.,  582.,  586.,  590.,\n",
              "         594.,  598.,  602.,  606.,  610.,  614.,  618.,  622.,  626.,\n",
              "         630.,  634.,  638.,  642.,  646.,  650.,  654.,  658.,  662.,\n",
              "         666.,  670.,  674.,  678.,  682.,  686.,  690.,  694.,  698.,\n",
              "         702.,  706.,  710.,  714.,  718.,  722.,  726.,  730.,  734.,\n",
              "         738.,  742.,  746.,  750.,  754.,  758.,  762.,  766.,  770.,\n",
              "         774.,  778.,  782.,  786.,  790.,  794.,  798.,  802.,  806.,\n",
              "         810.,  814.,  818.,  822.,  826.,  830.,  834.,  838.,  842.,\n",
              "         846.,  850.,  854.,  858.,  862.,  866.,  870.,  874.,  878.,\n",
              "         882.,  886.,  890.,  894.,  898.,  902.,  906.,  910.,  914.,\n",
              "         918.,  922.,  926.,  930.,  934.,  938.,  942.,  946.,  950.,\n",
              "         954.,  958.,  962.,  966.,  970.,  974.,  978.,  982.,  986.,\n",
              "         990.,  994.,  998., 1002., 1006., 1010., 1014., 1018., 1022.,\n",
              "        1026., 1030., 1034., 1038., 1042., 1046., 1050., 1054., 1058.,\n",
              "        1062., 1066., 1070., 1074., 1078., 1082., 1086., 1090., 1094.,\n",
              "        1098., 1102., 1106., 1110., 1114., 1118., 1122., 1126., 1130.,\n",
              "        1134., 1138., 1142., 1146., 1150., 1154., 1158., 1162., 1166.,\n",
              "        1170., 1174., 1178., 1182., 1186., 1190., 1194., 1198., 1202.,\n",
              "        1206., 1210., 1214., 1218., 1222., 1226., 1230., 1234., 1238.,\n",
              "        1242., 1246., 1250., 1254., 1258., 1262., 1266., 1270., 1274.,\n",
              "        1278., 1282., 1286., 1290., 1294., 1298., 1302., 1306., 1310.,\n",
              "        1314., 1318., 1322., 1326., 1330., 1334., 1338., 1342., 1346.,\n",
              "        1350., 1354., 1358., 1362., 1366., 1370., 1374., 1378., 1382.,\n",
              "        1386., 1390., 1394., 1398., 1402., 1406., 1410., 1414., 1418.,\n",
              "        1422., 1426., 1430., 1434., 1438., 1442., 1446., 1450., 1454.,\n",
              "        1458., 1462., 1466., 1470., 1474., 1478., 1482., 1486., 1490.,\n",
              "        1494., 1498., 1502., 1506., 1510., 1514., 1518., 1522., 1526.,\n",
              "        1530., 1534., 1538., 1542., 1546., 1550., 1554., 1558., 1562.,\n",
              "        1566., 1570., 1574., 1578., 1582., 1586., 1590., 1594., 1598.,\n",
              "        1602., 1606., 1610., 1614., 1618., 1622., 1626., 1630., 1634.,\n",
              "        1638., 1642., 1646., 1650., 1654., 1658., 1662., 1666., 1670.,\n",
              "        1674., 1678., 1682., 1686., 1690., 1694., 1698., 1702., 1706.,\n",
              "        1710., 1714., 1718., 1722., 1726., 1730., 1734., 1738., 1742.,\n",
              "        1746., 1750., 1754., 1758., 1762., 1766., 1770., 1774., 1778.,\n",
              "        1782., 1786., 1790., 1794., 1798., 1802., 1806., 1810., 1814.,\n",
              "        1818., 1822., 1826., 1830., 1834., 1838., 1842., 1846., 1850.,\n",
              "        1854., 1858., 1862., 1866., 1870., 1874., 1878., 1882., 1886.,\n",
              "        1890., 1894., 1898., 1902., 1906., 1910., 1914., 1918., 1922.,\n",
              "        1926., 1930., 1934., 1938., 1942., 1946., 1950., 1954., 1958.,\n",
              "        1962., 1966., 1970., 1974., 1978., 1982., 1986., 1990., 1994.,\n",
              "        1998., 2002., 2006., 2010., 2014., 2018., 2022., 2026., 2030.,\n",
              "        2034., 2038., 2042., 2046., 2050., 2054., 2058., 2062., 2066.,\n",
              "        2070., 2074., 2078., 2082., 2086., 2090., 2094., 2098., 2102.,\n",
              "        2106., 2110., 2114., 2118., 2122., 2126., 2130., 2134., 2138.,\n",
              "        2142., 2146., 2150., 2154., 2158., 2162., 2166., 2170., 2174.,\n",
              "        2178., 2182., 2186., 2190., 2194., 2198., 2202., 2206., 2210.,\n",
              "        2214., 2218., 2222., 2226., 2230., 2234., 2238., 2242., 2246.,\n",
              "        2250., 2254., 2258., 2262., 2266., 2270., 2274., 2278., 2282.,\n",
              "        2286., 2290., 2294., 2298., 2302., 2306., 2310., 2314., 2318.,\n",
              "        2322., 2326., 2330., 2334., 2338., 2342., 2346., 2350., 2354.,\n",
              "        2358., 2362., 2366., 2370., 2374., 2378., 2382., 2386., 2390.,\n",
              "        2394., 2398., 2402., 2406., 2410., 2414., 2418., 2422., 2426.,\n",
              "        2430., 2434., 2438., 2442., 2446., 2450., 2454., 2458., 2462.,\n",
              "        2466., 2470., 2474., 2478., 2482., 2486., 2490., 2494., 2498.,\n",
              "        2502., 2506., 2510., 2514., 2518., 2522., 2526., 2530., 2534.,\n",
              "        2538., 2542., 2546., 2550., 2554., 2558., 2562., 2566., 2570.,\n",
              "        2574., 2578., 2582., 2586., 2590., 2594., 2598., 2602., 2606.,\n",
              "        2610., 2614., 2618., 2622., 2626., 2630., 2634., 2638., 2642.,\n",
              "        2646., 2650., 2654., 2658., 2662., 2666., 2670., 2674., 2678.,\n",
              "        2682., 2686., 2690., 2694., 2698., 2702., 2706., 2710., 2714.,\n",
              "        2718., 2722., 2726., 2730., 2734., 2738., 2742., 2746., 2750.,\n",
              "        2754., 2758., 2762., 2766., 2770., 2774., 2778., 2782., 2786.,\n",
              "        2790., 2794., 2798., 2802., 2806., 2810., 2814., 2818., 2822.,\n",
              "        2826., 2830., 2834., 2838., 2842., 2846., 2850., 2854., 2858.,\n",
              "        2862., 2866., 2870., 2874., 2878., 2882., 2886., 2890., 2894.,\n",
              "        2898., 2902., 2906., 2910., 2914., 2918., 2922., 2926., 2930.,\n",
              "        2934., 2938., 2942., 2946., 2950., 2954., 2958., 2962., 2966.,\n",
              "        2970., 2974., 2978., 2982., 2986., 2990., 2994., 2998., 3002.,\n",
              "        3006., 3010., 3014., 3018., 3022., 3026., 3030., 3034., 3038.,\n",
              "        3042., 3046., 3050., 3054., 3058., 3062., 3066., 3070., 3074.,\n",
              "        3078., 3082., 3086., 3090., 3094., 3098., 3102., 3106., 3110.,\n",
              "        3114., 3118., 3122., 3126., 3130., 3134., 3138., 3142., 3146.,\n",
              "        3150., 3154., 3158., 3162., 3166., 3170., 3174., 3178., 3182.,\n",
              "        3186., 3190., 3194., 3198., 3202., 3206., 3210., 3214., 3218.,\n",
              "        3222., 3226., 3230., 3234., 3238., 3242., 3246., 3250., 3254.,\n",
              "        3258., 3262., 3266., 3270., 3274., 3278., 3282., 3286., 3290.,\n",
              "        3294., 3298., 3302., 3306., 3310., 3314., 3318., 3322., 3326.,\n",
              "        3330., 3334., 3338., 3342., 3346., 3350., 3354., 3358., 3362.,\n",
              "        3366., 3370., 3374., 3378., 3382., 3386., 3390., 3394., 3398.,\n",
              "        3402., 3406., 3410., 3414., 3418., 3422., 3426., 3430., 3434.,\n",
              "        3438., 3442., 3446., 3450., 3454., 3458., 3462., 3466., 3470.,\n",
              "        3474., 3478., 3482., 3486., 3490., 3494., 3498., 3502., 3506.,\n",
              "        3510., 3514., 3518., 3522., 3526., 3530., 3534., 3538., 3542.,\n",
              "        3546., 3550., 3554., 3558., 3562., 3566., 3570., 3574., 3578.,\n",
              "        3582., 3586., 3590., 3594., 3598., 3602., 3606., 3610., 3614.,\n",
              "        3618., 3622., 3626., 3630., 3634., 3638., 3642., 3646., 3650.,\n",
              "        3654., 3658., 3662., 3666., 3670., 3674., 3678., 3682., 3686.,\n",
              "        3690., 3694., 3698., 3702., 3706., 3710., 3714., 3718., 3722.,\n",
              "        3726., 3730., 3734., 3738., 3742., 3746., 3750., 3754., 3758.,\n",
              "        3762., 3766., 3770., 3774., 3778., 3782., 3786., 3790., 3794.,\n",
              "        3798., 3802., 3806., 3810., 3814., 3818., 3822., 3826., 3830.,\n",
              "        3834., 3838., 3842., 3846., 3850., 3854., 3858., 3862., 3866.,\n",
              "        3870., 3874., 3878., 3882., 3886., 3890., 3894., 3898., 3902.,\n",
              "        3906., 3910., 3914., 3918., 3922., 3926., 3930., 3934., 3938.,\n",
              "        3942., 3946., 3950., 3954., 3958., 3962., 3966.]),\n",
              " 'y': array([1.56480200e-03, 3.78846800e-03, 2.80017200e-03, 3.21196200e-03,\n",
              "        4.28261600e-03, 3.12960400e-03, 1.31772800e-03, 3.54139400e-03,\n",
              "        3.62375200e-03, 2.96488800e-03, 3.78846800e-03, 3.62375200e-03,\n",
              "        6.91807200e-03, 2.30602400e-03, 7.41222000e-04, 3.62375200e-03,\n",
              "        7.00043000e-03, 3.95318400e-03, 1.64716000e-03, 2.63545600e-03,\n",
              "        5.18855400e-03, 2.63545600e-03, 2.05895000e-03, 2.47074000e-03,\n",
              "        6.17685000e-03, 2.47074000e-03, 3.95318400e-03, 3.37667800e-03,\n",
              "        7.57693600e-03, 4.85912200e-03, 5.84741800e-03, 2.63545600e-03,\n",
              "        4.61204800e-03, 1.23537000e-03, 2.96488800e-03, 3.29432000e-03,\n",
              "        6.58864000e-03, 2.80017200e-03, 2.30602400e-03, 3.29432000e-03,\n",
              "        4.61204800e-03, 1.64716000e-03, 2.71781400e-03, 3.12960400e-03,\n",
              "        4.69440600e-03, 2.05895000e-03, 3.29432000e-03, 3.37667800e-03,\n",
              "        4.69440600e-03, 2.14130800e-03, 3.37667800e-03, 3.04724600e-03,\n",
              "        4.94148000e-03, 2.80017200e-03, 2.22366600e-03, 5.60034400e-03,\n",
              "        5.43562800e-03, 2.63545600e-03, 4.11790000e-03, 4.94148000e-03,\n",
              "        7.00043000e-03, 4.85912200e-03, 7.08278800e-03, 8.15344200e-03,\n",
              "        1.08712560e-02, 1.11183300e-02, 1.41655760e-02, 1.56480200e-02,\n",
              "        1.77069700e-02, 1.64716000e-02, 1.63068840e-02, 1.58127360e-02,\n",
              "        1.48244400e-02, 1.13654040e-02, 1.06241820e-02, 1.08712560e-02,\n",
              "        1.11183300e-02, 9.88296000e-03, 1.00476760e-02, 1.04594660e-02,\n",
              "        1.04594660e-02, 8.48287400e-03, 7.98872600e-03, 7.41222000e-03,\n",
              "        7.32986200e-03, 6.50628200e-03, 4.77676400e-03, 7.98872600e-03,\n",
              "        7.08278800e-03, 5.60034400e-03, 5.92977600e-03, 6.34156600e-03,\n",
              "        5.92977600e-03, 5.02383800e-03, 5.35327000e-03, 5.92977600e-03,\n",
              "        6.83571400e-03, 5.10619600e-03, 5.18855400e-03, 5.51798600e-03,\n",
              "        5.02383800e-03, 4.28261600e-03, 5.60034400e-03, 7.65929400e-03,\n",
              "        8.48287400e-03, 6.58864000e-03, 8.40051600e-03, 1.12006880e-02,\n",
              "        1.02123920e-02, 1.07065400e-02, 1.12830460e-02, 1.22713420e-02,\n",
              "        1.02947500e-02, 9.88296000e-03, 9.63588600e-03, 1.04594660e-02,\n",
              "        8.15344200e-03, 7.00043000e-03, 6.09449200e-03, 6.75335600e-03,\n",
              "        4.69440600e-03, 4.20025800e-03, 3.62375200e-03, 4.61204800e-03,\n",
              "        3.21196200e-03, 3.45903600e-03, 3.29432000e-03, 5.10619600e-03,\n",
              "        3.78846800e-03, 3.78846800e-03, 4.28261600e-03, 5.10619600e-03,\n",
              "        4.11790000e-03, 4.61204800e-03, 4.44733200e-03, 6.09449200e-03,\n",
              "        4.44733200e-03, 4.52969000e-03, 5.02383800e-03, 6.67099800e-03,\n",
              "        5.84741800e-03, 6.25920800e-03, 6.58864000e-03, 8.15344200e-03,\n",
              "        7.16514600e-03, 7.74165200e-03, 7.98872600e-03, 9.55352800e-03,\n",
              "        8.48287400e-03, 8.31815800e-03, 8.31815800e-03, 9.38881200e-03,\n",
              "        8.23580000e-03, 8.56523200e-03, 8.07108400e-03, 8.07108400e-03,\n",
              "        5.84741800e-03, 5.02383800e-03, 4.52969000e-03, 4.36497400e-03,\n",
              "        2.96488800e-03, 3.29432000e-03, 3.37667800e-03, 3.87082600e-03,\n",
              "        2.80017200e-03, 3.45903600e-03, 3.87082600e-03, 4.77676400e-03,\n",
              "        4.11790000e-03, 4.94148000e-03, 6.58864000e-03, 7.08278800e-03,\n",
              "        6.09449200e-03, 6.09449200e-03, 5.84741800e-03, 5.35327000e-03,\n",
              "        3.78846800e-03, 3.78846800e-03, 3.78846800e-03, 3.21196200e-03,\n",
              "        2.30602400e-03, 2.96488800e-03, 3.21196200e-03, 2.88253000e-03,\n",
              "        1.97659200e-03, 2.47074000e-03, 3.21196200e-03, 3.54139400e-03,\n",
              "        2.80017200e-03, 4.03554200e-03, 5.10619600e-03, 5.10619600e-03,\n",
              "        4.94148000e-03, 5.35327000e-03, 6.50628200e-03, 6.17685000e-03,\n",
              "        5.35327000e-03, 5.84741800e-03, 7.16514600e-03, 6.83571400e-03,\n",
              "        6.25920800e-03, 6.83571400e-03, 7.65929400e-03, 7.16514600e-03,\n",
              "        6.01213400e-03, 6.09449200e-03, 7.49457800e-03, 7.65929400e-03,\n",
              "        8.81230600e-03, 9.88296000e-03, 1.22713420e-02, 1.16948360e-02,\n",
              "        1.26007740e-02, 1.24360580e-02, 1.35890700e-02, 1.20242680e-02,\n",
              "        1.15301200e-02, 1.09536140e-02, 1.25184160e-02, 1.25184160e-02,\n",
              "        1.36714280e-02, 1.54009460e-02, 1.86952660e-02, 1.92717720e-02,\n",
              "        1.91070560e-02, 1.96835620e-02, 2.08365740e-02, 1.84481920e-02,\n",
              "        1.92717720e-02, 2.11660060e-02, 2.78370040e-02, 3.40962120e-02,\n",
              "        4.06848520e-02, 4.35673820e-02, 4.56263320e-02, 4.67793440e-02,\n",
              "        4.22496540e-02, 3.22019780e-02, 2.59427700e-02, 2.03424260e-02,\n",
              "        1.75422540e-02, 1.53185880e-02, 1.53185880e-02, 1.52362300e-02,\n",
              "        1.72951800e-02, 2.09189320e-02, 2.77546460e-02, 3.45903600e-02,\n",
              "        4.48851100e-02, 5.63328720e-02, 7.04160900e-02, 8.21109260e-02,\n",
              "        9.27351080e-02, 1.00064970e-01, 1.03524006e-01, 9.73471560e-02,\n",
              "        8.89466400e-02, 7.75812360e-02, 6.67923380e-02, 5.26267620e-02,\n",
              "        4.10142840e-02, 3.18725460e-02, 2.52839060e-02, 1.89423400e-02,\n",
              "        1.49891560e-02, 1.17771940e-02, 1.04594660e-02, 8.15344200e-03,\n",
              "        7.57693600e-03, 7.16514600e-03, 7.08278800e-03, 6.25920800e-03,\n",
              "        6.17685000e-03, 6.17685000e-03, 5.76506000e-03, 4.85912200e-03,\n",
              "        5.10619600e-03, 4.94148000e-03, 4.28261600e-03, 3.70611000e-03,\n",
              "        3.45903600e-03, 4.28261600e-03, 4.11790000e-03, 3.12960400e-03,\n",
              "        3.45903600e-03, 4.03554200e-03, 4.03554200e-03, 3.04724600e-03,\n",
              "        3.54139400e-03, 4.03554200e-03, 4.03554200e-03, 3.21196200e-03,\n",
              "        3.29432000e-03, 3.45903600e-03, 3.45903600e-03, 3.12960400e-03,\n",
              "        2.96488800e-03, 3.54139400e-03, 3.45903600e-03, 2.88253000e-03,\n",
              "        2.55309800e-03, 3.37667800e-03, 2.96488800e-03, 2.47074000e-03,\n",
              "        2.47074000e-03, 3.54139400e-03, 2.96488800e-03, 2.38838200e-03,\n",
              "        2.38838200e-03, 3.45903600e-03, 2.38838200e-03, 2.96488800e-03,\n",
              "        1.89423400e-03, 2.88253000e-03, 1.89423400e-03, 1.97659200e-03,\n",
              "        1.40008600e-03, 2.30602400e-03, 1.64716000e-03, 2.05895000e-03,\n",
              "        1.56480200e-03, 2.80017200e-03, 1.48244400e-03, 1.31772800e-03,\n",
              "        1.23537000e-03, 1.89423400e-03, 1.23537000e-03, 1.31772800e-03,\n",
              "        9.05938000e-04, 1.89423400e-03, 1.40008600e-03, 1.56480200e-03,\n",
              "        1.40008600e-03, 2.30602400e-03, 1.40008600e-03, 1.40008600e-03,\n",
              "        1.56480200e-03, 1.64716000e-03, 1.23537000e-03, 1.23537000e-03,\n",
              "        7.41222000e-04, 1.81187600e-03, 5.76506000e-04, 1.15301200e-03,\n",
              "        9.05938000e-04, 1.40008600e-03, 1.15301200e-03, 7.41222000e-04,\n",
              "        6.58864000e-04, 1.64716000e-03, 7.41222000e-04, 1.07065400e-03,\n",
              "        1.15301200e-03, 1.56480200e-03, 1.07065400e-03, 1.15301200e-03,\n",
              "        1.07065400e-03, 1.64716000e-03, 9.05938000e-04, 5.76506000e-04,\n",
              "        1.15301200e-03, 1.40008600e-03, 7.41222000e-04, 5.76506000e-04,\n",
              "        7.41222000e-04, 1.48244400e-03, 6.58864000e-04, 6.58864000e-04,\n",
              "        9.88296000e-04, 1.64716000e-03, 9.05938000e-04, 4.94148000e-04,\n",
              "        8.23580000e-04, 1.40008600e-03, 6.58864000e-04, 4.94148000e-04,\n",
              "        1.07065400e-03, 9.88296000e-04, 4.94148000e-04, 4.94148000e-04,\n",
              "        9.88296000e-04, 1.07065400e-03, 4.11790000e-04, 4.94148000e-04,\n",
              "        9.88296000e-04, 9.88296000e-04, 9.88296000e-04, 5.76506000e-04,\n",
              "        1.15301200e-03, 1.31772800e-03, 9.88296000e-04, 9.05938000e-04,\n",
              "        1.89423400e-03, 1.97659200e-03, 1.89423400e-03, 1.40008600e-03,\n",
              "        2.47074000e-03, 2.47074000e-03, 1.81187600e-03, 1.23537000e-03,\n",
              "        1.89423400e-03, 1.89423400e-03, 1.56480200e-03, 8.23580000e-04,\n",
              "        1.40008600e-03, 1.40008600e-03, 1.40008600e-03, 2.47074000e-04,\n",
              "        1.23537000e-03, 1.23537000e-03, 1.15301200e-03, 4.94148000e-04,\n",
              "        1.31772800e-03, 4.94148000e-04, 9.05938000e-04, 4.94148000e-04,\n",
              "        1.31772800e-03, 8.23580000e-04, 9.05938000e-04, 7.41222000e-04,\n",
              "        1.81187600e-03, 1.23537000e-03, 1.23537000e-03, 9.05938000e-04,\n",
              "        1.40008600e-03, 1.23537000e-03, 1.31772800e-03, 8.23580000e-04,\n",
              "        1.81187600e-03, 1.40008600e-03, 1.23537000e-03, 1.23537000e-03,\n",
              "        2.14130800e-03, 1.81187600e-03, 1.64716000e-03, 1.23537000e-03,\n",
              "        2.30602400e-03, 1.64716000e-03, 1.64716000e-03, 1.48244400e-03,\n",
              "        2.05895000e-03, 1.40008600e-03, 1.23537000e-03, 1.23537000e-03,\n",
              "        1.56480200e-03, 1.23537000e-03, 1.15301200e-03, 7.41222000e-04,\n",
              "        1.23537000e-03, 1.15301200e-03, 6.58864000e-04, 1.15301200e-03,\n",
              "        1.97659200e-03, 1.48244400e-03, 5.76506000e-04, 1.23537000e-03,\n",
              "        2.14130800e-03, 1.81187600e-03, 1.07065400e-03, 1.40008600e-03,\n",
              "        2.30602400e-03, 1.56480200e-03, 1.15301200e-03, 1.56480200e-03,\n",
              "        1.97659200e-03, 1.97659200e-03, 1.31772800e-03, 1.89423400e-03,\n",
              "        1.89423400e-03, 1.89423400e-03, 9.88296000e-04, 1.89423400e-03,\n",
              "        2.63545600e-03, 2.30602400e-03, 1.56480200e-03, 3.04724600e-03,\n",
              "        3.78846800e-03, 4.03554200e-03, 1.64716000e-03, 2.47074000e-03,\n",
              "        3.04724600e-03, 2.88253000e-03, 1.23537000e-03, 2.55309800e-03,\n",
              "        2.80017200e-03, 2.88253000e-03, 1.48244400e-03, 2.05895000e-03,\n",
              "        2.05895000e-03, 1.97659200e-03, 9.88296000e-04, 1.48244400e-03,\n",
              "        1.97659200e-03, 1.97659200e-03, 4.94148000e-04, 1.48244400e-03,\n",
              "        1.07065400e-03, 1.23537000e-03, 4.11790000e-04, 1.31772800e-03,\n",
              "        9.88296000e-04, 1.48244400e-03, 0.00000000e+00, 9.88296000e-04,\n",
              "        9.05938000e-04, 8.23580000e-04, 4.11790000e-04, 1.23537000e-03,\n",
              "        6.58864000e-04, 1.07065400e-03, 4.11790000e-04, 1.31772800e-03,\n",
              "        9.88296000e-04, 1.07065400e-03, 1.07065400e-03, 1.48244400e-03,\n",
              "        1.48244400e-03, 1.48244400e-03, 9.88296000e-04, 1.64716000e-03,\n",
              "        1.97659200e-03, 1.56480200e-03, 9.88296000e-04, 1.56480200e-03,\n",
              "        1.64716000e-03, 1.56480200e-03, 1.07065400e-03, 2.47074000e-03,\n",
              "        2.14130800e-03, 2.55309800e-03, 2.63545600e-03, 3.70611000e-03,\n",
              "        4.03554200e-03, 4.03554200e-03, 4.11790000e-03, 5.10619600e-03,\n",
              "        5.43562800e-03, 5.10619600e-03, 4.77676400e-03, 6.09449200e-03,\n",
              "        5.68270200e-03, 5.76506000e-03, 5.76506000e-03, 6.25920800e-03,\n",
              "        6.17685000e-03, 5.76506000e-03, 5.68270200e-03, 6.75335600e-03,\n",
              "        7.32986200e-03, 6.17685000e-03, 6.58864000e-03, 7.16514600e-03,\n",
              "        7.74165200e-03, 7.49457800e-03, 7.90636800e-03, 8.56523200e-03,\n",
              "        9.80060200e-03, 9.30645400e-03, 9.80060200e-03, 1.03771080e-02,\n",
              "        1.07065400e-02, 8.89466400e-03, 8.97702200e-03, 8.48287400e-03,\n",
              "        9.22409600e-03, 7.65929400e-03, 8.40051600e-03, 9.22409600e-03,\n",
              "        1.02947500e-02, 1.02947500e-02, 1.18595520e-02, 1.34243540e-02,\n",
              "        1.54009460e-02, 1.53185880e-02, 1.59774520e-02, 1.64716000e-02,\n",
              "        1.63068840e-02, 1.39185020e-02, 1.45773660e-02, 1.39185020e-02,\n",
              "        1.49891560e-02, 1.39185020e-02, 1.53185880e-02, 1.69657480e-02,\n",
              "        1.89423400e-02, 1.96012040e-02, 2.16601540e-02, 2.31425980e-02,\n",
              "        2.62722020e-02, 2.57780540e-02, 2.89900160e-02, 3.14607560e-02,\n",
              "        3.55786560e-02, 3.82964700e-02, 4.52969000e-02, 5.33679840e-02,\n",
              "        6.56393260e-02, 8.06284820e-02, 1.03112216e-01, 1.31031578e-01,\n",
              "        1.67763246e-01, 2.06306790e-01, 2.51109542e-01, 2.92782690e-01,\n",
              "        3.34291122e-01, 3.57927868e-01, 3.95483116e-01, 4.30485266e-01,\n",
              "        4.27355662e-01, 3.96141980e-01, 3.88647402e-01, 3.73740604e-01,\n",
              "        3.46315390e-01, 3.35526492e-01, 3.64022360e-01, 4.18049208e-01,\n",
              "        4.87559360e-01, 5.54516414e-01, 6.39509870e-01, 7.23103240e-01,\n",
              "        7.85612962e-01, 7.95001774e-01, 8.20038606e-01, 8.23580000e-01,\n",
              "        7.82071568e-01, 7.41222000e-01, 7.34715718e-01, 7.58928970e-01,\n",
              "        7.84130518e-01, 8.09990930e-01, 7.76635940e-01, 7.61729142e-01,\n",
              "        6.59440506e-01, 5.13996278e-01, 3.68552050e-01, 2.59180626e-01,\n",
              "        1.83164192e-01, 1.31772800e-01, 9.82530940e-02, 7.70870880e-02,\n",
              "        6.08625620e-02, 5.06501700e-02, 4.43086040e-02, 4.17555060e-02,\n",
              "        3.76376060e-02, 3.54139400e-02, 3.36020640e-02, 3.28608420e-02,\n",
              "        3.05548180e-02, 2.77546460e-02, 2.59427700e-02, 2.50368320e-02,\n",
              "        2.19072280e-02, 2.07542160e-02, 1.89423400e-02, 1.97659200e-02,\n",
              "        1.72951800e-02, 1.60598100e-02, 1.54009460e-02, 1.58950940e-02,\n",
              "        1.43302920e-02, 1.42479340e-02, 1.34243540e-02, 1.46597240e-02,\n",
              "        1.26007740e-02, 1.25184160e-02, 1.16124780e-02, 1.30125640e-02,\n",
              "        1.08712560e-02, 1.02123920e-02, 1.04594660e-02, 1.16124780e-02,\n",
              "        8.56523200e-03, 9.30645400e-03, 9.05938000e-03, 9.80060200e-03,\n",
              "        8.64759000e-03, 9.14173800e-03, 8.15344200e-03, 9.14173800e-03,\n",
              "        8.07108400e-03, 8.15344200e-03, 7.16514600e-03, 8.81230600e-03,\n",
              "        7.16514600e-03, 7.49457800e-03, 7.65929400e-03, 8.23580000e-03,\n",
              "        7.08278800e-03, 6.09449200e-03, 5.76506000e-03, 6.25920800e-03,\n",
              "        4.77676400e-03, 4.28261600e-03, 4.20025800e-03, 4.11790000e-03,\n",
              "        2.96488800e-03, 3.54139400e-03, 3.12960400e-03, 3.54139400e-03,\n",
              "        1.89423400e-03, 2.05895000e-03, 2.71781400e-03, 2.80017200e-03,\n",
              "        1.97659200e-03, 1.89423400e-03, 1.89423400e-03, 2.38838200e-03,\n",
              "        1.31772800e-03, 1.56480200e-03, 3.04724600e-03, 3.29432000e-03,\n",
              "        2.22366600e-03, 1.97659200e-03, 2.80017200e-03, 2.38838200e-03,\n",
              "        1.56480200e-03, 1.40008600e-03, 2.47074000e-03, 1.97659200e-03,\n",
              "        1.40008600e-03, 1.48244400e-03, 2.63545600e-03, 2.88253000e-03,\n",
              "        1.56480200e-03, 1.31772800e-03, 2.96488800e-03, 1.89423400e-03,\n",
              "        1.89423400e-03, 1.48244400e-03, 3.12960400e-03, 2.47074000e-03,\n",
              "        2.14130800e-03, 1.56480200e-03, 2.55309800e-03, 2.63545600e-03,\n",
              "        1.40008600e-03, 1.56480200e-03, 3.62375200e-03, 2.30602400e-03,\n",
              "        1.48244400e-03, 1.89423400e-03, 3.04724600e-03, 1.48244400e-03,\n",
              "        1.23537000e-03, 1.07065400e-03, 3.12960400e-03, 1.56480200e-03,\n",
              "        1.81187600e-03, 5.76506000e-04, 2.47074000e-03, 1.56480200e-03,\n",
              "        9.88296000e-04, 6.58864000e-04, 2.47074000e-03, 1.31772800e-03,\n",
              "        1.56480200e-03, 8.23580000e-04, 2.80017200e-03, 1.89423400e-03,\n",
              "        1.23537000e-03, 3.29432000e-04, 2.47074000e-03, 1.81187600e-03,\n",
              "        1.64716000e-03, 7.41222000e-04, 2.38838200e-03, 1.48244400e-03,\n",
              "        4.94148000e-04, 8.23580000e-04, 2.05895000e-03, 1.97659200e-03,\n",
              "        4.11790000e-04, 4.11790000e-04, 2.47074000e-03, 8.23580000e-04,\n",
              "        1.15301200e-03, 1.07065400e-03, 1.89423400e-03, 1.56480200e-03,\n",
              "        1.81187600e-03, 9.88296000e-04, 2.14130800e-03, 1.89423400e-03,\n",
              "        2.30602400e-03, 1.15301200e-03, 2.05895000e-03, 2.22366600e-03,\n",
              "        1.07065400e-03, 2.14130800e-03, 2.22366600e-03, 1.97659200e-03,\n",
              "        2.05895000e-03, 1.56480200e-03, 2.71781400e-03, 2.22366600e-03,\n",
              "        1.89423400e-03, 2.05895000e-03, 3.45903600e-03, 2.38838200e-03,\n",
              "        1.97659200e-03, 2.38838200e-03, 2.80017200e-03, 2.96488800e-03,\n",
              "        2.47074000e-03, 2.80017200e-03, 2.63545600e-03, 2.63545600e-03,\n",
              "        1.64716000e-03, 2.22366600e-03, 2.80017200e-03, 2.38838200e-03,\n",
              "        1.64716000e-03, 2.80017200e-03, 2.71781400e-03, 2.38838200e-03,\n",
              "        1.15301200e-03, 2.47074000e-03, 3.12960400e-03, 2.30602400e-03,\n",
              "        2.22366600e-03, 2.71781400e-03, 2.71781400e-03, 2.05895000e-03,\n",
              "        1.07065400e-03, 2.88253000e-03, 3.29432000e-03, 2.71781400e-03,\n",
              "        2.63545600e-03, 3.12960400e-03, 2.71781400e-03, 3.12960400e-03,\n",
              "        2.80017200e-03, 3.45903600e-03, 3.70611000e-03, 3.54139400e-03,\n",
              "        2.63545600e-03, 3.04724600e-03, 3.45903600e-03, 3.54139400e-03,\n",
              "        2.96488800e-03, 3.29432000e-03, 3.62375200e-03, 3.12960400e-03,\n",
              "        3.04724600e-03, 4.11790000e-03, 3.62375200e-03, 3.29432000e-03,\n",
              "        1.97659200e-03, 2.80017200e-03, 2.71781400e-03, 3.21196200e-03,\n",
              "        2.22366600e-03, 3.29432000e-03, 3.54139400e-03, 3.45903600e-03,\n",
              "        2.55309800e-03, 3.37667800e-03, 3.95318400e-03, 3.70611000e-03,\n",
              "        3.45903600e-03, 4.20025800e-03, 3.70611000e-03, 4.36497400e-03,\n",
              "        3.70611000e-03, 4.44733200e-03, 4.20025800e-03, 3.78846800e-03,\n",
              "        3.29432000e-03, 3.78846800e-03, 3.62375200e-03, 3.37667800e-03,\n",
              "        3.21196200e-03, 2.80017200e-03, 3.70611000e-03, 3.37667800e-03,\n",
              "        3.37667800e-03, 3.62375200e-03, 3.87082600e-03, 3.87082600e-03]),\n",
              " 'filename': '/content/nist_spectra/C110543_IR_0.jdx'}"
            ]
          },
          "metadata": {},
          "execution_count": 111
        }
      ]
    },
    {
      "cell_type": "code",
      "source": [
        "spec1['state']"
      ],
      "metadata": {
        "id": "I6edDzMp0G5T",
        "colab": {
          "base_uri": "https://localhost:8080/",
          "height": 36
        },
        "outputId": "f91af403-a38d-4ae1-952d-ee0dac22aac4"
      },
      "execution_count": 98,
      "outputs": [
        {
          "output_type": "execute_result",
          "data": {
            "text/plain": [
              "'gas'"
            ],
            "application/vnd.google.colaboratory.intrinsic+json": {
              "type": "string"
            }
          },
          "metadata": {},
          "execution_count": 98
        }
      ]
    },
    {
      "cell_type": "code",
      "source": [
        "spec2['state']"
      ],
      "metadata": {
        "id": "E3UKIvo10Gv5",
        "colab": {
          "base_uri": "https://localhost:8080/",
          "height": 36
        },
        "outputId": "d8d5a6e5-b642-436f-e37f-1dacff964313"
      },
      "execution_count": 99,
      "outputs": [
        {
          "output_type": "execute_result",
          "data": {
            "text/plain": [
              "'GAS (12 mmHg, N2 ADDED, TOTAL PRESSURE 600 mmHg)'"
            ],
            "application/vnd.google.colaboratory.intrinsic+json": {
              "type": "string"
            }
          },
          "metadata": {},
          "execution_count": 99
        }
      ]
    },
    {
      "cell_type": "code",
      "source": [
        "spec3['state']"
      ],
      "metadata": {
        "id": "SY6SYClK0Gmt",
        "colab": {
          "base_uri": "https://localhost:8080/",
          "height": 36
        },
        "outputId": "d02635c3-c6e5-4f1b-9dec-db269dbd8603"
      },
      "execution_count": 100,
      "outputs": [
        {
          "output_type": "execute_result",
          "data": {
            "text/plain": [
              "'LIQUID (NEAT)'"
            ],
            "application/vnd.google.colaboratory.intrinsic+json": {
              "type": "string"
            }
          },
          "metadata": {},
          "execution_count": 100
        }
      ]
    },
    {
      "cell_type": "code",
      "source": [
        "spec1.keys()"
      ],
      "metadata": {
        "id": "dJ-Vreks0GcZ",
        "colab": {
          "base_uri": "https://localhost:8080/"
        },
        "outputId": "ffe3151e-0dd9-4726-b6d1-b32267bc1a7c"
      },
      "execution_count": 102,
      "outputs": [
        {
          "output_type": "execute_result",
          "data": {
            "text/plain": [
              "dict_keys(['title', 'jcamp-dx', 'data type', 'origin', 'owner', 'cas registry no', 'molform', '$nist source', 'state', 'xunits', 'yunits', 'xfactor', 'yfactor', 'deltax', 'firstx', 'lastx', 'firsty', 'maxx', 'minx', 'maxy', 'miny', 'npoints', 'xydata', 'end', 'x', 'y', 'filename'])"
            ]
          },
          "metadata": {},
          "execution_count": 102
        }
      ]
    },
    {
      "cell_type": "code",
      "source": [
        "spec2.keys()"
      ],
      "metadata": {
        "id": "4KHE8xDi0GRa",
        "colab": {
          "base_uri": "https://localhost:8080/"
        },
        "outputId": "8d0f4748-2d54-40c0-9b75-b8a1502b1431"
      },
      "execution_count": 103,
      "outputs": [
        {
          "output_type": "execute_result",
          "data": {
            "text/plain": [
              "dict_keys(['title', 'jcamp-dx', 'data type', 'class', 'origin', 'owner', 'date', 'cas registry no', 'molform', 'source reference', '$nist source', '$nist image', 'spectrometer/data system', 'instrument parameters', 'state', 'path length', 'sampling procedure', 'resolution', 'data processing', 'xunits', 'yunits', 'xfactor', 'yfactor', 'deltax', 'firstx', 'lastx', 'firsty', 'maxx', 'minx', 'maxy', 'miny', 'npoints', 'xydata', 'end', 'x', 'y', 'filename'])"
            ]
          },
          "metadata": {},
          "execution_count": 103
        }
      ]
    },
    {
      "cell_type": "code",
      "source": [
        "spec3.keys()"
      ],
      "metadata": {
        "id": "PhqQTUlEGD97",
        "outputId": "70b6668d-64b3-4ae3-ef74-fc727a2d05ea",
        "colab": {
          "base_uri": "https://localhost:8080/"
        }
      },
      "execution_count": 104,
      "outputs": [
        {
          "output_type": "execute_result",
          "data": {
            "text/plain": [
              "dict_keys(['title', 'jcamp-dx', 'data type', 'class', 'origin', 'owner', 'date', 'names', 'cas registry no', 'molform', 'source reference', '$nist source', '$nist image', 'spectrometer/data system', 'instrument parameters', 'state', 'path length', 'sampling procedure', 'resolution', 'data processing', 'xunits', 'yunits', 'xfactor', 'yfactor', 'deltax', 'firstx', 'lastx', 'firsty', 'maxx', 'minx', 'maxy', 'miny', 'npoints', 'xydata', 'end', 'x', 'y', 'filename'])"
            ]
          },
          "metadata": {},
          "execution_count": 104
        }
      ]
    },
    {
      "cell_type": "code",
      "source": [
        "spec2['source reference']"
      ],
      "metadata": {
        "id": "WfAdk-NsGHBD",
        "outputId": "12adb480-ea59-46ad-92e3-f43288c11c66",
        "colab": {
          "base_uri": "https://localhost:8080/",
          "height": 36
        }
      },
      "execution_count": 113,
      "outputs": [
        {
          "output_type": "execute_result",
          "data": {
            "text/plain": [
              "'COBLENTZ NO. 10501'"
            ],
            "application/vnd.google.colaboratory.intrinsic+json": {
              "type": "string"
            }
          },
          "metadata": {},
          "execution_count": 113
        }
      ]
    },
    {
      "cell_type": "markdown",
      "source": [
        "Now that we've figured them out, let's try representing them in two different ways. For one of these, we will transform the spectra so that they all fit on the same axis. For the other, we will plot on two different axes."
      ],
      "metadata": {
        "id": "QcdWQ2Qi0M-n"
      }
    },
    {
      "cell_type": "markdown",
      "source": [
        "#### Case 1: Transform spectra"
      ],
      "metadata": {
        "id": "TbuUhfNM0eNz"
      }
    },
    {
      "cell_type": "code",
      "source": [
        "fig, ax = plt.subplots()\n",
        "ax.plot(spec1['x'],spec1['y'],label='spec1')\n",
        "ax.plot(spec2['x'],spec2['y']*-1,label='spec2')\n",
        "ax.plot(spec3['x'],spec3['y']*-1,label='spec3')\n",
        "ax.legend()\n",
        "ax.set_xlabel('Wavenumber (cm^-1)')\n",
        "ax.set_ylabel('Intensity (a.u., adjusted)')"
      ],
      "metadata": {
        "id": "aeF7ad4xFW1M"
      },
      "execution_count": null,
      "outputs": []
    },
    {
      "cell_type": "markdown",
      "source": [
        "Task: <font color='red'> Play around with the scale factors on the y data to make a more presentable graph."
      ],
      "metadata": {
        "id": "UtLOihQs1HBR"
      }
    },
    {
      "cell_type": "code",
      "source": [],
      "metadata": {
        "id": "3n-ZlCr603GH"
      },
      "execution_count": null,
      "outputs": []
    },
    {
      "cell_type": "code",
      "source": [],
      "metadata": {
        "id": "rTzV6696FND3"
      },
      "execution_count": null,
      "outputs": []
    },
    {
      "cell_type": "code",
      "source": [],
      "metadata": {
        "id": "uHCse8yF1TP9"
      },
      "execution_count": null,
      "outputs": []
    },
    {
      "cell_type": "markdown",
      "source": [
        "#### Case 2: Preserve data originality by plotting on two axes."
      ],
      "metadata": {
        "id": "Fs7PznFD1USI"
      }
    },
    {
      "cell_type": "code",
      "source": [
        "fig, ax = plt.subplots(2,1,sharex=True)\n",
        "ax[0].plot(spec1['x'],spec1['y'],label='spec1')\n",
        "ax[1].plot(spec2['x'],spec2['y'],label='spec2')\n",
        "ax[1].plot(spec3['x'],spec3['y'],label='spec3')\n",
        "for a in ax:\n",
        "  a.legend()\n",
        "  a.set_xlabel('Wavenumber (cm^-1)')\n",
        "  a.set_ylabel('Intensity (a.u., adjusted)')"
      ],
      "metadata": {
        "id": "vrBBNW-ECIYF"
      },
      "execution_count": null,
      "outputs": []
    },
    {
      "cell_type": "markdown",
      "source": [
        "### Part 5: Your turn: <font color='red'> Do this for cyclohexane, and compare the spectra for hexane and cyclohexane."
      ],
      "metadata": {
        "id": "hN-oOeZt1uAp"
      }
    },
    {
      "cell_type": "code",
      "source": [],
      "metadata": {
        "id": "Tmb7vyjm1tgI"
      },
      "execution_count": null,
      "outputs": []
    },
    {
      "cell_type": "code",
      "source": [],
      "metadata": {
        "id": "u5DqDDFU1tcs"
      },
      "execution_count": null,
      "outputs": []
    },
    {
      "cell_type": "code",
      "source": [],
      "metadata": {
        "id": "GPIcnCSm1tZK"
      },
      "execution_count": null,
      "outputs": []
    },
    {
      "cell_type": "code",
      "source": [],
      "metadata": {
        "id": "ZPV-LaUq1tVp"
      },
      "execution_count": null,
      "outputs": []
    },
    {
      "cell_type": "code",
      "source": [],
      "metadata": {
        "id": "18nd7W0B1tSS"
      },
      "execution_count": null,
      "outputs": []
    },
    {
      "cell_type": "code",
      "source": [],
      "metadata": {
        "id": "xnjFNrcF1tO4"
      },
      "execution_count": null,
      "outputs": []
    },
    {
      "cell_type": "code",
      "source": [],
      "metadata": {
        "id": "aeN3atz11tLq"
      },
      "execution_count": null,
      "outputs": []
    },
    {
      "cell_type": "code",
      "source": [],
      "metadata": {
        "id": "ybcdoqsL1tH-"
      },
      "execution_count": null,
      "outputs": []
    },
    {
      "cell_type": "code",
      "source": [],
      "metadata": {
        "id": "9ul6__J-1s9h"
      },
      "execution_count": null,
      "outputs": []
    },
    {
      "cell_type": "code",
      "source": [],
      "metadata": {
        "id": "dNwYpouM1swg"
      },
      "execution_count": null,
      "outputs": []
    },
    {
      "cell_type": "markdown",
      "source": [],
      "metadata": {
        "id": "lSFGjzGV1sAj"
      }
    },
    {
      "cell_type": "markdown",
      "source": [
        "## Basic Python Skill 2 : Reading .csv files"
      ],
      "metadata": {
        "id": "PvTGghHoaEGv"
      }
    },
    {
      "cell_type": "markdown",
      "source": [
        "Data is often stored and shared as csv (comma separated value) files. You may also encounter files with different **delimiters**. A delimiter is what breaks up distinct entries. Some common delimiters besides commas are space (' ') or tab ('\\t').\n",
        "Pandas is the package which we use to read .csv files and turn them into **dataframes**. Dataframes are tables, somewhat analogous to excel files, that hold data. While this is new for me, Colab has extra functonalities that pop up when you have a dataframe.\n",
        "This is a more finicky file than you will encounter in the first homework assignment."
      ],
      "metadata": {
        "id": "A9NsoGc0aNGs"
      }
    },
    {
      "cell_type": "code",
      "source": [
        "import pandas as pd # this is quite often done at the beginning of a notebook, because it is used so frequently"
      ],
      "metadata": {
        "id": "fZhJpxJxclfD"
      },
      "execution_count": null,
      "outputs": []
    },
    {
      "cell_type": "code",
      "source": [
        "loaded_csv = pd.read_csv('/content/MSE7530/sampledata/Dynamic_1_D10_enthalpy_2kmin.csv', encoding='unicode_escape')"
      ],
      "metadata": {
        "id": "20AiEIRAcmAW"
      },
      "execution_count": null,
      "outputs": []
    },
    {
      "cell_type": "markdown",
      "source": [
        "Here, our issue is that the data file has a bunch of information at the top. In the class github, download the file and open it in excel. What does it look like?"
      ],
      "metadata": {
        "id": "TZTdAdsvdunV"
      }
    },
    {
      "cell_type": "code",
      "source": [
        "loaded_csv = pd.read_csv('/content/MSE7530/sampledata/Dynamic_1_D10_enthalpy_2kmin.csv', encoding='unicode_escape',header=38),#header=40)"
      ],
      "metadata": {
        "id": "s3D1qbRAcl28"
      },
      "execution_count": null,
      "outputs": []
    },
    {
      "cell_type": "code",
      "source": [
        "loaded_csv"
      ],
      "metadata": {
        "id": "D3mCg_x7eXYc"
      },
      "execution_count": null,
      "outputs": []
    },
    {
      "cell_type": "markdown",
      "source": [
        "We still have a problem here; it didn't make a dataframe. When you inspect, it looks like the file is actually delimited by semicolons. To fix this, we can explicitly specify the delimiter when we call read_csv"
      ],
      "metadata": {
        "id": "njcbN_zIeb6e"
      }
    },
    {
      "cell_type": "code",
      "source": [
        "loaded_csv = pd.read_csv('/content/MSE7530/sampledata/Dynamic_1_D10_enthalpy_2kmin.csv', encoding='unicode_escape',header=38,delimiter=';'),#header=40)"
      ],
      "metadata": {
        "id": "I6Tnrlt0cltO"
      },
      "execution_count": null,
      "outputs": []
    },
    {
      "cell_type": "code",
      "source": [
        "loaded_csv"
      ],
      "metadata": {
        "id": "4luU7XcAepZH"
      },
      "execution_count": null,
      "outputs": []
    },
    {
      "cell_type": "code",
      "source": [
        "loaded_csv[0]"
      ],
      "metadata": {
        "id": "t1ZuWQ55euNR"
      },
      "execution_count": null,
      "outputs": []
    },
    {
      "cell_type": "markdown",
      "source": [
        "We now have a dataframe. <font color='red'>Plot the column \"DSC\" vs the \"temp\" column.</font>"
      ],
      "metadata": {
        "id": "bxG9ky9ifDK1"
      }
    },
    {
      "cell_type": "code",
      "source": [
        "plt.plot(loaded_csv[0]['##Temp./C'], loaded_csv[0]['DSC/(mW/mg)'],'o',markersize=1)"
      ],
      "metadata": {
        "id": "cXeKHfrheuDw"
      },
      "execution_count": null,
      "outputs": []
    },
    {
      "cell_type": "markdown",
      "source": [
        "## End Section: Scratch Paper\n",
        "This section is for you to test out anything you don't want to do in-line in the main class notebook. It may also be useful for impromptu examples. To preserve this, you **must** save your notebook to your Github or Drive before navigating away from the page."
      ],
      "metadata": {
        "id": "E5K988Jv7EmF"
      }
    },
    {
      "cell_type": "code",
      "source": [],
      "metadata": {
        "id": "e_lIDpeH7WtL"
      },
      "execution_count": null,
      "outputs": []
    }
  ]
}
