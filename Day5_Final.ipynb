{
  "cells": [
    {
      "cell_type": "markdown",
      "metadata": {
        "id": "view-in-github",
        "colab_type": "text"
      },
      "source": [
        "<a href=\"https://colab.research.google.com/github/cbishop4/MSE7530/blob/main/Day5_Final.ipynb\" target=\"_parent\"><img src=\"https://colab.research.google.com/assets/colab-badge.svg\" alt=\"Open In Colab\"/></a>"
      ]
    },
    {
      "cell_type": "markdown",
      "metadata": {
        "id": "kQMr7xF6ZJ6y"
      },
      "source": [
        "# Lecture 5: Fourier-Transform Infrared Spectroscopy continued\n",
        "MSE 7530, Fall 2025, Wayne State University  \n",
        "Monday, September 15th, 2025  \n",
        "Prof. Camille Bishop"
      ]
    },
    {
      "cell_type": "markdown",
      "metadata": {
        "id": "pT09jy6RZsNF"
      },
      "source": [
        "### <font color='magenta'> We will be working through this notebook together as a class today. Whatever we do not get to in class, the remainder will be left self-guided as part of Assignment 2. You can be fairly confident that this guided material will come up in the in-class quiz."
      ]
    },
    {
      "cell_type": "markdown",
      "metadata": {
        "id": "09m7qD5ST6TX"
      },
      "source": [
        "## <font color='red'>**(Always Run These First)**</font> Part 0.5: Quick refresher and necessary import cells\n",
        "Every notebook will generally start with all the necessary import cells in one place; here I will import all packages that we used at once."
      ]
    },
    {
      "cell_type": "code",
      "execution_count": null,
      "metadata": {
        "id": "MPagbos_RLUn"
      },
      "outputs": [],
      "source": [
        "# the standard cell\n",
        "import matplotlib.pyplot as plt\n",
        "import numpy as np\n",
        "import pandas as pd\n",
        "import os"
      ]
    },
    {
      "cell_type": "markdown",
      "metadata": {
        "id": "mz_I9gjCUlR9"
      },
      "source": [
        "Setting up file access to the class GH Repo and your personal Google Drive"
      ]
    },
    {
      "cell_type": "code",
      "execution_count": null,
      "metadata": {
        "id": "s9K5YJ8HUfNR"
      },
      "outputs": [],
      "source": [
        "!git clone https://github.com/cbishop4/MSE7530.git\n",
        "from google.colab import drive\n",
        "drive.mount('/content/drive')"
      ]
    },
    {
      "cell_type": "markdown",
      "metadata": {
        "id": "iL6r5UQlpKiz"
      },
      "source": [
        "##  Exercise 1: Calculating \"toy\" interferograms\n",
        "Through the following 4 exercises, we will build up the concepts involved in interferograms and Fourier transformed spectra."
      ]
    },
    {
      "cell_type": "markdown",
      "metadata": {
        "id": "NDouF4WeNTFX"
      },
      "source": [
        "### A monochromatic interferogram with arbitrary intensity\n",
        "<font color='red'><font size=3> Warmup: Calculate the intensity I as a function of $\\delta$ (retardation, or difference in path length) for light with $\\lambda$ = $2 \\mu m$. Take the value $I_{0}$ to be arbitrarily equal to 1. </font></font>  \n",
        "Note that the cosine function is part of numpy and <font color='blue'> takes inputs and outputs in radians.</font> There are a couple functions you can use to convert between the two. (You may or may not have to do this in this particular case; check if the cosine term is in radians or degrees)\n",
        "\n",
        "```\n",
        "np.cos(x) # input and output in radians\n",
        "np.rad2deg(x) # converts an angle x in radians to degrees\n",
        "np.radians(x) # converts an angle x in degrees to radians\n",
        "np.pi # no arguments or parentheses for this; it is just a constant\n",
        "```\n",
        "Alternatively to using the function, you can just use the conversion where $\\pi~ radians = 180°$.\n"
      ]
    },
    {
      "cell_type": "markdown",
      "metadata": {
        "id": "OXMTJHweWDh2"
      },
      "source": [
        "Guide to the correct steps:  \n",
        "1) Write a user-defined function that converts $\\delta$ and $\\lambda$ to Intensity.  \n",
        "2) Define an evenly spaced numpy array of values of $\\delta$ (I recommend values from -20 to 20 $\\mu m$.    \n",
        "3) Use your function to calculate the range of intensities expected.\n",
        "4) Plot your intensities on the y-axis vs. $\\delta$ on the x-axis."
      ]
    },
    {
      "cell_type": "code",
      "execution_count": null,
      "metadata": {
        "id": "FjRGsay9WxfQ"
      },
      "outputs": [],
      "source": [
        "# your code here (add extra cells if necessary)"
      ]
    },
    {
      "cell_type": "markdown",
      "metadata": {
        "id": "6339MgWzTH2I"
      },
      "source": [
        "<font color='red'> Does this look like the interferogram in the example slides? Why or why not?"
      ]
    },
    {
      "cell_type": "markdown",
      "metadata": {
        "id": "jjnjFNBRqJ3G"
      },
      "source": [
        "The above interferogram was generated from a single wavelength. If you had a monochromatic source, this is what your interferogram would look like. This corresponds to  \n",
        "<font size=6>$I(\\delta) = \\frac{I_{0}}{2}[1 + cos(\\frac{2\\pi \\delta}{\\lambda})]  $  </font>  \n",
        "Our case does still satisfy the formula for a total interferogram at multiple wavelengths,  \n",
        "<font size=6>$I_{T}(\\delta) = \\sum_{k=1}^{K}{\\frac{I_{k,0}}{2}[1 + cos(\\frac{2\\pi \\delta}{\\lambda_{k}})]} $,  </font>  \n",
        "We just simply only have one k (value for wavelength). Next, we will have multiple k's, so the summation will actually be over many terms."
      ]
    },
    {
      "cell_type": "markdown",
      "metadata": {
        "id": "ABzq4zBUTSts"
      },
      "source": [
        "### A polychromatic interferogram with uniform (non-realistic) intensity\n",
        "I have written this code as there are a few steps that will take a while; part of your homework will be to comment this code to explain what is happening."
      ]
    },
    {
      "cell_type": "code",
      "execution_count": null,
      "metadata": {
        "id": "HjuZWL5lOACX"
      },
      "outputs": [],
      "source": [
        "def delta_to_I(deltas,wl,I_0=1):\n",
        "  return I_0 * 0.5 * (1 + np.cos(2 * np.pi * deltas / wl))"
      ]
    },
    {
      "cell_type": "code",
      "execution_count": null,
      "metadata": {
        "id": "GQONgO1sTYRG"
      },
      "outputs": [],
      "source": [
        "deltas = np.linspace(-100,100, 1001)\n",
        "wl_spectrum = np.linspace(2.5,25,500)\n",
        "interferogram = np.zeros(len(deltas))\n",
        "for wl in wl_spectrum:\n",
        "  interferogram += delta_to_I(deltas,wl)"
      ]
    },
    {
      "cell_type": "code",
      "execution_count": null,
      "metadata": {
        "id": "_x_PR8Xqk3Ts"
      },
      "outputs": [],
      "source": [
        "plt.plot(deltas,interferogram)\n",
        "plt.xlabel('Retardation $\\\\delta$ ($\\\\mu$m)')\n",
        "plt.ylabel('Intensity')"
      ]
    },
    {
      "cell_type": "markdown",
      "metadata": {
        "id": "d-i1QntpT-8e"
      },
      "source": [
        "<font color='red'> Does this look like the interferogram in the example slides? Why or why not?"
      ]
    },
    {
      "cell_type": "markdown",
      "metadata": {
        "id": "ahqfDBaSqZW1"
      },
      "source": [
        "The uniformity of the above interferogram is due to the condition that $I_{0}$ is equal to 1 for every wavelength. Now, we will generate a totally random array of $I_0$ values using the np.random() function."
      ]
    },
    {
      "cell_type": "markdown",
      "metadata": {
        "id": "4JD8efNPOR3x"
      },
      "source": [
        "### A polychromatic interferogram with non-uniform (but still not realistic) intensities."
      ]
    },
    {
      "cell_type": "code",
      "execution_count": null,
      "metadata": {
        "id": "1mSGEgNFqZW1"
      },
      "outputs": [],
      "source": [
        "wl_spectrum = np.linspace(2.5,25,200)\n",
        "I_0s = np.random.rand(len(wl_spectrum)) # here, we generate a random array of identities\n",
        "deltas = np.linspace(-100,100, 1001)\n",
        "interferogram = np.zeros(len(deltas))\n",
        "i = 0\n",
        "for wl in wl_spectrum:\n",
        "  interferogram += delta_to_I(deltas,wl,I_0=I_0s[i])\n",
        "  i += 1"
      ]
    },
    {
      "cell_type": "code",
      "execution_count": null,
      "metadata": {
        "id": "CCMd1ZdjqZW1"
      },
      "outputs": [],
      "source": [
        "plt.plot(deltas,interferogram)\n",
        "plt.xlabel('Retardation $\\\\delta$ ($\\mu$m)')\n",
        "plt.ylabel('Intensity')\n",
        "#plt.xlim(-25,25)"
      ]
    },
    {
      "cell_type": "markdown",
      "metadata": {
        "id": "kTNqrfqapkAy"
      },
      "source": [
        "### **Importance of $I_{0}$ values**\n",
        "In the first two sub-exercises, we used $I_{0} = 1$ for every wavelength of IR radiation. In the last of the three, we used random values. However, as we know, the interactions with IR light (which are what we want to measure in the first place) change these. That is why the interferogram generated above looks much more uniform than the real one in the lecture slides.  \n",
        "In the following exercise, we will use variable $I_{0}$ values, including real experimental ones, and consider a few other practical considerations needed, including *apodization* and *background subtraction*."
      ]
    },
    {
      "cell_type": "markdown",
      "metadata": {
        "id": "6aNzu1Q4lSn8"
      },
      "source": [
        "## Exercise 2 : Generating more \"toy\" interferograms.\n",
        "Here, we are following along to an exercise adapted from B. Shepherd & M.K. Bellamy, *J. Chem. Ed.* 89, 5, (2012). We will first build interferograms from single wavenumbers, add more wavenumbers, and move to experimental spectra. After these exercises, we will move to Exercise 4, where we will go from an interferogram (as we would measure from an instrument) to a spectrum (as we would analyze chemically)>"
      ]
    },
    {
      "cell_type": "markdown",
      "metadata": {
        "id": "VeSs1hAT9k3j"
      },
      "source": [
        "### Defining instrumental parameters, the sampling interval, and math behind the Interferogram generation and apodization"
      ]
    },
    {
      "cell_type": "markdown",
      "metadata": {
        "id": "-eomGmbp8Edo"
      },
      "source": [
        "The \"experimental details\" of the spectrometer we will \"use\" (which would be determined by the instrument you are using) are:  \n",
        "Resolution: $16 ~cm^{-1}$   \n",
        "Wavenumber range of spectrometer: $3200~ cm^{-1}$ to $470~ cm^{-1}$  \n",
        "We will collect 989 data points in our interferogram; this would be the total range of distinct mirror distances.  \n",
        "We calculate our sampling interval, h, based on the wavelength of the calibration laser"
      ]
    },
    {
      "cell_type": "code",
      "execution_count": null,
      "metadata": {
        "id": "5fYw-oyJrE_f"
      },
      "outputs": [],
      "source": [
        "lambda_HeNe = 632.8 #nm\n",
        "h_cm = lambda_HeNe * 10**-7 #nm to cm\n",
        "h_cm # this is the sampling interval"
      ]
    },
    {
      "cell_type": "markdown",
      "metadata": {
        "id": "0utWYpIz9Tb7"
      },
      "source": [
        "We collect a data point every $6.328 \\times 10^{-5}$ cm that the mirror slides."
      ]
    },
    {
      "cell_type": "markdown",
      "metadata": {
        "id": "2UNISk44t-hR"
      },
      "source": [
        "Using the principle of Fourier transforms, the intensity as a function of retardation over a series of wavelengths (where $\\bar{\\nu}_{N}$ is the wavenumber equivalent to $\\frac{1}{\\lambda}$):  \n",
        "<font size=4>$I(δ_{total}) = B_{1}cos(2π\\bar{\\nu}_{1}\\delta) + B_{2}cos(2π\\bar{\\nu}_{2}\\delta) + ... + B_{N}cos(2π\\bar{\\nu}_{N}\\delta)$ <font color='grey'>(Equation 1)"
      ]
    },
    {
      "cell_type": "markdown",
      "metadata": {
        "id": "L8S2Oti_9fxS"
      },
      "source": [
        "<font size=4><font color='blue'> **Apodization** </font></font>is a very important concept to deal with real data.  \n",
        "A true Fourier transform requires data collection from $\\delta = -\\infty ~to + \\infty$, but this is not possible on a real instrument. Additionally, for a real instrument, the signal will decay as the mirror moves further from the beamsplitter. **Apodization is a mathematical process that makes an interferogram recorded at finite retardation diminish in a way that mimics an interferogram recorded to infinite retardation.**  \n",
        "The Apodization Function is given by:  \n",
        "<font size=4>$A(\\delta) = \\frac{1}{2}[1 + cos (\\frac{\\pi\\delta}{\\Delta_{maximum}})]$  <font color='grey'> (Equation 2)</font>  \n",
        "</font>Where $\\Delta_{maximum}$ is the total retardation needed to collect a spectrum at a given resolution, and is equal to $\\frac{1}{resolution}*k_{max}$ (remember that $k_{max} = n_{points} - 1$\n",
        "\n"
      ]
    },
    {
      "cell_type": "markdown",
      "metadata": {
        "id": "VPCrUo5FxPni"
      },
      "source": [
        "<font color='blue'><font size=5> The proper interferogram must be multiplied by the apodized function, and is therefore given by $I(\\delta)A(\\delta)$  </font></font>  \n",
        "\n",
        "Note that NumPy arrays are set up perfectly for this, as they will multiply number-by-number.\n"
      ]
    },
    {
      "cell_type": "markdown",
      "metadata": {
        "id": "H6K-cslrvHQs"
      },
      "source": [
        "### Starting with a single wavenumber: $1500 cm^{-1}$.  \n",
        "The Measured Intensity from the spectrum, which we will refer to as B, for this wavenumber is $0.8$.  \n",
        "With the single wavelength, Equation 1 reduces to:  \n",
        "<font size=4>$I(\\delta) = 0.8 * cos(2\\pi * 1500 * \\delta)$  </font>\n",
        "(Note that in the old version from Day 4, this text was slightly different and had an error in a statement about B)"
      ]
    },
    {
      "cell_type": "markdown",
      "metadata": {
        "id": "ZJxhx_LHxezZ"
      },
      "source": [
        "#### <font color='red'> Your turn: calculate $I(\\delta), A(\\delta), and~ I(\\delta)A(\\delta)$ for the single-wavelength case.\n",
        "First, let's discuss: what shape will the data have?"
      ]
    },
    {
      "cell_type": "markdown",
      "metadata": {
        "id": "iWiTaPr5yVCF"
      },
      "source": [
        "First cell: Specify all constants and arrays you will need. Note that $\\delta = kh$, where $k$ is equal to the number of data points, and $h$ is the sampling interval. The first value of $k$ is $0$."
      ]
    },
    {
      "cell_type": "code",
      "execution_count": null,
      "metadata": {
        "id": "dW8mA85GyTv8"
      },
      "outputs": [],
      "source": [
        "# your code here\n",
        "h_cm =\n",
        "ks =\n",
        "deltas =\n",
        "B_1 = 0.8\n",
        "wavenumber = 1500 # inv cm\n",
        "Delta_max = (1/16) * ks[-1] # cm"
      ]
    },
    {
      "cell_type": "markdown",
      "metadata": {
        "id": "R5RmK-DHyZm9"
      },
      "source": [
        "Second cell: Calculate $A(\\delta)$ and $I(\\delta)$ and save them as variables (these variables will be numpy arrays)."
      ]
    },
    {
      "cell_type": "code",
      "execution_count": null,
      "metadata": {
        "id": "ha34jvnu9S47"
      },
      "outputs": [],
      "source": [
        "# your code here\n"
      ]
    },
    {
      "cell_type": "markdown",
      "metadata": {
        "id": "_0n-raRIzxDv"
      },
      "source": [
        "Third cell: Calculate $A(\\delta)I(\\delta)$ and save as a variable (again a numpy array)"
      ]
    },
    {
      "cell_type": "code",
      "execution_count": null,
      "metadata": {
        "id": "Yj1luU-czvBj"
      },
      "outputs": [],
      "source": [
        "# your code here\n"
      ]
    },
    {
      "cell_type": "markdown",
      "metadata": {
        "id": "Ao5AGtau0C0X"
      },
      "source": [
        "Fourth cell: Plot the 3 quantities so you can see what you were working with"
      ]
    },
    {
      "cell_type": "code",
      "execution_count": null,
      "metadata": {
        "id": "QFXhm_8q0Bfm"
      },
      "outputs": [],
      "source": [
        "fig, ax = plt.subplots(1,3,figsize=(12,4))\n",
        "for a in ax:\n",
        "  a.set_xlabel('Retardation $\\\\delta$ (cm)')\n",
        "ax[0].set_ylabel('I ($\\\\delta$)'); ax[1].set_ylabel('A($\\\\delta$)'); ax[2].set_ylabel('A($\\\\delta$)I($\\\\delta$)')\n",
        "ax[0].set_title('Un-apodized intensity'); ax[1].set_title('Apodization Function'); ax[2].set_title('Apodized intensity')\n",
        "\n",
        "# your code here\n",
        "# ax[0].plot(x,y)\n",
        "# ax[1].plot(x,y)\n",
        "# ax[2].plot(x,y)"
      ]
    },
    {
      "cell_type": "markdown",
      "metadata": {
        "id": "GesoK1R70wYC"
      },
      "source": [
        "You can see that the intensity functions have a lot of detail that we can't see because of scaling, so let's look at a smaller portion. The code in the below cell is identical to above, except that we have set the xlimit with the code  \n",
        "a.set_xlim(0,0.02)"
      ]
    },
    {
      "cell_type": "code",
      "execution_count": null,
      "metadata": {
        "id": "BUT4m-O92WvQ"
      },
      "outputs": [],
      "source": [
        "fig, ax = plt.subplots(1,3,figsize=(12,4))\n",
        "for a in ax:\n",
        "  a.set_xlabel('Retardation $\\\\delta$ (cm)')\n",
        "  a.set_xlim(0,.02)\n",
        "ax[0].set_ylabel('I ($\\\\delta$)'); ax[1].set_ylabel('A($\\\\delta$)'); ax[2].set_ylabel('A($\\\\delta$)I($\\\\delta$)')\n",
        "ax[0].set_title('Un-apodized intensity'); ax[1].set_title('Apodization Function'); ax[2].set_title('Apodized intensity')\n",
        "\n",
        "# your code here (same as in above cell)\n",
        "# ax[0].plot(x,y)\n",
        "# ax[1].plot(x,y)\n",
        "# ax[2].plot(x,y)"
      ]
    },
    {
      "cell_type": "markdown",
      "metadata": {
        "id": "TTtGj7oHaf-v"
      },
      "source": [
        "### Adding a second wavenumber: $1500$ and $3000$ $ cm^{-1}$.  \n",
        "Now that we added a second wavenumber, there is another B coefficient for the measured intensity. Here, we now have $B_{1} = 0.8$ and $B_{2}=0.5$, corresponding to the two wavenumbers, respectively.  \n",
        "Equation 1 now becomes:  \n",
        "<font size=4>$I(\\delta) = 0.8 * cos(2\\pi * 1500 * \\delta) + 0.5 * cos(2\\pi * 3000 * \\delta)$  </font>  \n",
        "Where $\\delta$ is the retardance."
      ]
    },
    {
      "cell_type": "markdown",
      "metadata": {
        "id": "oclYnyELc_oG"
      },
      "source": [
        "<font color='blue'>The biggest coding difference here is that we need to start using numpy arrays. One way to intialize them is the following:"
      ]
    },
    {
      "cell_type": "code",
      "execution_count": null,
      "metadata": {
        "id": "Vwh3PZSddG19"
      },
      "outputs": [],
      "source": [
        "Bs = np.array([0.8,0.5])\n",
        "wns = np.array([1500,3000])"
      ]
    },
    {
      "cell_type": "code",
      "execution_count": null,
      "metadata": {
        "id": "apGY1vuYc8wG"
      },
      "outputs": [],
      "source": [
        "h_cm = 6.328e-5 #cm (from above)\n",
        "ks = np.linspace(0,988,989)\n",
        "deltas = ks * h_cm\n",
        "# removed the previous single-valued B1 and wavenumber\n",
        "Delta_max = (1/16) * ks[-1] # cm"
      ]
    },
    {
      "cell_type": "markdown",
      "metadata": {
        "id": "sNaebiKcc8wH"
      },
      "source": [
        "Second cell: Calculate $A(\\delta)$ and $I(\\delta)$ and save them as variables (these variables will be numpy arrays, as in the single wavelength case). Notice that here, we calculate an interferogram at each wavenumber. To make the total interferogram, we sum them together. <font color='blue'> **This is a key point.**"
      ]
    },
    {
      "cell_type": "code",
      "execution_count": null,
      "metadata": {
        "id": "2ZzbX5tKc8wI"
      },
      "outputs": [],
      "source": [
        "# your code here\n",
        "I_delta = np.zeros(len(ks))\n",
        "for i in range(len(Bs)):\n",
        "  I_delta += Bs[i] * np.cos(2 * np.pi * wns[i] * deltas)\n",
        "A_delta = 0.5 * (1 + np.cos(np.pi * deltas / (ks[-1]*h_cm))) # note that the apodization function has not changed"
      ]
    },
    {
      "cell_type": "markdown",
      "metadata": {
        "id": "89ZFjsOvc8wI"
      },
      "source": [
        "Third cell: Calculate $A(\\delta)I(\\delta)$ and save as a variable (again a numpy array)"
      ]
    },
    {
      "cell_type": "code",
      "execution_count": null,
      "metadata": {
        "id": "25JGyHvVc8wI"
      },
      "outputs": [],
      "source": [
        "# your code here\n",
        "interferogram_1500_3000 = A_delta * I_delta"
      ]
    },
    {
      "cell_type": "markdown",
      "metadata": {
        "id": "3-EOTkAWc8wJ"
      },
      "source": [
        "Plot:"
      ]
    },
    {
      "cell_type": "code",
      "execution_count": null,
      "metadata": {
        "id": "g4QxsI8Yc8wJ"
      },
      "outputs": [],
      "source": [
        "fig, ax = plt.subplots(1,3,figsize=(12,4))\n",
        "for a in ax:\n",
        "  a.set_xlabel('Retardation $\\\\delta$ (cm)')\n",
        "ax[0].set_ylabel('I ($\\\\delta$)'); ax[1].set_ylabel('A($\\\\delta$)'); ax[2].set_ylabel('A($\\\\delta$)I($\\\\delta$)')\n",
        "ax[0].set_title('Un-apodized intensity'); ax[1].set_title('Apodization Function'); ax[2].set_title('Apodized intensity')\n",
        "\n",
        "# your code here\n",
        "ax[0].plot(deltas, I_delta)\n",
        "ax[1].plot(deltas, A_delta)\n",
        "ax[2].plot(deltas, interferogram_1500_3000)"
      ]
    },
    {
      "cell_type": "markdown",
      "metadata": {
        "id": "fg5DQfGzu1Za"
      },
      "source": [
        "As in the previous case, we are plotting an identical cell, just changing the x-limits so we can see it better."
      ]
    },
    {
      "cell_type": "code",
      "execution_count": null,
      "metadata": {
        "id": "XEta8lZiezYU"
      },
      "outputs": [],
      "source": [
        "fig, ax = plt.subplots(1,3,figsize=(12,4))\n",
        "for a in ax:\n",
        "  a.set_xlabel('Retardation $\\\\delta$ (cm)')\n",
        "ax[0].set_ylabel('I ($\\\\delta$)'); ax[1].set_ylabel('A($\\\\delta$)'); ax[2].set_ylabel('A($\\\\delta$)I($\\\\delta$)')\n",
        "ax[0].set_title('Un-apodized intensity'); ax[1].set_title('Apodization Function'); ax[2].set_title('Apodized intensity')\n",
        "\n",
        "# your code here\n",
        "ax[0].plot(deltas, I_delta)\n",
        "ax[1].plot(deltas, A_delta)\n",
        "ax[2].plot(deltas, interferogram_1500_3000)\n",
        "for a in ax:\n",
        "  a.set_xlim(0,.01)"
      ]
    },
    {
      "cell_type": "markdown",
      "metadata": {
        "id": "vz_T2Q-WcQiv"
      },
      "source": [
        "### <font color='red'> Your turn: calculate $I(\\delta)~ and~ I(\\delta)A(\\delta)$ for a three-wavelength case, where $B_{1}$, $B_{2}$, and $B_{3}$ are equal to $0.8$, $0.5$, and $0.7$ for $1500$, $3000$, and $1000~cm^{-1}$, respectively. Note that the wavenumbers are not in sequential order; it does not matter, but they must be in the same order as their intensity coefficients (Bs)."
      ]
    },
    {
      "cell_type": "code",
      "execution_count": null,
      "metadata": {
        "id": "xrXNm8Ki1nIc"
      },
      "outputs": [],
      "source": [
        "# your code here - set up numpy arrays of Bs and wavenumbers"
      ]
    },
    {
      "cell_type": "code",
      "execution_count": null,
      "metadata": {
        "id": "WPiFTK921nIe"
      },
      "outputs": [],
      "source": [
        "# your code here - define constants\n"
      ]
    },
    {
      "cell_type": "markdown",
      "metadata": {
        "id": "wGiUJXKE1nIf"
      },
      "source": [
        "Second cell: Calculate $A(\\delta)$ and $I(\\delta)$ and save them as variables (these variables will be numpy arrays). Note that the Apodization function has not and does not change regardless of the number of wavenumbers; I have just been re-calculating them in each cell for straightforwardness."
      ]
    },
    {
      "cell_type": "code",
      "execution_count": null,
      "metadata": {
        "id": "1elFcEqj1nIf"
      },
      "outputs": [],
      "source": [
        "# your code here\n"
      ]
    },
    {
      "cell_type": "markdown",
      "metadata": {
        "id": "SgUvaQyE1nIg"
      },
      "source": [
        "Third cell: Calculate $A(\\delta)I(\\delta)$ and save as a variable (again a numpy array)"
      ]
    },
    {
      "cell_type": "code",
      "execution_count": null,
      "metadata": {
        "id": "5hpLoAqe1nIh"
      },
      "outputs": [],
      "source": [
        "# your code here\n"
      ]
    },
    {
      "cell_type": "markdown",
      "metadata": {
        "id": "h_yC-Xjs1nIh"
      },
      "source": [
        "Fourth cell: Plot the 3 quantities so you can see what you were working with"
      ]
    },
    {
      "cell_type": "code",
      "execution_count": null,
      "metadata": {
        "id": "1qYfxJiw1nIi"
      },
      "outputs": [],
      "source": [
        "fig, ax = plt.subplots(1,3,figsize=(12,4))\n",
        "for a in ax:\n",
        "  a.set_xlabel('Retardation $\\\\delta$ (cm)')\n",
        "ax[0].set_ylabel('I ($\\\\delta$)'); ax[1].set_ylabel('A($\\\\delta$)'); ax[2].set_ylabel('A($\\\\delta$)I($\\\\delta$)')\n",
        "ax[0].set_title('Un-apodized intensity'); ax[1].set_title('Apodization Function'); ax[2].set_title('Apodized intensity')\n",
        "\n",
        "# your code here\n",
        "# ax[0].plot(x,y)\n",
        "# ax[1].plot(x,y)\n",
        "# ax[2].plot(x,y)"
      ]
    },
    {
      "cell_type": "code",
      "execution_count": null,
      "metadata": {
        "id": "jWRjNTdV1u32"
      },
      "outputs": [],
      "source": [
        "fig, ax = plt.subplots(1,3,figsize=(12,4))\n",
        "for a in ax:\n",
        "  a.set_xlabel('Retardation $\\\\delta$ (cm)')\n",
        "ax[0].set_ylabel('I ($\\\\delta$)'); ax[1].set_ylabel('A($\\\\delta$)'); ax[2].set_ylabel('A($\\\\delta$)I($\\\\delta$)')\n",
        "ax[0].set_title('Un-apodized intensity'); ax[1].set_title('Apodization Function'); ax[2].set_title('Apodized intensity')\n",
        "\n",
        "# your code here\n",
        "# ax[0].plot(x,y)\n",
        "# ax[1].plot(x,y)\n",
        "# ax[2].plot(x,y)\n",
        "for a in ax:\n",
        "  a.set_xlim(0,0.01)"
      ]
    },
    {
      "cell_type": "markdown",
      "metadata": {
        "id": "7Ggg2iKRfRBp"
      },
      "source": [
        "## Exercise 3: Interferograms from real spectra\n",
        "Here we will start with a real spectrum and construct its interferogram. Below are two CSV files - one for an FTIR spectrum of Polystyrene, and one for its background. Both are available in the Class Repo."
      ]
    },
    {
      "cell_type": "code",
      "execution_count": null,
      "metadata": {
        "id": "sLROaSNZZD8u"
      },
      "outputs": [],
      "source": [
        "file_PS = '/content/drive/MyDrive/Polystyrene.csv'\n",
        "file_bg = '/content/drive/MyDrive/BackgroundSpectrum.csv'"
      ]
    },
    {
      "cell_type": "code",
      "execution_count": null,
      "metadata": {
        "id": "0w3cNDZpfYNl"
      },
      "outputs": [],
      "source": [
        "PS_loaded = pd.read_csv(file_PS,header=0)\n",
        "bg_loaded = pd.read_csv(file_bg,header=0)"
      ]
    },
    {
      "cell_type": "markdown",
      "metadata": {
        "id": "l2V7I--z1XYk"
      },
      "source": [
        "We've loaded these into dataframes. Let's first plot and inspect what we have loaded. Note that I have changed the x-axis limits to go from high to low wavenumber left to right, since this is how it is typically presented."
      ]
    },
    {
      "cell_type": "code",
      "execution_count": null,
      "metadata": {
        "id": "RnPP_LaLu1Zn"
      },
      "outputs": [],
      "source": [
        "fig, ax = plt.subplots(1,2,figsize=(8,3))\n",
        "ax[0].plot(bg_loaded['Wavenumber'], bg_loaded['Intensity'])\n",
        "ax[1].plot(PS_loaded['Wavenumber'], PS_loaded['Intensity'])\n",
        "\n",
        "for a in ax:\n",
        "    a.set_xlabel('Wavenumber $(cm^{-1})$')\n",
        "    a.set_xlim(3400,300)\n",
        "    a.set_ylabel('Intensity')\n",
        "\n",
        "ax[0].set_title('Background FTIR Spectrum'); ax[1].set_title('Polystyrene FTIR Spectrum')"
      ]
    },
    {
      "cell_type": "markdown",
      "metadata": {
        "id": "Afh2GLrgu1Zo"
      },
      "source": [
        "To simplify calculations, I am making all of the data into NumPy arrays. This results in a lot of variables, and can be done in a more elegant fashion - but we will just do this for today."
      ]
    },
    {
      "cell_type": "code",
      "execution_count": null,
      "metadata": {
        "id": "VFurXOUAydW9"
      },
      "outputs": [],
      "source": [
        "n_wns_bg = np.asarray(bg_loaded['DataPoint'])\n",
        "wns_bg = np.asarray(bg_loaded['Wavenumber'])\n",
        "Is_bg = np.asarray(bg_loaded['Intensity'])"
      ]
    },
    {
      "cell_type": "code",
      "execution_count": null,
      "metadata": {
        "id": "Ddu2c8V0ydTR"
      },
      "outputs": [],
      "source": [
        "I_delta_bg = np.zeros(len(deltas))\n",
        "for i in range(len(n_wns_bg)):\n",
        "  I_delta_bg += Is_bg[i] * np.cos(2 * np.pi * wns_bg[i] * deltas)\n",
        "A_delta = 0.5 * (1 + np.cos(np.pi * deltas / (ks[-1]*h_cm)))\n",
        "interferogram_bg = I_delta_bg*A_delta"
      ]
    },
    {
      "cell_type": "markdown",
      "metadata": {
        "id": "-wXIRm_-1hxR"
      },
      "source": [
        "Calculating the interferogram for the PS"
      ]
    },
    {
      "cell_type": "code",
      "execution_count": null,
      "metadata": {
        "id": "lPvRloQLu1Zr"
      },
      "outputs": [],
      "source": [
        "n_wns_ps = np.asarray(PS_loaded['DataPoint'])\n",
        "wns_ps = np.asarray(PS_loaded['Wavenumber'])\n",
        "Is_ps = np.asarray(PS_loaded['Intensity'])"
      ]
    },
    {
      "cell_type": "code",
      "execution_count": null,
      "metadata": {
        "id": "8mmB1Tik1hxS"
      },
      "outputs": [],
      "source": [
        "# at each delta, we will have the sum of I_delta at all 709 wavenumbers. After we get this, we multiply it by the apodized function"
      ]
    },
    {
      "cell_type": "code",
      "execution_count": null,
      "metadata": {
        "id": "V3E5ZJPe1hxU"
      },
      "outputs": [],
      "source": [
        "I_delta_ps = np.zeros(len(deltas))\n",
        "for i in range(len(n_wns_ps)):\n",
        "  I_delta_ps += Is_ps[i] * np.cos(2 * np.pi * wns_ps[i] * deltas)\n",
        "A_delta = 0.5 * (1 + np.cos(np.pi * deltas / (ks[-1]*h_cm)))\n",
        "interferogram_ps = I_delta_ps * A_delta"
      ]
    },
    {
      "cell_type": "markdown",
      "metadata": {
        "id": "7wXuji5Gu1Zu"
      },
      "source": [
        "Plotting both"
      ]
    },
    {
      "cell_type": "code",
      "execution_count": null,
      "metadata": {
        "id": "rgRJFNxfydLv"
      },
      "outputs": [],
      "source": [
        "fig, ax = plt.subplots()\n",
        "ax.plot(deltas, interferogram_bg,label='Background')\n",
        "ax.plot(deltas, interferogram_ps,label='Polystyrene')\n",
        "ax.legend()\n",
        "ax.set_xlabel('Retardation $\\delta$')\n",
        "ax.set_ylabel('Intensity')\n",
        "ax.set_title('Interferograms for measured spectra')"
      ]
    },
    {
      "cell_type": "markdown",
      "metadata": {
        "id": "PlHebJyK2okK"
      },
      "source": [
        "## Exercise 4: Turning interferograms into spectra\n",
        "In the previous exercises, we worked backwards from a spectrum (the type you would see in a publication) and made a corresponding interferogram. Now, we will do what the spectrometer does, and turn the measured interferogram into a Spectrum (like you see in a publication). We will start off with a bit of math again."
      ]
    },
    {
      "cell_type": "markdown",
      "metadata": {
        "id": "7lihwWsX6U-r"
      },
      "source": [
        "The equation for the continuous Fourier Transform is:  \n",
        "<font size=4>$B(\\bar{\\nu}) = \\int_{-\\infty}^{\\infty}I(\\delta)A(\\delta)cos(2\\pi\\bar{/nu}\\delta \\cdotp d\\delta)$ <font color='grey'> (Equation 3) </font>  </font>  \n",
        "It requires that the retardation $\\delta$ must extend from negative to positive infinity. This is impossible, which is why the apodization function needs to be applied.  \n",
        "<font color='blue'>As explained earlier, the apodization function causes the interferogram intensity to decrease in a way that mimics one that extends to infinite retardation. $I(\\delta)A(\\delta)$ in Equation 3 is the apodized interferogram. </font>"
      ]
    },
    {
      "cell_type": "markdown",
      "metadata": {
        "id": "znom2cCKoXXQ"
      },
      "source": [
        "The sampling interval impacts the resolution. The larger the sampling interval, the more information is lost when the interferogram is converted into a spectrum. This has to do with the Nyquist sampling criterion, which will be an exercise left for later."
      ]
    },
    {
      "cell_type": "markdown",
      "metadata": {
        "id": "fHrOC7cmpARA"
      },
      "source": [
        "As Equation 3 has an integral, it requires continuous sampling, which we do not do in a real experiment.  Therefore, we must use Equation 4 for discrete sampling:  \n",
        "<font size=4>$B'(\\bar{\\nu}_1) = I_{a}(0) + 2I_{a}(1)cos(2\\pi\\bar{\\nu_{1}} \\cdotp h) + 2I_{a}(2)cos(2\\pi\\bar{\\nu_{1}} \\cdotp 2h) + ... + 2I_{a}(N-1)cos(2\\pi\\bar{\\nu_{1}} \\cdotp (N-1)h) $ <font color='grey'> (Equation 4a)"
      ]
    },
    {
      "cell_type": "markdown",
      "metadata": {
        "id": "QAoMyKjpqGwQ"
      },
      "source": [
        "Which can be rewritten more elegantly in summation notation (we will also refer to this as Equation 4):  \n",
        "<font size=4>$B'(\\bar{\\nu}_1) = I_{a}(0) + 2\\sum_{k=1}^{N-1}I_{a}(k)cos(2\\pi\\bar{\\nu_{1}} \\cdotp kh) $ <font color='grey'> (Equation 4b) </font> </font>   \n",
        "Where h is still the sampling interval determined by the wavelength as in previous sections, and N (indexed by k in this equation) is still the total number of data points in the interferogram."
      ]
    },
    {
      "cell_type": "markdown",
      "metadata": {
        "id": "SZa0bMYIqzNX"
      },
      "source": [
        "### Calculate the intensity of a given test wavenumber in an interferogram."
      ]
    },
    {
      "cell_type": "markdown",
      "metadata": {
        "id": "j6DD2UXyq6C-"
      },
      "source": [
        "Premise: When we take an interferogram, we are trying to determine what the dominant frequencies that show up in it are. Therefore, we want to see: are there any modes with wavenumber = $x~cm^{-1}$?"
      ]
    },
    {
      "cell_type": "markdown",
      "metadata": {
        "id": "poSKe_ObrQ6d"
      },
      "source": [
        "First, to illustrate, we will generate an interferogram from a single wavenumber, $1500~cm^{-1}$. This is exactly what we did above; therefore I have just copy-pasted. I have named the variable \"interferogram_mystery\" since we're about to \"try to find out\" what frequencies are in the signal."
      ]
    },
    {
      "cell_type": "code",
      "execution_count": null,
      "metadata": {
        "id": "jWyWI6fg8S7N"
      },
      "outputs": [],
      "source": [
        "h_cm = 6.328e-5 #cm (from above)\n",
        "ks = np.linspace(0,988,989)\n",
        "deltas = ks * h_cm\n",
        "B_1 = 0.8\n",
        "wavenumber = 1500 # inv cm\n",
        "Delta_max = (1/16) * ks[-1] # cm\n",
        "A_delta = 0.5 * (1 + np.cos(np.pi * deltas / (ks[-1]*h_cm)))\n",
        "I_delta = B_1 * np.cos(2 * np.pi * wavenumber * deltas)\n",
        "interferogram_mystery = I_delta * A_delta"
      ]
    },
    {
      "cell_type": "markdown",
      "metadata": {
        "id": "WJmd60flr5Ab"
      },
      "source": [
        "Now, let's say we want to know: Is $2000~cm^{-1}$ included in this interferogram? You and I know, since we made the interferogram from a $1500~cm^{-1}$ wavenumber, that it is not. However, we will \"try\". This is what your analysis code will do for each test wavenumber. Here, $2000~cm^{-1}$ is the \"test wavenumber\" that we want to find the intensity of. **Before** we start testing with the Fourier transform, we will plot the apodized spectrum for $2000~cm^{-1}$ on top so you know what to expect."
      ]
    },
    {
      "cell_type": "code",
      "execution_count": null,
      "metadata": {
        "id": "Yj7deapNoF2N"
      },
      "outputs": [],
      "source": [
        "test_wn = 2000.\n",
        "I_test = 0.8 * np.cos(2 * np.pi * test_wn * deltas)\n",
        "interferogram_2000 = I_test * A_delta\n",
        "fig, ax = plt.subplots()\n",
        "ax.plot(deltas,interferogram_1500,label='interferogram 1500')\n",
        "ax.plot(deltas,interferogram_2000,label='test (2000)')\n",
        "ax.set_xlim(0,0.02)\n",
        "ax.set_title('A(δ)I(δ)')\n",
        "ax.legend()"
      ]
    },
    {
      "cell_type": "markdown",
      "metadata": {
        "id": "xYJnWy8DKHAG"
      },
      "source": [
        "We can tell that this test wavenumber isn't part of the interferogram."
      ]
    },
    {
      "cell_type": "markdown",
      "metadata": {
        "id": "UqDPZm3lAXzE"
      },
      "source": [
        "Next we take the product of the interferogram and the test wavenumber to see where they coincide. If the frequency is **not** contained in the interferogram,then the sum of this will be 0."
      ]
    },
    {
      "cell_type": "code",
      "execution_count": null,
      "metadata": {
        "id": "85hYAixLvdhB"
      },
      "outputs": [],
      "source": [
        "test_wn = 2000\n",
        "testing = 2*np.cos(2 * np.pi * test_wn * deltas) # except it's not correct for the first one\n",
        "testing[0] = np.cos(2 * np.pi * test_wn * deltas[0])\n",
        "testing = testing * interferogram_1500"
      ]
    },
    {
      "cell_type": "code",
      "execution_count": null,
      "metadata": {
        "id": "T6-wxGC4_aBW"
      },
      "outputs": [],
      "source": [
        "fig, ax = plt.subplots(1,3,figsize=(10,3))\n",
        "for a in ax:\n",
        "  a.plot(testing)\n",
        "  a.set_xlabel('k')\n",
        "  a.set_ylabel('tested component')\n",
        "\n",
        "ax[1].set_xlim(0,500)\n",
        "ax[2].set_xlim(0,50)\n",
        "print(np.sum(testing))\n",
        "plt.suptitle('Test * Apodized Interferogram (same data all 3 axes, diff scale)')"
      ]
    },
    {
      "cell_type": "markdown",
      "metadata": {
        "id": "xoQsifjiMdbn"
      },
      "source": [
        "### Testing all wavenumbers for a 3-number spectrum\n",
        "Now, we're going to set up systematically testing many wavenumbers in an interferogram at once. We will start with our 3-wavenumber interferogram from the 1st part."
      ]
    },
    {
      "cell_type": "code",
      "execution_count": null,
      "metadata": {
        "id": "OS-7Y3KZBKsx"
      },
      "outputs": [],
      "source": [
        "Bs = np.array([0.8,0.5, 0.7])\n",
        "wns = np.array([1500,3000, 1000])"
      ]
    },
    {
      "cell_type": "code",
      "execution_count": null,
      "metadata": {
        "id": "xw09XWpTBKsz"
      },
      "outputs": [],
      "source": [
        "# your code here\n",
        "h_cm = 6.328e-5 #cm (from above)\n",
        "ks = np.linspace(0,988,989)\n",
        "deltas = ks * h_cm\n",
        "# removed the previous single-valued B1 and wavenumber\n",
        "Delta_max = (1/16) * ks[-1] # cm"
      ]
    },
    {
      "cell_type": "code",
      "execution_count": null,
      "metadata": {
        "id": "yBQZ1_TfBKs0"
      },
      "outputs": [],
      "source": [
        "# your code here\n",
        "I_delta = np.zeros(len(ks))\n",
        "for i in range(len(Bs)):\n",
        "  I_delta += Bs[i] * np.cos(2 * np.pi * wns[i] * deltas)\n",
        "A_delta = 0.5 * (1 + np.cos(np.pi * deltas / (ks[-1]*h_cm)))\n",
        "interferogram_3wn = A_delta * I_delta"
      ]
    },
    {
      "cell_type": "markdown",
      "metadata": {
        "id": "5RdxLzKju1Z-"
      },
      "source": [
        "We define a range of wavenumbers that we're going to test. We can choose the start and stop based on our instrumental limits; you can experiment with resolution."
      ]
    },
    {
      "cell_type": "code",
      "execution_count": null,
      "metadata": {
        "id": "lCpYzrxbMxH1"
      },
      "outputs": [],
      "source": [
        "wns_to_test = np.linspace(start=500.,stop=3200.,num=28)\n",
        "wns_to_test"
      ]
    },
    {
      "cell_type": "code",
      "execution_count": null,
      "metadata": {
        "id": "UvSbgqP0M69F"
      },
      "outputs": [],
      "source": [
        "wns_to_test = np.linspace(500.,3200.,28)\n",
        "rels = np.zeros(len(wns_to_test))\n",
        "for i in range(len(wns_to_test)): # do this once for every wavenumber\n",
        "  testing = 2*np.cos(2 * np.pi * wns_to_test[i] * deltas) # except it's not correct for the first one\n",
        "  testing[0] = np.cos(2 * np.pi * wns_to_test[i] * deltas[0])\n",
        "  testing = testing * interferogram_3wn\n",
        "  rels[i] = np.sum(testing)"
      ]
    },
    {
      "cell_type": "code",
      "execution_count": null,
      "metadata": {
        "id": "6nFX7-VFODIx"
      },
      "outputs": [],
      "source": [
        "fig, ax = plt.subplots()\n",
        "ax.plot(wns_to_test,rels,'-o')\n",
        "ax.set_xlabel('Wavenumber $(cm^{-1}$)')\n",
        "ax.set_ylabel('Intensity')\n",
        "ax.set_title('Frequencies that compose our 3-wavenumber interferogram')"
      ]
    },
    {
      "cell_type": "markdown",
      "metadata": {
        "id": "9aAgCc9qB3_G"
      },
      "source": [
        "Better resolution:"
      ]
    },
    {
      "cell_type": "code",
      "execution_count": null,
      "metadata": {
        "id": "JCt1goliOgKh"
      },
      "outputs": [],
      "source": [
        "wns_to_test = np.linspace(500.,3200.,200)\n",
        "rels = np.zeros(len(wns_to_test))\n",
        "for i in range(len(wns_to_test)):\n",
        "  testing = 2*np.cos(2 * np.pi * wns_to_test[i] * deltas) # except it's not correct for the first one\n",
        "  testing[0] = np.cos(2 * np.pi * wns_to_test[i] * deltas[0])\n",
        "  testing = testing * interferogram_3wn\n",
        "  rels[i] = np.sum(testing)\n",
        "fig, ax = plt.subplots()\n",
        "ax.plot(wns_to_test,rels,'-o',markersize=2)\n",
        "ax.set_xlabel('Wavenumber $(cm^{-1}$)')\n",
        "ax.set_ylabel('Intensity')\n",
        "ax.set_title('Frequencies that compose our 3-wavenumber interferogram')"
      ]
    },
    {
      "cell_type": "markdown",
      "metadata": {
        "id": "K28LO4ulCE0d"
      },
      "source": [
        "### Performing this for a real interferogram\n",
        "Finally, we will convert the interferograms from Exercise 3 back into FTIR spectra. First, let's look at them:"
      ]
    },
    {
      "cell_type": "code",
      "execution_count": null,
      "metadata": {
        "id": "CrWOiS046Bdj"
      },
      "outputs": [],
      "source": [
        "fig, ax = plt.subplots()\n",
        "ax.plot(deltas, interferogram_ps,label='PS')\n",
        "ax.plot(deltas, interferogram_bg,label='Background')\n",
        "ax.legend()\n",
        "ax.set_xlabel('Retardation $\\delta$')\n",
        "ax.set_ylabel('Intensity')"
      ]
    },
    {
      "cell_type": "markdown",
      "metadata": {
        "id": "rg68u5TCu1aG"
      },
      "source": [
        "### Now, do the same procedure as above.\n",
        "You should obtain real-looking FTIR spectra. The plotting code has been provided."
      ]
    },
    {
      "cell_type": "code",
      "execution_count": null,
      "metadata": {
        "id": "-16cLDp06BSh"
      },
      "outputs": [],
      "source": [
        "# your code here - Polystyrene\n",
        "\n",
        "fig, ax = plt.subplots()\n",
        "#ax.plot(wns_to_test,rels)\n",
        "ax.set_xlabel('Wavenumbers $(cm^{-1})$')\n",
        "ax.set_ylabel('Intensity')\n",
        "ax.set_xlim(3400,400)"
      ]
    },
    {
      "cell_type": "code",
      "execution_count": null,
      "metadata": {
        "id": "5cU1w37z6BHi"
      },
      "outputs": [],
      "source": [
        "# your code here - Background\n",
        "\n",
        "fig, ax = plt.subplots()\n",
        "#ax.plot(wns_to_test,rels)\n",
        "ax.set_xlabel('Wavenumbers $(cm^{-1})$')\n",
        "ax.set_ylabel('Intensity')\n",
        "ax.set_xlim(3400,400)"
      ]
    },
    {
      "cell_type": "markdown",
      "metadata": {
        "id": "W8O9A58eChhQ"
      },
      "source": [
        "### Absorbance and Transmittance and Background Subtraction will be covered in the homework."
      ]
    },
    {
      "cell_type": "code",
      "execution_count": null,
      "metadata": {
        "id": "55Pri5f86BEj"
      },
      "outputs": [],
      "source": []
    },
    {
      "cell_type": "code",
      "execution_count": null,
      "metadata": {
        "id": "oZgSQmTBAhyq"
      },
      "outputs": [],
      "source": []
    }
  ],
  "metadata": {
    "colab": {
      "provenance": [],
      "include_colab_link": true
    },
    "kernelspec": {
      "display_name": "Python 3 (ipykernel)",
      "language": "python",
      "name": "python3"
    },
    "language_info": {
      "codemirror_mode": {
        "name": "ipython",
        "version": 3
      },
      "file_extension": ".py",
      "mimetype": "text/x-python",
      "name": "python",
      "nbconvert_exporter": "python",
      "pygments_lexer": "ipython3",
      "version": "3.10.9"
    }
  },
  "nbformat": 4,
  "nbformat_minor": 0
}