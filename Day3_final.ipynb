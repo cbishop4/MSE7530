{
  "nbformat": 4,
  "nbformat_minor": 0,
  "metadata": {
    "colab": {
      "provenance": [],
      "collapsed_sections": [
        "09m7qD5ST6TX",
        "tuMDe4llVuhL",
        "3hWToTEQcIRp"
      ],
      "toc_visible": true,
      "authorship_tag": "ABX9TyMSjdpXHzGpLbVO88bRRKBq",
      "include_colab_link": true
    },
    "kernelspec": {
      "name": "python3",
      "display_name": "Python 3"
    },
    "language_info": {
      "name": "python"
    }
  },
  "cells": [
    {
      "cell_type": "markdown",
      "metadata": {
        "id": "view-in-github",
        "colab_type": "text"
      },
      "source": [
        "<a href=\"https://colab.research.google.com/github/cbishop4/MSE7530/blob/main/Day3_final.ipynb\" target=\"_parent\"><img src=\"https://colab.research.google.com/assets/colab-badge.svg\" alt=\"Open In Colab\"/></a>"
      ]
    },
    {
      "cell_type": "markdown",
      "source": [
        "# Lecture 3: Fourier-Transform Infrared Spectroscopy\n",
        "MSE 7530, Fall 2025, Wayne State University  \n",
        "Monday, September 8th, 2025  \n",
        "Prof. Camille Bishop  "
      ],
      "metadata": {
        "id": "yocB8DJxROrg"
      }
    },
    {
      "cell_type": "markdown",
      "source": [
        "We will start today's lecture finishing up the plotting and querying of the NIST WebBook that we started last week. As the spectra we loaded and plotted were FTIR spectra, this will be a natural lead-in to our next topic."
      ],
      "metadata": {
        "id": "gtoMBvcuRffG"
      }
    },
    {
      "cell_type": "markdown",
      "source": [
        "## Part 0.5: Quick refresher and necessary import cells\n",
        "Every notebook will generally start with all the necessary import cells in one place; here I will import all packages that we used at once."
      ],
      "metadata": {
        "id": "09m7qD5ST6TX"
      }
    },
    {
      "cell_type": "code",
      "execution_count": null,
      "metadata": {
        "id": "MPagbos_RLUn"
      },
      "outputs": [],
      "source": [
        "# the standard cell\n",
        "import matplotlib.pyplot as plt\n",
        "import numpy as np\n",
        "import pandas as pd\n",
        "import os"
      ]
    },
    {
      "cell_type": "code",
      "source": [
        "# our \"special\" packages for handling the NIST data\n",
        "! pip install nistchempy\n",
        "! pip install jcamp\n",
        "import nistchempy as nist\n",
        "import jcamp as jc"
      ],
      "metadata": {
        "collapsed": true,
        "id": "fLAnUrLFUMZ1"
      },
      "execution_count": null,
      "outputs": []
    },
    {
      "cell_type": "markdown",
      "source": [
        "Setting up file access to the class GH Repo and your personal Google Drive"
      ],
      "metadata": {
        "id": "mz_I9gjCUlR9"
      }
    },
    {
      "cell_type": "code",
      "source": [
        "!git clone https://github.com/cbishop4/MSE7530.git\n",
        "from google.colab import drive\n",
        "drive.mount('/content/drive')"
      ],
      "metadata": {
        "id": "s9K5YJ8HUfNR"
      },
      "execution_count": null,
      "outputs": []
    },
    {
      "cell_type": "markdown",
      "source": [
        "The cell that follows can be run if you need to re-load the Class Repo. If you need to run it, you can just 'un-comment' the lines by taking out the number sign at the beginning. Lines that begin with the number sign # are not run and are called comments. Often they will be included in a notebook if the author wants you to have the option to run that code, but automatically executing it would cause issues."
      ],
      "metadata": {
        "id": "NKfbE07BVElP"
      }
    },
    {
      "cell_type": "code",
      "source": [
        "# !rm -rf /content/MSE7530/\n",
        "# !git clone https://github.com/cbishop4/MSE7530.git"
      ],
      "metadata": {
        "id": "8QNa1BM1U-WL"
      },
      "execution_count": null,
      "outputs": []
    },
    {
      "cell_type": "code",
      "source": [],
      "metadata": {
        "id": "279V14A7VcNu"
      },
      "execution_count": null,
      "outputs": []
    },
    {
      "cell_type": "markdown",
      "source": [
        "## Part 1: Loading, Plotting, and Comparing IR spectra"
      ],
      "metadata": {
        "id": "jau0_aGNVh1-"
      }
    },
    {
      "cell_type": "markdown",
      "source": [
        "### Loading the IR spectra for hexane & answering some questions as done last week"
      ],
      "metadata": {
        "id": "tuMDe4llVuhL"
      }
    },
    {
      "cell_type": "code",
      "source": [
        "search_results = nist.run_search(identifier = 'hexane', search_type = 'name')\n",
        "X = search_results.compounds[0]\n",
        "X.get_ir_spectra() # retrieves the IR spectrum for the compound in question"
      ],
      "metadata": {
        "id": "PbPrR32OVnU5"
      },
      "execution_count": null,
      "outputs": []
    },
    {
      "cell_type": "code",
      "source": [
        "# the code I found has you save the files before you can use the jdx reader;\n",
        "# there is probably a slicker way to do this that doesn't require saving and reading files.\n",
        "output_dir = 'nist_spectra'\n",
        "os.makedirs(output_dir, exist_ok=True)\n",
        "# Save the mass spectra to the directory\n",
        "X.save_ir_spectra(output_dir)"
      ],
      "metadata": {
        "id": "t4jshcMTV8-H"
      },
      "execution_count": null,
      "outputs": []
    },
    {
      "cell_type": "code",
      "source": [
        "spec1 = jc.jcamp_readfile('/content/nist_spectra/C110543_IR_0.jdx')\n",
        "spec2 = jc.jcamp_readfile('/content/nist_spectra/C110543_IR_1.jdx')\n",
        "spec3 = jc.jcamp_readfile('/content/nist_spectra/C110543_IR_2.jdx')"
      ],
      "metadata": {
        "id": "FTaU32DoWID2"
      },
      "execution_count": null,
      "outputs": []
    },
    {
      "cell_type": "code",
      "source": [
        "fig, ax = plt.subplots()\n",
        "ax.plot(spec1['x'],spec1['y'],label='spec1')\n",
        "ax.plot(spec2['x'],spec2['y'],label='spec2')\n",
        "ax.plot(spec3['x'],spec3['y'],label='spec3')\n",
        "ax.legend()"
      ],
      "metadata": {
        "id": "ncT3BntoWdIt"
      },
      "execution_count": null,
      "outputs": []
    },
    {
      "cell_type": "markdown",
      "source": [
        "<font color='red'> Metadata discussion - how did you look through the metadata? What differences did you find in the metadata for each spectra that gives you hints about what was different between each?"
      ],
      "metadata": {
        "id": "moQJ8iwuWgA2"
      }
    },
    {
      "cell_type": "code",
      "source": [
        "fig, ax = plt.subplots()\n",
        "ax.plot(spec1['x'],spec1['y'],label='spec1')\n",
        "ax.plot(spec2['x'],spec2['y']*-1,label='spec2')\n",
        "ax.plot(spec3['x'],spec3['y']*-1,label='spec3')\n",
        "ax.legend()\n",
        "ax.set_xlabel('Wavenumber (cm^-1)')\n",
        "ax.set_ylabel('Intensity (a.u., adjusted)')"
      ],
      "metadata": {
        "id": "AiAOeUVlWfWs"
      },
      "execution_count": null,
      "outputs": []
    },
    {
      "cell_type": "markdown",
      "source": [
        "Task: <font color='red'> Play around with the scale factors on the y data to make a more presentable graph (above)."
      ],
      "metadata": {
        "id": "xTEM2qaTWy03"
      }
    },
    {
      "cell_type": "markdown",
      "source": [
        "Option: plotting on two sets of axes for the similar and different spectra"
      ],
      "metadata": {
        "id": "hIf4-Dy0W7U-"
      }
    },
    {
      "cell_type": "code",
      "source": [
        "fig, ax = plt.subplots(2,1,sharex=True)\n",
        "ax[0].plot(spec1['x'],spec1['y'],label='spec1')\n",
        "ax[1].plot(spec2['x'],spec2['y'],label='spec2')\n",
        "ax[1].plot(spec3['x'],spec3['y'],label='spec3')\n",
        "for a in ax:\n",
        "  a.legend()\n",
        "  a.set_xlabel('Wavenumber (cm^-1)')\n",
        "  a.set_ylabel('Intensity (a.u., adjusted)')\n",
        "ax[1].semilogy()"
      ],
      "metadata": {
        "id": "HjvdD4DgWw6i"
      },
      "execution_count": null,
      "outputs": []
    },
    {
      "cell_type": "markdown",
      "source": [
        "<font color='red'> Discuss the above graphs. Log scaling? Absorbance? Transmission?"
      ],
      "metadata": {
        "id": "_1GcD882XOCY"
      }
    },
    {
      "cell_type": "markdown",
      "source": [
        "### <font color='red'>Compare hexane and cyclohexane (leftover activity from last week)"
      ],
      "metadata": {
        "id": "b1dkAdOxXaSA"
      }
    },
    {
      "cell_type": "code",
      "source": [
        "# your code here"
      ],
      "metadata": {
        "id": "tdiBFpnDXDxI"
      },
      "execution_count": 2,
      "outputs": []
    },
    {
      "cell_type": "markdown",
      "source": [
        "## Python Skill 1 : Reading .csv files"
      ],
      "metadata": {
        "id": "3hWToTEQcIRp"
      }
    },
    {
      "cell_type": "markdown",
      "source": [
        "Data is often stored and shared as csv (comma separated value) files. You may also encounter files with different **delimiters**. A delimiter is what breaks up distinct entries. Some common delimiters besides commas are space (' ') or tab ('\\t').\n",
        "Pandas is the package which we use to read .csv files and turn them into **dataframes**. Dataframes are tables, somewhat analogous to excel files, that hold data. While this is new for me, Colab has extra functonalities that pop up when you have a dataframe.\n",
        "This is a more finicky file than you will encounter in the first homework assignment."
      ],
      "metadata": {
        "id": "A9NsoGc0aNGs"
      }
    },
    {
      "cell_type": "code",
      "source": [
        "import pandas as pd # this is quite often done at the beginning of a notebook, because it is used so frequently"
      ],
      "metadata": {
        "id": "fZhJpxJxclfD"
      },
      "execution_count": null,
      "outputs": []
    },
    {
      "cell_type": "code",
      "source": [
        "loaded_csv = pd.read_csv('/content/MSE7530/sampledata/Dynamic_1_D10_enthalpy_2kmin.csv', encoding='unicode_escape')"
      ],
      "metadata": {
        "id": "20AiEIRAcmAW"
      },
      "execution_count": null,
      "outputs": []
    },
    {
      "cell_type": "markdown",
      "source": [
        "Here, our issue is that the data file has a bunch of information at the top. In the class github, download the file and open it in excel. What does it look like?"
      ],
      "metadata": {
        "id": "TZTdAdsvdunV"
      }
    },
    {
      "cell_type": "code",
      "source": [
        "loaded_csv = pd.read_csv('/content/MSE7530/sampledata/Dynamic_1_D10_enthalpy_2kmin.csv', encoding='unicode_escape',header=38),#header=40)"
      ],
      "metadata": {
        "id": "s3D1qbRAcl28"
      },
      "execution_count": null,
      "outputs": []
    },
    {
      "cell_type": "code",
      "source": [
        "loaded_csv"
      ],
      "metadata": {
        "id": "D3mCg_x7eXYc"
      },
      "execution_count": null,
      "outputs": []
    },
    {
      "cell_type": "markdown",
      "source": [
        "We still have a problem here; it didn't make a dataframe. When you inspect, it looks like the file is actually delimited by semicolons. To fix this, we can explicitly specify the delimiter when we call read_csv"
      ],
      "metadata": {
        "id": "njcbN_zIeb6e"
      }
    },
    {
      "cell_type": "code",
      "source": [
        "loaded_csv = pd.read_csv('/content/MSE7530/sampledata/Dynamic_1_D10_enthalpy_2kmin.csv', encoding='unicode_escape',header=38,delimiter=';'),#header=40)"
      ],
      "metadata": {
        "id": "I6Tnrlt0cltO"
      },
      "execution_count": null,
      "outputs": []
    },
    {
      "cell_type": "code",
      "source": [
        "loaded_csv"
      ],
      "metadata": {
        "id": "4luU7XcAepZH"
      },
      "execution_count": null,
      "outputs": []
    },
    {
      "cell_type": "code",
      "source": [
        "loaded_csv[0]"
      ],
      "metadata": {
        "id": "t1ZuWQ55euNR"
      },
      "execution_count": null,
      "outputs": []
    },
    {
      "cell_type": "markdown",
      "source": [
        "We now have a dataframe. <font color='red'>Plot the column \"DSC\" vs the \"temp\" column.</font>"
      ],
      "metadata": {
        "id": "bxG9ky9ifDK1"
      }
    },
    {
      "cell_type": "code",
      "source": [
        "plt.plot(loaded_csv[0]['##Temp./C'], loaded_csv[0]['DSC/(mW/mg)'],'o',markersize=1)"
      ],
      "metadata": {
        "id": "cXeKHfrheuDw"
      },
      "execution_count": null,
      "outputs": []
    },
    {
      "cell_type": "markdown",
      "source": [
        "## Python Skill 2: User-defined Functions"
      ],
      "metadata": {
        "id": "3vohxrNFn2XX"
      }
    },
    {
      "cell_type": "markdown",
      "source": [
        "You can make a user-defined function to solve any equation. It can have as many inputs and as many outputs as you want. Here is a simple equation to find the volume of a sphere, given its radius:"
      ],
      "metadata": {
        "id": "vI8KotQjn7R7"
      }
    },
    {
      "cell_type": "code",
      "source": [
        "def sphere_volume(radius):\n",
        "  vol = (4/3)*np.pi*radius**3\n",
        "  return vol"
      ],
      "metadata": {
        "id": "9dgTt3WCoEE4"
      },
      "execution_count": null,
      "outputs": []
    },
    {
      "cell_type": "markdown",
      "source": [
        "We can then call the function using its name"
      ],
      "metadata": {
        "id": "BLxlo0BroUHB"
      }
    },
    {
      "cell_type": "code",
      "source": [
        "Vsph_2 = sphere_volume(2)\n",
        "print(f'The volume of the sphere with radius of 2 is {Vsph_2}')"
      ],
      "metadata": {
        "id": "bihlMk2woYTE"
      },
      "execution_count": null,
      "outputs": []
    },
    {
      "cell_type": "markdown",
      "source": [
        "<font color='red'>  Write a function to calculate the wavelength of a photon of a given energy, and use it to answer the question: A typical synchrotron X-ray scattering experiment uses X-rays with energy = 10 keV. What is the X-ray wavelength in nm?"
      ],
      "metadata": {
        "id": "5uqiPs4htaJR"
      }
    },
    {
      "cell_type": "markdown",
      "source": [
        "Scientific reminders:  \n",
        "$E = h\\nu$  \n",
        "$\\nu = \\frac{c}{\\lambda}$  \n",
        "$h = 6.626 \\times 10^{-34} J \\cdotp s$  \n",
        "$c = 3.0 \\times 10^{8} m/s$  \n",
        "$1 eV = 1.602 \\times 10^{-19} J$"
      ],
      "metadata": {
        "id": "wR4ZG4IItpQL"
      }
    },
    {
      "cell_type": "code",
      "source": [
        "# your code here"
      ],
      "metadata": {
        "id": "zpL3_SQPplCZ"
      },
      "execution_count": null,
      "outputs": []
    },
    {
      "cell_type": "markdown",
      "source": [
        "We can also use a function to calculate a range of volumes at once. For example, let's take a range of sphere radii. We use the\n",
        "\n",
        "\n",
        "```\n",
        "np.linspace(start, stop, numvalues)\n",
        "```\n",
        "function to generate a numpy array of evenly spaced numbers quickly. For future reference, there is also a\n",
        "```\n",
        "np.logspace()\n",
        "```\n",
        "function, which generates a numpy array of values that are evenly spaced on a log scale.\n"
      ],
      "metadata": {
        "id": "4VpX20BBpvHd"
      }
    },
    {
      "cell_type": "code",
      "source": [
        "radii = np.linspace(1,10,10) # generates an array from 1 to 10 with 10 values\n",
        "print(radii)"
      ],
      "metadata": {
        "id": "zF1JM5wYpkrQ"
      },
      "execution_count": null,
      "outputs": []
    },
    {
      "cell_type": "code",
      "source": [
        "volumes = sphere_volume(radii)\n",
        "plt.plot(radii,volumes,'o')\n",
        "plt.xlabel('Radius (nm)')\n",
        "plt.ylabel('Volume ($nm^{3}$)')"
      ],
      "metadata": {
        "id": "sBdmpV8QLLwC"
      },
      "execution_count": null,
      "outputs": []
    },
    {
      "cell_type": "markdown",
      "source": [
        "<font color='red'>Now, do the same for a range of X-ray energies from 100 eV to 10 keV. What do you notice about the plot? Is there a better way to scale it?"
      ],
      "metadata": {
        "id": "GEQ7NgRQn7Fx"
      }
    },
    {
      "cell_type": "code",
      "source": [
        "# your code here"
      ],
      "metadata": {
        "id": "6MMV6mhrXNCE"
      },
      "execution_count": null,
      "outputs": []
    },
    {
      "cell_type": "markdown",
      "source": [
        "#### <font color='blue'>The most important concepts from above:\n",
        "1) A user-defined function can be used to automatically calculate quantities, avoiding large repeated blocks of code  \n",
        "2) An array of values can be passed to a function to output an array of corresponding return values, enabling quick plotting of trends"
      ],
      "metadata": {
        "id": "J0Mz_WSmn61G"
      }
    },
    {
      "cell_type": "markdown",
      "source": [
        "## Part 2: Fourier Transform Infrared Spectroscopy"
      ],
      "metadata": {
        "id": "m_9yFLTjcay5"
      }
    },
    {
      "cell_type": "markdown",
      "source": [
        "Return to the class powerpoint/board for theoretical background."
      ],
      "metadata": {
        "id": "20_QmTxZNPfa"
      }
    },
    {
      "cell_type": "markdown",
      "source": [
        "###  <font color='red'> Exercise:  Calculate the intensity I as a function of $\\delta$ (retardation, or difference in path length) for light with $\\lambda$ = $2 \\mu m$. Take the value $I_{0}$ to be arbitrarily equal to 1. </font>\n",
        "Note that the cosine function is part of numpy and <font color='blue'> takes inputs and outputs in radians.</font> There are a couple functions you can use to convert between the two. (You may or may not have to do this in this particular case; check if the cosine term is in radians or degrees)\n",
        "\n",
        "```\n",
        "np.cos(x) # input and output in radians\n",
        "np.rad2deg(x) # converts an angle x in radians to degrees\n",
        "np.radians(x) # converts an angle x in degrees to radians\n",
        "np.pi # no arguments or parentheses for this; it is just a constant\n",
        "```\n",
        "Alternatively to using the function, you can just use the conversion where $\\pi~ radians = 180°$.\n"
      ],
      "metadata": {
        "id": "rmWC2CyONYY4"
      }
    },
    {
      "cell_type": "markdown",
      "source": [
        "Guide to the correct steps:  \n",
        "1) Write a user-defined function that converts $\\delta$ and $\\lambda$ to Intensity.  \n",
        "2) Define an evenly spaced numpy array of values of $\\delta$ (I recommend values from -20 to 20 $\\mu m$.    \n",
        "3) Use your function to calculate the range of intensities expected.\n",
        "4) Plot your intensities on the y-axis vs. $\\delta$ on the x-axis."
      ],
      "metadata": {
        "id": "OXMTJHweWDh2"
      }
    },
    {
      "cell_type": "code",
      "source": [
        "# your code here (add extra cells if necessary)"
      ],
      "metadata": {
        "id": "FjRGsay9WxfQ"
      },
      "execution_count": null,
      "outputs": []
    },
    {
      "cell_type": "markdown",
      "source": [
        "<font color='red'> Does this look like the interferogram in the example slides? Why or why not?"
      ],
      "metadata": {
        "id": "6339MgWzTH2I"
      }
    },
    {
      "cell_type": "markdown",
      "source": [
        "### Making the interferogram for many wavelengths (I have written this code because it requires a few new concepts at once)"
      ],
      "metadata": {
        "id": "ABzq4zBUTSts"
      }
    },
    {
      "cell_type": "code",
      "source": [
        "deltas = np.linspace(-100,100, 1001)\n",
        "wl_spectrum = np.linspace(2.5,25,500)\n",
        "interferogram = np.zeros(len(deltas))\n",
        "for wl in wl_spectrum:\n",
        "  interferogram += I_delta(deltas,wl)"
      ],
      "metadata": {
        "id": "GQONgO1sTYRG"
      },
      "execution_count": null,
      "outputs": []
    },
    {
      "cell_type": "code",
      "source": [
        "plt.plot(deltas,interferogram)\n",
        "plt.xlabel('Retardation $\\delta$ ($\\mu$m)')\n",
        "plt.ylabel('Intensity')"
      ],
      "metadata": {
        "id": "_x_PR8Xqk3Ts"
      },
      "execution_count": null,
      "outputs": []
    },
    {
      "cell_type": "markdown",
      "source": [
        "<font color='red'> Does this look like the interferogram in the example slides? Why or why not?"
      ],
      "metadata": {
        "id": "d-i1QntpT-8e"
      }
    },
    {
      "cell_type": "markdown",
      "source": [
        "### <font color='blue'>Preview: Next class we will use/simulate interferograms for real experimental data, and interconvert between the spectra you see in, e.g., the NIST database, and the corresponding interferograms."
      ],
      "metadata": {
        "id": "hTef31ILUK91"
      }
    },
    {
      "cell_type": "markdown",
      "source": [
        "<font color='blue'>Recommended preparation: Go through this notebook and work on conceptually understanding the exercises we have done so far in the FTIR section, and connecting them to the equations in the powerpoint. The walkthrough will be guided, so you will be able to follow along with limited knowledge, but it will be more valuable if you can connect it to the theoretical material we learned today."
      ],
      "metadata": {
        "id": "AxepJvbxUvED"
      }
    },
    {
      "cell_type": "code",
      "source": [],
      "metadata": {
        "id": "-Q1jzVlXVGxH"
      },
      "execution_count": null,
      "outputs": []
    }
  ]
}